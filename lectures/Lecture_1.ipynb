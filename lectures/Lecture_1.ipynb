{
 "cells": [
  {
   "cell_type": "markdown",
   "metadata": {},
   "source": [
    "# Summary of today:\n",
    "1. Intro to CME 193\n",
    "2. Python Foundations\n",
    "   * Variables\n",
    "   * Operators\n",
    "   * Strings\n",
    "   * Control Flow\n",
    "   * Exceptions\n",
    "   * Functions\n",
    "   * Collections"
   ]
  },
  {
   "cell_type": "markdown",
   "metadata": {},
   "source": [
    "# CME 193 - Introduction to Scientific Python\n",
    "\n",
    "\n",
    "## Course Logistics\n",
    "\n",
    "**Instructor:**  Leah (Reeder) Collis (lcollis@stanford.edu)\n",
    "\n",
    "**Course website:** [cme193.stanford.edu](http://cme193.stanford.edu).\n",
    "Please check there for any materials related for the course (and let me know if something needs to be updated).\n",
    "\n",
    "**Class:** This course has a relatively fast pace. It is advantageous to preview the basic sections before future classes so you can absorb as much as possible during the 50 min lecture. Each class we will go over the lecture notebooks and will work through some examples together. Some weeks will have post-lecture exercises, which are good to make sure you have learned the weeks material. You aren't required to submit solutions to these, so you can focus on ones you find most interesting. If you get stuck, you can ask questions about them in office hours.\n",
    "\n",
    "**Homework:** We'll have 2 homeworks, which should not be difficult or time consuming, but a chance to practice what we cover in class. Feel free to discuss the problems with other students in the class, but the final code you submit should be written by you. You will have 2 weeks to complete each of them. \n",
    "\n",
    "**Grading:** This class is offered on a credit/no-credit basis.  Really, you're going to get out of it what you put into it.  My assumption is that you are taking the course because you see it as relevant to your education, and will try to learn material that you see as most important.\n",
    "\n",
    "**Office hours:** Wednesdays from 1pm - 3pm in Huang basement (tables outside of ICME). "
   ]
  },
  {
   "cell_type": "markdown",
   "metadata": {},
   "source": [
    "# Overview of Course\n",
    "\n",
    "You can find a list of topics we plan to cover on the [course website](http://web.stanford.edu/class/cme193/syllabus.html).  \n",
    "\n",
    "Here is a tentative list of lectures:\n",
    "1. Python basics\n",
    "1. Python Class & Object\n",
    "1. Linear algebra (NumPy)\n",
    "1. Numerical algorithms (NumPy)\n",
    "1. Scientific computing (SciPy)\n",
    "1. Data science (Pandas)\n",
    "1. Machine learning (scikit-learn)\n",
    "1. Deep learning (PyTorch)\n",
    "\n",
    "The goal of the course is to get you started with using Python for scientific computing.\n",
    "* We **are** going to cover common packages for linear algebra, optimization, and data science\n",
    "* We are **not** going to cover all of the Python language, or all of its applications\n",
    "    * We will cover aspects of the Python language as they are needed for our purposes\n",
    "\n",
    "This course is designed for\n",
    "* People who already know how to program (maybe not in Python)\n",
    "* People who want to use Python for research/coursework in a scientific or engineering discipline for modeling, simulations, or data science\n",
    "\n",
    "You don't need to have an expert background in programming or scientific computing to take this course.  Everyone starts somewhere, and if your interests are aligned with the goals of the course you should be okay. "
   ]
  },
  {
   "cell_type": "markdown",
   "metadata": {},
   "source": [
    "## Class lectures and homeworks: Jupyter notebooks\n",
    "For lectures and homeworks, we are using Jupyter notebooks. Check the webpage for more information on how to get started with these. You can download/run them locally to your own computer, you can run them on Rice, or you can use Google Colab. Any of these methods work and are completely up to you! \n",
    "\n",
    "More information about computing at Stanford can be found [here](https://github.com/lreeder7/ICME_Computing_Refresher_2023/blob/master/computingAtStanford.md).\n",
    "Lectures will be available to download on the course website, but are also updated on my own github repository (lreeder7/CME193_lectures) for those of you that use it. \n",
    "\n"
   ]
  },
  {
   "cell_type": "markdown",
   "metadata": {},
   "source": [
    "# Python"
   ]
  },
  {
   "cell_type": "code",
   "execution_count": null,
   "metadata": {},
   "outputs": [],
   "source": [
    "print(\"Hello, world!\")"
   ]
  },
  {
   "cell_type": "code",
   "execution_count": null,
   "metadata": {},
   "outputs": [],
   "source": [
    "# print value of pi : I am a comment using hash mark\n",
    "# The pi (π ) is a constant of the math library in Python that returns the value 3.14...\n",
    "import math\n",
    "print(math.pi)"
   ]
  },
  {
   "cell_type": "markdown",
   "metadata": {},
   "source": [
    "# Basic Section (Start)"
   ]
  },
  {
   "cell_type": "markdown",
   "metadata": {},
   "source": [
    "## Variables\n",
    "\n",
    "One of the main differences in python compared to other languages you might be familiar with is that variables are not declared and are not strongly typed"
   ]
  },
  {
   "cell_type": "code",
   "execution_count": null,
   "metadata": {},
   "outputs": [],
   "source": [
    "x = 1\n",
    "print(x)"
   ]
  },
  {
   "cell_type": "code",
   "execution_count": null,
   "metadata": {},
   "outputs": [],
   "source": [
    "x = 1\n",
    "print(type(x))"
   ]
  },
  {
   "cell_type": "code",
   "execution_count": null,
   "metadata": {},
   "outputs": [],
   "source": [
    "x = 1.0\n",
    "print(x)\n",
    "print(type(x))\n",
    "\n",
    "x = 'string' #same as \"string\" #pound sign is for comments\n",
    "print(x)\n",
    "print(type(x))"
   ]
  },
  {
   "cell_type": "code",
   "execution_count": null,
   "metadata": {},
   "outputs": [],
   "source": [
    "x"
   ]
  },
  {
   "cell_type": "code",
   "execution_count": null,
   "metadata": {},
   "outputs": [],
   "source": [
    "from IPython.display import display\n",
    "display(x)"
   ]
  },
  {
   "cell_type": "markdown",
   "metadata": {},
   "source": [
    "## Basic Arithmetic\n",
    "\n",
    "Math Operators:\n",
    "`+ - * / // % **`\n",
    "\n",
    "Boolean expressions:\n",
    "* keywords: `True` and `False` (note capitalization)\n",
    "  - False = 0, True = 1\n",
    "* `==` equals: `5 == 5` yields `True`\n",
    "* `!=` does not equal: `5 != 5` yields `False`\n",
    "* `>` greater than: `5 > 4` yields `True`\n",
    "* `>=` greater than or equal: `5 >= 5` yields `True`\n",
    "* Similarly, we have `<` and `<=`.\n",
    "\n",
    "Logical operators:\n",
    "* `and`, `or`, and `not`\n",
    "* `True and False`\n",
    "* `True or False`\n",
    "* `not True`"
   ]
  },
  {
   "cell_type": "code",
   "execution_count": null,
   "metadata": {},
   "outputs": [],
   "source": [
    "# Dividing 0 is an error\n",
    "4 / 0"
   ]
  },
  {
   "cell_type": "code",
   "execution_count": null,
   "metadata": {},
   "outputs": [],
   "source": [
    "#The result of regular division is always a float\n",
    "type(4/2)"
   ]
  },
  {
   "cell_type": "code",
   "execution_count": null,
   "metadata": {},
   "outputs": [],
   "source": [
    "type(5//3) #Floor division =1"
   ]
  },
  {
   "cell_type": "code",
   "execution_count": null,
   "metadata": {},
   "outputs": [],
   "source": [
    "type(5.0//3) #Floor division =1.0"
   ]
  },
  {
   "cell_type": "code",
   "execution_count": null,
   "metadata": {},
   "outputs": [],
   "source": [
    "5%3 #Modulus"
   ]
  },
  {
   "cell_type": "code",
   "execution_count": null,
   "metadata": {},
   "outputs": [],
   "source": [
    "4**3 #Exponentiation"
   ]
  },
  {
   "cell_type": "code",
   "execution_count": null,
   "metadata": {},
   "outputs": [],
   "source": [
    "# == to check if the values match\n",
    "x = 5.0\n",
    "y = 5\n",
    "\n",
    "x == y"
   ]
  },
  {
   "cell_type": "code",
   "execution_count": null,
   "metadata": {},
   "outputs": [],
   "source": [
    "print(type(x), type(y))"
   ]
  },
  {
   "cell_type": "code",
   "execution_count": null,
   "metadata": {},
   "outputs": [],
   "source": [
    "x = 5.0\n",
    "y = 5\n",
    "print(\"x == y: \" + str(x == y))\n",
    "print(\"x is y: \" + str(x is y))\n",
    "\n",
    "#== checks for equality - if the two variables point at values are equal.\n",
    "#is checks for identity - if the two variables point to the exact same object."
   ]
  },
  {
   "cell_type": "code",
   "execution_count": null,
   "metadata": {},
   "outputs": [],
   "source": [
    "s = \"example\"\n",
    "answer = 'example'\n",
    "\n",
    "print(\"s == 'example': \" + str(s == answer))\n",
    "print(\"s is 'example': \" + str(s is answer))"
   ]
  },
  {
   "cell_type": "code",
   "execution_count": null,
   "metadata": {},
   "outputs": [],
   "source": [
    "True or False # some other language use '&' for 'and', '|' for 'or', '!' for 'not': NOT IN PYTHON"
   ]
  },
  {
   "cell_type": "code",
   "execution_count": null,
   "metadata": {},
   "outputs": [],
   "source": [
    "not True"
   ]
  },
  {
   "cell_type": "code",
   "execution_count": null,
   "metadata": {},
   "outputs": [],
   "source": [
    "not 5 == 5.0 #equivalent to 5 != 5.0"
   ]
  },
  {
   "cell_type": "markdown",
   "metadata": {},
   "source": [
    "## Strings\n",
    "\n",
    "Concatenation: `str1 + str2`\n",
    "\n",
    "Printing: `print(str1)`"
   ]
  },
  {
   "cell_type": "code",
   "execution_count": null,
   "metadata": {},
   "outputs": [],
   "source": [
    "1 + 1"
   ]
  },
  {
   "cell_type": "code",
   "execution_count": null,
   "metadata": {},
   "outputs": [],
   "source": [
    "str1 = \"Alice's numbers are 20 and 52, \"\n",
    "str2 = \"and their sum is 72\"\n",
    "str3 = str1 + str2\n",
    "str3"
   ]
  },
  {
   "cell_type": "markdown",
   "metadata": {},
   "source": [
    "String Formatting:"
   ]
  },
  {
   "cell_type": "code",
   "execution_count": null,
   "metadata": {},
   "outputs": [],
   "source": [
    "# f-string (pyhton == ^3.6)\n",
    "\n",
    "x = 21414\n",
    "y = 52\n",
    "name = \"Alice's friend\"\n",
    "\n",
    "#f-string\n",
    "str1 = f\"{name}'s numbers are {x} and {y}, \"\n",
    "str2 = f\"and their sum is {x + y}\"\n",
    "str3 = str1 + str2\n",
    "str3"
   ]
  },
  {
   "cell_type": "markdown",
   "metadata": {},
   "source": [
    "(Optional) Old School String Format"
   ]
  },
  {
   "cell_type": "code",
   "execution_count": null,
   "metadata": {},
   "outputs": [],
   "source": [
    "str1 = \"a: %s\" % \"string\"\n",
    "print(str1)\n",
    "str2 = \"b: %f, %s, %d\" % (1.0, 'hello', 5)\n",
    "print(str2)\n",
    "str3 = \"c: {}\".format(3.14)\n",
    "print(str3)"
   ]
  },
  {
   "cell_type": "code",
   "execution_count": null,
   "metadata": {},
   "outputs": [],
   "source": [
    "# some methods\n",
    "str1 = \"Hello, World!\"\n",
    "print(str1)\n",
    "print(str1.upper())\n",
    "print(str1.lower())"
   ]
  },
  {
   "cell_type": "code",
   "execution_count": null,
   "metadata": {},
   "outputs": [],
   "source": [
    "str1"
   ]
  },
  {
   "cell_type": "code",
   "execution_count": null,
   "metadata": {},
   "outputs": [],
   "source": [
    "str1 = str1.lower()\n",
    "str1"
   ]
  },
  {
   "cell_type": "code",
   "execution_count": null,
   "metadata": {},
   "outputs": [],
   "source": [
    "str1.replace?"
   ]
  },
  {
   "cell_type": "code",
   "execution_count": null,
   "metadata": {},
   "outputs": [],
   "source": [
    "str1.replace('l', 'p')"
   ]
  },
  {
   "cell_type": "markdown",
   "metadata": {},
   "source": [
    "## Control Flow\n",
    "\n",
    "If statements:  \n",
    "if decides whether certain statements need to be executed or not. It checks for a given condition\n",
    "```python\n",
    "if condition1:\n",
    "  statements1\n",
    "elif condition2:\n",
    "  statements2\n",
    "elif condition3:\n",
    "  statements3\n",
    "else:\n",
    "  statements4\n",
    "```"
   ]
  },
  {
   "cell_type": "code",
   "execution_count": null,
   "metadata": {},
   "outputs": [],
   "source": [
    "x = 3\n",
    "y = 3\n",
    "\n",
    "if x == y:\n",
    "    print(\"The value of x is the same as value of y\")\n",
    "elif x == 3:\n",
    "    print(\"I am here\")\n",
    "    print(\"x is 3\")\n",
    "else:\n",
    "    print(\"x is something else\")"
   ]
  },
  {
   "cell_type": "markdown",
   "metadata": {},
   "source": [
    "**For loops**  \n",
    "\n",
    "control flow statement for specifying iteration, which allows code to be executed repeatedly"
   ]
  },
  {
   "cell_type": "code",
   "execution_count": null,
   "metadata": {},
   "outputs": [],
   "source": [
    "for i in range(4): # default - start at 0, increment by 1\n",
    "    print(f\"{i}, next loop\")"
   ]
  },
  {
   "cell_type": "code",
   "execution_count": null,
   "metadata": {},
   "outputs": [],
   "source": [
    "?range"
   ]
  },
  {
   "cell_type": "code",
   "execution_count": null,
   "metadata": {},
   "outputs": [],
   "source": [
    "for i in range(10, 2, -2): # inputs are start, stop, step\n",
    "    print(i)"
   ]
  },
  {
   "cell_type": "markdown",
   "metadata": {},
   "source": [
    "**while loops**"
   ]
  },
  {
   "cell_type": "code",
   "execution_count": null,
   "metadata": {},
   "outputs": [],
   "source": [
    "# Find all positive integer whose square < 100\n",
    "i = 1\n",
    "while i**2 < 100:\n",
    "    print(i)\n",
    "    i += 1      #i += 1 is the same as i = i + 1\n",
    "print(\"Finished\")"
   ]
  },
  {
   "cell_type": "markdown",
   "metadata": {},
   "source": [
    "**continue** - skip the rest of the loop\n",
    "\n",
    "**break** - exit from the loop"
   ]
  },
  {
   "cell_type": "code",
   "execution_count": null,
   "metadata": {},
   "outputs": [],
   "source": [
    "# distinguish even or odd number\n",
    "for num in range(1, 10):\n",
    "    if num % 2 == 0:\n",
    "        print(f'Found {num}, an even number, Continue!')\n",
    "        continue # this jumps us back to the top\n",
    "\n",
    "    print(f\"Found {num}, an odd number\")\n",
    "\n",
    "print('Finished')"
   ]
  },
  {
   "cell_type": "code",
   "execution_count": null,
   "metadata": {},
   "outputs": [],
   "source": [
    "for num in range(1, 10):\n",
    "    if num % 2 == 0: # if n divisible by x\n",
    "        print(f'Found {num}, an even number, BREAK!')\n",
    "        break\n",
    "    print(f\"Found {num}, an odd number\")\n",
    "print('Finished')"
   ]
  },
  {
   "cell_type": "code",
   "execution_count": null,
   "metadata": {},
   "outputs": [],
   "source": [
    "#continue/break statement only continue/breaks its cloest loop statement\n",
    "for i in range(3):\n",
    "    print(f\"Outer {i}\")\n",
    "    for j in range(3):\n",
    "      print(f\"   Inner : {j}\")\n",
    "      # continue\n",
    "      break\n",
    "      print('     I am j')\n",
    "    print(\"End of inner loop\")\n",
    "    #jump to here after break"
   ]
  },
  {
   "cell_type": "markdown",
   "metadata": {},
   "source": [
    "**pass** does nothing"
   ]
  },
  {
   "cell_type": "code",
   "execution_count": null,
   "metadata": {},
   "outputs": [],
   "source": [
    "#The pass statement is used as a placeholder for future code!!\n",
    "for num in range(7):\n",
    "    if num == 5:\n",
    "        #TODO: Add more code for the case num = 5\n",
    "        pass\n",
    "    print(f'Iteration: {num}')"
   ]
  },
  {
   "cell_type": "markdown",
   "metadata": {},
   "source": [
    "# Basic Section (End)"
   ]
  },
  {
   "cell_type": "markdown",
   "metadata": {},
   "source": [
    "# [Exceptions](https://docs.python.org/3/library/exceptions.html)"
   ]
  },
  {
   "cell_type": "code",
   "execution_count": null,
   "metadata": {},
   "outputs": [],
   "source": [
    "print(100 / 0)\n",
    "\n",
    "print(100 / 10)"
   ]
  },
  {
   "cell_type": "code",
   "execution_count": null,
   "metadata": {},
   "outputs": [],
   "source": [
    "try:\n",
    "    print(100 / 0 )\n",
    "except ZeroDivisionError:\n",
    "    print(\"Error: don't divided by zero\")\n",
    "except Exception as e:\n",
    "    print(f\"Other Error: {e}\")\n",
    "\n",
    "print(100/10)"
   ]
  },
  {
   "cell_type": "markdown",
   "metadata": {},
   "source": [
    "# Functions\n",
    "\n",
    "Functions are declared with the keyword `def`"
   ]
  },
  {
   "cell_type": "code",
   "execution_count": null,
   "metadata": {},
   "outputs": [],
   "source": [
    "# def tells python you're trying to declare a function\n",
    "def triangle_area(base, height):\n",
    "    #here are operations\n",
    "    #part of function\n",
    "    #etc\n",
    "    return 0.5 * base * height\n",
    "\n",
    "triangle_area(1, 2)"
   ]
  },
  {
   "cell_type": "code",
   "execution_count": null,
   "metadata": {},
   "outputs": [],
   "source": [
    "def triangle_area(base, height):\n",
    "    if base < 0 or height < 0:\n",
    "        raise ValueError(\"Base and height must be non-negative\")\n",
    "    return 0.5 * base * height\n",
    "\n",
    "triangle_area(-1, 2)"
   ]
  },
  {
   "cell_type": "code",
   "execution_count": null,
   "metadata": {},
   "outputs": [],
   "source": [
    "triangle_area('string', 2)"
   ]
  },
  {
   "cell_type": "code",
   "execution_count": null,
   "metadata": {},
   "outputs": [],
   "source": [
    "# add type hint\n",
    "def triangle_area(base: int, height: int):\n",
    "    try:\n",
    "      if base < 0 or height < 0:\n",
    "          raise ValueError(\"Base and height must be non-negative\")\n",
    "      return 0.5 * base * height\n",
    "    except ValueError as error:\n",
    "      print(f\"Error, {error}, Try a different value\")\n",
    "    except Exception as e:\n",
    "      print(f\"Error, {e}\")\n",
    "\n",
    "triangle_area(1, 2)"
   ]
  },
  {
   "cell_type": "code",
   "execution_count": null,
   "metadata": {},
   "outputs": [],
   "source": [
    "triangle_area('string', 2)"
   ]
  },
  {
   "cell_type": "markdown",
   "metadata": {},
   "source": [
    "(Add-on: )\n",
    "1. Function can have multiple outputs\n",
    "2. Function input can also be a function\n",
    "3. Function input can have default values"
   ]
  },
  {
   "cell_type": "code",
   "execution_count": null,
   "metadata": {},
   "outputs": [],
   "source": [
    "# return multiple outputs\n",
    "def simple(a,b):\n",
    "    return a,b\n",
    "simple(1,2)"
   ]
  },
  {
   "cell_type": "code",
   "execution_count": null,
   "metadata": {},
   "outputs": [],
   "source": [
    "x,y = simple(1,2)\n",
    "print(x)\n",
    "print(y)"
   ]
  },
  {
   "cell_type": "code",
   "execution_count": null,
   "metadata": {},
   "outputs": [],
   "source": [
    "# everything in python is an object, and can be passed into a function\n",
    "def f(x):\n",
    "    return x+2\n",
    "\n",
    "def twice(g,x):\n",
    "    return g(g(x))\n",
    "\n",
    "twice(f,2) # + 4"
   ]
  },
  {
   "cell_type": "code",
   "execution_count": null,
   "metadata": {},
   "outputs": [],
   "source": [
    "def n_apply(f, x, n):\n",
    "    \"\"\"applies f to x n times\"\"\"\n",
    "    for _ in range(n):  # _ is dummy variable in iteration\n",
    "        x = f(x)\n",
    "    return x\n",
    "\n",
    "n_apply(f, 1, 5) # 1 + 2*5"
   ]
  },
  {
   "cell_type": "code",
   "execution_count": null,
   "metadata": {},
   "outputs": [],
   "source": [
    "def g(a, x, b = 0):\n",
    "    return a * x + b"
   ]
  },
  {
   "cell_type": "code",
   "execution_count": null,
   "metadata": {},
   "outputs": [],
   "source": [
    "def h(a, b, x = 3, y = 2):\n",
    "    return a * x + b * y"
   ]
  },
  {
   "cell_type": "code",
   "execution_count": null,
   "metadata": {},
   "outputs": [],
   "source": [
    "h(1, 1, y=1) # equivalent to h(1, 1, 3, 1)"
   ]
  },
  {
   "cell_type": "markdown",
   "metadata": {},
   "source": [
    "# Exercise 1\n",
    "\n",
    "(10 minutes)\n",
    "\n",
    "1. Print every power of 2 less than 10,000\n",
    "2. Write a function that takes two inputs, $a$ and $b$ and returns the value of $a+2b$\n",
    "3. Write a function takes a number $n$ as input, and prints all [Fibonacci numbers](https://en.wikipedia.org/wiki/Fibonacci_number) less than $n$"
   ]
  },
  {
   "cell_type": "code",
   "execution_count": null,
   "metadata": {},
   "outputs": [],
   "source": [
    "# YOUR CODE HERE\n",
    "\n",
    "# 2."
   ]
  },
  {
   "cell_type": "markdown",
   "metadata": {},
   "source": [
    "# Lists\n",
    "\n",
    "A list in Python is an ordered (or indexed) collection of objects"
   ]
  },
  {
   "cell_type": "code",
   "execution_count": null,
   "metadata": {},
   "outputs": [],
   "source": [
    "# can be heterogeneous types\n",
    "a = ['x', 1, 3.5]\n",
    "print(a)\n",
    "a[0]"
   ]
  },
  {
   "cell_type": "markdown",
   "metadata": {},
   "source": [
    "You can iterate over lists in a very natural way"
   ]
  },
  {
   "cell_type": "code",
   "execution_count": null,
   "metadata": {},
   "outputs": [],
   "source": [
    "for word in a:\n",
    "    print(word)"
   ]
  },
  {
   "cell_type": "markdown",
   "metadata": {},
   "source": [
    "Python indexing starts at 0."
   ]
  },
  {
   "cell_type": "code",
   "execution_count": null,
   "metadata": {},
   "outputs": [],
   "source": [
    "# mutable\n",
    "a[1] = \"overwritten\"\n",
    "a"
   ]
  },
  {
   "cell_type": "code",
   "execution_count": null,
   "metadata": {},
   "outputs": [],
   "source": [
    "#can even put functions and other lists inside of lists!\n",
    "def f(x):\n",
    "    return x\n",
    "\n",
    "b = [f, [1,2,2.1]]\n",
    "print(b)"
   ]
  },
  {
   "cell_type": "markdown",
   "metadata": {},
   "source": [
    "You can `append` method to `lists` class using `.append()` after a object, and do other operations, such as `pop()`, `insert()`, etc."
   ]
  },
  {
   "cell_type": "markdown",
   "metadata": {},
   "source": [
    "Python terminology:\n",
    "* a list is a \"class\"\n",
    "* the variable `a` is an object, or instance of the class\n",
    "* `append()` is a method"
   ]
  },
  {
   "cell_type": "code",
   "execution_count": null,
   "metadata": {},
   "outputs": [],
   "source": [
    "a = []\n",
    "for i in range(10):\n",
    "    a.append(i)\n",
    "    print(a)"
   ]
  },
  {
   "cell_type": "code",
   "execution_count": null,
   "metadata": {},
   "outputs": [],
   "source": [
    "while len(a) > 0:\n",
    "    elt = a.pop()\n",
    "    print(f\"Removed {elt}, a is now {a}\")"
   ]
  },
  {
   "cell_type": "markdown",
   "metadata": {},
   "source": [
    " (Add-on):\n",
    "1. How to insert an element at a specific index of list\n",
    "2. How to append all element in a list into another list"
   ]
  },
  {
   "cell_type": "code",
   "execution_count": null,
   "metadata": {},
   "outputs": [],
   "source": [
    "# Insert a value at a specific index\n",
    "a = [1,2,3]\n",
    "a.insert(1,'new value')\n",
    "print(a)"
   ]
  },
  {
   "cell_type": "code",
   "execution_count": null,
   "metadata": {},
   "outputs": [],
   "source": [
    "a = [1,2,3]\n",
    "b = [\"x\", \"y\"]\n",
    "a.append(b)\n",
    "a"
   ]
  },
  {
   "cell_type": "code",
   "execution_count": null,
   "metadata": {},
   "outputs": [],
   "source": [
    "# Append all element inside a list into another list\n",
    "a = [1,2,3]\n",
    "b = [\"x\", \"y\"]\n",
    "a.extend(b) #same as a+b\n",
    "print(a)"
   ]
  },
  {
   "cell_type": "code",
   "execution_count": null,
   "metadata": {},
   "outputs": [],
   "source": [
    "a = [1,2,3]\n",
    "b = [\"x\", \"y\"]\n",
    "a+b\n",
    "# looks like string concatenation? We are going to talk more in 2nd lecture about OOP"
   ]
  },
  {
   "cell_type": "markdown",
   "metadata": {},
   "source": [
    "Lists in python are only implicitly collections of the objects that constitute them. Setting one array equal to another can lead to unexpected results:"
   ]
  },
  {
   "cell_type": "code",
   "execution_count": null,
   "metadata": {},
   "outputs": [],
   "source": [
    "a = [1, 2, 3]\n",
    "#b = a.copy() # shallow .deepcopy()\n",
    "b = a\n",
    "print(f\"original a:, {a}\")\n",
    "print(f\"original b:, {b}\")\n",
    "b[0] = \"edited\"\n",
    "print(\"after edit...\")\n",
    "print(f\"a:, {a}\")\n",
    "print(f\"b:, {b}\")"
   ]
  },
  {
   "cell_type": "code",
   "execution_count": null,
   "metadata": {},
   "outputs": [],
   "source": [
    "a.copy?"
   ]
  },
  {
   "cell_type": "markdown",
   "metadata": {},
   "source": [
    "A list only stores some pointers to locations in your computer's memory: when we wrote `b = a` Python created a new list `b` which shares its entries with `a`.\n",
    "\n",
    "The function `.copy()` will create a completely distinct copy with new objects."
   ]
  },
  {
   "cell_type": "markdown",
   "metadata": {},
   "source": [
    "## List Comprehensions\n",
    "\n",
    "Python's list comprehensions let you create lists in a way that is reminiscent of set notation\n",
    "\n",
    "$$ S = \\{ x^2 ~\\mid~ 0 \\le x \\le 20, x\\mod 3 = 0\\}$$"
   ]
  },
  {
   "cell_type": "code",
   "execution_count": null,
   "metadata": {},
   "outputs": [],
   "source": [
    "S= []\n",
    "for x in range(21):\n",
    "    if x % 3 == 0:\n",
    "        S.append(x**2)\n",
    "S"
   ]
  },
  {
   "cell_type": "markdown",
   "metadata": {},
   "source": [
    "Syntax is generally\n",
    "```python3\n",
    "S = [<element> <for statement> <conditional>]\n",
    "```"
   ]
  },
  {
   "cell_type": "code",
   "execution_count": null,
   "metadata": {},
   "outputs": [],
   "source": [
    "S = [x**2 for x in range(21) if x % 3 == 0]\n",
    "S"
   ]
  },
  {
   "cell_type": "markdown",
   "metadata": {},
   "source": [
    "(Self-study)Try yourself with nested for loop~"
   ]
  },
  {
   "cell_type": "code",
   "execution_count": null,
   "metadata": {},
   "outputs": [],
   "source": [
    "S = []\n",
    "for i in range(2):\n",
    "    for j in range(2):\n",
    "        for k in range(2):\n",
    "            if (i + j + k)%2 == 0:\n",
    "                S += [[i,j,k]]\n",
    "\n",
    "S"
   ]
  },
  {
   "cell_type": "code",
   "execution_count": null,
   "metadata": {},
   "outputs": [],
   "source": [
    "# you aren't restricted to a single for loop\n",
    "S = [[i,j,k] for i in range(2) for j in range(2) for k in range(2) if (i + j + k)%2 == 0]\n",
    "S"
   ]
  },
  {
   "cell_type": "code",
   "execution_count": null,
   "metadata": {},
   "outputs": [],
   "source": [
    "# you aren't restricted to a single if statement : Ternary operation\n",
    "# s1 if c1 else c2\n",
    "['yes' if v == 1 else 'no' if v == 2 else 'idle' for v in [1,2,3]]"
   ]
  },
  {
   "cell_type": "markdown",
   "metadata": {},
   "source": [
    "# Other Collections\n",
    "\n",
    "We've seen the `list` class, which is ordered/indexed, and mutable.  There are other Python collections that you may find useful:\n",
    "* `tuple` which is ordered/indexed, and immutable\n",
    "* `set` which is unordered/unindexed, mutable, and doesn't allow for duplicate elements\n",
    "* `dict` (dictionary), paired, which is unordered/unindexed, and mutable, with no duplicate keys."
   ]
  },
  {
   "cell_type": "code",
   "execution_count": null,
   "metadata": {},
   "outputs": [],
   "source": [
    "a_tuple = (1, 2, 4)\n",
    "print(a_tuple)\n",
    "a_tuple[0] = 1"
   ]
  },
  {
   "cell_type": "code",
   "execution_count": null,
   "metadata": {},
   "outputs": [],
   "source": [
    "a_set = {5, 3, 2, 5.0}\n",
    "print(a_set)\n",
    "print(a_set[0])"
   ]
  },
  {
   "cell_type": "code",
   "execution_count": null,
   "metadata": {},
   "outputs": [],
   "source": [
    "a_set.add(6) #you can also add all element in a list by using .update()\n",
    "print(f\"After adding 6,   a_set:{a_set}\")\n",
    "a_set.remove(6) #you can also add all element in a list by using minues operator\n",
    "print(f\"After removing 6, a_set:{a_set}\")"
   ]
  },
  {
   "cell_type": "code",
   "execution_count": null,
   "metadata": {},
   "outputs": [],
   "source": [
    "a_dict = {} # {key0: value0, key1: value1}\n",
    "a_dict[2] = 12 # dict[key] = value\n",
    "a_dict[\"key_2\"] = 'str'\n",
    "a_dict[\"key_3\"] = [13, \"value\"]\n",
    "a_dict"
   ]
  },
  {
   "cell_type": "code",
   "execution_count": null,
   "metadata": {},
   "outputs": [],
   "source": [
    "print(a_dict[2])\n",
    "print(a_dict.get(2))"
   ]
  },
  {
   "cell_type": "code",
   "execution_count": null,
   "metadata": {},
   "outputs": [],
   "source": [
    "a_dict_copy = {2: 'new value', 'key_2': 28, 'key_3': [13, 'value']}\n",
    "a_dict_copy"
   ]
  },
  {
   "cell_type": "markdown",
   "metadata": {},
   "source": [
    "(Optional) More Advanced Collections in Python\n",
    "* [`OrderedDict`](https://docs.python.org/3/library/collections.html#ordereddict-objects) Dict ordered by keys\n",
    "* [`deque`](https://docs.python.org/3/library/collections.html#deque-objects): double-ended queue (generalization of stack and queue)\n",
    "* [`heapq`](https://docs.python.org/3/library/heapq.html) Priority Queue"
   ]
  },
  {
   "cell_type": "markdown",
   "metadata": {},
   "source": [
    "# Exercise 2\n",
    "\n",
    "**Lists**\n",
    "1. Create a list `['a', 'b', 'c']`\n",
    "2. use the `insert()` method to put the element `'d'` at index 1\n",
    "3. use the `remove()` method to delete the element `'b'` in the list\n",
    "\n",
    "**List comprehensions**\n",
    "1. What does the following list contain?\n",
    "```python\n",
    "X = [i for i in range(100)]\n",
    "```\n",
    "2. Interpret the following set as a list comprehension:\n",
    "$S_1 = \\{x\\in X \\mid x\\mod 5 = 2\\}$\n",
    "3. Intepret the following set as a list comprehension: $S_2 = \\{x \\in S_1 \\mid x \\text{ is even}\\}$\n",
    "4. generate the set of all tuples $(x,y)$ where $x\\in S_1$, $y\\in S_2$.\n",
    "\n",
    "**Other Collections**\n",
    "1. Try creating another type of collection\n",
    "2. try iterating over it."
   ]
  },
  {
   "cell_type": "code",
   "execution_count": null,
   "metadata": {},
   "outputs": [],
   "source": []
  }
 ],
 "metadata": {
  "kernelspec": {
   "display_name": "Python 3",
   "language": "python",
   "name": "python3"
  },
  "language_info": {
   "codemirror_mode": {
    "name": "ipython",
    "version": 3
   },
   "file_extension": ".py",
   "mimetype": "text/x-python",
   "name": "python",
   "nbconvert_exporter": "python",
   "pygments_lexer": "ipython3",
   "version": "3.9.18"
  }
 },
 "nbformat": 4,
 "nbformat_minor": 2
}
