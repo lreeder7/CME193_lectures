{
  "cells": [
    {
      "cell_type": "markdown",
      "metadata": {
        "id": "view-in-github",
        "colab_type": "text"
      },
      "source": [
        "<a href=\"https://colab.research.google.com/github/lreeder7/CME193_lectures/blob/main/lectures/Lecture_1_post.ipynb\" target=\"_parent\"><img src=\"https://colab.research.google.com/assets/colab-badge.svg\" alt=\"Open In Colab\"/></a>"
      ]
    },
    {
      "cell_type": "markdown",
      "metadata": {
        "id": "6-wKJZVasw2B"
      },
      "source": [
        "# Summary of today:\n",
        "1. Intro to CME 193\n",
        "2. Python Foundations\n",
        "   * Variables\n",
        "   * Operators\n",
        "   * Strings\n",
        "   * Control Flow\n",
        "   * Exceptions\n",
        "   * Functions\n",
        "   * Collections"
      ]
    },
    {
      "cell_type": "markdown",
      "metadata": {
        "id": "whc1ER9Xsw2D"
      },
      "source": [
        "# CME 193 - Introduction to Scientific Python\n",
        "\n",
        "\n",
        "## Course Logistics\n",
        "\n",
        "**Instructor:**  Leah (Reeder) Collis (lcollis@stanford.edu)\n",
        "\n",
        "**Course website:** [cme193.stanford.edu](http://cme193.stanford.edu).\n",
        "Please check there for any materials related for the course (and let me know if something needs to be updated).\n",
        "\n",
        "**Class:** This course has a relatively fast pace. It is advantageous to preview the basic sections before future classes so you can absorb as much as possible during the 50 min lecture. Each class we will go over the lecture notebooks and will work through some examples together. Some weeks will have post-lecture exercises, which are good to make sure you have learned the weeks material. You aren't required to submit solutions to these, so you can focus on ones you find most interesting. If you get stuck, you can ask questions about them in office hours.\n",
        "\n",
        "**Homework:** We'll have 2 homeworks, which should not be difficult or time consuming, but a chance to practice what we cover in class. Feel free to discuss the problems with other students in the class, but the final code you submit should be written by you. You will have 2 weeks to complete each of them.\n",
        "\n",
        "**Grading:** This class is offered on a credit/no-credit basis.  Really, you're going to get out of it what you put into it.  My assumption is that you are taking the course because you see it as relevant to your education, and will try to learn material that you see as most important.\n",
        "\n",
        "**Office hours:** Wednesdays from 1pm - 3pm in Huang basement (tables outside of ICME)."
      ]
    },
    {
      "cell_type": "markdown",
      "metadata": {
        "id": "8dKiKqzfsw2E"
      },
      "source": [
        "# Overview of Course\n",
        "\n",
        "You can find a list of topics we plan to cover on the [course website](http://web.stanford.edu/class/cme193/syllabus.html).  \n",
        "\n",
        "Here is a tentative list of lectures:\n",
        "1. Python basics\n",
        "1. Python Class & Object\n",
        "1. Linear algebra (NumPy)\n",
        "1. Numerical algorithms (NumPy)\n",
        "1. Scientific computing (SciPy)\n",
        "1. Data science (Pandas)\n",
        "1. Machine learning (scikit-learn)\n",
        "1. Deep learning (PyTorch)\n",
        "\n",
        "The goal of the course is to get you started with using Python for scientific computing.\n",
        "* We **are** going to cover common packages for linear algebra, optimization, and data science\n",
        "* We are **not** going to cover all of the Python language, or all of its applications\n",
        "    * We will cover aspects of the Python language as they are needed for our purposes\n",
        "\n",
        "This course is designed for\n",
        "* People who already know how to program (maybe not in Python)\n",
        "* People who want to use Python for research/coursework in a scientific or engineering discipline for modeling, simulations, or data science\n",
        "\n",
        "You don't need to have an expert background in programming or scientific computing to take this course.  Everyone starts somewhere, and if your interests are aligned with the goals of the course you should be okay."
      ]
    },
    {
      "cell_type": "markdown",
      "metadata": {
        "id": "heHFG0kksw2E"
      },
      "source": [
        "## Class lectures and homeworks: Jupyter notebooks\n",
        "For lectures and homeworks, we are using Jupyter notebooks. Check the webpage for more information on how to get started with these. You can download/run them locally to your own computer, you can run them on Rice, or you can use Google Colab. Any of these methods work and are completely up to you!\n",
        "\n",
        "More information about computing at Stanford can be found [here](https://github.com/lreeder7/ICME_Computing_Refresher_2023/blob/master/computingAtStanford.md).\n",
        "Lectures will be available to download on the course website, but are also updated on my own github repository (lreeder7/CME193_lectures) for those of you that use it.\n",
        "\n"
      ]
    },
    {
      "cell_type": "markdown",
      "metadata": {
        "id": "Sr2UmwDjsw2E"
      },
      "source": [
        "# Python"
      ]
    },
    {
      "cell_type": "code",
      "execution_count": 1,
      "metadata": {
        "id": "YdvzYMDXsw2F",
        "outputId": "11fc59c5-0478-4528-933e-b7934c86bedd",
        "colab": {
          "base_uri": "https://localhost:8080/"
        }
      },
      "outputs": [
        {
          "output_type": "stream",
          "name": "stdout",
          "text": [
            "Hello, world!\n"
          ]
        }
      ],
      "source": [
        "print(\"Hello, world!\")"
      ]
    },
    {
      "cell_type": "code",
      "execution_count": 2,
      "metadata": {
        "id": "09JCe1Wisw2F",
        "outputId": "bf9e107b-6fa0-436d-bcb1-448a1d8c1ab5",
        "colab": {
          "base_uri": "https://localhost:8080/"
        }
      },
      "outputs": [
        {
          "output_type": "stream",
          "name": "stdout",
          "text": [
            "3.141592653589793\n"
          ]
        }
      ],
      "source": [
        "# print value of pi : I am a comment using hash mark\n",
        "# The pi (π ) is a constant of the math library in Python that returns the value 3.14...\n",
        "import math\n",
        "print(math.pi)"
      ]
    },
    {
      "cell_type": "markdown",
      "metadata": {
        "id": "r1tcs1OGsw2G"
      },
      "source": [
        "# Basic Section (Start)"
      ]
    },
    {
      "cell_type": "markdown",
      "metadata": {
        "id": "VX5HL7Igsw2G"
      },
      "source": [
        "## Variables\n",
        "\n",
        "One of the main differences in python compared to other languages you might be familiar with is that variables are not declared and are not strongly typed"
      ]
    },
    {
      "cell_type": "code",
      "execution_count": 3,
      "metadata": {
        "id": "hSDpoPWWsw2G",
        "outputId": "d415a25b-f857-4963-dee3-d7e0cc7e44e5",
        "colab": {
          "base_uri": "https://localhost:8080/"
        }
      },
      "outputs": [
        {
          "output_type": "stream",
          "name": "stdout",
          "text": [
            "1\n"
          ]
        }
      ],
      "source": [
        "x = 1\n",
        "print(x)"
      ]
    },
    {
      "cell_type": "code",
      "execution_count": 4,
      "metadata": {
        "id": "iBMYdZFVsw2G",
        "outputId": "7f7e6b39-0531-4090-fbcf-99fa589893d8",
        "colab": {
          "base_uri": "https://localhost:8080/"
        }
      },
      "outputs": [
        {
          "output_type": "stream",
          "name": "stdout",
          "text": [
            "<class 'int'>\n"
          ]
        }
      ],
      "source": [
        "x = 1\n",
        "print(type(x))"
      ]
    },
    {
      "cell_type": "code",
      "execution_count": 5,
      "metadata": {
        "id": "9bkNqy2Tsw2G",
        "outputId": "74c782df-498a-43bd-d5b6-6b704270c7bd",
        "colab": {
          "base_uri": "https://localhost:8080/"
        }
      },
      "outputs": [
        {
          "output_type": "stream",
          "name": "stdout",
          "text": [
            "1.0\n",
            "<class 'float'>\n",
            "string\n",
            "<class 'str'>\n"
          ]
        }
      ],
      "source": [
        "x = 1.0\n",
        "print(x)\n",
        "print(type(x))\n",
        "\n",
        "x = 'string' #same as \"string\" #pound sign is for comments\n",
        "print(x)\n",
        "print(type(x))"
      ]
    },
    {
      "cell_type": "code",
      "execution_count": 6,
      "metadata": {
        "id": "9Ztv-dxVsw2G",
        "outputId": "f840545a-d936-4426-ef15-abe3f376aead",
        "colab": {
          "base_uri": "https://localhost:8080/",
          "height": 35
        }
      },
      "outputs": [
        {
          "output_type": "execute_result",
          "data": {
            "text/plain": [
              "'string'"
            ],
            "application/vnd.google.colaboratory.intrinsic+json": {
              "type": "string"
            }
          },
          "metadata": {},
          "execution_count": 6
        }
      ],
      "source": [
        "x"
      ]
    },
    {
      "cell_type": "code",
      "execution_count": 7,
      "metadata": {
        "id": "0LQpBF8zsw2G",
        "outputId": "6a473182-8844-4414-c65f-d12f9a0d88f9",
        "colab": {
          "base_uri": "https://localhost:8080/",
          "height": 35
        }
      },
      "outputs": [
        {
          "output_type": "display_data",
          "data": {
            "text/plain": [
              "'string'"
            ],
            "application/vnd.google.colaboratory.intrinsic+json": {
              "type": "string"
            }
          },
          "metadata": {}
        }
      ],
      "source": [
        "from IPython.display import display\n",
        "display(x)"
      ]
    },
    {
      "cell_type": "markdown",
      "metadata": {
        "id": "vVwc3ijRsw2H"
      },
      "source": [
        "## Basic Arithmetic\n",
        "\n",
        "Math Operators:\n",
        "`+ - * / // % **`\n",
        "\n",
        "Boolean expressions:\n",
        "* keywords: `True` and `False` (note capitalization)\n",
        "  - False = 0, True = 1\n",
        "* `==` equals: `5 == 5` yields `True`\n",
        "* `!=` does not equal: `5 != 5` yields `False`\n",
        "* `>` greater than: `5 > 4` yields `True`\n",
        "* `>=` greater than or equal: `5 >= 5` yields `True`\n",
        "* Similarly, we have `<` and `<=`.\n",
        "\n",
        "Logical operators:\n",
        "* `and`, `or`, and `not`\n",
        "* `True and False`\n",
        "* `True or False`\n",
        "* `not True`"
      ]
    },
    {
      "cell_type": "code",
      "execution_count": 9,
      "metadata": {
        "id": "wYyIr1iEsw2H",
        "outputId": "5b0bd4ce-76d6-432a-dea6-525d288eac37",
        "colab": {
          "base_uri": "https://localhost:8080/"
        }
      },
      "outputs": [
        {
          "output_type": "execute_result",
          "data": {
            "text/plain": [
              "2.0"
            ]
          },
          "metadata": {},
          "execution_count": 9
        }
      ],
      "source": [
        "# Dividing 0 is an error\n",
        "4 / 2"
      ]
    },
    {
      "cell_type": "code",
      "execution_count": 10,
      "metadata": {
        "id": "anC4vJlmsw2H",
        "outputId": "21a48c88-d686-4b04-86a5-e8c71d3fac41",
        "colab": {
          "base_uri": "https://localhost:8080/"
        }
      },
      "outputs": [
        {
          "output_type": "execute_result",
          "data": {
            "text/plain": [
              "float"
            ]
          },
          "metadata": {},
          "execution_count": 10
        }
      ],
      "source": [
        "#The result of regular division is always a float\n",
        "type(4/2)"
      ]
    },
    {
      "cell_type": "code",
      "execution_count": 11,
      "metadata": {
        "id": "_em3CSP6sw2H",
        "outputId": "b01e27e7-e723-4961-9bcd-64a9ad33ba97",
        "colab": {
          "base_uri": "https://localhost:8080/"
        }
      },
      "outputs": [
        {
          "output_type": "execute_result",
          "data": {
            "text/plain": [
              "int"
            ]
          },
          "metadata": {},
          "execution_count": 11
        }
      ],
      "source": [
        "type(5//3) #Floor division =1"
      ]
    },
    {
      "cell_type": "code",
      "execution_count": 12,
      "metadata": {
        "id": "yk2M6H7Bsw2H",
        "outputId": "98c4ca07-c2ff-4cb3-acca-37d73427ce68",
        "colab": {
          "base_uri": "https://localhost:8080/"
        }
      },
      "outputs": [
        {
          "output_type": "execute_result",
          "data": {
            "text/plain": [
              "float"
            ]
          },
          "metadata": {},
          "execution_count": 12
        }
      ],
      "source": [
        "type(5.0//3) #Floor division =1.0"
      ]
    },
    {
      "cell_type": "code",
      "execution_count": 13,
      "metadata": {
        "id": "9sqwnjHDsw2I",
        "outputId": "6171bd2a-5d9f-4470-d12e-3b99c7790e09",
        "colab": {
          "base_uri": "https://localhost:8080/"
        }
      },
      "outputs": [
        {
          "output_type": "execute_result",
          "data": {
            "text/plain": [
              "2"
            ]
          },
          "metadata": {},
          "execution_count": 13
        }
      ],
      "source": [
        "5%3 #Modulus"
      ]
    },
    {
      "cell_type": "code",
      "execution_count": 14,
      "metadata": {
        "id": "tIM5qTXgsw2I",
        "outputId": "d30fb9ab-fdbf-45cf-80bf-2d2c438b0183",
        "colab": {
          "base_uri": "https://localhost:8080/"
        }
      },
      "outputs": [
        {
          "output_type": "execute_result",
          "data": {
            "text/plain": [
              "64"
            ]
          },
          "metadata": {},
          "execution_count": 14
        }
      ],
      "source": [
        "4**3 #Exponentiation"
      ]
    },
    {
      "cell_type": "code",
      "execution_count": 15,
      "metadata": {
        "id": "vsmxgy87sw2I",
        "outputId": "dc3aebfe-7a80-42df-cefa-34d8d5a53683",
        "colab": {
          "base_uri": "https://localhost:8080/"
        }
      },
      "outputs": [
        {
          "output_type": "execute_result",
          "data": {
            "text/plain": [
              "True"
            ]
          },
          "metadata": {},
          "execution_count": 15
        }
      ],
      "source": [
        "# == to check if the values match\n",
        "x = 5.0\n",
        "y = 5\n",
        "\n",
        "x == y"
      ]
    },
    {
      "cell_type": "code",
      "execution_count": 16,
      "metadata": {
        "id": "tiNeNOL7sw2I",
        "outputId": "f6ba24c9-c07e-4a75-ae62-e7b744c37518",
        "colab": {
          "base_uri": "https://localhost:8080/"
        }
      },
      "outputs": [
        {
          "output_type": "stream",
          "name": "stdout",
          "text": [
            "<class 'float'> <class 'int'>\n"
          ]
        }
      ],
      "source": [
        "print(type(x), type(y))"
      ]
    },
    {
      "cell_type": "code",
      "execution_count": 17,
      "metadata": {
        "id": "qlm3_gnBsw2I",
        "outputId": "92a597e2-3de5-47a7-f318-8f544b67e8b1",
        "colab": {
          "base_uri": "https://localhost:8080/"
        }
      },
      "outputs": [
        {
          "output_type": "stream",
          "name": "stdout",
          "text": [
            "x == y: True\n",
            "x is y: False\n"
          ]
        }
      ],
      "source": [
        "x = 5.0\n",
        "y = 5\n",
        "print(\"x == y: \" + str(x == y))\n",
        "print(\"x is y: \" + str(x is y))\n",
        "\n",
        "#== checks for equality - if the two variables point at values are equal.\n",
        "#is checks for identity - if the two variables point to the exact same object."
      ]
    },
    {
      "cell_type": "code",
      "execution_count": 18,
      "metadata": {
        "id": "VycvTD9tsw2I",
        "outputId": "67de67d2-d5a1-45ed-87d8-c16a9ffb5af1",
        "colab": {
          "base_uri": "https://localhost:8080/"
        }
      },
      "outputs": [
        {
          "output_type": "stream",
          "name": "stdout",
          "text": [
            "s == 'example': True\n",
            "s is 'example': True\n"
          ]
        }
      ],
      "source": [
        "s = \"example\"\n",
        "answer = 'example'\n",
        "\n",
        "print(\"s == 'example': \" + str(s == answer))\n",
        "print(\"s is 'example': \" + str(s is answer))"
      ]
    },
    {
      "cell_type": "code",
      "execution_count": 19,
      "metadata": {
        "id": "K2d9QA4zsw2I",
        "outputId": "48887218-06a0-47b4-b36d-1aee4423e034",
        "colab": {
          "base_uri": "https://localhost:8080/"
        }
      },
      "outputs": [
        {
          "output_type": "execute_result",
          "data": {
            "text/plain": [
              "True"
            ]
          },
          "metadata": {},
          "execution_count": 19
        }
      ],
      "source": [
        "True or False # some other language use '&' for 'and', '|' for 'or', '!' for 'not': NOT IN PYTHON"
      ]
    },
    {
      "cell_type": "code",
      "execution_count": 20,
      "metadata": {
        "id": "06rx_n_4sw2I",
        "outputId": "b28bb434-83c6-430b-e3fa-34f0827f78e6",
        "colab": {
          "base_uri": "https://localhost:8080/"
        }
      },
      "outputs": [
        {
          "output_type": "execute_result",
          "data": {
            "text/plain": [
              "False"
            ]
          },
          "metadata": {},
          "execution_count": 20
        }
      ],
      "source": [
        "not True"
      ]
    },
    {
      "cell_type": "code",
      "execution_count": 21,
      "metadata": {
        "id": "AL0IW2Cisw2J",
        "outputId": "3a04f333-71a7-4a4d-ee78-a57e00d2d11b",
        "colab": {
          "base_uri": "https://localhost:8080/"
        }
      },
      "outputs": [
        {
          "output_type": "execute_result",
          "data": {
            "text/plain": [
              "False"
            ]
          },
          "metadata": {},
          "execution_count": 21
        }
      ],
      "source": [
        "not 5 == 5.0 #equivalent to 5 != 5.0"
      ]
    },
    {
      "cell_type": "markdown",
      "metadata": {
        "id": "YM5jo0m8sw2J"
      },
      "source": [
        "## Strings\n",
        "\n",
        "Concatenation: `str1 + str2`\n",
        "\n",
        "Printing: `print(str1)`"
      ]
    },
    {
      "cell_type": "code",
      "execution_count": 22,
      "metadata": {
        "id": "m4a7U4aLsw2J",
        "outputId": "5ca7b2ed-bc2a-47fb-cf27-81c79d082dd4",
        "colab": {
          "base_uri": "https://localhost:8080/"
        }
      },
      "outputs": [
        {
          "output_type": "execute_result",
          "data": {
            "text/plain": [
              "2"
            ]
          },
          "metadata": {},
          "execution_count": 22
        }
      ],
      "source": [
        "1 + 1"
      ]
    },
    {
      "cell_type": "code",
      "execution_count": 23,
      "metadata": {
        "id": "LbAfo_ctsw2J",
        "outputId": "cf1ea596-172e-4eaa-ade2-777ce5b54809",
        "colab": {
          "base_uri": "https://localhost:8080/",
          "height": 35
        }
      },
      "outputs": [
        {
          "output_type": "execute_result",
          "data": {
            "text/plain": [
              "\"Alice's numbers are 20 and 52, and their sum is 72\""
            ],
            "application/vnd.google.colaboratory.intrinsic+json": {
              "type": "string"
            }
          },
          "metadata": {},
          "execution_count": 23
        }
      ],
      "source": [
        "str1 = \"Alice's numbers are 20 and 52, \"\n",
        "str2 = \"and their sum is 72\"\n",
        "str3 = str1 + str2\n",
        "str3"
      ]
    },
    {
      "cell_type": "markdown",
      "metadata": {
        "id": "Z8AhvIgEsw2J"
      },
      "source": [
        "String Formatting:"
      ]
    },
    {
      "cell_type": "code",
      "execution_count": 24,
      "metadata": {
        "id": "sXVGlPtPsw2J",
        "outputId": "b9b02329-6bc9-480a-a173-bef4d85b46b4",
        "colab": {
          "base_uri": "https://localhost:8080/",
          "height": 35
        }
      },
      "outputs": [
        {
          "output_type": "execute_result",
          "data": {
            "text/plain": [
              "\"Alice's friend's numbers are 21414 and 52, and their sum is 21466\""
            ],
            "application/vnd.google.colaboratory.intrinsic+json": {
              "type": "string"
            }
          },
          "metadata": {},
          "execution_count": 24
        }
      ],
      "source": [
        "# f-string (pyhton == ^3.6)\n",
        "\n",
        "x = 21414\n",
        "y = 52\n",
        "name = \"Alice's friend\"\n",
        "\n",
        "#f-string\n",
        "str1 = f\"{name}'s numbers are {x} and {y}, \"\n",
        "str2 = f\"and their sum is {x + y}\"\n",
        "str3 = str1 + str2\n",
        "str3"
      ]
    },
    {
      "cell_type": "code",
      "source": [
        "print(\"Hello\", name, x, y, x , y)"
      ],
      "metadata": {
        "id": "Zj7J_MlI8upw",
        "outputId": "0fd8e7e6-9bbb-4c5a-f4be-9a7ef2ab78ea",
        "colab": {
          "base_uri": "https://localhost:8080/"
        }
      },
      "execution_count": 49,
      "outputs": [
        {
          "output_type": "stream",
          "name": "stdout",
          "text": [
            "Hello Alice's friend 5 4 5 4\n"
          ]
        }
      ]
    },
    {
      "cell_type": "markdown",
      "metadata": {
        "id": "A48v_ti7sw2K"
      },
      "source": [
        "(Optional) Old School String Format"
      ]
    },
    {
      "cell_type": "code",
      "execution_count": 25,
      "metadata": {
        "id": "0_alVuvRsw2K",
        "outputId": "1b499aea-70c6-4a29-d990-8052dd5ee386",
        "colab": {
          "base_uri": "https://localhost:8080/"
        }
      },
      "outputs": [
        {
          "output_type": "stream",
          "name": "stdout",
          "text": [
            "a: string\n",
            "b: 1.000000, hello, 5\n",
            "c: 3.14\n"
          ]
        }
      ],
      "source": [
        "str1 = \"a: %s\" % \"string\"\n",
        "print(str1)\n",
        "str2 = \"b: %f, %s, %d\" % (1.0, 'hello', 5)\n",
        "print(str2)\n",
        "str3 = \"c: {}\".format(3.14)\n",
        "print(str3)"
      ]
    },
    {
      "cell_type": "code",
      "execution_count": 26,
      "metadata": {
        "id": "8K8Rv-uJsw2K",
        "outputId": "d30ad323-a1d9-43b6-e6ef-7355fbea4bae",
        "colab": {
          "base_uri": "https://localhost:8080/"
        }
      },
      "outputs": [
        {
          "output_type": "stream",
          "name": "stdout",
          "text": [
            "Hello, World!\n",
            "HELLO, WORLD!\n",
            "hello, world!\n"
          ]
        }
      ],
      "source": [
        "# some methods\n",
        "str1 = \"Hello, World!\"\n",
        "print(str1)\n",
        "print(str1.upper())\n",
        "print(str1.lower())"
      ]
    },
    {
      "cell_type": "code",
      "execution_count": 27,
      "metadata": {
        "id": "num9dDr7sw2K",
        "outputId": "3ac860d0-23fb-4da0-8b85-b2978ffbf438",
        "colab": {
          "base_uri": "https://localhost:8080/",
          "height": 35
        }
      },
      "outputs": [
        {
          "output_type": "execute_result",
          "data": {
            "text/plain": [
              "'Hello, World!'"
            ],
            "application/vnd.google.colaboratory.intrinsic+json": {
              "type": "string"
            }
          },
          "metadata": {},
          "execution_count": 27
        }
      ],
      "source": [
        "str1"
      ]
    },
    {
      "cell_type": "code",
      "execution_count": 28,
      "metadata": {
        "id": "5a3Hj11Asw2L",
        "outputId": "9ee8d696-883d-4da1-b748-5e9bf42d0e78",
        "colab": {
          "base_uri": "https://localhost:8080/",
          "height": 35
        }
      },
      "outputs": [
        {
          "output_type": "execute_result",
          "data": {
            "text/plain": [
              "'hello, world!'"
            ],
            "application/vnd.google.colaboratory.intrinsic+json": {
              "type": "string"
            }
          },
          "metadata": {},
          "execution_count": 28
        }
      ],
      "source": [
        "str1 = str1.lower()\n",
        "str1"
      ]
    },
    {
      "cell_type": "code",
      "execution_count": 29,
      "metadata": {
        "id": "y9ob4uErsw2L"
      },
      "outputs": [],
      "source": [
        "str1.replace?"
      ]
    },
    {
      "cell_type": "code",
      "execution_count": 30,
      "metadata": {
        "id": "pw2fbo0Fsw2L",
        "outputId": "07450cf6-e27c-439a-8528-e189739d981a",
        "colab": {
          "base_uri": "https://localhost:8080/",
          "height": 35
        }
      },
      "outputs": [
        {
          "output_type": "execute_result",
          "data": {
            "text/plain": [
              "'heppo, worpd!'"
            ],
            "application/vnd.google.colaboratory.intrinsic+json": {
              "type": "string"
            }
          },
          "metadata": {},
          "execution_count": 30
        }
      ],
      "source": [
        "str1.replace('l', 'p')"
      ]
    },
    {
      "cell_type": "markdown",
      "metadata": {
        "id": "eedtAD_Isw2M"
      },
      "source": [
        "## Control Flow\n",
        "\n",
        "If statements:  \n",
        "if decides whether certain statements need to be executed or not. It checks for a given condition\n",
        "```python\n",
        "if condition1:\n",
        "  statements1\n",
        "elif condition2:\n",
        "  statements2\n",
        "elif condition3:\n",
        "  statements3\n",
        "else:\n",
        "  statements4\n",
        "```"
      ]
    },
    {
      "cell_type": "code",
      "execution_count": 33,
      "metadata": {
        "id": "JMk8cVmHsw2M",
        "outputId": "9d1a941d-c882-44ac-b4ba-c94f0b90ac24",
        "colab": {
          "base_uri": "https://localhost:8080/"
        }
      },
      "outputs": [
        {
          "output_type": "stream",
          "name": "stdout",
          "text": [
            "x is something else\n"
          ]
        }
      ],
      "source": [
        "x = 5\n",
        "y = 4\n",
        "\n",
        "if x == y:\n",
        "    print(\"The value of x is the same as value of y\")\n",
        "elif x == 3:\n",
        "    print(\"I am here\")\n",
        "    print(\"x is 3\")\n",
        "else:\n",
        "    print(\"x is something else\")"
      ]
    },
    {
      "cell_type": "markdown",
      "metadata": {
        "id": "NJ9jVtUxsw2M"
      },
      "source": [
        "**For loops**  \n",
        "\n",
        "control flow statement for specifying iteration, which allows code to be executed repeatedly"
      ]
    },
    {
      "cell_type": "code",
      "execution_count": 35,
      "metadata": {
        "id": "_JEpyhaEsw2N",
        "outputId": "386deeb5-6588-47c8-b55f-b42720a17c23",
        "colab": {
          "base_uri": "https://localhost:8080/"
        }
      },
      "outputs": [
        {
          "output_type": "stream",
          "name": "stdout",
          "text": [
            "0, next loop\n",
            "1, next loop\n",
            "2, next loop\n",
            "3, next loop\n"
          ]
        }
      ],
      "source": [
        "for i in range(4): # default - start at 0, increment by 1\n",
        "    print(f\"{i}, next loop\")"
      ]
    },
    {
      "cell_type": "code",
      "execution_count": 34,
      "metadata": {
        "id": "UC79U8L5sw2N"
      },
      "outputs": [],
      "source": [
        "?range"
      ]
    },
    {
      "cell_type": "code",
      "execution_count": 36,
      "metadata": {
        "id": "BTbxxCxUsw2N",
        "outputId": "7420ec84-e35e-4776-9860-712d971b27d4",
        "colab": {
          "base_uri": "https://localhost:8080/"
        }
      },
      "outputs": [
        {
          "output_type": "stream",
          "name": "stdout",
          "text": [
            "10\n",
            "8\n",
            "6\n",
            "4\n"
          ]
        }
      ],
      "source": [
        "for i in range(10, 2, -2): # inputs are start, stop, step\n",
        "    print(i)"
      ]
    },
    {
      "cell_type": "markdown",
      "metadata": {
        "id": "hsxoKKcKsw2N"
      },
      "source": [
        "**while loops**"
      ]
    },
    {
      "cell_type": "code",
      "execution_count": 37,
      "metadata": {
        "id": "WHRppttQsw2N",
        "outputId": "b8e446fc-4018-4680-d677-08d7b30b54a1",
        "colab": {
          "base_uri": "https://localhost:8080/"
        }
      },
      "outputs": [
        {
          "output_type": "stream",
          "name": "stdout",
          "text": [
            "1\n",
            "2\n",
            "3\n",
            "4\n",
            "5\n",
            "6\n",
            "7\n",
            "8\n",
            "9\n",
            "Finished\n"
          ]
        }
      ],
      "source": [
        "# Find all positive integer whose square < 100\n",
        "i = 1\n",
        "while i**2 < 100:\n",
        "    print(i)\n",
        "    i += 1      #i += 1 is the same as i = i + 1\n",
        "print(\"Finished\")"
      ]
    },
    {
      "cell_type": "markdown",
      "metadata": {
        "id": "_9cal_s8sw2N"
      },
      "source": [
        "**continue** - skip the rest of the loop\n",
        "\n",
        "**break** - exit from the loop"
      ]
    },
    {
      "cell_type": "code",
      "execution_count": 38,
      "metadata": {
        "id": "Q-39oZxXsw2N",
        "outputId": "2902ac0d-8a92-4599-9327-01d0f6407db4",
        "colab": {
          "base_uri": "https://localhost:8080/"
        }
      },
      "outputs": [
        {
          "output_type": "stream",
          "name": "stdout",
          "text": [
            "Found 1, an odd number\n",
            "Found 2, an even number, Continue!\n",
            "Found 3, an odd number\n",
            "Found 4, an even number, Continue!\n",
            "Found 5, an odd number\n",
            "Found 6, an even number, Continue!\n",
            "Found 7, an odd number\n",
            "Found 8, an even number, Continue!\n",
            "Found 9, an odd number\n",
            "Finished\n"
          ]
        }
      ],
      "source": [
        "# distinguish even or odd number\n",
        "for num in range(1, 10):\n",
        "    if num % 2 == 0:\n",
        "        print(f'Found {num}, an even number, Continue!')\n",
        "        continue # this jumps us back to the top\n",
        "\n",
        "    print(f\"Found {num}, an odd number\")\n",
        "\n",
        "print('Finished')"
      ]
    },
    {
      "cell_type": "code",
      "execution_count": 39,
      "metadata": {
        "id": "k3Eutmq2sw2O",
        "outputId": "b8f2b594-4f03-4a72-ff1a-51992d1f0d25",
        "colab": {
          "base_uri": "https://localhost:8080/"
        }
      },
      "outputs": [
        {
          "output_type": "stream",
          "name": "stdout",
          "text": [
            "Found 1, an odd number\n",
            "Found 2, an even number, BREAK!\n",
            "Finished\n"
          ]
        }
      ],
      "source": [
        "for num in range(1, 10):\n",
        "    if num % 2 == 0: # if n divisible by x\n",
        "        print(f'Found {num}, an even number, BREAK!')\n",
        "        break\n",
        "    print(f\"Found {num}, an odd number\")\n",
        "print('Finished')"
      ]
    },
    {
      "cell_type": "code",
      "execution_count": 50,
      "metadata": {
        "id": "du5lxgN2sw2O",
        "outputId": "ead7d0a2-b8f0-4bbc-b3d1-8ebbd416be83",
        "colab": {
          "base_uri": "https://localhost:8080/"
        }
      },
      "outputs": [
        {
          "output_type": "stream",
          "name": "stdout",
          "text": [
            "Outer 0\n",
            "   Inner : 0\n"
          ]
        }
      ],
      "source": [
        "#continue/break statement only continue/breaks its cloest loop statement\n",
        "for i in range(3):\n",
        "    print(f\"Outer {i}\")\n",
        "    for j in range(3):\n",
        "      print(f\"   Inner : {j}\")\n",
        "      #continue\n",
        "      break\n",
        "      print('     I am j')\n",
        "    break\n",
        "    print(\"End of inner loop\")\n",
        "    #jump to here after break"
      ]
    },
    {
      "cell_type": "markdown",
      "metadata": {
        "id": "M23t1_14sw2O"
      },
      "source": [
        "**pass** does nothing"
      ]
    },
    {
      "cell_type": "code",
      "execution_count": 47,
      "metadata": {
        "id": "NVRwPp14sw2O",
        "outputId": "21833a4e-d18c-4031-b769-d10f916d9da7",
        "colab": {
          "base_uri": "https://localhost:8080/"
        }
      },
      "outputs": [
        {
          "output_type": "stream",
          "name": "stdout",
          "text": [
            "Iteration: 0\n",
            "Iteration: 1\n",
            "Iteration: 2\n",
            "Iteration: 3\n",
            "Iteration: 4\n",
            "Iteration: 5\n",
            "Iteration: 6\n"
          ]
        }
      ],
      "source": [
        "#The pass statement is used as a placeholder for future code!!\n",
        "for num in range(7):\n",
        "    if num == 5:\n",
        "        #TODO: Add more code for the case num = 5\n",
        "        pass\n",
        "    print(f'Iteration: {num}')"
      ]
    },
    {
      "cell_type": "markdown",
      "metadata": {
        "id": "gMzACOSBsw2O"
      },
      "source": [
        "# Basic Section (End)"
      ]
    },
    {
      "cell_type": "markdown",
      "metadata": {
        "id": "LlT1mLfJsw2O"
      },
      "source": [
        "# [Exceptions](https://docs.python.org/3/library/exceptions.html)"
      ]
    },
    {
      "cell_type": "code",
      "execution_count": 51,
      "metadata": {
        "id": "hn2rCp8Esw2O",
        "outputId": "d1f38f79-67da-435a-fda7-1381953bb7be",
        "colab": {
          "base_uri": "https://localhost:8080/",
          "height": 208
        }
      },
      "outputs": [
        {
          "output_type": "error",
          "ename": "ZeroDivisionError",
          "evalue": "division by zero",
          "traceback": [
            "\u001b[0;31m---------------------------------------------------------------------------\u001b[0m",
            "\u001b[0;31mZeroDivisionError\u001b[0m                         Traceback (most recent call last)",
            "\u001b[0;32m<ipython-input-51-f191d6a35876>\u001b[0m in \u001b[0;36m<cell line: 1>\u001b[0;34m()\u001b[0m\n\u001b[0;32m----> 1\u001b[0;31m \u001b[0mprint\u001b[0m\u001b[0;34m(\u001b[0m\u001b[0;36m100\u001b[0m \u001b[0;34m/\u001b[0m \u001b[0;36m0\u001b[0m\u001b[0;34m)\u001b[0m\u001b[0;34m\u001b[0m\u001b[0;34m\u001b[0m\u001b[0m\n\u001b[0m\u001b[1;32m      2\u001b[0m \u001b[0;34m\u001b[0m\u001b[0m\n\u001b[1;32m      3\u001b[0m \u001b[0mprint\u001b[0m\u001b[0;34m(\u001b[0m\u001b[0;36m100\u001b[0m \u001b[0;34m/\u001b[0m \u001b[0;36m10\u001b[0m\u001b[0;34m)\u001b[0m\u001b[0;34m\u001b[0m\u001b[0;34m\u001b[0m\u001b[0m\n",
            "\u001b[0;31mZeroDivisionError\u001b[0m: division by zero"
          ]
        }
      ],
      "source": [
        "print(100 / 0)\n",
        "\n",
        "print(100 / 10)"
      ]
    },
    {
      "cell_type": "code",
      "execution_count": 53,
      "metadata": {
        "id": "oSBzqUZNsw2O",
        "outputId": "f7f0cd87-815d-43f0-d55f-763e2456b55a",
        "colab": {
          "base_uri": "https://localhost:8080/"
        }
      },
      "outputs": [
        {
          "output_type": "stream",
          "name": "stdout",
          "text": [
            "Other Error: unsupported operand type(s) for /: 'int' and 'str'\n",
            "10.0\n"
          ]
        }
      ],
      "source": [
        "try:\n",
        "    print(100 / 0)\n",
        "except ZeroDivisionError:\n",
        "    print(\"Error: don't divided by zero\")\n",
        "except Exception as e:\n",
        "    print(f\"Other Error: {e}\")\n",
        "\n",
        "print(100/10)"
      ]
    },
    {
      "cell_type": "markdown",
      "metadata": {
        "id": "Y2nOx6Imsw2O"
      },
      "source": [
        "# Functions\n",
        "\n",
        "Functions are declared with the keyword `def`"
      ]
    },
    {
      "cell_type": "code",
      "execution_count": 55,
      "metadata": {
        "id": "qT8phMF-sw2O",
        "outputId": "ac158d69-f22e-43e2-afe3-fb0d52dc5ab2",
        "colab": {
          "base_uri": "https://localhost:8080/"
        }
      },
      "outputs": [
        {
          "output_type": "execute_result",
          "data": {
            "text/plain": [
              "-1.0"
            ]
          },
          "metadata": {},
          "execution_count": 55
        }
      ],
      "source": [
        "# def tells python you're trying to declare a function\n",
        "def triangle_area(base, height):\n",
        "    #here are operations\n",
        "    #part of function\n",
        "    #etc\n",
        "    return 0.5 * base * height\n",
        "\n",
        "triangle_area(-1, 2)"
      ]
    },
    {
      "cell_type": "code",
      "execution_count": 57,
      "metadata": {
        "id": "QHuPnNyAsw2O",
        "outputId": "344805d8-7902-4a8b-801c-91b984fa40d5",
        "colab": {
          "base_uri": "https://localhost:8080/"
        }
      },
      "outputs": [
        {
          "output_type": "execute_result",
          "data": {
            "text/plain": [
              "1.0"
            ]
          },
          "metadata": {},
          "execution_count": 57
        }
      ],
      "source": [
        "def triangle_area(base, height):\n",
        "    if base < 0 or height < 0:\n",
        "        raise ValueError(\"Base and height must be non-negative\")\n",
        "    return 0.5 * base * height\n",
        "\n",
        "triangle_area(1, 2)"
      ]
    },
    {
      "cell_type": "code",
      "execution_count": 58,
      "metadata": {
        "id": "4XS2EH76sw2P",
        "outputId": "2e739fa5-c4a2-4cb5-de7c-9221587e356c",
        "colab": {
          "base_uri": "https://localhost:8080/",
          "height": 293
        }
      },
      "outputs": [
        {
          "output_type": "error",
          "ename": "TypeError",
          "evalue": "'<' not supported between instances of 'str' and 'int'",
          "traceback": [
            "\u001b[0;31m---------------------------------------------------------------------------\u001b[0m",
            "\u001b[0;31mTypeError\u001b[0m                                 Traceback (most recent call last)",
            "\u001b[0;32m<ipython-input-58-cae63d3e072f>\u001b[0m in \u001b[0;36m<cell line: 1>\u001b[0;34m()\u001b[0m\n\u001b[0;32m----> 1\u001b[0;31m \u001b[0mtriangle_area\u001b[0m\u001b[0;34m(\u001b[0m\u001b[0;34m'string'\u001b[0m\u001b[0;34m,\u001b[0m \u001b[0;36m2\u001b[0m\u001b[0;34m)\u001b[0m\u001b[0;34m\u001b[0m\u001b[0;34m\u001b[0m\u001b[0m\n\u001b[0m",
            "\u001b[0;32m<ipython-input-57-937df9dd37ad>\u001b[0m in \u001b[0;36mtriangle_area\u001b[0;34m(base, height)\u001b[0m\n\u001b[1;32m      1\u001b[0m \u001b[0;32mdef\u001b[0m \u001b[0mtriangle_area\u001b[0m\u001b[0;34m(\u001b[0m\u001b[0mbase\u001b[0m\u001b[0;34m,\u001b[0m \u001b[0mheight\u001b[0m\u001b[0;34m)\u001b[0m\u001b[0;34m:\u001b[0m\u001b[0;34m\u001b[0m\u001b[0;34m\u001b[0m\u001b[0m\n\u001b[0;32m----> 2\u001b[0;31m     \u001b[0;32mif\u001b[0m \u001b[0mbase\u001b[0m \u001b[0;34m<\u001b[0m \u001b[0;36m0\u001b[0m \u001b[0;32mor\u001b[0m \u001b[0mheight\u001b[0m \u001b[0;34m<\u001b[0m \u001b[0;36m0\u001b[0m\u001b[0;34m:\u001b[0m\u001b[0;34m\u001b[0m\u001b[0;34m\u001b[0m\u001b[0m\n\u001b[0m\u001b[1;32m      3\u001b[0m         \u001b[0;32mraise\u001b[0m \u001b[0mValueError\u001b[0m\u001b[0;34m(\u001b[0m\u001b[0;34m\"Base and height must be non-negative\"\u001b[0m\u001b[0;34m)\u001b[0m\u001b[0;34m\u001b[0m\u001b[0;34m\u001b[0m\u001b[0m\n\u001b[1;32m      4\u001b[0m     \u001b[0;32mreturn\u001b[0m \u001b[0;36m0.5\u001b[0m \u001b[0;34m*\u001b[0m \u001b[0mbase\u001b[0m \u001b[0;34m*\u001b[0m \u001b[0mheight\u001b[0m\u001b[0;34m\u001b[0m\u001b[0;34m\u001b[0m\u001b[0m\n\u001b[1;32m      5\u001b[0m \u001b[0;34m\u001b[0m\u001b[0m\n",
            "\u001b[0;31mTypeError\u001b[0m: '<' not supported between instances of 'str' and 'int'"
          ]
        }
      ],
      "source": [
        "triangle_area('string', 2)"
      ]
    },
    {
      "cell_type": "code",
      "execution_count": 59,
      "metadata": {
        "id": "P0nGp2aSsw2P",
        "outputId": "ca9ed51f-f4bb-4654-a538-bcdc42932ccc",
        "colab": {
          "base_uri": "https://localhost:8080/"
        }
      },
      "outputs": [
        {
          "output_type": "execute_result",
          "data": {
            "text/plain": [
              "1.0"
            ]
          },
          "metadata": {},
          "execution_count": 59
        }
      ],
      "source": [
        "# add type hint\n",
        "def triangle_area(base: int, height: int):\n",
        "    try:\n",
        "      if base < 0 or height < 0:\n",
        "          raise ValueError(\"Base and height must be non-negative\")\n",
        "      return 0.5 * base * height\n",
        "    except ValueError as error:\n",
        "      print(f\"Error, {error}, Try a different value\")\n",
        "    except Exception as e:\n",
        "      print(f\"Error, {e}\")\n",
        "\n",
        "triangle_area(1, 2)"
      ]
    },
    {
      "cell_type": "code",
      "execution_count": 60,
      "metadata": {
        "id": "roT3sTS4sw2P",
        "outputId": "de24a47b-b78e-4918-b80d-7801928b07eb",
        "colab": {
          "base_uri": "https://localhost:8080/"
        }
      },
      "outputs": [
        {
          "output_type": "stream",
          "name": "stdout",
          "text": [
            "Error, '<' not supported between instances of 'str' and 'int'\n"
          ]
        }
      ],
      "source": [
        "triangle_area('string', 2)"
      ]
    },
    {
      "cell_type": "markdown",
      "metadata": {
        "id": "aHuKMEnHsw2P"
      },
      "source": [
        "(Add-on: )\n",
        "1. Function can have multiple outputs\n",
        "2. Function input can also be a function\n",
        "3. Function input can have default values"
      ]
    },
    {
      "cell_type": "code",
      "execution_count": 61,
      "metadata": {
        "id": "mlurU2dzsw2P",
        "outputId": "2eb2ee16-aefc-41cd-818e-6370127d8bcc",
        "colab": {
          "base_uri": "https://localhost:8080/"
        }
      },
      "outputs": [
        {
          "output_type": "execute_result",
          "data": {
            "text/plain": [
              "(1, 2)"
            ]
          },
          "metadata": {},
          "execution_count": 61
        }
      ],
      "source": [
        "# return multiple outputs\n",
        "def simple(a,b):\n",
        "    return a,b\n",
        "simple(1,2)"
      ]
    },
    {
      "cell_type": "code",
      "execution_count": 62,
      "metadata": {
        "id": "llPiOqCDsw2P",
        "outputId": "b0205dd3-c760-4c83-ea4e-336cbb1c794a",
        "colab": {
          "base_uri": "https://localhost:8080/"
        }
      },
      "outputs": [
        {
          "output_type": "stream",
          "name": "stdout",
          "text": [
            "1\n",
            "2\n"
          ]
        }
      ],
      "source": [
        "x,y = simple(1,2)\n",
        "print(x)\n",
        "print(y)"
      ]
    },
    {
      "cell_type": "code",
      "execution_count": 63,
      "metadata": {
        "id": "pflRHIAXsw2P",
        "outputId": "d1eceb02-ac90-4002-9c72-1b856019c808",
        "colab": {
          "base_uri": "https://localhost:8080/"
        }
      },
      "outputs": [
        {
          "output_type": "execute_result",
          "data": {
            "text/plain": [
              "6"
            ]
          },
          "metadata": {},
          "execution_count": 63
        }
      ],
      "source": [
        "# everything in python is an object, and can be passed into a function\n",
        "def f(x):\n",
        "    return x+2\n",
        "\n",
        "def twice(g,x):\n",
        "    return g(g(x))\n",
        "\n",
        "twice(f,2) # + 4"
      ]
    },
    {
      "cell_type": "code",
      "execution_count": 64,
      "metadata": {
        "id": "RBUz0Ve8sw2P",
        "outputId": "62c06b66-bdb8-4b25-fdb3-820367d6ea81",
        "colab": {
          "base_uri": "https://localhost:8080/"
        }
      },
      "outputs": [
        {
          "output_type": "execute_result",
          "data": {
            "text/plain": [
              "11"
            ]
          },
          "metadata": {},
          "execution_count": 64
        }
      ],
      "source": [
        "def n_apply(f, x, n):\n",
        "    \"\"\"applies f to x n times\"\"\"\n",
        "    for _ in range(n):  # _ is dummy variable in iteration\n",
        "        x = f(x)\n",
        "    return x\n",
        "\n",
        "n_apply(f, 1, 5) # 1 + 2*5"
      ]
    },
    {
      "cell_type": "code",
      "execution_count": 65,
      "metadata": {
        "id": "XhU4W42Esw2P"
      },
      "outputs": [],
      "source": [
        "def g(a, x, b = 0):\n",
        "    return a * x + b"
      ]
    },
    {
      "cell_type": "code",
      "source": [
        "g(1, 1)"
      ],
      "metadata": {
        "id": "Kzdycrnw_UDp",
        "outputId": "1716f9ba-f678-441d-ae7d-ac88bd811f08",
        "colab": {
          "base_uri": "https://localhost:8080/"
        }
      },
      "execution_count": 66,
      "outputs": [
        {
          "output_type": "execute_result",
          "data": {
            "text/plain": [
              "1"
            ]
          },
          "metadata": {},
          "execution_count": 66
        }
      ]
    },
    {
      "cell_type": "code",
      "execution_count": 68,
      "metadata": {
        "id": "WjnX3suOsw2P"
      },
      "outputs": [],
      "source": [
        "def h(a, b, x = 3, y = 2):\n",
        "    return a * x + b * y"
      ]
    },
    {
      "cell_type": "code",
      "execution_count": 69,
      "metadata": {
        "id": "g0If6T8ysw2P",
        "outputId": "c439167d-0e81-4b9a-d4c6-7b70e23baea5",
        "colab": {
          "base_uri": "https://localhost:8080/"
        }
      },
      "outputs": [
        {
          "output_type": "execute_result",
          "data": {
            "text/plain": [
              "4"
            ]
          },
          "metadata": {},
          "execution_count": 69
        }
      ],
      "source": [
        "h(1, 1, y=1) # equivalent to h(1, 1, 3, 1)"
      ]
    },
    {
      "cell_type": "markdown",
      "metadata": {
        "id": "RKt5QD7Csw2P"
      },
      "source": [
        "# Exercise 1\n",
        "\n",
        "(10 minutes)\n",
        "\n",
        "1. Print every power of 2 less than 10,000\n",
        "2. Write a function that takes two inputs, $a$ and $b$ and returns the value of $a+2b$\n",
        "3. Write a function takes a number $n$ as input, and prints all [Fibonacci numbers](https://en.wikipedia.org/wiki/Fibonacci_number) less than $n$"
      ]
    },
    {
      "cell_type": "code",
      "source": [
        "# YOUR CODE HERE\n",
        "# 1.\n",
        "i = 0\n",
        "while 2**i < 10000:\n",
        "  print(2**i)\n",
        "  i += 1\n",
        "\n",
        "print(\"Finished\")"
      ],
      "metadata": {
        "id": "oZL_6hJjQdp8",
        "outputId": "8321f0b9-d786-4898-b518-f2b7f4c8e14b",
        "colab": {
          "base_uri": "https://localhost:8080/"
        }
      },
      "execution_count": 97,
      "outputs": [
        {
          "output_type": "stream",
          "name": "stdout",
          "text": [
            "1\n",
            "2\n",
            "4\n",
            "8\n",
            "16\n",
            "32\n",
            "64\n",
            "128\n",
            "256\n",
            "512\n",
            "1024\n",
            "2048\n",
            "4096\n",
            "8192\n",
            "Finished\n"
          ]
        }
      ]
    },
    {
      "cell_type": "code",
      "execution_count": 99,
      "metadata": {
        "id": "j1x2Jj0Msw2Q",
        "outputId": "21ac3800-ce12-47f4-8c61-0e42af321132",
        "colab": {
          "base_uri": "https://localhost:8080/"
        }
      },
      "outputs": [
        {
          "output_type": "execute_result",
          "data": {
            "text/plain": [
              "5"
            ]
          },
          "metadata": {},
          "execution_count": 99
        }
      ],
      "source": [
        "# YOUR CODE HERE\n",
        "\n",
        "# 2.\n",
        "\n",
        "def f(a, b):\n",
        "  return a + 2*b\n",
        "\n",
        "f(1, 2)"
      ]
    },
    {
      "cell_type": "code",
      "source": [
        "# YOUR CODE HERE\n",
        "\n",
        "# 3.\n",
        "\n",
        "def fibonacci(n):\n",
        "  a = 0\n",
        "  b = 1\n",
        "  print(a)\n",
        "  print(b)\n",
        "  count = a + b\n",
        "  while count < n:\n",
        "    print(count)\n",
        "    a = b\n",
        "    b = count\n",
        "    count = a + b\n",
        "\n",
        "  return\n",
        "\n",
        "fibonacci(100)"
      ],
      "metadata": {
        "id": "Ln6nThcoRDwO",
        "outputId": "560a738b-2ca8-4d34-a75a-9e258de07534",
        "colab": {
          "base_uri": "https://localhost:8080/"
        }
      },
      "execution_count": 102,
      "outputs": [
        {
          "output_type": "stream",
          "name": "stdout",
          "text": [
            "0\n",
            "1\n",
            "1\n",
            "2\n",
            "3\n",
            "5\n",
            "8\n",
            "13\n",
            "21\n",
            "34\n",
            "55\n",
            "89\n"
          ]
        }
      ]
    },
    {
      "cell_type": "markdown",
      "metadata": {
        "id": "8bsCq3-1sw2Q"
      },
      "source": [
        "# Lists\n",
        "\n",
        "A list in Python is an ordered (or indexed) collection of objects"
      ]
    },
    {
      "cell_type": "code",
      "execution_count": 73,
      "metadata": {
        "id": "0_Wra9sVsw2Q",
        "outputId": "93a14e3f-f25c-412f-de1a-b4ef01f1fd13",
        "colab": {
          "base_uri": "https://localhost:8080/"
        }
      },
      "outputs": [
        {
          "output_type": "stream",
          "name": "stdout",
          "text": [
            "['x', 1, 3.5]\n"
          ]
        },
        {
          "output_type": "execute_result",
          "data": {
            "text/plain": [
              "3.5"
            ]
          },
          "metadata": {},
          "execution_count": 73
        }
      ],
      "source": [
        "# can be heterogeneous types\n",
        "a = ['x', 1, 3.5]\n",
        "print(a)\n",
        "a[-1]"
      ]
    },
    {
      "cell_type": "markdown",
      "metadata": {
        "id": "6rwqHGjhsw2Q"
      },
      "source": [
        "You can iterate over lists in a very natural way"
      ]
    },
    {
      "cell_type": "code",
      "execution_count": 74,
      "metadata": {
        "id": "P4vJoipRsw2Q",
        "outputId": "0125ce18-90b1-4ed5-fa28-e4d26edddd4a",
        "colab": {
          "base_uri": "https://localhost:8080/"
        }
      },
      "outputs": [
        {
          "output_type": "stream",
          "name": "stdout",
          "text": [
            "x\n",
            "1\n",
            "3.5\n"
          ]
        }
      ],
      "source": [
        "for word in a:\n",
        "    print(word)"
      ]
    },
    {
      "cell_type": "markdown",
      "metadata": {
        "id": "Ty1qP_BIsw2Q"
      },
      "source": [
        "Python indexing starts at 0."
      ]
    },
    {
      "cell_type": "code",
      "execution_count": 75,
      "metadata": {
        "id": "QJ_xTOEOsw2Q",
        "outputId": "ba8c8f0d-5dc8-4992-af14-b4e555f0188d",
        "colab": {
          "base_uri": "https://localhost:8080/"
        }
      },
      "outputs": [
        {
          "output_type": "execute_result",
          "data": {
            "text/plain": [
              "['x', 'overwritten', 3.5]"
            ]
          },
          "metadata": {},
          "execution_count": 75
        }
      ],
      "source": [
        "# mutable\n",
        "a[1] = \"overwritten\"\n",
        "a"
      ]
    },
    {
      "cell_type": "code",
      "execution_count": 76,
      "metadata": {
        "id": "jgQMYK2Isw2Q",
        "outputId": "29bef86b-62c8-432b-d5a2-7f6387e5a7b3",
        "colab": {
          "base_uri": "https://localhost:8080/"
        }
      },
      "outputs": [
        {
          "output_type": "stream",
          "name": "stdout",
          "text": [
            "[<function f at 0x7ca87b10fd90>, [1, 2, 2.1]]\n"
          ]
        }
      ],
      "source": [
        "#can even put functions and other lists inside of lists!\n",
        "def f(x):\n",
        "    return x\n",
        "\n",
        "b = [f, [1,2,2.1]]\n",
        "print(b)"
      ]
    },
    {
      "cell_type": "markdown",
      "metadata": {
        "id": "0zBiINW-sw2Q"
      },
      "source": [
        "You can `append` method to `lists` class using `.append()` after a object, and do other operations, such as `pop()`, `insert()`, etc."
      ]
    },
    {
      "cell_type": "markdown",
      "metadata": {
        "id": "0U8KaWqSsw2Q"
      },
      "source": [
        "Python terminology:\n",
        "* a list is a \"class\"\n",
        "* the variable `a` is an object, or instance of the class\n",
        "* `append()` is a method"
      ]
    },
    {
      "cell_type": "code",
      "execution_count": 77,
      "metadata": {
        "id": "SihtxW2Xsw2Q",
        "outputId": "d7cd8ffc-c87d-4fd0-cbcc-df0fd9619427",
        "colab": {
          "base_uri": "https://localhost:8080/"
        }
      },
      "outputs": [
        {
          "output_type": "stream",
          "name": "stdout",
          "text": [
            "[0]\n",
            "[0, 1]\n",
            "[0, 1, 2]\n",
            "[0, 1, 2, 3]\n",
            "[0, 1, 2, 3, 4]\n",
            "[0, 1, 2, 3, 4, 5]\n",
            "[0, 1, 2, 3, 4, 5, 6]\n",
            "[0, 1, 2, 3, 4, 5, 6, 7]\n",
            "[0, 1, 2, 3, 4, 5, 6, 7, 8]\n",
            "[0, 1, 2, 3, 4, 5, 6, 7, 8, 9]\n"
          ]
        }
      ],
      "source": [
        "a = []\n",
        "for i in range(10):\n",
        "    a.append(i)\n",
        "    print(a)"
      ]
    },
    {
      "cell_type": "code",
      "source": [
        "a = list(range(10))\n",
        "print(a)"
      ],
      "metadata": {
        "id": "q5Or39-lAHnm",
        "outputId": "30969e2f-af83-4244-c769-d85c83078737",
        "colab": {
          "base_uri": "https://localhost:8080/"
        }
      },
      "execution_count": 78,
      "outputs": [
        {
          "output_type": "stream",
          "name": "stdout",
          "text": [
            "[0, 1, 2, 3, 4, 5, 6, 7, 8, 9]\n"
          ]
        }
      ]
    },
    {
      "cell_type": "code",
      "execution_count": 79,
      "metadata": {
        "id": "DRt8_Veosw2Q",
        "outputId": "abd02fd3-8717-46e3-847a-8f2ed21a998d",
        "colab": {
          "base_uri": "https://localhost:8080/"
        }
      },
      "outputs": [
        {
          "output_type": "stream",
          "name": "stdout",
          "text": [
            "Removed 9, a is now [0, 1, 2, 3, 4, 5, 6, 7, 8]\n",
            "Removed 8, a is now [0, 1, 2, 3, 4, 5, 6, 7]\n",
            "Removed 7, a is now [0, 1, 2, 3, 4, 5, 6]\n",
            "Removed 6, a is now [0, 1, 2, 3, 4, 5]\n",
            "Removed 5, a is now [0, 1, 2, 3, 4]\n",
            "Removed 4, a is now [0, 1, 2, 3]\n",
            "Removed 3, a is now [0, 1, 2]\n",
            "Removed 2, a is now [0, 1]\n",
            "Removed 1, a is now [0]\n",
            "Removed 0, a is now []\n"
          ]
        }
      ],
      "source": [
        "while len(a) > 0:\n",
        "    elt = a.pop()\n",
        "    print(f\"Removed {elt}, a is now {a}\")"
      ]
    },
    {
      "cell_type": "markdown",
      "metadata": {
        "id": "eQNs-Z5nsw2Q"
      },
      "source": [
        " (Add-on):\n",
        "1. How to insert an element at a specific index of list\n",
        "2. How to append all element in a list into another list"
      ]
    },
    {
      "cell_type": "code",
      "execution_count": 80,
      "metadata": {
        "id": "FIIVczLnsw2Q",
        "outputId": "3cf2433c-cfec-4321-b835-b86d3035f15c",
        "colab": {
          "base_uri": "https://localhost:8080/"
        }
      },
      "outputs": [
        {
          "output_type": "stream",
          "name": "stdout",
          "text": [
            "[1, 'new value', 2, 3]\n"
          ]
        }
      ],
      "source": [
        "# Insert a value at a specific index\n",
        "a = [1,2,3]\n",
        "a.insert(1,'new value')\n",
        "print(a)"
      ]
    },
    {
      "cell_type": "code",
      "execution_count": 81,
      "metadata": {
        "id": "ILyVRokqsw2Q",
        "outputId": "beb4c66f-bd6b-45fb-cf28-5f487cefbd1e",
        "colab": {
          "base_uri": "https://localhost:8080/"
        }
      },
      "outputs": [
        {
          "output_type": "execute_result",
          "data": {
            "text/plain": [
              "[1, 2, 3, ['x', 'y']]"
            ]
          },
          "metadata": {},
          "execution_count": 81
        }
      ],
      "source": [
        "a = [1,2,3]\n",
        "b = [\"x\", \"y\"]\n",
        "a.append(b)\n",
        "a"
      ]
    },
    {
      "cell_type": "code",
      "execution_count": 82,
      "metadata": {
        "id": "BHai1T-hsw2Q",
        "outputId": "47789265-ccea-43c5-912f-8dc3903c7ad1",
        "colab": {
          "base_uri": "https://localhost:8080/"
        }
      },
      "outputs": [
        {
          "output_type": "stream",
          "name": "stdout",
          "text": [
            "[1, 2, 3, 'x', 'y']\n"
          ]
        }
      ],
      "source": [
        "# Append all element inside a list into another list\n",
        "a = [1,2,3]\n",
        "b = [\"x\", \"y\"]\n",
        "a.extend(b) #same as a+b\n",
        "print(a)"
      ]
    },
    {
      "cell_type": "code",
      "execution_count": 83,
      "metadata": {
        "id": "gEvhdVFhsw2Q",
        "outputId": "586d41ae-626a-4648-8679-8c199aed6e08",
        "colab": {
          "base_uri": "https://localhost:8080/"
        }
      },
      "outputs": [
        {
          "output_type": "execute_result",
          "data": {
            "text/plain": [
              "[1, 2, 3, 'x', 'y']"
            ]
          },
          "metadata": {},
          "execution_count": 83
        }
      ],
      "source": [
        "a = [1,2,3]\n",
        "b = [\"x\", \"y\"]\n",
        "a+b\n",
        "# looks like string concatenation? We are going to talk more in 2nd lecture about OOP"
      ]
    },
    {
      "cell_type": "markdown",
      "metadata": {
        "id": "IleErd7Xsw2R"
      },
      "source": [
        "Lists in python are only implicitly collections of the objects that constitute them. Setting one array equal to another can lead to unexpected results:"
      ]
    },
    {
      "cell_type": "code",
      "execution_count": 85,
      "metadata": {
        "id": "KhM-BxFAsw2R",
        "outputId": "376c2420-7893-4345-d87c-99097115e9c8",
        "colab": {
          "base_uri": "https://localhost:8080/"
        }
      },
      "outputs": [
        {
          "output_type": "stream",
          "name": "stdout",
          "text": [
            "original a:, [1, 2, 3]\n",
            "original b:, [1, 2, 3]\n",
            "after edit...\n",
            "a:, [1, 2, 3]\n",
            "b:, ['edited', 2, 3]\n"
          ]
        }
      ],
      "source": [
        "a = [1, 2, 3]\n",
        "b = a.copy() # shallow .deepcopy()\n",
        "#b = a\n",
        "print(f\"original a:, {a}\")\n",
        "print(f\"original b:, {b}\")\n",
        "b[0] = \"edited\"\n",
        "print(\"after edit...\")\n",
        "print(f\"a:, {a}\")\n",
        "print(f\"b:, {b}\")"
      ]
    },
    {
      "cell_type": "code",
      "execution_count": null,
      "metadata": {
        "id": "xphvhF_isw2R"
      },
      "outputs": [],
      "source": [
        "a.copy?"
      ]
    },
    {
      "cell_type": "markdown",
      "metadata": {
        "id": "WYq6-aXrsw2R"
      },
      "source": [
        "A list only stores some pointers to locations in your computer's memory: when we wrote `b = a` Python created a new list `b` which shares its entries with `a`.\n",
        "\n",
        "The function `.copy()` will create a completely distinct copy with new objects."
      ]
    },
    {
      "cell_type": "markdown",
      "metadata": {
        "id": "I8yJWgrZsw2R"
      },
      "source": [
        "## List Comprehensions\n",
        "\n",
        "Python's list comprehensions let you create lists in a way that is reminiscent of set notation\n",
        "\n",
        "$$ S = \\{ x^2 ~\\mid~ 0 \\le x \\le 20, x\\mod 3 = 0\\}$$"
      ]
    },
    {
      "cell_type": "code",
      "execution_count": 86,
      "metadata": {
        "id": "dESJelRAsw2R",
        "outputId": "c4e5282e-9aee-4b54-da4e-e5508873dc4d",
        "colab": {
          "base_uri": "https://localhost:8080/"
        }
      },
      "outputs": [
        {
          "output_type": "execute_result",
          "data": {
            "text/plain": [
              "[0, 9, 36, 81, 144, 225, 324]"
            ]
          },
          "metadata": {},
          "execution_count": 86
        }
      ],
      "source": [
        "S= []\n",
        "for x in range(21):\n",
        "    if x % 3 == 0:\n",
        "        S.append(x**2)\n",
        "S"
      ]
    },
    {
      "cell_type": "markdown",
      "metadata": {
        "id": "xz_1WGNUsw2R"
      },
      "source": [
        "Syntax is generally\n",
        "```python3\n",
        "S = [<element> <for statement> <conditional>]\n",
        "```"
      ]
    },
    {
      "cell_type": "code",
      "execution_count": 87,
      "metadata": {
        "id": "Qt6N2xKtsw2R",
        "outputId": "3c4ba8c1-19f5-4164-d6e6-abf8f48ea33e",
        "colab": {
          "base_uri": "https://localhost:8080/"
        }
      },
      "outputs": [
        {
          "output_type": "execute_result",
          "data": {
            "text/plain": [
              "[0, 9, 36, 81, 144, 225, 324]"
            ]
          },
          "metadata": {},
          "execution_count": 87
        }
      ],
      "source": [
        "S = [x**2 for x in range(21) if x % 3 == 0]\n",
        "S"
      ]
    },
    {
      "cell_type": "markdown",
      "metadata": {
        "id": "KdUZsARDsw2R"
      },
      "source": [
        "(Self-study)Try yourself with nested for loop~"
      ]
    },
    {
      "cell_type": "code",
      "execution_count": 88,
      "metadata": {
        "id": "gD1brv5Esw2R",
        "outputId": "5f562dd0-1558-496c-8e15-ed8d22cc5b7f",
        "colab": {
          "base_uri": "https://localhost:8080/"
        }
      },
      "outputs": [
        {
          "output_type": "execute_result",
          "data": {
            "text/plain": [
              "[[0, 0, 0], [0, 1, 1], [1, 0, 1], [1, 1, 0]]"
            ]
          },
          "metadata": {},
          "execution_count": 88
        }
      ],
      "source": [
        "S = []\n",
        "for i in range(2):\n",
        "    for j in range(2):\n",
        "        for k in range(2):\n",
        "            if (i + j + k)%2 == 0:\n",
        "                S += [[i,j,k]]\n",
        "\n",
        "S"
      ]
    },
    {
      "cell_type": "code",
      "execution_count": 89,
      "metadata": {
        "id": "l44Ftt5Gsw2R",
        "outputId": "cfc72fc8-21b0-437b-d8d6-9f33c4cefe70",
        "colab": {
          "base_uri": "https://localhost:8080/"
        }
      },
      "outputs": [
        {
          "output_type": "execute_result",
          "data": {
            "text/plain": [
              "[[0, 0, 0], [0, 1, 1], [1, 0, 1], [1, 1, 0]]"
            ]
          },
          "metadata": {},
          "execution_count": 89
        }
      ],
      "source": [
        "# you aren't restricted to a single for loop\n",
        "S = [[i,j,k] for i in range(2) for j in range(2) for k in range(2) if (i + j + k)%2 == 0]\n",
        "S"
      ]
    },
    {
      "cell_type": "code",
      "execution_count": 90,
      "metadata": {
        "id": "BHiv3Q9msw2R",
        "outputId": "686cbaa5-3291-4141-e6cb-47fc7b6adada",
        "colab": {
          "base_uri": "https://localhost:8080/"
        }
      },
      "outputs": [
        {
          "output_type": "execute_result",
          "data": {
            "text/plain": [
              "['yes', 'no', 'idle']"
            ]
          },
          "metadata": {},
          "execution_count": 90
        }
      ],
      "source": [
        "# you aren't restricted to a single if statement : Ternary operation\n",
        "# s1 if c1 else c2\n",
        "['yes' if v == 1 else 'no' if v == 2 else 'idle' for v in [1,2,3]]"
      ]
    },
    {
      "cell_type": "markdown",
      "metadata": {
        "id": "1_GZSyoNsw2R"
      },
      "source": [
        "# Other Collections\n",
        "\n",
        "We've seen the `list` class, which is ordered/indexed, and mutable.  There are other Python collections that you may find useful:\n",
        "* `tuple` which is ordered/indexed, and immutable\n",
        "* `set` which is unordered/unindexed, mutable, and doesn't allow for duplicate elements\n",
        "* `dict` (dictionary), paired, which is unordered/unindexed, and mutable, with no duplicate keys."
      ]
    },
    {
      "cell_type": "code",
      "execution_count": 91,
      "metadata": {
        "id": "fLh0iniksw2R",
        "outputId": "6aa61c15-5aab-41ea-def2-a86e2c35b383",
        "colab": {
          "base_uri": "https://localhost:8080/",
          "height": 225
        }
      },
      "outputs": [
        {
          "output_type": "stream",
          "name": "stdout",
          "text": [
            "(1, 2, 4)\n"
          ]
        },
        {
          "output_type": "error",
          "ename": "TypeError",
          "evalue": "'tuple' object does not support item assignment",
          "traceback": [
            "\u001b[0;31m---------------------------------------------------------------------------\u001b[0m",
            "\u001b[0;31mTypeError\u001b[0m                                 Traceback (most recent call last)",
            "\u001b[0;32m<ipython-input-91-2fba16f77fa3>\u001b[0m in \u001b[0;36m<cell line: 3>\u001b[0;34m()\u001b[0m\n\u001b[1;32m      1\u001b[0m \u001b[0ma_tuple\u001b[0m \u001b[0;34m=\u001b[0m \u001b[0;34m(\u001b[0m\u001b[0;36m1\u001b[0m\u001b[0;34m,\u001b[0m \u001b[0;36m2\u001b[0m\u001b[0;34m,\u001b[0m \u001b[0;36m4\u001b[0m\u001b[0;34m)\u001b[0m\u001b[0;34m\u001b[0m\u001b[0;34m\u001b[0m\u001b[0m\n\u001b[1;32m      2\u001b[0m \u001b[0mprint\u001b[0m\u001b[0;34m(\u001b[0m\u001b[0ma_tuple\u001b[0m\u001b[0;34m)\u001b[0m\u001b[0;34m\u001b[0m\u001b[0;34m\u001b[0m\u001b[0m\n\u001b[0;32m----> 3\u001b[0;31m \u001b[0ma_tuple\u001b[0m\u001b[0;34m[\u001b[0m\u001b[0;36m0\u001b[0m\u001b[0;34m]\u001b[0m \u001b[0;34m=\u001b[0m \u001b[0;36m1\u001b[0m\u001b[0;34m\u001b[0m\u001b[0;34m\u001b[0m\u001b[0m\n\u001b[0m",
            "\u001b[0;31mTypeError\u001b[0m: 'tuple' object does not support item assignment"
          ]
        }
      ],
      "source": [
        "a_tuple = (1, 2, 4)\n",
        "print(a_tuple)\n",
        "a_tuple[0] = 1"
      ]
    },
    {
      "cell_type": "code",
      "execution_count": 92,
      "metadata": {
        "id": "xwyXS-Aisw2S",
        "outputId": "9b571a08-adbe-474d-e0f3-1857ff58b2a7",
        "colab": {
          "base_uri": "https://localhost:8080/",
          "height": 225
        }
      },
      "outputs": [
        {
          "output_type": "stream",
          "name": "stdout",
          "text": [
            "{2, 3, 5}\n"
          ]
        },
        {
          "output_type": "error",
          "ename": "TypeError",
          "evalue": "'set' object is not subscriptable",
          "traceback": [
            "\u001b[0;31m---------------------------------------------------------------------------\u001b[0m",
            "\u001b[0;31mTypeError\u001b[0m                                 Traceback (most recent call last)",
            "\u001b[0;32m<ipython-input-92-481455a7fe96>\u001b[0m in \u001b[0;36m<cell line: 3>\u001b[0;34m()\u001b[0m\n\u001b[1;32m      1\u001b[0m \u001b[0ma_set\u001b[0m \u001b[0;34m=\u001b[0m \u001b[0;34m{\u001b[0m\u001b[0;36m5\u001b[0m\u001b[0;34m,\u001b[0m \u001b[0;36m3\u001b[0m\u001b[0;34m,\u001b[0m \u001b[0;36m2\u001b[0m\u001b[0;34m,\u001b[0m \u001b[0;36m5.0\u001b[0m\u001b[0;34m}\u001b[0m\u001b[0;34m\u001b[0m\u001b[0;34m\u001b[0m\u001b[0m\n\u001b[1;32m      2\u001b[0m \u001b[0mprint\u001b[0m\u001b[0;34m(\u001b[0m\u001b[0ma_set\u001b[0m\u001b[0;34m)\u001b[0m\u001b[0;34m\u001b[0m\u001b[0;34m\u001b[0m\u001b[0m\n\u001b[0;32m----> 3\u001b[0;31m \u001b[0mprint\u001b[0m\u001b[0;34m(\u001b[0m\u001b[0ma_set\u001b[0m\u001b[0;34m[\u001b[0m\u001b[0;36m0\u001b[0m\u001b[0;34m]\u001b[0m\u001b[0;34m)\u001b[0m\u001b[0;34m\u001b[0m\u001b[0;34m\u001b[0m\u001b[0m\n\u001b[0m",
            "\u001b[0;31mTypeError\u001b[0m: 'set' object is not subscriptable"
          ]
        }
      ],
      "source": [
        "a_set = {5, 3, 2, 5.0}\n",
        "print(a_set)\n",
        "print(a_set[0])"
      ]
    },
    {
      "cell_type": "code",
      "execution_count": 93,
      "metadata": {
        "id": "OwQQwqhcsw2S",
        "outputId": "af7d4272-884b-4224-9f83-85e572a0c049",
        "colab": {
          "base_uri": "https://localhost:8080/"
        }
      },
      "outputs": [
        {
          "output_type": "stream",
          "name": "stdout",
          "text": [
            "After adding 6,   a_set:{2, 3, 5, 6}\n",
            "After removing 6, a_set:{2, 3, 5}\n"
          ]
        }
      ],
      "source": [
        "a_set.add(6) #you can also add all element in a list by using .update()\n",
        "print(f\"After adding 6,   a_set:{a_set}\")\n",
        "a_set.remove(6) #you can also add all element in a list by using minues operator\n",
        "print(f\"After removing 6, a_set:{a_set}\")"
      ]
    },
    {
      "cell_type": "code",
      "execution_count": 94,
      "metadata": {
        "id": "4s-5AqHrsw2S",
        "outputId": "7a9377ee-a771-48e7-c169-1590a9427a79",
        "colab": {
          "base_uri": "https://localhost:8080/"
        }
      },
      "outputs": [
        {
          "output_type": "execute_result",
          "data": {
            "text/plain": [
              "{2: 12, 'key_2': 'str', 'key_3': [13, 'value']}"
            ]
          },
          "metadata": {},
          "execution_count": 94
        }
      ],
      "source": [
        "a_dict = {} # {key0: value0, key1: value1}\n",
        "a_dict[2] = 12 # dict[key] = value\n",
        "a_dict[\"key_2\"] = 'str'\n",
        "a_dict[\"key_3\"] = [13, \"value\"]\n",
        "a_dict"
      ]
    },
    {
      "cell_type": "code",
      "execution_count": 96,
      "metadata": {
        "id": "Z0iiDiV_sw2S",
        "outputId": "60be722c-1bb9-4f30-a6bf-9b8c040e7c8f",
        "colab": {
          "base_uri": "https://localhost:8080/"
        }
      },
      "outputs": [
        {
          "output_type": "stream",
          "name": "stdout",
          "text": [
            "12\n",
            "12\n"
          ]
        }
      ],
      "source": [
        "print(a_dict[2])\n",
        "print(a_dict.get(2))"
      ]
    },
    {
      "cell_type": "code",
      "execution_count": 95,
      "metadata": {
        "id": "8iufgCsqsw2S",
        "outputId": "a0d36aa0-5f2b-4207-d7bd-ff3f0fad818e",
        "colab": {
          "base_uri": "https://localhost:8080/"
        }
      },
      "outputs": [
        {
          "output_type": "execute_result",
          "data": {
            "text/plain": [
              "{2: 'new value', 'key_2': 28, 'key_3': [13, 'value']}"
            ]
          },
          "metadata": {},
          "execution_count": 95
        }
      ],
      "source": [
        "a_dict_copy = {2: 'new value', 'key_2': 28, 'key_3': [13, 'value']}\n",
        "a_dict_copy"
      ]
    },
    {
      "cell_type": "markdown",
      "metadata": {
        "id": "GNM98wxwsw2S"
      },
      "source": [
        "(Optional) More Advanced Collections in Python\n",
        "* [`OrderedDict`](https://docs.python.org/3/library/collections.html#ordereddict-objects) Dict ordered by keys\n",
        "* [`deque`](https://docs.python.org/3/library/collections.html#deque-objects): double-ended queue (generalization of stack and queue)\n",
        "* [`heapq`](https://docs.python.org/3/library/heapq.html) Priority Queue"
      ]
    },
    {
      "cell_type": "markdown",
      "metadata": {
        "id": "R8sWFkdZsw2S"
      },
      "source": [
        "# Exercise 2\n",
        "\n",
        "**Lists**\n",
        "1. Create a list `['a', 'b', 'c']`\n",
        "2. use the `insert()` method to put the element `'d'` at index 1\n",
        "3. use the `remove()` method to delete the element `'b'` in the list\n",
        "\n",
        "**List comprehensions**\n",
        "1. What does the following list contain?\n",
        "```python\n",
        "X = [i for i in range(100)]\n",
        "```\n",
        "2. Interpret the following set as a list comprehension:\n",
        "$S_1 = \\{x\\in X \\mid x\\mod 5 = 2\\}$\n",
        "3. Intepret the following set as a list comprehension: $S_2 = \\{x \\in S_1 \\mid x \\text{ is even}\\}$\n",
        "4. generate the set of all tuples $(x,y)$ where $x\\in S_1$, $y\\in S_2$.\n",
        "\n",
        "**Other Collections**\n",
        "1. Try creating another type of collection\n",
        "2. try iterating over it."
      ]
    },
    {
      "cell_type": "code",
      "execution_count": 103,
      "metadata": {
        "id": "LclejE1csw2S",
        "outputId": "46979382-58c8-49ce-dd98-e7c430dd483d",
        "colab": {
          "base_uri": "https://localhost:8080/"
        }
      },
      "outputs": [
        {
          "output_type": "stream",
          "name": "stdout",
          "text": [
            "['a', 'b', 'c']\n",
            "['a', 'd', 'b', 'c']\n",
            "['a', 'd', 'c']\n"
          ]
        }
      ],
      "source": [
        "l = ['a', 'b', 'c']\n",
        "print(l)\n",
        "l.insert(1, 'd')\n",
        "print(l)\n",
        "l.remove('b')\n",
        "print(l)"
      ]
    },
    {
      "cell_type": "code",
      "source": [
        "X = [i for i in range(100)] # contains numbers from 0 to 99\n",
        "print(X)"
      ],
      "metadata": {
        "id": "84F3w8vnR4b5",
        "outputId": "8521c256-2166-42a3-fd5d-56468d78b7ec",
        "colab": {
          "base_uri": "https://localhost:8080/"
        }
      },
      "execution_count": 104,
      "outputs": [
        {
          "output_type": "stream",
          "name": "stdout",
          "text": [
            "[0, 1, 2, 3, 4, 5, 6, 7, 8, 9, 10, 11, 12, 13, 14, 15, 16, 17, 18, 19, 20, 21, 22, 23, 24, 25, 26, 27, 28, 29, 30, 31, 32, 33, 34, 35, 36, 37, 38, 39, 40, 41, 42, 43, 44, 45, 46, 47, 48, 49, 50, 51, 52, 53, 54, 55, 56, 57, 58, 59, 60, 61, 62, 63, 64, 65, 66, 67, 68, 69, 70, 71, 72, 73, 74, 75, 76, 77, 78, 79, 80, 81, 82, 83, 84, 85, 86, 87, 88, 89, 90, 91, 92, 93, 94, 95, 96, 97, 98, 99]\n"
          ]
        }
      ]
    },
    {
      "cell_type": "code",
      "source": [
        "S1 = [x for x in X if x % 5 == 2]\n",
        "print(S1)"
      ],
      "metadata": {
        "id": "5_wyTlG8R-EI",
        "outputId": "c53be289-91fb-4e3a-9705-8a5535dc4055",
        "colab": {
          "base_uri": "https://localhost:8080/"
        }
      },
      "execution_count": 106,
      "outputs": [
        {
          "output_type": "stream",
          "name": "stdout",
          "text": [
            "[2, 7, 12, 17, 22, 27, 32, 37, 42, 47, 52, 57, 62, 67, 72, 77, 82, 87, 92, 97]\n"
          ]
        }
      ]
    },
    {
      "cell_type": "code",
      "source": [
        "S2 = [x for x in S1 if x % 2 == 0]\n",
        "print(S2)"
      ],
      "metadata": {
        "id": "Gla1KysbSJhZ",
        "outputId": "1ff6cbb8-4c62-4071-fe6c-b7efa8ee688d",
        "colab": {
          "base_uri": "https://localhost:8080/"
        }
      },
      "execution_count": 108,
      "outputs": [
        {
          "output_type": "stream",
          "name": "stdout",
          "text": [
            "[2, 12, 22, 32, 42, 52, 62, 72, 82, 92]\n"
          ]
        }
      ]
    },
    {
      "cell_type": "code",
      "source": [
        "set_tuples = {(x, y) for x in S1 for y in S2}\n",
        "print(set_tuples)"
      ],
      "metadata": {
        "id": "1b6YTLCoSPWA",
        "outputId": "77ab1deb-30af-4636-d025-91eef3cae4e9",
        "colab": {
          "base_uri": "https://localhost:8080/"
        }
      },
      "execution_count": 110,
      "outputs": [
        {
          "output_type": "stream",
          "name": "stdout",
          "text": [
            "{(7, 72), (97, 72), (62, 72), (72, 82), (47, 62), (42, 2), (17, 12), (2, 2), (57, 2), (32, 12), (37, 42), (92, 42), (12, 52), (72, 2), (67, 52), (42, 32), (77, 62), (52, 42), (27, 52), (82, 22), (2, 32), (87, 82), (7, 92), (62, 92), (37, 72), (92, 72), (47, 82), (22, 92), (77, 92), (32, 32), (87, 2), (7, 12), (62, 12), (72, 22), (47, 2), (42, 52), (22, 12), (17, 62), (77, 12), (27, 72), (82, 42), (2, 52), (57, 52), (32, 62), (37, 92), (97, 42), (92, 92), (72, 52), (42, 82), (52, 92), (82, 72), (62, 32), (37, 12), (92, 12), (12, 22), (67, 22), (22, 32), (17, 82), (77, 32), (52, 12), (27, 22), (57, 72), (32, 82), (87, 52), (7, 62), (62, 62), (72, 72), (47, 52), (22, 62), (82, 92), (17, 2), (97, 92), (32, 2), (92, 32), (12, 42), (67, 42), (42, 22), (52, 32), (17, 32), (27, 42), (82, 12), (2, 22), (57, 22), (7, 82), (62, 82), (37, 62), (97, 12), (92, 62), (47, 72), (12, 72), (67, 72), (22, 82), (77, 82), (52, 62), (87, 62), (7, 2), (62, 2), (42, 42), (22, 2), (17, 52), (77, 2), (82, 32), (2, 42), (57, 42), (32, 52), (87, 22), (7, 32), (97, 32), (92, 82), (12, 92), (72, 42), (47, 22), (67, 92), (42, 72), (52, 82), (27, 92), (82, 62), (2, 72), (97, 62), (37, 2), (92, 2), (12, 12), (67, 12), (77, 22), (52, 2), (27, 12), (32, 72), (87, 42), (7, 52), (62, 52), (37, 32), (72, 62), (47, 42), (42, 92), (22, 52), (77, 52), (82, 82), (2, 92), (57, 92), (87, 72), (97, 82), (72, 92), (67, 32), (42, 12), (17, 22), (27, 32), (82, 2), (2, 12), (57, 12), (32, 22), (37, 52), (97, 2), (92, 52), (12, 62), (72, 12), (67, 62), (22, 72), (77, 72), (52, 52), (27, 62), (87, 92), (37, 82), (47, 92), (17, 42), (57, 32), (32, 42), (87, 12), (7, 22), (97, 22), (62, 22), (12, 82), (72, 32), (47, 12), (67, 82), (42, 62), (22, 22), (52, 72), (17, 72), (27, 82), (82, 52), (2, 62), (57, 62), (97, 52), (12, 2), (67, 2), (27, 2), (87, 32), (7, 42), (62, 42), (37, 22), (92, 22), (47, 32), (12, 32), (22, 42), (17, 92), (77, 42), (52, 22), (2, 82), (57, 82), (32, 92)}\n"
          ]
        }
      ]
    },
    {
      "cell_type": "code",
      "source": [
        "d = {0:'a', 1:'b', 2:'c', 3:'d'}\n",
        "for key in d.keys():\n",
        "  print(\"key:\", key, \"val:\", d[key])"
      ],
      "metadata": {
        "id": "130OGYMBSZTZ",
        "outputId": "5107479c-10e7-4ed5-abff-e120b7d4f104",
        "colab": {
          "base_uri": "https://localhost:8080/"
        }
      },
      "execution_count": 111,
      "outputs": [
        {
          "output_type": "stream",
          "name": "stdout",
          "text": [
            "key: 0 val: a\n",
            "key: 1 val: b\n",
            "key: 2 val: c\n",
            "key: 3 val: d\n"
          ]
        }
      ]
    },
    {
      "cell_type": "code",
      "source": [],
      "metadata": {
        "id": "7DaqREcDSpng"
      },
      "execution_count": null,
      "outputs": []
    }
  ],
  "metadata": {
    "kernelspec": {
      "display_name": "Python 3",
      "language": "python",
      "name": "python3"
    },
    "language_info": {
      "codemirror_mode": {
        "name": "ipython",
        "version": 3
      },
      "file_extension": ".py",
      "mimetype": "text/x-python",
      "name": "python",
      "nbconvert_exporter": "python",
      "pygments_lexer": "ipython3",
      "version": "3.9.18"
    },
    "colab": {
      "provenance": [],
      "include_colab_link": true
    }
  },
  "nbformat": 4,
  "nbformat_minor": 0
}