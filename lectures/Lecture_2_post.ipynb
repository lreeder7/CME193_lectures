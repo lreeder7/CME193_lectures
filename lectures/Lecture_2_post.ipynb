{
  "cells": [
    {
      "cell_type": "markdown",
      "metadata": {
        "id": "IognGnwLoIzD"
      },
      "source": [
        "# CME 193 - Lecture 2\n",
        "This class we will cover\n",
        "1. Basics of creating classes and objects\n",
        "2. Basics of NumPy"
      ]
    },
    {
      "cell_type": "markdown",
      "metadata": {
        "id": "KQrw73r58qer"
      },
      "source": [
        "# Classes (Basic Section Start)\n",
        "\n",
        "Classes let you abstract away details while programming."
      ]
    },
    {
      "cell_type": "code",
      "execution_count": 1,
      "metadata": {
        "colab": {
          "base_uri": "https://localhost:8080/"
        },
        "id": "l88N7AeNiiQS",
        "outputId": "ad57d8b7-8ce2-4c1e-f7d9-4d4e28d92e1c"
      },
      "outputs": [
        {
          "output_type": "stream",
          "name": "stdout",
          "text": [
            "5\n",
            "23\n",
            "[1, [2, 3], 4, 5]\n"
          ]
        }
      ],
      "source": [
        "print(2 + 3)\n",
        "print('2' + '3')\n",
        "\n",
        "print([1,[2,3]] + [4, 5] ) # a.extend(b)"
      ]
    },
    {
      "cell_type": "code",
      "execution_count": 2,
      "metadata": {
        "colab": {
          "base_uri": "https://localhost:8080/"
        },
        "id": "QWGcKqmzH5WA",
        "outputId": "03439840-bdb7-4987-ecc6-c6ba2199d67e"
      },
      "outputs": [
        {
          "output_type": "execute_result",
          "data": {
            "text/plain": [
              "[2]"
            ]
          },
          "metadata": {},
          "execution_count": 2
        }
      ],
      "source": [
        "x = []\n",
        "x.append(2)\n",
        "x"
      ]
    },
    {
      "cell_type": "code",
      "execution_count": 3,
      "metadata": {
        "colab": {
          "base_uri": "https://localhost:8080/"
        },
        "id": "iCSWAiaRXkt9",
        "outputId": "0925faaa-2ab9-4542-ca50-2de6f18cd978"
      },
      "outputs": [
        {
          "output_type": "execute_result",
          "data": {
            "text/plain": [
              "list"
            ]
          },
          "metadata": {},
          "execution_count": 3
        }
      ],
      "source": [
        "type(x)"
      ]
    },
    {
      "cell_type": "code",
      "execution_count": 5,
      "metadata": {
        "id": "YEirnTEv8p8o"
      },
      "outputs": [],
      "source": [
        "class Animal:\n",
        "    # constructor __init__\n",
        "    def fun(x):\n",
        "      print(x)\n",
        "    def __init__(self, sound = 'NA'):\n",
        "        self.sound_attribute = sound\n",
        "        print(f\"An Animal class with sound '{sound}' is created\")\n",
        "    # method\n",
        "    def make_sound(self):\n",
        "        print(f\"Sound: {self.sound_attribute}\")\n",
        "\n",
        "    def set_sound(self, newsound):\n",
        "        self.sound_attribute = newsound"
      ]
    },
    {
      "cell_type": "code",
      "execution_count": 6,
      "metadata": {
        "colab": {
          "base_uri": "https://localhost:8080/"
        },
        "id": "Tn2belEg8tOB",
        "outputId": "2f98355d-6975-4efc-ab01-c743d49e3231"
      },
      "outputs": [
        {
          "output_type": "stream",
          "name": "stdout",
          "text": [
            "An Animal class with sound 'Meow' is created\n",
            "An Animal class with sound 'Bark' is created\n"
          ]
        }
      ],
      "source": [
        "cat = Animal(sound = 'Meow')\n",
        "dog = Animal(sound = 'Bark')"
      ]
    },
    {
      "cell_type": "code",
      "execution_count": 7,
      "metadata": {
        "colab": {
          "base_uri": "https://localhost:8080/"
        },
        "id": "IUiBGc2MoLow",
        "outputId": "636dbb9d-3308-461a-fbf6-0c384ac88d38"
      },
      "outputs": [
        {
          "output_type": "stream",
          "name": "stdout",
          "text": [
            "An Animal class with sound 'NA' is created\n"
          ]
        }
      ],
      "source": [
        "cat = Animal()"
      ]
    },
    {
      "cell_type": "code",
      "execution_count": 8,
      "metadata": {
        "id": "wj9z1ZsyoliY"
      },
      "outputs": [],
      "source": [
        "cat.set_sound('MMMM')"
      ]
    },
    {
      "cell_type": "code",
      "execution_count": 9,
      "metadata": {
        "colab": {
          "base_uri": "https://localhost:8080/"
        },
        "id": "lpNmrExno5tP",
        "outputId": "959e5411-ec8e-4e17-8048-26bd745f2800"
      },
      "outputs": [
        {
          "output_type": "stream",
          "name": "stdout",
          "text": [
            "Sound: MMMM\n"
          ]
        }
      ],
      "source": [
        "cat.make_sound()"
      ]
    },
    {
      "cell_type": "code",
      "execution_count": 10,
      "metadata": {
        "colab": {
          "base_uri": "https://localhost:8080/"
        },
        "id": "0Gh8lCf-8Ok6",
        "outputId": "60f058a3-7456-481c-ffe0-f089b9be7df1"
      },
      "outputs": [
        {
          "output_type": "execute_result",
          "data": {
            "text/plain": [
              "(__main__.Animal, __main__.Animal)"
            ]
          },
          "metadata": {},
          "execution_count": 10
        }
      ],
      "source": [
        "type(cat), type(dog)"
      ]
    },
    {
      "cell_type": "code",
      "execution_count": 11,
      "metadata": {
        "colab": {
          "base_uri": "https://localhost:8080/"
        },
        "id": "Qs7s6kKJXhAR",
        "outputId": "48ef48e2-987e-4e10-c24e-b6932cda5e00"
      },
      "outputs": [
        {
          "output_type": "stream",
          "name": "stdout",
          "text": [
            "Sound: MMMM\n",
            "Sound: Bark\n"
          ]
        }
      ],
      "source": [
        "cat.make_sound()\n",
        "dog.make_sound()"
      ]
    },
    {
      "cell_type": "markdown",
      "metadata": {
        "id": "oPv56CsoOkc7"
      },
      "source": [
        "Python use `self` parameter to refer to instance attributes and methods of the class\n",
        "- If an instance called its class method, the method will treat the first arguments as the reference to the instance\n",
        "  - `instance.method(args) = class.method(instance,args)`\n",
        "- `self` refers to the instance of the class (python norm)\n",
        "\n"
      ]
    },
    {
      "cell_type": "code",
      "execution_count": null,
      "metadata": {
        "id": "HdN_JOi-pKPR"
      },
      "outputs": [],
      "source": [
        "#instance.method(args) = class.method(instance,args)"
      ]
    },
    {
      "cell_type": "code",
      "execution_count": 12,
      "metadata": {
        "colab": {
          "base_uri": "https://localhost:8080/"
        },
        "id": "iup5zP6I7gEn",
        "outputId": "00b843c6-69f3-4cfe-9e48-aac3437f16d2"
      },
      "outputs": [
        {
          "output_type": "stream",
          "name": "stdout",
          "text": [
            "class.method(instance,args):\n",
            "\n",
            "Sound: MMMM\n",
            "Sound: Bark\n",
            "\n",
            "\n",
            "instance.method(args):\n",
            "\n",
            "Sound: MMMM\n",
            "Sound: Bark\n"
          ]
        }
      ],
      "source": [
        "print(\"class.method(instance,args):\\n\")\n",
        "Animal.make_sound(cat)\n",
        "Animal.make_sound(dog)\n",
        "\n",
        "# instance.method(args) = class.method(instance,args)\n",
        "print(\"\\n\\ninstance.method(args):\\n\")\n",
        "cat.make_sound()\n",
        "dog.make_sound()"
      ]
    },
    {
      "cell_type": "code",
      "execution_count": 14,
      "metadata": {
        "colab": {
          "base_uri": "https://localhost:8080/"
        },
        "id": "GYQmT7CZO9-P",
        "outputId": "3bca37d3-5104-406f-9e4a-e6bac7b19fa5"
      },
      "outputs": [
        {
          "output_type": "execute_result",
          "data": {
            "text/plain": [
              "[1]"
            ]
          },
          "metadata": {},
          "execution_count": 14
        }
      ],
      "source": [
        "# instance.method(args) = class.method(instance, args)\n",
        "'''\n",
        "class list:\n",
        "  def __init__(self, ...):\n",
        "      ...\n",
        "  def append(self, args):\n",
        "      # append the args to the instance self\n",
        "'''\n",
        "\n",
        "x = []\n",
        "list.append(x, 1) #class.method(instance, args)\n",
        "x\n",
        "\n",
        "# self argument equals to x\n",
        "# self is the thing goes to the front of arguments\n",
        "# can be replaced with anything, but it’s like a explicit rule in python"
      ]
    },
    {
      "cell_type": "code",
      "execution_count": 13,
      "metadata": {
        "colab": {
          "base_uri": "https://localhost:8080/"
        },
        "id": "Jj8b3cp5OiN0",
        "outputId": "52834dc9-85ba-44b5-d4cb-5350fa44ba26"
      },
      "outputs": [
        {
          "output_type": "stream",
          "name": "stdout",
          "text": [
            "<class 'list'>\n"
          ]
        },
        {
          "output_type": "execute_result",
          "data": {
            "text/plain": [
              "[1]"
            ]
          },
          "metadata": {},
          "execution_count": 13
        }
      ],
      "source": [
        "# list class\n",
        "x = []\n",
        "print(type(x))\n",
        "x.append(1) #instance.method(args)\n",
        "x"
      ]
    },
    {
      "cell_type": "markdown",
      "metadata": {
        "id": "wkHZ1UkCoIzF"
      },
      "source": [
        "## Bank Account example to illustrate Classes and Objects"
      ]
    },
    {
      "cell_type": "code",
      "execution_count": 15,
      "metadata": {
        "id": "mGm58HkzoIzF"
      },
      "outputs": [],
      "source": [
        "debits = []\n",
        "credits = []"
      ]
    },
    {
      "cell_type": "code",
      "execution_count": 16,
      "metadata": {
        "id": "mLokThuwoIzG"
      },
      "outputs": [],
      "source": [
        "def add_to_debits(debits_list, value):\n",
        "    debits_list.append(value)"
      ]
    },
    {
      "cell_type": "code",
      "execution_count": 17,
      "metadata": {
        "id": "PUGdA_ZcoIzH"
      },
      "outputs": [],
      "source": [
        "def add_to_credits(credits_list, value):\n",
        "    credits_list.append(value)"
      ]
    },
    {
      "cell_type": "code",
      "execution_count": 18,
      "metadata": {
        "id": "SOADIckuoIzH"
      },
      "outputs": [],
      "source": [
        "add_to_debits(debits,10)\n",
        "add_to_debits(debits,15)\n",
        "add_to_debits(debits,100)\n",
        "\n",
        "add_to_credits(credits, 100)"
      ]
    },
    {
      "cell_type": "code",
      "execution_count": 19,
      "metadata": {
        "colab": {
          "base_uri": "https://localhost:8080/"
        },
        "id": "U8l2jl08oIzI",
        "outputId": "896e4b8d-3a21-423e-e8f4-8c2b9d5c69a9"
      },
      "outputs": [
        {
          "output_type": "execute_result",
          "data": {
            "text/plain": [
              "[10, 15, 100]"
            ]
          },
          "metadata": {},
          "execution_count": 19
        }
      ],
      "source": [
        "debits"
      ]
    },
    {
      "cell_type": "code",
      "execution_count": 20,
      "metadata": {
        "colab": {
          "base_uri": "https://localhost:8080/"
        },
        "id": "Kd1b6ZmjjqbV",
        "outputId": "7fa343e6-9df2-478e-b0fa-475eaf89f686"
      },
      "outputs": [
        {
          "output_type": "execute_result",
          "data": {
            "text/plain": [
              "[100]"
            ]
          },
          "metadata": {},
          "execution_count": 20
        }
      ],
      "source": [
        "credits"
      ]
    },
    {
      "cell_type": "code",
      "execution_count": 21,
      "metadata": {
        "id": "ABE-wi-nhTLn"
      },
      "outputs": [],
      "source": [
        "def total_value(debits, credits):\n",
        "    total =0\n",
        "    for val in debits:\n",
        "        total+=val\n",
        "    for val in credits:\n",
        "        total-=val\n",
        "    return total"
      ]
    },
    {
      "cell_type": "code",
      "execution_count": 22,
      "metadata": {
        "colab": {
          "base_uri": "https://localhost:8080/"
        },
        "id": "TvW4M43-oIzJ",
        "outputId": "82913551-339b-49ed-d42a-58f5c72954c8"
      },
      "outputs": [
        {
          "output_type": "execute_result",
          "data": {
            "text/plain": [
              "25"
            ]
          },
          "metadata": {},
          "execution_count": 22
        }
      ],
      "source": [
        "total_value(debits, credits)"
      ]
    },
    {
      "cell_type": "markdown",
      "metadata": {
        "id": "nbLxu15783io"
      },
      "source": [
        "Problem -> Not Scale Up Well!  What if we have 100 users? What if each user needs another \"saving account\"?"
      ]
    },
    {
      "cell_type": "markdown",
      "metadata": {
        "id": "w05Fj6sQoIzK"
      },
      "source": [
        "## Lets use Classes and Objects"
      ]
    },
    {
      "cell_type": "markdown",
      "metadata": {
        "id": "ZUoG0mtFQhCG"
      },
      "source": [
        "#### 1. Initialize a class"
      ]
    },
    {
      "cell_type": "code",
      "execution_count": 23,
      "metadata": {
        "id": "eGKMfcZboIzK"
      },
      "outputs": [],
      "source": [
        "class Account:\n",
        "    def __init__(self):\n",
        "      self.debits = []\n",
        "      self.credits = []"
      ]
    },
    {
      "cell_type": "code",
      "execution_count": 24,
      "metadata": {
        "colab": {
          "base_uri": "https://localhost:8080/"
        },
        "id": "N7tLXVncPJUR",
        "outputId": "5708a929-c9b5-4cc0-c7dc-c243c1e7b7da"
      },
      "outputs": [
        {
          "output_type": "stream",
          "name": "stdout",
          "text": [
            "[]\n",
            "[]\n"
          ]
        }
      ],
      "source": [
        "a1 = Account()\n",
        "print(a1.debits)\n",
        "print(a1.credits)"
      ]
    },
    {
      "cell_type": "code",
      "execution_count": 25,
      "metadata": {
        "colab": {
          "base_uri": "https://localhost:8080/"
        },
        "id": "3BwFg-mWPJXI",
        "outputId": "142c98df-0c09-443e-9365-03a60c6d3e4e"
      },
      "outputs": [
        {
          "output_type": "stream",
          "name": "stdout",
          "text": [
            "[]\n",
            "[]\n"
          ]
        }
      ],
      "source": [
        "a2 = Account()\n",
        "print(a2.debits)\n",
        "print(a2.credits)"
      ]
    },
    {
      "cell_type": "markdown",
      "metadata": {
        "id": "hsPlAOT3QkKB"
      },
      "source": [
        "#### 2. Add methods"
      ]
    },
    {
      "cell_type": "code",
      "execution_count": null,
      "metadata": {
        "id": "sYwGSZMMsdPG"
      },
      "outputs": [],
      "source": [
        "a1= {\n",
        "    'debits' : [],\n",
        "    'credits' : []\n",
        "}"
      ]
    },
    {
      "cell_type": "code",
      "execution_count": 27,
      "metadata": {
        "id": "kV1YdzqhQfQG"
      },
      "outputs": [],
      "source": [
        "class Account:\n",
        "    # a class attributes\n",
        "    accounts = []\n",
        "    def __init__(self):\n",
        "      # instance attributes\n",
        "      self.debits = []\n",
        "      self.credits = []\n",
        "\n",
        "      # store all existing user account to a shared class attribute\n",
        "      Account.accounts += [self]\n",
        "\n",
        "    def add_to_credits(self, value):\n",
        "      self.credits.append(value)\n",
        "\n",
        "    def add_to_debits(self, value):\n",
        "      self.debits.append(value)\n",
        "\n",
        "    def total_value(self):\n",
        "      total = 0\n",
        "      total += sum(self.debits)\n",
        "      total -= sum(self.credits)\n",
        "      return total"
      ]
    },
    {
      "cell_type": "code",
      "execution_count": 28,
      "metadata": {
        "colab": {
          "base_uri": "https://localhost:8080/"
        },
        "id": "d4gyI46xQm4K",
        "outputId": "9388d694-c222-46e2-fd6a-f91dff70c4da"
      },
      "outputs": [
        {
          "output_type": "stream",
          "name": "stdout",
          "text": [
            "a1.credits:[]\n",
            "a2.credits:[]\n",
            "\n",
            "a1.credits:[10]\n",
            "a2.credits:[]\n"
          ]
        }
      ],
      "source": [
        "a1 = Account()\n",
        "a2 = Account()\n",
        "\n",
        "print(f\"a1.credits:{a1.credits}\")\n",
        "print(f\"a2.credits:{a2.credits}\\n\")\n",
        "\n",
        "a1.add_to_credits(10)\n",
        "\n",
        "print(f\"a1.credits:{a1.credits}\")\n",
        "print(f\"a2.credits:{a2.credits}\")"
      ]
    },
    {
      "cell_type": "code",
      "execution_count": 29,
      "metadata": {
        "colab": {
          "base_uri": "https://localhost:8080/"
        },
        "id": "MIGN-S9iTTd9",
        "outputId": "2d1e61c2-16dd-4bfe-9c18-caa966deb5d5"
      },
      "outputs": [
        {
          "output_type": "stream",
          "name": "stdout",
          "text": [
            "a1.debits:[40]\n",
            "a2.debits:[10]\n"
          ]
        }
      ],
      "source": [
        "a1.add_to_debits(40)\n",
        "a2.add_to_debits(10)\n",
        "\n",
        "print(f\"a1.debits:{a1.debits}\")\n",
        "print(f\"a2.debits:{a2.debits}\")"
      ]
    },
    {
      "cell_type": "code",
      "execution_count": 30,
      "metadata": {
        "colab": {
          "base_uri": "https://localhost:8080/"
        },
        "id": "myYKuSdOTK-l",
        "outputId": "37122b77-dd51-4a4b-d6f0-342fbaa36d93"
      },
      "outputs": [
        {
          "output_type": "stream",
          "name": "stdout",
          "text": [
            "a1 total value:30\n",
            "a2 total value:10\n"
          ]
        }
      ],
      "source": [
        "print(f\"a1 total value:{a1.total_value()}\")\n",
        "print(f\"a2 total value:{a2.total_value()}\")"
      ]
    },
    {
      "cell_type": "code",
      "execution_count": 31,
      "metadata": {
        "colab": {
          "base_uri": "https://localhost:8080/"
        },
        "id": "JVHBJiSfaJWg",
        "outputId": "66da45f4-2e0f-4f2a-c9d3-0eecef6530e4"
      },
      "outputs": [
        {
          "output_type": "execute_result",
          "data": {
            "text/plain": [
              "[<__main__.Account at 0x7d9ead3273d0>, <__main__.Account at 0x7d9ead325390>]"
            ]
          },
          "metadata": {},
          "execution_count": 31
        }
      ],
      "source": [
        "Account.accounts"
      ]
    },
    {
      "cell_type": "code",
      "execution_count": 32,
      "metadata": {
        "colab": {
          "base_uri": "https://localhost:8080/"
        },
        "id": "FDmuuM3RaKQs",
        "outputId": "730bef8e-2444-430a-c8a2-666ef58af710"
      },
      "outputs": [
        {
          "output_type": "execute_result",
          "data": {
            "text/plain": [
              "<__main__.Account at 0x7d9ead325390>"
            ]
          },
          "metadata": {},
          "execution_count": 32
        }
      ],
      "source": [
        "a1.accounts.pop()"
      ]
    },
    {
      "cell_type": "code",
      "execution_count": 33,
      "metadata": {
        "colab": {
          "base_uri": "https://localhost:8080/"
        },
        "id": "qmaz_IP1aMiz",
        "outputId": "108765ec-815f-4bb2-8692-5f6f3a66d20a"
      },
      "outputs": [
        {
          "output_type": "execute_result",
          "data": {
            "text/plain": [
              "[<__main__.Account at 0x7d9ead3273d0>]"
            ]
          },
          "metadata": {},
          "execution_count": 33
        }
      ],
      "source": [
        "a2.accounts"
      ]
    },
    {
      "cell_type": "markdown",
      "metadata": {
        "id": "BXiBtVQ5yBD-"
      },
      "source": [
        "## (Basic Section End)"
      ]
    },
    {
      "cell_type": "markdown",
      "metadata": {
        "id": "kGxbNjgroIzK"
      },
      "source": [
        "## Exercise 1 (2 min)\n",
        "\n",
        "### Add more functionality to the account class\n",
        "\n",
        "1. Add a check before credits account to ensure funds are available (make sure the total_value is always non-negative). Return True if it is a valid transaction, otherwise return False\n",
        "\n",
        "2. Add a `transfer` function to your account class, which transfers money form one account to another.It should add to the debits of one account and to the credits of the other."
      ]
    },
    {
      "cell_type": "code",
      "execution_count": 35,
      "metadata": {
        "id": "c4uPkjdgGLzj"
      },
      "outputs": [],
      "source": [
        "class Account:\n",
        "    accounts = []\n",
        "    def __init__(self):\n",
        "      self.debits = []\n",
        "      self.credits = []\n",
        "      Account.accounts += [self]\n",
        "\n",
        "    def add_to_credits(self, value):\n",
        "      # TODO: implement 1.\n",
        "      if value <= self.total_value():\n",
        "        self.credits.append(value)\n",
        "        return True\n",
        "      else:\n",
        "        print(\"Insufficient funds.\")\n",
        "        return False\n",
        "\n",
        "    def add_to_debits(self, value):\n",
        "      self.debits.append(value)\n",
        "\n",
        "    def total_value(self):\n",
        "      self.guess = 'Take a guess'\n",
        "      total = 0\n",
        "      total += sum(self.debits)\n",
        "      total -= sum(self.credits)\n",
        "      return total\n",
        "\n",
        "    def transfer(self, other, value:int):\n",
        "      # TODO: implement 2.\n",
        "      if self.add_to_credits(value):\n",
        "        other.add_to_debits(value)"
      ]
    },
    {
      "cell_type": "code",
      "execution_count": 36,
      "metadata": {
        "colab": {
          "base_uri": "https://localhost:8080/"
        },
        "id": "8TG2RfIkH-nQ",
        "outputId": "3ba0b109-9ad5-4dda-8fd4-da7468e07263"
      },
      "outputs": [
        {
          "output_type": "stream",
          "name": "stdout",
          "text": [
            "Insufficient funds.\n",
            "a1 total value:40\n",
            "a2 total value:10\n"
          ]
        }
      ],
      "source": [
        "# Test Code:\n",
        "a1 = Account()\n",
        "a2 = Account()\n",
        "a1.add_to_credits(10)\n",
        "a1.add_to_debits(40)\n",
        "a2.add_to_debits(10)\n",
        "\n",
        "print(f\"a1 total value:{a1.total_value()}\")\n",
        "print(f\"a2 total value:{a2.total_value()}\")"
      ]
    },
    {
      "cell_type": "code",
      "execution_count": 37,
      "metadata": {
        "id": "mFfwSnpXHpNt"
      },
      "outputs": [],
      "source": [
        "a1.transfer(a2, 10)"
      ]
    },
    {
      "cell_type": "code",
      "execution_count": 38,
      "metadata": {
        "colab": {
          "base_uri": "https://localhost:8080/"
        },
        "id": "aNFgBfcVIG9G",
        "outputId": "f66815b0-c3f7-4aa4-e2e6-bdc4c14c7afa"
      },
      "outputs": [
        {
          "output_type": "stream",
          "name": "stdout",
          "text": [
            "a1 total value:30\n",
            "a2 total value:20\n"
          ]
        }
      ],
      "source": [
        "print(f\"a1 total value:{a1.total_value()}\")\n",
        "print(f\"a2 total value:{a2.total_value()}\")"
      ]
    },
    {
      "cell_type": "markdown",
      "metadata": {
        "id": "5GJRzKoccbII"
      },
      "source": [
        "## Example: Rational Numbers\n",
        "\n",
        "Here we'l make a class that holds rational numbers (fractions).  That is, numbers of the form\n",
        "$$r = \\frac{p}{q}$$\n",
        "where $p$ and $q$ are integers"
      ]
    },
    {
      "cell_type": "code",
      "execution_count": 39,
      "metadata": {
        "id": "KigjlUBlcbII"
      },
      "outputs": [],
      "source": [
        "import math\n",
        "class Rational:\n",
        "    def __init__(self, p, q=1):\n",
        "        if q == 0:\n",
        "            raise ValueError('Denominator must not be zero')\n",
        "        if not isinstance(p, int):\n",
        "            raise ValueError('Numerator must be an integer')\n",
        "        if not isinstance(q, int):\n",
        "            raise ValueError('Denominator must be an integer')\n",
        "\n",
        "        g = math.gcd(p, q)\n",
        "\n",
        "        self.p = p // g # integer division\n",
        "        self.q = q // g\n",
        "\n",
        "\n",
        "    # method to convert rational to string for printing\n",
        "    def __str__(self):\n",
        "        return f'{self.p}/{self.q}, I am a rational number :-)'\n",
        "\n",
        "    def __repr__(self): #printable representation\n",
        "        return f'Rational({self.p}, {self.q}), :-('\n",
        "\n",
        "    # method to convert rational to float\n",
        "    def __float__(self):\n",
        "        return self.p / self.q\n"
      ]
    },
    {
      "cell_type": "code",
      "execution_count": 40,
      "metadata": {
        "colab": {
          "base_uri": "https://localhost:8080/"
        },
        "id": "YQNT2Y_KcbII",
        "outputId": "641388eb-003c-47ec-89f6-21cae22a9aa9"
      },
      "outputs": [
        {
          "output_type": "stream",
          "name": "stdout",
          "text": [
            "<class '__main__.Rational'>\n",
            "a = 3/2, I am a rational number :-)\n",
            "b = 3/2, I am a rational number :-)\n",
            "[Rational(3, 2), :-(, Rational(3, 2), :-(]\n",
            "float(a) = 1.5\n"
          ]
        }
      ],
      "source": [
        "a = Rational(6, 4)\n",
        "b = Rational(3, 2)\n",
        "\n",
        "print(type(a))\n",
        "print(f\"a = {a}\")\n",
        "print(f\"b = {b}\")\n",
        "print([a,b])\n",
        "print(f\"float(a) = {float(a)}\")"
      ]
    },
    {
      "cell_type": "code",
      "execution_count": 41,
      "metadata": {
        "colab": {
          "base_uri": "https://localhost:8080/",
          "height": 244
        },
        "id": "yfy9LgkBcbII",
        "outputId": "6d3a1374-8471-44f7-d8e6-dc49065e8475"
      },
      "outputs": [
        {
          "output_type": "error",
          "ename": "TypeError",
          "evalue": "unsupported operand type(s) for +: 'Rational' and 'Rational'",
          "traceback": [
            "\u001b[0;31m---------------------------------------------------------------------------\u001b[0m",
            "\u001b[0;31mTypeError\u001b[0m                                 Traceback (most recent call last)",
            "\u001b[0;32m<ipython-input-41-422ce53522d9>\u001b[0m in \u001b[0;36m<cell line: 1>\u001b[0;34m()\u001b[0m\n\u001b[0;32m----> 1\u001b[0;31m \u001b[0ma\u001b[0m \u001b[0;34m+\u001b[0m \u001b[0mb\u001b[0m\u001b[0;34m\u001b[0m\u001b[0;34m\u001b[0m\u001b[0m\n\u001b[0m\u001b[1;32m      2\u001b[0m \u001b[0;31m# We need Magic Method!!\u001b[0m\u001b[0;34m\u001b[0m\u001b[0;34m\u001b[0m\u001b[0m\n",
            "\u001b[0;31mTypeError\u001b[0m: unsupported operand type(s) for +: 'Rational' and 'Rational'"
          ]
        }
      ],
      "source": [
        "a + b\n",
        "# We need Magic Method!!"
      ]
    },
    {
      "cell_type": "markdown",
      "metadata": {
        "id": "dk7TisoTaokx"
      },
      "source": [
        "## Plus Operation: `__add__`\n"
      ]
    },
    {
      "cell_type": "code",
      "execution_count": 42,
      "metadata": {
        "colab": {
          "base_uri": "https://localhost:8080/"
        },
        "id": "IhP4zvd5aso7",
        "outputId": "734f400a-e8fb-4d75-b888-82fec90707ff"
      },
      "outputs": [
        {
          "output_type": "stream",
          "name": "stdout",
          "text": [
            "5\n",
            "5\n",
            "5\n"
          ]
        }
      ],
      "source": [
        "a = 2\n",
        "b = 3\n",
        "print(a + b)\n",
        "#instance.method(args) = class.method(instance,args)\n",
        "print(a.__add__(b))\n",
        "print(int.__add__(a,b))"
      ]
    },
    {
      "cell_type": "code",
      "execution_count": 43,
      "metadata": {
        "colab": {
          "base_uri": "https://localhost:8080/"
        },
        "id": "pHtrEr562y2y",
        "outputId": "f9bb4e05-9e10-4381-e812-fbafbbefa4dc"
      },
      "outputs": [
        {
          "output_type": "stream",
          "name": "stdout",
          "text": [
            "[1, 2, 3, 4]\n",
            "[1, 2, 3, 4]\n"
          ]
        }
      ],
      "source": [
        "# For example:\n",
        "a = [1,2]\n",
        "b = [3,4]\n",
        "#a + b\n",
        "print(a.__add__(b))\n",
        "print(list.__add__(a,b))"
      ]
    },
    {
      "cell_type": "markdown",
      "metadata": {
        "id": "mtrDP4pSoIzL"
      },
      "source": [
        "## Example: Rational Numbers\n",
        "\n",
        "Let's continue with our example of rational numbers (fractions), that is, numbers of the form\n",
        "$$r = \\frac{p}{q}$$\n",
        "where $p$ and $q$ are integers. Let's make it support addition using the formula:\n",
        "$$ \\frac{p_1}{q_1} + \\frac{p_2}{q_2} = \\frac{p_1 q_2 + p_2 q_1}{q_1 q_2}$$"
      ]
    },
    {
      "cell_type": "code",
      "execution_count": 44,
      "metadata": {
        "id": "ChVijOL6oIzM"
      },
      "outputs": [],
      "source": [
        "import math\n",
        "from typing import Union\n",
        "class Rational:\n",
        "    def __init__(self, p, q=1):\n",
        "\n",
        "        if q == 0:\n",
        "            raise ValueError('Denominator must not be zero')\n",
        "        if not isinstance(p, int):\n",
        "            raise TypeError('Numerator must be an integer')\n",
        "        if not isinstance(q, int):\n",
        "            raise TypeError('Denominator must be an integer')\n",
        "\n",
        "        g = math.gcd(p, q)\n",
        "\n",
        "        self.p = p // g\n",
        "        self.q = q // g\n",
        "\n",
        "    # method to convert rational to float\n",
        "    def __float__(self):\n",
        "        return float(self.p) / float(self.q)\n",
        "\n",
        "    # method to convert rational to string for printing\n",
        "    def __str__(self):\n",
        "        return '%d / %d' % (self.p, self.q)\n",
        "\n",
        "    # method to add two rationals - interprets self + other\n",
        "    def __add__(self, other: Union[Rational, int, float]):\n",
        "        #Return whether an object is an instance of a class or of a subclass thereof.\n",
        "        if isinstance(other, Rational):\n",
        "            return Rational(self.p * other.q + other.p * self.q, self.q * other.q)\n",
        "        # -- if it's an integer...\n",
        "        elif isinstance(other, int):\n",
        "            return Rational(self.p + other * self.q, self.q)\n",
        "        # -- otherwise, we assume it will be a float\n",
        "        return float(self) + float(other)\n",
        "\n",
        "    def __radd__(self, other): # interprets other + self\n",
        "       return self + other # addition commutes!\n"
      ]
    },
    {
      "cell_type": "code",
      "execution_count": 45,
      "metadata": {
        "colab": {
          "base_uri": "https://localhost:8080/"
        },
        "id": "rhwv3QLgoIzN",
        "outputId": "776cc8bc-01bd-469a-c504-589467b4ae9c"
      },
      "outputs": [
        {
          "output_type": "stream",
          "name": "stdout",
          "text": [
            "3 / 4\n",
            "5 / 2\n"
          ]
        }
      ],
      "source": [
        "r1 = Rational(3,4)\n",
        "print(r1)\n",
        "r2 = Rational(5,2)\n",
        "print(r2)"
      ]
    },
    {
      "cell_type": "code",
      "execution_count": 46,
      "metadata": {
        "colab": {
          "base_uri": "https://localhost:8080/"
        },
        "id": "fh0gwssaoIzN",
        "outputId": "3ec49eb1-1e6e-40b6-84d4-4f2a424269ff"
      },
      "outputs": [
        {
          "output_type": "stream",
          "name": "stdout",
          "text": [
            "<class '__main__.Rational'>\n",
            "13 / 4\n",
            "3.25\n"
          ]
        }
      ],
      "source": [
        "r3 = r1 + r2\n",
        "print( type(r3) )\n",
        "print( r3 )\n",
        "print( float( r3 ))"
      ]
    },
    {
      "cell_type": "code",
      "execution_count": 47,
      "metadata": {
        "colab": {
          "base_uri": "https://localhost:8080/"
        },
        "id": "5ap2xE5BoIzO",
        "outputId": "6e613d53-e4b6-4de3-aa10-367dd243a408"
      },
      "outputs": [
        {
          "output_type": "stream",
          "name": "stdout",
          "text": [
            "15 / 4\n"
          ]
        }
      ],
      "source": [
        " #left add\n",
        "print( r1 + 3 )\n",
        "\n",
        "#Rational.__add__(self, other)"
      ]
    },
    {
      "cell_type": "code",
      "execution_count": 48,
      "metadata": {
        "colab": {
          "base_uri": "https://localhost:8080/"
        },
        "id": "NKMXF4p5oIzO",
        "outputId": "bbe454d4-4181-4c5c-d4c6-c4dc072c188a"
      },
      "outputs": [
        {
          "output_type": "stream",
          "name": "stdout",
          "text": [
            "15 / 4\n"
          ]
        }
      ],
      "source": [
        "#right add\n",
        "print( 3 + r1 )\n",
        "\n",
        "# (3).__add__(r1) if failed\n",
        "# r1.__radd__(3)"
      ]
    },
    {
      "cell_type": "markdown",
      "metadata": {
        "id": "433NNh_loIzO"
      },
      "source": [
        "# Exercise 2 (Post-Lecture)\n",
        "More about magic method: Magic Method : https://python-course.eu/oop/magic-methods.php\n",
        "### Add more operations to `Rational`\n",
        "You can read about the available operations that you can overload [here](https://docs.python.org/3.7/reference/datamodel.html#emulating-numeric-types)\n",
        "\n",
        "Add the following operations to the `Rational` class:\n",
        "* `*` - use `__mul__`\n",
        "* `/` - use `__truediv__`\n",
        "* `-` - use `__sub__`\n",
        "\n",
        "You only need to define these operations between two `Rational` types - use an `if isinstance(other, Rational):` block.\n",
        "\n",
        "Make a few examples to convince yourself that this works.\n",
        "\n"
      ]
    },
    {
      "cell_type": "code",
      "execution_count": 100,
      "metadata": {
        "id": "xvvBQoL6oIzP"
      },
      "outputs": [],
      "source": [
        "# YOUR CODE HERE\n",
        "# Solution\n",
        "class Rational:\n",
        "    def __init__(self, p, q=1):\n",
        "\n",
        "        if q == 0:\n",
        "            raise ValueError('Denominator must not be zero')\n",
        "        if not isinstance(p, int):\n",
        "            raise TypeError('Numerator must be an integer')\n",
        "        if not isinstance(q, int):\n",
        "            raise TypeError('Denominator must be an integer')\n",
        "\n",
        "        g = math.gcd(p, q)\n",
        "\n",
        "        self.p = p // g\n",
        "        self.q = q // g\n",
        "\n",
        "    # method to convert rational to float\n",
        "    def __float__(self):\n",
        "        return float(self.p) / float(self.q)\n",
        "\n",
        "    # method to convert rational to string for printing\n",
        "    def __str__(self):\n",
        "        return '%d / %d' % (self.p, self.q)\n",
        "\n",
        "    def __repr__(self):\n",
        "        return str(self)\n",
        "\n",
        "    # method to add two rationals - interprets self + other\n",
        "    def __add__(self, other):\n",
        "        if isinstance(other, Rational):\n",
        "            return Rational(self.p * other.q + other.p * self.q, self.q * other.q)\n",
        "        # -- if it's an integer...\n",
        "        elif isinstance(other, int):\n",
        "            return Rational(self.p + other * self.q, self.q)\n",
        "        # -- otherwise, we assume it will be a float\n",
        "        return float(self) + float(other)\n",
        "\n",
        "    def __radd__(self, other): # interprets other + self\n",
        "        return self + other # addition commutes!\n",
        "\n",
        "    # subtraction\n",
        "    def __sub__(self, other):\n",
        "        if isinstance(other, Rational):\n",
        "            return self + Rational(-other.p,other.q)\n",
        "        elif isinstance(other, int):\n",
        "            return self + (-other)\n",
        "        # otherwise, assume float\n",
        "        return float(self) - float(other)\n",
        "\n",
        "\n",
        "    # multiplication\n",
        "    def __mul__(self, other):\n",
        "        if isinstance(other, Rational):\n",
        "            return Rational(self.p*other.p,self.q*other.q)\n",
        "        elif isinstance(other, int):\n",
        "            return Rational(self.p*other,self.q)\n",
        "        # otherwise, assume float\n",
        "        return float(self) * float(other)\n",
        "\n",
        "    # division\n",
        "    def __truediv__(self, other):\n",
        "        if isinstance(other, Rational):\n",
        "            return Rational(self.p*other.q,self.q*other.p)\n",
        "        elif isinstance(other, int):\n",
        "            return Rational(self.p,self.q*other)\n",
        "        return float(self) / float(other)\n",
        "\n",
        "    def __rmul__(self, other):\n",
        "        return self*other;"
      ]
    },
    {
      "cell_type": "code",
      "execution_count": 101,
      "metadata": {
        "id": "y3UfuhuKoIzP",
        "colab": {
          "base_uri": "https://localhost:8080/"
        },
        "outputId": "eea57dec-7da4-431b-b113-ab4543ec2e17"
      },
      "outputs": [
        {
          "output_type": "stream",
          "name": "stdout",
          "text": [
            "3 / 4\n",
            "5 / 2\n"
          ]
        }
      ],
      "source": [
        "# Write some examples to test your code\n",
        "r1 = Rational(3,4)\n",
        "print(r1)\n",
        "r2 = Rational(5,2)\n",
        "print(r2)"
      ]
    },
    {
      "cell_type": "code",
      "source": [
        "r1"
      ],
      "metadata": {
        "id": "oMlMSrn0PZk-",
        "outputId": "518470dd-3116-4342-fe03-fd8baf7d004e",
        "colab": {
          "base_uri": "https://localhost:8080/"
        }
      },
      "execution_count": 102,
      "outputs": [
        {
          "output_type": "execute_result",
          "data": {
            "text/plain": [
              "3 / 4"
            ]
          },
          "metadata": {},
          "execution_count": 102
        }
      ]
    },
    {
      "cell_type": "code",
      "source": [
        "r1 * r2"
      ],
      "metadata": {
        "id": "6J9KOw1EPZc6",
        "outputId": "b87ac078-512e-42c3-fc82-48a59e8332c0",
        "colab": {
          "base_uri": "https://localhost:8080/"
        }
      },
      "execution_count": 103,
      "outputs": [
        {
          "output_type": "execute_result",
          "data": {
            "text/plain": [
              "15 / 8"
            ]
          },
          "metadata": {},
          "execution_count": 103
        }
      ]
    },
    {
      "cell_type": "code",
      "source": [
        "r1 - r2"
      ],
      "metadata": {
        "id": "WWGzYXUePm_Y",
        "outputId": "7ac3b847-588b-453e-a2bd-53826a245810",
        "colab": {
          "base_uri": "https://localhost:8080/"
        }
      },
      "execution_count": 104,
      "outputs": [
        {
          "output_type": "execute_result",
          "data": {
            "text/plain": [
              "-7 / 4"
            ]
          },
          "metadata": {},
          "execution_count": 104
        }
      ]
    },
    {
      "cell_type": "code",
      "source": [
        "r1 / r2"
      ],
      "metadata": {
        "id": "Lfnp1t6JPm44",
        "outputId": "cc6157eb-71e0-4177-9a15-cd882d8bbd0c",
        "colab": {
          "base_uri": "https://localhost:8080/"
        }
      },
      "execution_count": 105,
      "outputs": [
        {
          "output_type": "execute_result",
          "data": {
            "text/plain": [
              "3 / 10"
            ]
          },
          "metadata": {},
          "execution_count": 105
        }
      ]
    },
    {
      "cell_type": "markdown",
      "metadata": {
        "id": "EauKQ5SIoIzR"
      },
      "source": [
        "# Exercise 3 [Post Lecture]\n",
        "## Square root of rationals using the Babylonian method\n",
        "\n",
        "Implement the [Babylonian Method](https://en.wikipedia.org/wiki/Methods_of_computing_square_roots#Babylonian_method) for computing the square root of a number $S$."
      ]
    },
    {
      "cell_type": "markdown",
      "metadata": {
        "id": "LxPaysAsLj5u"
      },
      "source": [
        "### Algorithm"
      ]
    },
    {
      "cell_type": "markdown",
      "metadata": {
        "id": "aYoFu6HlLU16"
      },
      "source": [
        "![Screenshot 2023-10-02 at 23.13.08.png](data:image/png;base64,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)"
      ]
    },
    {
      "cell_type": "code",
      "execution_count": 113,
      "metadata": {
        "id": "VNmCCNFKoIzR"
      },
      "outputs": [],
      "source": [
        "def babylonian(S, num_iters=5):\n",
        "    x = 1\n",
        "    for i in range(num_iters):\n",
        "      x = 0.5*(x + S/x)\n",
        "    print(\"error:\", abs(math.sqrt(S)-x)/math.sqrt(S))\n",
        "    return(x)\n",
        "\n",
        "\n"
      ]
    },
    {
      "cell_type": "code",
      "execution_count": 114,
      "metadata": {
        "id": "pdcKniV2oIzR",
        "colab": {
          "base_uri": "https://localhost:8080/"
        },
        "outputId": "92f09cd2-49ef-4fc6-a0fd-2a46582637aa"
      },
      "outputs": [
        {
          "output_type": "execute_result",
          "data": {
            "text/plain": [
              "4.898979485566356"
            ]
          },
          "metadata": {},
          "execution_count": 114
        }
      ],
      "source": [
        "math.sqrt(24)"
      ]
    },
    {
      "cell_type": "code",
      "execution_count": 115,
      "metadata": {
        "id": "cMXGkr59oIzR",
        "colab": {
          "base_uri": "https://localhost:8080/"
        },
        "outputId": "263b7704-fba5-4865-a7c6-7f224962b9e9"
      },
      "outputs": [
        {
          "output_type": "stream",
          "name": "stdout",
          "text": [
            "error: 3.520471377712802e-06\n"
          ]
        },
        {
          "output_type": "execute_result",
          "data": {
            "text/plain": [
              "4.898996732283415"
            ]
          },
          "metadata": {},
          "execution_count": 115
        }
      ],
      "source": [
        "babylonian(24)"
      ]
    },
    {
      "cell_type": "code",
      "execution_count": 116,
      "metadata": {
        "id": "sOuPWeNxoIzS",
        "colab": {
          "base_uri": "https://localhost:8080/"
        },
        "outputId": "58e3ffa3-ece7-4c7a-d7e6-4b19b978c00e"
      },
      "outputs": [
        {
          "output_type": "stream",
          "name": "stdout",
          "text": [
            "error: 3.520471377712802e-06\n"
          ]
        },
        {
          "output_type": "execute_result",
          "data": {
            "text/plain": [
              "4.898996732283415"
            ]
          },
          "metadata": {},
          "execution_count": 116
        }
      ],
      "source": [
        "babylonian(Rational(24))"
      ]
    },
    {
      "cell_type": "markdown",
      "metadata": {
        "id": "bxcIMG9hoIzS"
      },
      "source": [
        "# NumPy\n",
        "This is a good segue into NumPy. Python provides only a handful of numeric types: ints, longs, floats, and complex numbers. We just declared a class that implements rational numbers. NumPy implements one very useful numeric type: multidimensional arrays."
      ]
    },
    {
      "cell_type": "code",
      "execution_count": 49,
      "metadata": {
        "colab": {
          "base_uri": "https://localhost:8080/"
        },
        "id": "yZme3A3aoIzS",
        "outputId": "912fe8e1-d66d-4389-9100-f9b145c78b47"
      },
      "outputs": [
        {
          "output_type": "execute_result",
          "data": {
            "text/plain": [
              "-0.9589242746631385"
            ]
          },
          "metadata": {},
          "execution_count": 49
        }
      ],
      "source": [
        "# Quick note on importing\n",
        "import math\n",
        "math.sin(5)"
      ]
    },
    {
      "cell_type": "code",
      "execution_count": 50,
      "metadata": {
        "colab": {
          "base_uri": "https://localhost:8080/"
        },
        "id": "K8iR1FkmoIzS",
        "outputId": "37372dbb-1577-4df8-fad7-ccc4a59570a5"
      },
      "outputs": [
        {
          "output_type": "execute_result",
          "data": {
            "text/plain": [
              "-0.9589242746631385"
            ]
          },
          "metadata": {},
          "execution_count": 50
        }
      ],
      "source": [
        "import math as m\n",
        "m.sin(5)"
      ]
    },
    {
      "cell_type": "code",
      "execution_count": 51,
      "metadata": {
        "id": "Wpi5DPW_oIzT"
      },
      "outputs": [],
      "source": [
        "import numpy as np"
      ]
    },
    {
      "cell_type": "code",
      "source": [
        "!pip install numpy"
      ],
      "metadata": {
        "id": "yYgT73MaBcdw"
      },
      "execution_count": null,
      "outputs": []
    },
    {
      "cell_type": "code",
      "execution_count": 52,
      "metadata": {
        "id": "zFMYEIMf_AMg"
      },
      "outputs": [],
      "source": [
        "?np.array"
      ]
    },
    {
      "cell_type": "code",
      "execution_count": 53,
      "metadata": {
        "colab": {
          "base_uri": "https://localhost:8080/"
        },
        "id": "Geo3K3rzl66N",
        "outputId": "8dd1323e-1e8d-4471-e12b-2c1c15ea2798"
      },
      "outputs": [
        {
          "output_type": "stream",
          "name": "stdout",
          "text": [
            "[[0, 2], [1, 5]]\n"
          ]
        }
      ],
      "source": [
        "print([[0, 2], [1, 5]])"
      ]
    },
    {
      "cell_type": "code",
      "execution_count": 54,
      "metadata": {
        "colab": {
          "base_uri": "https://localhost:8080/"
        },
        "id": "qQECr079oIzT",
        "outputId": "57713224-dc86-4583-d124-040a20524e86"
      },
      "outputs": [
        {
          "output_type": "stream",
          "name": "stdout",
          "text": [
            "<class 'numpy.ndarray'>\n"
          ]
        },
        {
          "output_type": "execute_result",
          "data": {
            "text/plain": [
              "array([[0, 2],\n",
              "       [1, 5]])"
            ]
          },
          "metadata": {},
          "execution_count": 54
        }
      ],
      "source": [
        "x = np.array([[0, 2], [1, 5]])\n",
        "print(type(x))\n",
        "x"
      ]
    },
    {
      "cell_type": "code",
      "execution_count": 55,
      "metadata": {
        "colab": {
          "base_uri": "https://localhost:8080/"
        },
        "id": "LPuzzACPoIzT",
        "outputId": "b07d2f32-056e-43ba-f432-cce109054a10"
      },
      "outputs": [
        {
          "output_type": "execute_result",
          "data": {
            "text/plain": [
              "array([[4, 0],\n",
              "       [0, 4]])"
            ]
          },
          "metadata": {},
          "execution_count": 55
        }
      ],
      "source": [
        "y = np.array([[4, 0], [0, 4]])\n",
        "y"
      ]
    },
    {
      "cell_type": "code",
      "execution_count": 56,
      "metadata": {
        "colab": {
          "base_uri": "https://localhost:8080/"
        },
        "id": "Q6sf-2TBoIzT",
        "outputId": "ddfaafa2-8c53-4c58-bc47-11c5fe52b4f2"
      },
      "outputs": [
        {
          "output_type": "execute_result",
          "data": {
            "text/plain": [
              "array([[4, 2],\n",
              "       [1, 9]])"
            ]
          },
          "metadata": {},
          "execution_count": 56
        }
      ],
      "source": [
        "x + y"
      ]
    },
    {
      "cell_type": "code",
      "execution_count": 57,
      "metadata": {
        "colab": {
          "base_uri": "https://localhost:8080/"
        },
        "id": "_-OM9_0eoIzT",
        "outputId": "4855bf31-6e32-408f-e624-0b797f6089dc"
      },
      "outputs": [
        {
          "output_type": "execute_result",
          "data": {
            "text/plain": [
              "array([[ 0,  4],\n",
              "       [ 1, 25]])"
            ]
          },
          "metadata": {},
          "execution_count": 57
        }
      ],
      "source": [
        "x ** 2"
      ]
    },
    {
      "cell_type": "code",
      "execution_count": 58,
      "metadata": {
        "colab": {
          "base_uri": "https://localhost:8080/"
        },
        "id": "v4SZbTYioD_-",
        "outputId": "7e20d116-5995-43c2-9850-be225303190a"
      },
      "outputs": [
        {
          "output_type": "execute_result",
          "data": {
            "text/plain": [
              "array([[ 0,  0],\n",
              "       [ 0, 20]])"
            ]
          },
          "metadata": {},
          "execution_count": 58
        }
      ],
      "source": [
        "x * y  # Elementarywise multiplication"
      ]
    },
    {
      "cell_type": "code",
      "execution_count": 59,
      "metadata": {
        "colab": {
          "base_uri": "https://localhost:8080/"
        },
        "id": "VKfQxnJo2UjU",
        "outputId": "144c30a1-b9df-44f8-b181-9f5185982b50"
      },
      "outputs": [
        {
          "output_type": "execute_result",
          "data": {
            "text/plain": [
              "array([[0, 2],\n",
              "       [1, 5]])"
            ]
          },
          "metadata": {},
          "execution_count": 59
        }
      ],
      "source": [
        "x"
      ]
    },
    {
      "cell_type": "code",
      "execution_count": 60,
      "metadata": {
        "colab": {
          "base_uri": "https://localhost:8080/"
        },
        "id": "jr9HxCvG2U_f",
        "outputId": "c1f3a045-aeca-4263-c34e-a5c093b77353"
      },
      "outputs": [
        {
          "output_type": "execute_result",
          "data": {
            "text/plain": [
              "array([[4, 0],\n",
              "       [0, 4]])"
            ]
          },
          "metadata": {},
          "execution_count": 60
        }
      ],
      "source": [
        "y"
      ]
    },
    {
      "cell_type": "code",
      "execution_count": 61,
      "metadata": {
        "colab": {
          "base_uri": "https://localhost:8080/"
        },
        "id": "HFtMSVkAoIzT",
        "outputId": "9dc7dffb-6e74-4524-8536-52c6b06ecd8a"
      },
      "outputs": [
        {
          "output_type": "execute_result",
          "data": {
            "text/plain": [
              "array([[ 0,  8],\n",
              "       [ 4, 20]])"
            ]
          },
          "metadata": {},
          "execution_count": 61
        }
      ],
      "source": [
        "x @ y  # Matrix multiplication after Python 3.5, traditional way: np.matmul()"
      ]
    },
    {
      "cell_type": "code",
      "execution_count": 62,
      "metadata": {
        "colab": {
          "base_uri": "https://localhost:8080/"
        },
        "id": "N1W17EBmlUS7",
        "outputId": "c6110dec-0fda-4548-8510-ffb0b6e0472c"
      },
      "outputs": [
        {
          "output_type": "execute_result",
          "data": {
            "text/plain": [
              "array([[ 0,  8],\n",
              "       [ 4, 20]])"
            ]
          },
          "metadata": {},
          "execution_count": 62
        }
      ],
      "source": [
        "np.matmul(x,y)"
      ]
    },
    {
      "cell_type": "code",
      "execution_count": 63,
      "metadata": {
        "colab": {
          "base_uri": "https://localhost:8080/"
        },
        "id": "Pg5efBf7oIzU",
        "outputId": "41fc8859-77a0-4ebf-ce41-6a6f852b3a0a"
      },
      "outputs": [
        {
          "output_type": "execute_result",
          "data": {
            "text/plain": [
              "8"
            ]
          },
          "metadata": {},
          "execution_count": 63
        }
      ],
      "source": [
        "np.sum(x) # More method in the next lecture"
      ]
    },
    {
      "cell_type": "markdown",
      "metadata": {
        "id": "sMl8rBOVoIzU"
      },
      "source": [
        "### Why NumPy?\n",
        "1. numpy optimize operation for numeric data\n",
        "2. processes the tasks parallelly.\n",
        "3. The NumPy package integrates C, C++ in Python. These programming languages have very little execution time compared to Python.\n",
        "\n",
        "[Jupyter's magic command](https://ipython.readthedocs.io/en/stable/interactive/magics.html)"
      ]
    },
    {
      "cell_type": "code",
      "execution_count": 64,
      "metadata": {
        "colab": {
          "base_uri": "https://localhost:8080/"
        },
        "id": "MovmAf18oIzU",
        "outputId": "fcb6a6b1-a4d5-47ec-805a-07d994a56227"
      },
      "outputs": [
        {
          "output_type": "stream",
          "name": "stdout",
          "text": [
            "3.5 ms ± 953 µs per loop (mean ± std. dev. of 7 runs, 100 loops each)\n"
          ]
        }
      ],
      "source": [
        "%%timeit\n",
        "x = list(np.random.rand(10000))\n",
        "y = list(np.random.rand(10000))\n",
        "z=0\n",
        "for i in range(10000):\n",
        "    z += x[i]*y[i]"
      ]
    },
    {
      "cell_type": "code",
      "execution_count": 65,
      "metadata": {
        "colab": {
          "base_uri": "https://localhost:8080/"
        },
        "id": "MvXL-0rVoIzU",
        "outputId": "94b54357-ec98-49dc-952c-34885a47fe00"
      },
      "outputs": [
        {
          "output_type": "stream",
          "name": "stdout",
          "text": [
            "325 µs ± 8.99 µs per loop (mean ± std. dev. of 7 runs, 1000 loops each)\n"
          ]
        }
      ],
      "source": [
        "%%timeit\n",
        "x = np.random.rand(10000)\n",
        "y = np.random.rand(10000)\n",
        "z = x@y"
      ]
    },
    {
      "cell_type": "markdown",
      "metadata": {
        "id": "tFi2SP9JoIzU"
      },
      "source": [
        "## NumPy functions for creating arrays"
      ]
    },
    {
      "cell_type": "code",
      "execution_count": 66,
      "metadata": {
        "id": "OF7xPQGrCdf9"
      },
      "outputs": [],
      "source": [
        "?np.zeros"
      ]
    },
    {
      "cell_type": "code",
      "execution_count": 67,
      "metadata": {
        "colab": {
          "base_uri": "https://localhost:8080/"
        },
        "id": "vydvkk7-oIzV",
        "outputId": "145a0cd0-47df-4b95-d40e-16972213884b"
      },
      "outputs": [
        {
          "output_type": "execute_result",
          "data": {
            "text/plain": [
              "array([[0., 0., 0., 0., 0., 0., 0., 0., 0., 0.],\n",
              "       [0., 0., 0., 0., 0., 0., 0., 0., 0., 0.],\n",
              "       [0., 0., 0., 0., 0., 0., 0., 0., 0., 0.],\n",
              "       [0., 0., 0., 0., 0., 0., 0., 0., 0., 0.],\n",
              "       [0., 0., 0., 0., 0., 0., 0., 0., 0., 0.]])"
            ]
          },
          "metadata": {},
          "execution_count": 67
        }
      ],
      "source": [
        "X=np.zeros(shape = (5,10))\n",
        "X"
      ]
    },
    {
      "cell_type": "code",
      "execution_count": 68,
      "metadata": {
        "colab": {
          "base_uri": "https://localhost:8080/"
        },
        "id": "wxx5ddBuskaF",
        "outputId": "de8eb8b9-7a39-4270-acbc-9c8dbbb7668e"
      },
      "outputs": [
        {
          "output_type": "execute_result",
          "data": {
            "text/plain": [
              "array([[0., 0., 0., 0., 0., 0., 0., 0., 0., 0.],\n",
              "       [0., 0., 1., 0., 0., 0., 0., 0., 0., 0.],\n",
              "       [0., 0., 0., 0., 0., 0., 0., 0., 0., 0.],\n",
              "       [0., 0., 0., 0., 0., 0., 0., 0., 0., 0.],\n",
              "       [0., 0., 0., 0., 0., 0., 0., 0., 0., 0.]])"
            ]
          },
          "metadata": {},
          "execution_count": 68
        }
      ],
      "source": [
        "X[1,2] = 1\n",
        "X"
      ]
    },
    {
      "cell_type": "code",
      "execution_count": 69,
      "metadata": {
        "colab": {
          "base_uri": "https://localhost:8080/"
        },
        "id": "FAovduiMoIzV",
        "outputId": "e99a3aed-4ee0-4b0a-9870-90d2dd46245c"
      },
      "outputs": [
        {
          "output_type": "execute_result",
          "data": {
            "text/plain": [
              "(5, 10)"
            ]
          },
          "metadata": {},
          "execution_count": 69
        }
      ],
      "source": [
        "X.shape"
      ]
    },
    {
      "cell_type": "code",
      "execution_count": 70,
      "metadata": {
        "colab": {
          "base_uri": "https://localhost:8080/"
        },
        "id": "ewjWiPMkoIzV",
        "outputId": "993392dc-36f5-45aa-850f-c0e75694d2d7"
      },
      "outputs": [
        {
          "output_type": "execute_result",
          "data": {
            "text/plain": [
              "array([[1., 1., 1., 1., 1., 1., 1., 1., 1., 1.],\n",
              "       [1., 1., 1., 1., 1., 1., 1., 1., 1., 1.],\n",
              "       [1., 1., 1., 1., 1., 1., 1., 1., 1., 1.],\n",
              "       [1., 1., 1., 1., 1., 1., 1., 1., 1., 1.],\n",
              "       [1., 1., 1., 1., 1., 1., 1., 1., 1., 1.]])"
            ]
          },
          "metadata": {},
          "execution_count": 70
        }
      ],
      "source": [
        "Y = np.ones(shape = (5,10))\n",
        "Y"
      ]
    },
    {
      "cell_type": "code",
      "execution_count": 71,
      "metadata": {
        "colab": {
          "base_uri": "https://localhost:8080/"
        },
        "id": "V7--025BSRkx",
        "outputId": "944ae0e6-afb9-415e-d1a6-f1c7267b39df"
      },
      "outputs": [
        {
          "output_type": "stream",
          "name": "stdout",
          "text": [
            "Object `np.twos` not found.\n"
          ]
        }
      ],
      "source": [
        "?np.twos"
      ]
    },
    {
      "cell_type": "code",
      "execution_count": 72,
      "metadata": {
        "colab": {
          "base_uri": "https://localhost:8080/"
        },
        "id": "EyI32oYUoIzV",
        "outputId": "9b33840f-8f1e-4f00-9d63-a77cb1615ed3"
      },
      "outputs": [
        {
          "output_type": "execute_result",
          "data": {
            "text/plain": [
              "array([[5., 5., 5., 5., 5., 5., 5., 5., 5., 5.],\n",
              "       [5., 5., 5., 5., 5., 5., 5., 5., 5., 5.],\n",
              "       [5., 5., 5., 5., 5., 5., 5., 5., 5., 5.],\n",
              "       [5., 5., 5., 5., 5., 5., 5., 5., 5., 5.],\n",
              "       [5., 5., 5., 5., 5., 5., 5., 5., 5., 5.]])"
            ]
          },
          "metadata": {},
          "execution_count": 72
        }
      ],
      "source": [
        "2*Y + 3"
      ]
    },
    {
      "cell_type": "code",
      "execution_count": 73,
      "metadata": {
        "colab": {
          "base_uri": "https://localhost:8080/"
        },
        "id": "qjWfrOscoIzW",
        "outputId": "cb2ef623-1775-4cd7-e871-c025feacb643"
      },
      "outputs": [
        {
          "output_type": "execute_result",
          "data": {
            "text/plain": [
              "array([[0.85785928, 0.38938591, 0.64505535, 0.04113482, 0.39495083],\n",
              "       [0.45915164, 0.2084822 , 0.00635496, 0.74141588, 0.42082382],\n",
              "       [0.08385216, 0.90833742, 0.47663992, 0.23301681, 0.30647845],\n",
              "       [0.54325721, 0.47196952, 0.69254243, 0.59373846, 0.77257488],\n",
              "       [0.42400913, 0.85029952, 0.59971375, 0.54562881, 0.61637809]])"
            ]
          },
          "metadata": {},
          "execution_count": 73
        }
      ],
      "source": [
        "R=np.random.rand(5,5)\n",
        "R"
      ]
    },
    {
      "cell_type": "code",
      "execution_count": 74,
      "metadata": {
        "colab": {
          "base_uri": "https://localhost:8080/"
        },
        "id": "ZFu-aoqDoIzW",
        "outputId": "a2f0f328-1da3-4a35-f98b-e177f009abb4"
      },
      "outputs": [
        {
          "output_type": "execute_result",
          "data": {
            "text/plain": [
              "array([[ 0.56058429,  1.07547218,  1.3757253 ,  2.03277737, -0.27068966],\n",
              "       [-0.02035509, -0.35030324,  1.4883616 , -0.07448296,  0.64558538],\n",
              "       [-0.11817655,  1.72052768,  1.42960016,  1.24226527,  1.62253852],\n",
              "       [-0.33087146, -2.59356761,  1.11950559, -0.78652693,  0.11411538],\n",
              "       [-0.28737197,  0.5607368 ,  0.39248548,  0.41240909,  0.56126159]])"
            ]
          },
          "metadata": {},
          "execution_count": 74
        }
      ],
      "source": [
        "Rn = np.random.randn(5,5) #each number is a standard random normal variable (“standard normal” distribution)\n",
        "Rn"
      ]
    },
    {
      "cell_type": "code",
      "execution_count": 76,
      "metadata": {
        "colab": {
          "base_uri": "https://localhost:8080/"
        },
        "id": "EmnCYJE_oIzW",
        "outputId": "227a9da4-4ea6-4211-dd92-3e6f884d9536"
      },
      "outputs": [
        {
          "output_type": "execute_result",
          "data": {
            "text/plain": [
              "array([ 1,  3,  5,  7,  9, 11, 13, 15, 17, 19, 21, 23, 25, 27, 29, 31, 33,\n",
              "       35, 37, 39, 41, 43, 45, 47, 49, 51, 53, 55, 57, 59, 61, 63, 65, 67,\n",
              "       69, 71, 73, 75, 77, 79, 81, 83, 85, 87, 89, 91, 93, 95, 97, 99])"
            ]
          },
          "metadata": {},
          "execution_count": 76
        }
      ],
      "source": [
        "np.arange(1,100,2)"
      ]
    },
    {
      "cell_type": "code",
      "execution_count": 75,
      "metadata": {
        "colab": {
          "base_uri": "https://localhost:8080/"
        },
        "id": "oV175xjSSsL6",
        "outputId": "7f2e521d-f2c1-4e54-e1ef-3202d01294f7"
      },
      "outputs": [
        {
          "output_type": "stream",
          "name": "stdout",
          "text": [
            "[1, 3, 5, 7, 9, 11, 13, 15, 17, 19, 21, 23, 25, 27, 29, 31, 33, 35, 37, 39, 41, 43, 45, 47, 49, 51, 53, 55, 57, 59, 61, 63, 65, 67, 69, 71, 73, 75, 77, 79, 81, 83, 85, 87, 89, 91, 93, 95, 97, 99]\n"
          ]
        }
      ],
      "source": [
        "x = []\n",
        "for i in range(1,100,2):\n",
        "  x.append(i)\n",
        "print(x)"
      ]
    },
    {
      "cell_type": "code",
      "execution_count": 77,
      "metadata": {
        "colab": {
          "base_uri": "https://localhost:8080/"
        },
        "id": "7s7bU-O_D37G",
        "outputId": "a7ef9e1e-ad13-4493-bb00-36402f16c16d"
      },
      "outputs": [
        {
          "output_type": "execute_result",
          "data": {
            "text/plain": [
              "array([ 1.  ,  2.96,  4.92,  6.88,  8.84, 10.8 , 12.76, 14.72, 16.68,\n",
              "       18.64, 20.6 , 22.56, 24.52, 26.48, 28.44, 30.4 , 32.36, 34.32,\n",
              "       36.28, 38.24, 40.2 , 42.16, 44.12, 46.08, 48.04, 50.  , 51.96,\n",
              "       53.92, 55.88, 57.84, 59.8 , 61.76, 63.72, 65.68, 67.64, 69.6 ,\n",
              "       71.56, 73.52, 75.48, 77.44, 79.4 , 81.36, 83.32, 85.28, 87.24,\n",
              "       89.2 , 91.16, 93.12, 95.08, 97.04, 99.  ])"
            ]
          },
          "metadata": {},
          "execution_count": 77
        }
      ],
      "source": [
        "np.linspace(1,99,51) #end value is inclusive!"
      ]
    },
    {
      "cell_type": "code",
      "execution_count": 78,
      "metadata": {
        "colab": {
          "base_uri": "https://localhost:8080/"
        },
        "id": "E3ExUy8ToIzW",
        "outputId": "3dca8858-3e42-4f13-c856-11ee97f25746"
      },
      "outputs": [
        {
          "output_type": "execute_result",
          "data": {
            "text/plain": [
              "array([0. , 0.5, 1. , 1.5, 2. , 2.5, 3. , 3.5, 4. , 4.5, 5. ])"
            ]
          },
          "metadata": {},
          "execution_count": 78
        }
      ],
      "source": [
        "np.linspace(0,5,11)"
      ]
    },
    {
      "cell_type": "code",
      "execution_count": 79,
      "metadata": {
        "colab": {
          "base_uri": "https://localhost:8080/"
        },
        "id": "R0PZtK7t2Qo1",
        "outputId": "dae5a285-cc1f-4fa7-93a6-1c9ec544ce84"
      },
      "outputs": [
        {
          "output_type": "execute_result",
          "data": {
            "text/plain": [
              "array([ 0,  1,  2,  3,  4,  5,  6,  7,  8,  9, 10, 11, 12, 13, 14, 15, 16,\n",
              "       17, 18, 19, 20, 21, 22, 23, 24, 25, 26, 27, 28, 29, 30, 31, 32, 33,\n",
              "       34, 35, 36, 37, 38, 39, 40, 41, 42, 43, 44, 45, 46, 47])"
            ]
          },
          "metadata": {},
          "execution_count": 79
        }
      ],
      "source": [
        "X = np.arange(48)\n",
        "X"
      ]
    },
    {
      "cell_type": "code",
      "execution_count": 82,
      "metadata": {
        "colab": {
          "base_uri": "https://localhost:8080/"
        },
        "id": "EzTZOjmPp0mI",
        "outputId": "3261b6cd-e3ba-4b5a-f66a-83e5a893bad3"
      },
      "outputs": [
        {
          "output_type": "execute_result",
          "data": {
            "text/plain": [
              "array([[ 0,  1,  2,  3,  4,  5,  6,  7],\n",
              "       [ 8,  9, 10, 11, 12, 13, 14, 15],\n",
              "       [16, 17, 18, 19, 20, 21, 22, 23],\n",
              "       [24, 25, 26, 27, 28, 29, 30, 31],\n",
              "       [32, 33, 34, 35, 36, 37, 38, 39],\n",
              "       [40, 41, 42, 43, 44, 45, 46, 47]])"
            ]
          },
          "metadata": {},
          "execution_count": 82
        }
      ],
      "source": [
        "X.reshape(6,8)"
      ]
    },
    {
      "cell_type": "code",
      "execution_count": 83,
      "metadata": {
        "colab": {
          "base_uri": "https://localhost:8080/"
        },
        "id": "BaAgFRkioIzX",
        "outputId": "50d7e554-d117-4297-c6ee-3350a5c79613"
      },
      "outputs": [
        {
          "output_type": "execute_result",
          "data": {
            "text/plain": [
              "array([[[ 0,  1,  2,  3,  4,  5,  6,  7],\n",
              "        [ 8,  9, 10, 11, 12, 13, 14, 15],\n",
              "        [16, 17, 18, 19, 20, 21, 22, 23]],\n",
              "\n",
              "       [[24, 25, 26, 27, 28, 29, 30, 31],\n",
              "        [32, 33, 34, 35, 36, 37, 38, 39],\n",
              "        [40, 41, 42, 43, 44, 45, 46, 47]]])"
            ]
          },
          "metadata": {},
          "execution_count": 83
        }
      ],
      "source": [
        "X.reshape(2,3,8)"
      ]
    },
    {
      "cell_type": "markdown",
      "metadata": {
        "id": "rgKBI5ZGoIzX"
      },
      "source": [
        "# Exercise 4\n",
        "\n",
        "## Numpy Array construction\n",
        "\n",
        "1. 5 by 10 array with all elements random between 50 and 100.\n",
        "2. All numbers between 50 and 51, separated by 0.01"
      ]
    },
    {
      "cell_type": "code",
      "execution_count": 85,
      "metadata": {
        "colab": {
          "base_uri": "https://localhost:8080/"
        },
        "id": "JS0vtN3W6A9U",
        "outputId": "87c65741-6dad-4b1d-ee1f-12a91b8de077"
      },
      "outputs": [
        {
          "output_type": "stream",
          "name": "stdout",
          "text": [
            "[[75 83 56 75 78 54 89 58 85 59]\n",
            " [81 73 53 94 89 80 81 97 75 70]\n",
            " [82 91 96 65 96 63 73 66 77 73]\n",
            " [50 54 54 84 99 69 72 73 53 94]\n",
            " [58 62 54 68 65 92 71 50 76 51]]\n",
            "[50.   50.01 50.02 50.03 50.04 50.05 50.06 50.07 50.08 50.09 50.1  50.11\n",
            " 50.12 50.13 50.14 50.15 50.16 50.17 50.18 50.19 50.2  50.21 50.22 50.23\n",
            " 50.24 50.25 50.26 50.27 50.28 50.29 50.3  50.31 50.32 50.33 50.34 50.35\n",
            " 50.36 50.37 50.38 50.39 50.4  50.41 50.42 50.43 50.44 50.45 50.46 50.47\n",
            " 50.48 50.49 50.5  50.51 50.52 50.53 50.54 50.55 50.56 50.57 50.58 50.59\n",
            " 50.6  50.61 50.62 50.63 50.64 50.65 50.66 50.67 50.68 50.69 50.7  50.71\n",
            " 50.72 50.73 50.74 50.75 50.76 50.77 50.78 50.79 50.8  50.81 50.82 50.83\n",
            " 50.84 50.85 50.86 50.87 50.88 50.89 50.9  50.91 50.92 50.93 50.94 50.95\n",
            " 50.96 50.97 50.98 50.99 51.  ]\n"
          ]
        }
      ],
      "source": [
        "# YOUR CODE HERE\n",
        "x = np.random.randint(50, 100+1, size=(5, 10))\n",
        "print(x)\n",
        "y = np.arange(50, 51+0.01, 0.01)\n",
        "print(y)"
      ]
    },
    {
      "cell_type": "markdown",
      "metadata": {
        "id": "TZ0xnn_JoIzX"
      },
      "source": [
        "# Plotting (Optional)\n",
        "\n",
        "We will see some functions to do some quick plotting, we will come back to this library later."
      ]
    },
    {
      "cell_type": "code",
      "execution_count": 86,
      "metadata": {
        "id": "GVuaVcrAoIzX"
      },
      "outputs": [],
      "source": [
        "import numpy as np\n",
        "import matplotlib.pyplot as plt\n",
        "#matplotlib.pyplot is a collection of functions that make matplotlib work like MATLAB"
      ]
    },
    {
      "cell_type": "code",
      "execution_count": 87,
      "metadata": {
        "colab": {
          "base_uri": "https://localhost:8080/"
        },
        "id": "hm54jh_soIzX",
        "outputId": "0773107d-e0c7-419f-f417-184027ca6795"
      },
      "outputs": [
        {
          "output_type": "execute_result",
          "data": {
            "text/plain": [
              "array([-5.        , -4.8989899 , -4.7979798 , -4.6969697 , -4.5959596 ,\n",
              "       -4.49494949, -4.39393939, -4.29292929, -4.19191919, -4.09090909,\n",
              "       -3.98989899, -3.88888889, -3.78787879, -3.68686869, -3.58585859,\n",
              "       -3.48484848, -3.38383838, -3.28282828, -3.18181818, -3.08080808,\n",
              "       -2.97979798, -2.87878788, -2.77777778, -2.67676768, -2.57575758,\n",
              "       -2.47474747, -2.37373737, -2.27272727, -2.17171717, -2.07070707,\n",
              "       -1.96969697, -1.86868687, -1.76767677, -1.66666667, -1.56565657,\n",
              "       -1.46464646, -1.36363636, -1.26262626, -1.16161616, -1.06060606,\n",
              "       -0.95959596, -0.85858586, -0.75757576, -0.65656566, -0.55555556,\n",
              "       -0.45454545, -0.35353535, -0.25252525, -0.15151515, -0.05050505,\n",
              "        0.05050505,  0.15151515,  0.25252525,  0.35353535,  0.45454545,\n",
              "        0.55555556,  0.65656566,  0.75757576,  0.85858586,  0.95959596,\n",
              "        1.06060606,  1.16161616,  1.26262626,  1.36363636,  1.46464646,\n",
              "        1.56565657,  1.66666667,  1.76767677,  1.86868687,  1.96969697,\n",
              "        2.07070707,  2.17171717,  2.27272727,  2.37373737,  2.47474747,\n",
              "        2.57575758,  2.67676768,  2.77777778,  2.87878788,  2.97979798,\n",
              "        3.08080808,  3.18181818,  3.28282828,  3.38383838,  3.48484848,\n",
              "        3.58585859,  3.68686869,  3.78787879,  3.88888889,  3.98989899,\n",
              "        4.09090909,  4.19191919,  4.29292929,  4.39393939,  4.49494949,\n",
              "        4.5959596 ,  4.6969697 ,  4.7979798 ,  4.8989899 ,  5.        ])"
            ]
          },
          "metadata": {},
          "execution_count": 87
        }
      ],
      "source": [
        "x = np.linspace(-5,5,100)\n",
        "x"
      ]
    },
    {
      "cell_type": "code",
      "execution_count": 88,
      "metadata": {
        "colab": {
          "base_uri": "https://localhost:8080/"
        },
        "id": "zcHTc4vkoIzY",
        "outputId": "f6d0e571-fd0a-4e39-8194-b8bd40e67a41"
      },
      "outputs": [
        {
          "output_type": "execute_result",
          "data": {
            "text/plain": [
              "array([2.50000000e+01, 2.40001020e+01, 2.30206101e+01, 2.20615243e+01,\n",
              "       2.11228446e+01, 2.02045710e+01, 1.93067034e+01, 1.84292419e+01,\n",
              "       1.75721865e+01, 1.67355372e+01, 1.59192939e+01, 1.51234568e+01,\n",
              "       1.43480257e+01, 1.35930007e+01, 1.28583818e+01, 1.21441690e+01,\n",
              "       1.14503622e+01, 1.07769615e+01, 1.01239669e+01, 9.49137843e+00,\n",
              "       8.87919600e+00, 8.28741965e+00, 7.71604938e+00, 7.16508520e+00,\n",
              "       6.63452709e+00, 6.12437506e+00, 5.63462912e+00, 5.16528926e+00,\n",
              "       4.71635547e+00, 4.28782777e+00, 3.87970615e+00, 3.49199061e+00,\n",
              "       3.12468115e+00, 2.77777778e+00, 2.45128048e+00, 2.14518927e+00,\n",
              "       1.85950413e+00, 1.59422508e+00, 1.34935211e+00, 1.12488522e+00,\n",
              "       9.20824406e-01, 7.37169677e-01, 5.73921028e-01, 4.31078461e-01,\n",
              "       3.08641975e-01, 2.06611570e-01, 1.24987246e-01, 6.37690032e-02,\n",
              "       2.29568411e-02, 2.55076013e-03, 2.55076013e-03, 2.29568411e-02,\n",
              "       6.37690032e-02, 1.24987246e-01, 2.06611570e-01, 3.08641975e-01,\n",
              "       4.31078461e-01, 5.73921028e-01, 7.37169677e-01, 9.20824406e-01,\n",
              "       1.12488522e+00, 1.34935211e+00, 1.59422508e+00, 1.85950413e+00,\n",
              "       2.14518927e+00, 2.45128048e+00, 2.77777778e+00, 3.12468115e+00,\n",
              "       3.49199061e+00, 3.87970615e+00, 4.28782777e+00, 4.71635547e+00,\n",
              "       5.16528926e+00, 5.63462912e+00, 6.12437506e+00, 6.63452709e+00,\n",
              "       7.16508520e+00, 7.71604938e+00, 8.28741965e+00, 8.87919600e+00,\n",
              "       9.49137843e+00, 1.01239669e+01, 1.07769615e+01, 1.14503622e+01,\n",
              "       1.21441690e+01, 1.28583818e+01, 1.35930007e+01, 1.43480257e+01,\n",
              "       1.51234568e+01, 1.59192939e+01, 1.67355372e+01, 1.75721865e+01,\n",
              "       1.84292419e+01, 1.93067034e+01, 2.02045710e+01, 2.11228446e+01,\n",
              "       2.20615243e+01, 2.30206101e+01, 2.40001020e+01, 2.50000000e+01])"
            ]
          },
          "metadata": {},
          "execution_count": 88
        }
      ],
      "source": [
        "y = x*x\n",
        "y"
      ]
    },
    {
      "cell_type": "code",
      "execution_count": 89,
      "metadata": {
        "colab": {
          "base_uri": "https://localhost:8080/",
          "height": 467
        },
        "id": "JJ6cqscaoIzY",
        "outputId": "c92881b3-9b7b-48e1-dd19-f6a9d1c6607c"
      },
      "outputs": [
        {
          "output_type": "execute_result",
          "data": {
            "text/plain": [
              "[<matplotlib.lines.Line2D at 0x7d9e943672e0>]"
            ]
          },
          "metadata": {},
          "execution_count": 89
        },
        {
          "output_type": "display_data",
          "data": {
            "text/plain": [
              "<Figure size 640x480 with 1 Axes>"
            ],
            "image/png": "[encoded data removed]"
          },
          "metadata": {}
        }
      ],
      "source": [
        "plt.plot(x,y)"
      ]
    },
    {
      "cell_type": "code",
      "execution_count": 90,
      "metadata": {
        "colab": {
          "base_uri": "https://localhost:8080/",
          "height": 467
        },
        "id": "qn7peqrOoIzY",
        "outputId": "deb90684-d1ce-4627-8fc1-dd33557a7de2"
      },
      "outputs": [
        {
          "output_type": "execute_result",
          "data": {
            "text/plain": [
              "[<matplotlib.lines.Line2D at 0x7d9e79d80610>]"
            ]
          },
          "metadata": {},
          "execution_count": 90
        },
        {
          "output_type": "display_data",
          "data": {
            "text/plain": [
              "<Figure size 640x480 with 1 Axes>"
            ],
            "image/png": "[encoded data removed]"
          },
          "metadata": {}
        }
      ],
      "source": [
        "plt.plot(y)"
      ]
    },
    {
      "cell_type": "code",
      "execution_count": 91,
      "metadata": {
        "colab": {
          "base_uri": "https://localhost:8080/",
          "height": 467
        },
        "id": "vRInLhHhoIzZ",
        "outputId": "a34c9ea5-a73d-4c8c-a086-82c249a4973f"
      },
      "outputs": [
        {
          "output_type": "execute_result",
          "data": {
            "text/plain": [
              "[<matplotlib.lines.Line2D at 0x7d9e79de1ed0>]"
            ]
          },
          "metadata": {},
          "execution_count": 91
        },
        {
          "output_type": "display_data",
          "data": {
            "text/plain": [
              "<Figure size 640x480 with 1 Axes>"
            ],
            "image/png": "[encoded data removed]"
          },
          "metadata": {}
        }
      ],
      "source": [
        "plt.plot(np.random.rand(10))\n",
        "plt.plot(np.random.rand(10))"
      ]
    },
    {
      "cell_type": "code",
      "execution_count": 92,
      "metadata": {
        "colab": {
          "base_uri": "https://localhost:8080/",
          "height": 509
        },
        "id": "zXDyJjumoIzZ",
        "outputId": "8dd6cef2-4675-4409-92e5-84fbe833e910"
      },
      "outputs": [
        {
          "output_type": "execute_result",
          "data": {
            "text/plain": [
              "Text(0.5, 1.0, 'Title')"
            ]
          },
          "metadata": {},
          "execution_count": 92
        },
        {
          "output_type": "display_data",
          "data": {
            "text/plain": [
              "<Figure size 640x480 with 1 Axes>"
            ],
            "image/png": "[encoded data removed]"
          },
          "metadata": {}
        }
      ],
      "source": [
        "plt.plot(np.random.rand(10))\n",
        "plt.plot(np.random.rand(10))\n",
        "plt.legend([\"curve1\",\"curve2\"]) #add legend label\n",
        "plt.xlabel(\"X label\") #add x label\n",
        "plt.ylabel(\"Y label\") #add y label\n",
        "plt.title(\"Title\") #add title"
      ]
    },
    {
      "cell_type": "markdown",
      "metadata": {
        "id": "quzW0I0mIPaz"
      },
      "source": [
        "Matplotlib Gallery: https://matplotlib.org/stable/plot_types/index  \n",
        "\n",
        "Other plots template:\n",
        "[seaborn](https://seaborn.pydata.org/examples/index.html)  \n",
        "\n",
        "Interactive Plot:\n",
        "[plotly](https://plotly.com/python/)"
      ]
    },
    {
      "cell_type": "code",
      "execution_count": 93,
      "metadata": {
        "colab": {
          "base_uri": "https://localhost:8080/",
          "height": 472
        },
        "id": "uHEruRPgoIzZ",
        "outputId": "053b0d65-bf97-42be-cd68-00b51d48526f"
      },
      "outputs": [
        {
          "output_type": "execute_result",
          "data": {
            "text/plain": [
              "[<matplotlib.lines.Line2D at 0x7d9e79bf7940>]"
            ]
          },
          "metadata": {},
          "execution_count": 93
        },
        {
          "output_type": "display_data",
          "data": {
            "text/plain": [
              "<Figure size 640x480 with 6 Axes>"
            ],
            "image/png": "[encoded data removed]"
          },
          "metadata": {}
        }
      ],
      "source": [
        "# Multiple Subplots\n",
        "fig, ax = plt.subplots(nrows=2, ncols=3)\n",
        "ax[0,0].plot(x,y)\n",
        "ax[1,2].plot(x,y)"
      ]
    },
    {
      "cell_type": "code",
      "source": [],
      "metadata": {
        "id": "H_PSkGmJEl-t"
      },
      "execution_count": null,
      "outputs": []
    }
  ],
  "metadata": {
    "colab": {
      "collapsed_sections": [
        "433NNh_loIzO",
        "EauKQ5SIoIzR"
      ],
      "provenance": []
    },
    "kernelspec": {
      "display_name": "Python 3 (ipykernel)",
      "language": "python",
      "name": "python3"
    },
    "language_info": {
      "codemirror_mode": {
        "name": "ipython",
        "version": 3
      },
      "file_extension": ".py",
      "mimetype": "text/x-python",
      "name": "python",
      "nbconvert_exporter": "python",
      "pygments_lexer": "ipython3",
      "version": "3.9.18"
    }
  },
  "nbformat": 4,
  "nbformat_minor": 0
}