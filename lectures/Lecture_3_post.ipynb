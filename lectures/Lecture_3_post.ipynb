{
  "cells": [
    {
      "cell_type": "markdown",
      "metadata": {
        "id": "R2Aw6UeAAA0j"
      },
      "source": [
        "1. Intro:\n",
        "  - Homework 1 will be released next Tuesday\n",
        "2. Lec 3: Numpy\n",
        "  - Vectorization\n",
        "  - Boardcast\n",
        "  - Identify Matrix\n",
        "  - Indexing and Slicing\n",
        "  - Fancy Array\n",
        "  - Reduction Operation"
      ]
    },
    {
      "cell_type": "markdown",
      "metadata": {
        "id": "sm2ka4lprn1-"
      },
      "source": [
        "# Basic Section (Start)\n"
      ]
    },
    {
      "cell_type": "code",
      "execution_count": 1,
      "metadata": {
        "id": "ekC5lhEacpKu"
      },
      "outputs": [],
      "source": [
        "import numpy as np"
      ]
    },
    {
      "cell_type": "markdown",
      "metadata": {
        "id": "BJ0zt3V0cpKv"
      },
      "source": [
        "## Numpy (Review)\n",
        "\n",
        "Main object type is `np.array`\n",
        "\n",
        "Many ways to create it,\n",
        "\n",
        "One way is to convert a python list"
      ]
    },
    {
      "cell_type": "code",
      "execution_count": 2,
      "metadata": {
        "colab": {
          "base_uri": "https://localhost:8080/"
        },
        "id": "xIO3lTj-cpKx",
        "outputId": "9acb8db3-6124-4638-ab85-d9e648452981"
      },
      "outputs": [
        {
          "output_type": "execute_result",
          "data": {
            "text/plain": [
              "array([1, 2, 3])"
            ]
          },
          "metadata": {},
          "execution_count": 2
        }
      ],
      "source": [
        "python_list = [ 1,2,3 ]\n",
        "arr = np.array(python_list)\n",
        "arr"
      ]
    },
    {
      "cell_type": "code",
      "execution_count": 3,
      "metadata": {
        "colab": {
          "base_uri": "https://localhost:8080/"
        },
        "id": "pc4i2a416Z5M",
        "outputId": "370b4291-cba2-45c9-8a93-8e7322207326"
      },
      "outputs": [
        {
          "output_type": "execute_result",
          "data": {
            "text/plain": [
              "array([1, 4, 9])"
            ]
          },
          "metadata": {},
          "execution_count": 3
        }
      ],
      "source": [
        "arr**2"
      ]
    },
    {
      "cell_type": "code",
      "execution_count": 4,
      "metadata": {
        "colab": {
          "base_uri": "https://localhost:8080/",
          "height": 193
        },
        "id": "LDX_ymhAKp8I",
        "outputId": "e00f7d29-d4b4-44f0-8ab7-94966f41935f"
      },
      "outputs": [
        {
          "output_type": "error",
          "ename": "TypeError",
          "evalue": "unsupported operand type(s) for ** or pow(): 'list' and 'int'",
          "traceback": [
            "\u001b[0;31m---------------------------------------------------------------------------\u001b[0m",
            "\u001b[0;31mTypeError\u001b[0m                                 Traceback (most recent call last)",
            "\u001b[0;32m<ipython-input-4-4dfd32a7d096>\u001b[0m in \u001b[0;36m<cell line: 1>\u001b[0;34m()\u001b[0m\n\u001b[0;32m----> 1\u001b[0;31m \u001b[0mpython_list\u001b[0m\u001b[0;34m**\u001b[0m\u001b[0;36m2\u001b[0m\u001b[0;34m\u001b[0m\u001b[0;34m\u001b[0m\u001b[0m\n\u001b[0m",
            "\u001b[0;31mTypeError\u001b[0m: unsupported operand type(s) for ** or pow(): 'list' and 'int'"
          ]
        }
      ],
      "source": [
        "python_list**2"
      ]
    },
    {
      "cell_type": "code",
      "execution_count": null,
      "metadata": {
        "id": "cEIaZrB0US0q"
      },
      "outputs": [],
      "source": [
        "# class.function(self, args) = instance.function(args)"
      ]
    },
    {
      "cell_type": "code",
      "execution_count": 6,
      "metadata": {
        "colab": {
          "base_uri": "https://localhost:8080/"
        },
        "id": "2yasABN8J8z8",
        "outputId": "eee1a80a-8560-4713-8981-da14b0576b7c"
      },
      "outputs": [
        {
          "output_type": "execute_result",
          "data": {
            "text/plain": [
              "array([1, 4, 9])"
            ]
          },
          "metadata": {},
          "execution_count": 6
        }
      ],
      "source": [
        "# Magic Function with __XXX__\n",
        "arr.__pow__(2)\n",
        "#python_list.__pow__(2)"
      ]
    },
    {
      "cell_type": "markdown",
      "metadata": {
        "id": "Du3Lpmi-cpKz"
      },
      "source": [
        "Many times a list comprehension is used to create a list and then converted to a array"
      ]
    },
    {
      "cell_type": "code",
      "execution_count": 8,
      "metadata": {
        "colab": {
          "base_uri": "https://localhost:8080/"
        },
        "id": "4Xz0VGT0cpKz",
        "outputId": "653ebbe7-43f9-48ac-d1da-9a5779fce581"
      },
      "outputs": [
        {
          "output_type": "execute_result",
          "data": {
            "text/plain": [
              "array([4, 9])"
            ]
          },
          "metadata": {},
          "execution_count": 8
        }
      ],
      "source": [
        "python_list_pow = [ i**2 for i in python_list if i != 1] #list comprehension\n",
        "python_list_pow\n",
        "np.array(python_list_pow)"
      ]
    },
    {
      "cell_type": "markdown",
      "metadata": {
        "id": "U1acF_mOcpK2"
      },
      "source": [
        "### Exercise (In Lec)\n",
        "Create a numpy array that contain  intergers i  such that  0<i<100 and $2^i$ has the last digit 6"
      ]
    },
    {
      "cell_type": "code",
      "execution_count": 11,
      "metadata": {
        "colab": {
          "base_uri": "https://localhost:8080/"
        },
        "id": "1B0gVXMSbsoU",
        "outputId": "9446954b-78bf-4939-9053-7c38c40c555b"
      },
      "outputs": [
        {
          "output_type": "stream",
          "name": "stdout",
          "text": [
            "[ 4  8 12 16 20 24 28 32 36 40 44 48 52 56 60 64 68 72 76 80 84 88 92 96]\n"
          ]
        }
      ],
      "source": [
        "# YOUR CODE HERE\n",
        "l = [i for i in range(1,100) if 2**i % 10 ==6]\n",
        "l = np.array(l)\n",
        "print(l)"
      ]
    },
    {
      "cell_type": "markdown",
      "metadata": {
        "id": "c0fMYyztcpK3"
      },
      "source": [
        "Create a 2D numpy array $A$ (5,10) such that $A_{ij} = i\\times j$"
      ]
    },
    {
      "cell_type": "code",
      "execution_count": 12,
      "metadata": {
        "colab": {
          "base_uri": "https://localhost:8080/"
        },
        "id": "ObzFUe3GbtCk",
        "outputId": "da7f656e-99b0-4bb7-e4da-edf3d23554bc"
      },
      "outputs": [
        {
          "output_type": "execute_result",
          "data": {
            "text/plain": [
              "array([[ 0.,  0.,  0.,  0.,  0.,  0.,  0.,  0.,  0.,  0.],\n",
              "       [ 0.,  1.,  2.,  3.,  4.,  5.,  6.,  7.,  8.,  9.],\n",
              "       [ 0.,  2.,  4.,  6.,  8., 10., 12., 14., 16., 18.],\n",
              "       [ 0.,  3.,  6.,  9., 12., 15., 18., 21., 24., 27.],\n",
              "       [ 0.,  4.,  8., 12., 16., 20., 24., 28., 32., 36.]])"
            ]
          },
          "metadata": {},
          "execution_count": 12
        }
      ],
      "source": [
        "# YOUR CODE HERE\n",
        "A = np.zeros((5,10))\n",
        "for i in range(5):\n",
        "  for j in range(10):\n",
        "    A[i,j] = i*j\n",
        "\n",
        "A"
      ]
    },
    {
      "cell_type": "code",
      "source": [
        "l = [[i*j for j in range(10)] for i in range(5)]\n",
        "A = np.array(l)\n",
        "\n",
        "A"
      ],
      "metadata": {
        "id": "aohJ_tBH-QZT",
        "outputId": "b75242e6-38c0-47d2-8a87-ca38fdf78853",
        "colab": {
          "base_uri": "https://localhost:8080/"
        }
      },
      "execution_count": 13,
      "outputs": [
        {
          "output_type": "execute_result",
          "data": {
            "text/plain": [
              "array([[ 0,  0,  0,  0,  0,  0,  0,  0,  0,  0],\n",
              "       [ 0,  1,  2,  3,  4,  5,  6,  7,  8,  9],\n",
              "       [ 0,  2,  4,  6,  8, 10, 12, 14, 16, 18],\n",
              "       [ 0,  3,  6,  9, 12, 15, 18, 21, 24, 27],\n",
              "       [ 0,  4,  8, 12, 16, 20, 24, 28, 32, 36]])"
            ]
          },
          "metadata": {},
          "execution_count": 13
        }
      ]
    },
    {
      "cell_type": "markdown",
      "metadata": {
        "id": "Clx3TzpdcpK7"
      },
      "source": [
        "## Another way to create a numpy array is with initializing functions\n",
        "\n",
        "- np.zeros\n",
        "- np.ones\n",
        "- np.arange\n",
        "\n",
        "These functions along with `reshape` can be used to create initial matrix without any for loops"
      ]
    },
    {
      "cell_type": "code",
      "execution_count": 14,
      "metadata": {
        "colab": {
          "base_uri": "https://localhost:8080/"
        },
        "id": "Q_MicPfVcpK7",
        "outputId": "a1bc3076-a3f8-44b6-d7af-b88d199d466c"
      },
      "outputs": [
        {
          "output_type": "execute_result",
          "data": {
            "text/plain": [
              "array([[0., 0., 0., 0., 0., 0., 0., 0., 0., 0.],\n",
              "       [0., 0., 0., 0., 0., 0., 0., 0., 0., 0.],\n",
              "       [0., 0., 0., 0., 0., 0., 0., 0., 0., 0.],\n",
              "       [0., 0., 0., 0., 0., 0., 0., 0., 0., 0.],\n",
              "       [0., 0., 0., 0., 0., 0., 0., 0., 0., 0.],\n",
              "       [0., 0., 0., 0., 0., 0., 0., 0., 0., 0.],\n",
              "       [0., 0., 0., 0., 0., 0., 0., 0., 0., 0.],\n",
              "       [0., 0., 0., 0., 0., 0., 0., 0., 0., 0.],\n",
              "       [0., 0., 0., 0., 0., 0., 0., 0., 0., 0.],\n",
              "       [0., 0., 0., 0., 0., 0., 0., 0., 0., 0.]])"
            ]
          },
          "metadata": {},
          "execution_count": 14
        }
      ],
      "source": [
        "np.zeros((10,10))"
      ]
    },
    {
      "cell_type": "code",
      "execution_count": 15,
      "metadata": {
        "colab": {
          "base_uri": "https://localhost:8080/"
        },
        "id": "ewrnqEk0cpK8",
        "outputId": "6a9dfda4-d343-4a86-8eb2-837f1b191e57"
      },
      "outputs": [
        {
          "output_type": "execute_result",
          "data": {
            "text/plain": [
              "array([[2., 2., 2., 2., 2., 2., 2., 2., 2., 2.],\n",
              "       [2., 2., 2., 2., 2., 2., 2., 2., 2., 2.],\n",
              "       [2., 2., 2., 2., 2., 2., 2., 2., 2., 2.],\n",
              "       [2., 2., 2., 2., 2., 2., 2., 2., 2., 2.],\n",
              "       [2., 2., 2., 2., 2., 2., 2., 2., 2., 2.],\n",
              "       [2., 2., 2., 2., 2., 2., 2., 2., 2., 2.],\n",
              "       [2., 2., 2., 2., 2., 2., 2., 2., 2., 2.],\n",
              "       [2., 2., 2., 2., 2., 2., 2., 2., 2., 2.],\n",
              "       [2., 2., 2., 2., 2., 2., 2., 2., 2., 2.],\n",
              "       [2., 2., 2., 2., 2., 2., 2., 2., 2., 2.]])"
            ]
          },
          "metadata": {},
          "execution_count": 15
        }
      ],
      "source": [
        "np.ones((10,10))*2"
      ]
    },
    {
      "cell_type": "code",
      "execution_count": 16,
      "metadata": {
        "colab": {
          "base_uri": "https://localhost:8080/"
        },
        "id": "9OvLSdfdcpK8",
        "outputId": "0b19fec2-9899-4375-d08e-b2ce8e84ff53"
      },
      "outputs": [
        {
          "output_type": "execute_result",
          "data": {
            "text/plain": [
              "array([2, 4, 6, 8])"
            ]
          },
          "metadata": {},
          "execution_count": 16
        }
      ],
      "source": [
        "np.arange(2, 10, 2) #equivalent to range(2,10,2)"
      ]
    },
    {
      "cell_type": "markdown",
      "metadata": {
        "id": "wkfUmrQOQt-C"
      },
      "source": [
        "### Exercise (In Lec)"
      ]
    },
    {
      "cell_type": "markdown",
      "metadata": {
        "id": "yxz7GZEicpK6"
      },
      "source": [
        "Create an array of first 10 powers of 2"
      ]
    },
    {
      "cell_type": "code",
      "source": [
        "# YOUR CODE HERE\n",
        "l = 2**np.arange(10)\n",
        "l"
      ],
      "metadata": {
        "id": "kEak3lPw-rw4",
        "outputId": "99af39f8-48cf-4f69-a8a8-7c08c5e35442",
        "colab": {
          "base_uri": "https://localhost:8080/"
        }
      },
      "execution_count": 17,
      "outputs": [
        {
          "output_type": "execute_result",
          "data": {
            "text/plain": [
              "array([  1,   2,   4,   8,  16,  32,  64, 128, 256, 512])"
            ]
          },
          "metadata": {},
          "execution_count": 17
        }
      ]
    },
    {
      "cell_type": "markdown",
      "metadata": {
        "id": "KBuHu7Mng2Y5"
      },
      "source": [
        "### 1D vs 2D array"
      ]
    },
    {
      "cell_type": "code",
      "execution_count": 18,
      "metadata": {
        "colab": {
          "base_uri": "https://localhost:8080/"
        },
        "id": "1a1g17LScpK9",
        "outputId": "e714e23a-7994-42ae-be80-c9dac11989f2"
      },
      "outputs": [
        {
          "output_type": "stream",
          "name": "stdout",
          "text": [
            "(10,)\n"
          ]
        },
        {
          "output_type": "execute_result",
          "data": {
            "text/plain": [
              "array([ 0,  1,  4,  9, 16, 25, 36, 49, 64, 81])"
            ]
          },
          "metadata": {},
          "execution_count": 18
        }
      ],
      "source": [
        "array1D = np.arange(10)*np.arange(10)\n",
        "print(array1D.shape)\n",
        "array1D"
      ]
    },
    {
      "cell_type": "code",
      "execution_count": 19,
      "metadata": {
        "colab": {
          "base_uri": "https://localhost:8080/"
        },
        "id": "TEkHHkPVlcta",
        "outputId": "3efd26ff-b9cb-490d-b766-dc5b1fccfdf1"
      },
      "outputs": [
        {
          "output_type": "stream",
          "name": "stdout",
          "text": [
            "(10, 1)\n"
          ]
        },
        {
          "output_type": "execute_result",
          "data": {
            "text/plain": [
              "array([[0],\n",
              "       [1],\n",
              "       [2],\n",
              "       [3],\n",
              "       [4],\n",
              "       [5],\n",
              "       [6],\n",
              "       [7],\n",
              "       [8],\n",
              "       [9]])"
            ]
          },
          "metadata": {},
          "execution_count": 19
        }
      ],
      "source": [
        "array2D = np.arange(10).reshape(10,1)\n",
        "print(array2D.shape)\n",
        "array2D"
      ]
    },
    {
      "cell_type": "code",
      "execution_count": 20,
      "metadata": {
        "colab": {
          "base_uri": "https://localhost:8080/"
        },
        "id": "n9MqPp9WcpK9",
        "outputId": "a04dbf18-1bc3-433d-c79f-260be0787988"
      },
      "outputs": [
        {
          "output_type": "execute_result",
          "data": {
            "text/plain": [
              "array([[  0,   0,   0,   0,   0,   0,   0,   0,   0,   0],\n",
              "       [  0,   1,   4,   9,  16,  25,  36,  49,  64,  81],\n",
              "       [  0,   2,   8,  18,  32,  50,  72,  98, 128, 162],\n",
              "       [  0,   3,  12,  27,  48,  75, 108, 147, 192, 243],\n",
              "       [  0,   4,  16,  36,  64, 100, 144, 196, 256, 324],\n",
              "       [  0,   5,  20,  45,  80, 125, 180, 245, 320, 405],\n",
              "       [  0,   6,  24,  54,  96, 150, 216, 294, 384, 486],\n",
              "       [  0,   7,  28,  63, 112, 175, 252, 343, 448, 567],\n",
              "       [  0,   8,  32,  72, 128, 200, 288, 392, 512, 648],\n",
              "       [  0,   9,  36,  81, 144, 225, 324, 441, 576, 729]])"
            ]
          },
          "metadata": {},
          "execution_count": 20
        }
      ],
      "source": [
        "array2D * array1D"
      ]
    },
    {
      "cell_type": "markdown",
      "metadata": {
        "id": "4m52F0GLcpK-"
      },
      "source": [
        "### Distinction between numpy 1D arrays and numpy 2D arrays\n",
        "\n",
        "This tends to cause a lot of confusion for new numpy users.\n",
        "Follow the below examples carefully to understand the distinction."
      ]
    },
    {
      "cell_type": "code",
      "execution_count": 21,
      "metadata": {
        "colab": {
          "base_uri": "https://localhost:8080/"
        },
        "id": "hOS5NmDccpK_",
        "outputId": "2f2f3c64-d086-45f7-8a9c-4bbdf4cb79f2"
      },
      "outputs": [
        {
          "output_type": "stream",
          "name": "stdout",
          "text": [
            "[0. 0. 0. 0. 0. 0. 0. 0. 0. 0.]\n"
          ]
        },
        {
          "output_type": "execute_result",
          "data": {
            "text/plain": [
              "(10,)"
            ]
          },
          "metadata": {},
          "execution_count": 21
        }
      ],
      "source": [
        "Z = np.zeros(10)\n",
        "print(Z)\n",
        "Z.shape"
      ]
    },
    {
      "cell_type": "code",
      "execution_count": 22,
      "metadata": {
        "colab": {
          "base_uri": "https://localhost:8080/"
        },
        "id": "UxttJFMKcpK_",
        "outputId": "2cc1e2c1-e9d4-4d19-fb7a-9240b44ceafe"
      },
      "outputs": [
        {
          "output_type": "stream",
          "name": "stdout",
          "text": [
            "[[0.]\n",
            " [0.]\n",
            " [0.]\n",
            " [0.]\n",
            " [0.]\n",
            " [0.]\n",
            " [0.]\n",
            " [0.]\n",
            " [0.]\n",
            " [0.]]\n"
          ]
        },
        {
          "output_type": "execute_result",
          "data": {
            "text/plain": [
              "(10, 1)"
            ]
          },
          "metadata": {},
          "execution_count": 22
        }
      ],
      "source": [
        "# Create 2D array by dimension\n",
        "Z = np.zeros((10,1))\n",
        "print(Z)\n",
        "Z.shape"
      ]
    },
    {
      "cell_type": "code",
      "execution_count": 23,
      "metadata": {
        "colab": {
          "base_uri": "https://localhost:8080/"
        },
        "id": "ORpO8ZaFcpK_",
        "outputId": "6bbbbfeb-e422-4a90-fe0a-1648826f2ee0"
      },
      "outputs": [
        {
          "output_type": "stream",
          "name": "stdout",
          "text": [
            "[[0.]\n",
            " [0.]\n",
            " [0.]\n",
            " [0.]\n",
            " [0.]\n",
            " [0.]\n",
            " [0.]\n",
            " [0.]\n",
            " [0.]\n",
            " [0.]]\n"
          ]
        },
        {
          "output_type": "execute_result",
          "data": {
            "text/plain": [
              "(10, 1)"
            ]
          },
          "metadata": {},
          "execution_count": 23
        }
      ],
      "source": [
        "# Create 2D array by reshape\n",
        "Z = np.zeros(10).reshape(10,1)\n",
        "print(Z)\n",
        "Z.shape"
      ]
    },
    {
      "cell_type": "code",
      "execution_count": 24,
      "metadata": {
        "colab": {
          "base_uri": "https://localhost:8080/"
        },
        "id": "-AiQ3VrVl2hN",
        "outputId": "dfda3e34-a9e8-4dc3-c5eb-d8a839584c31"
      },
      "outputs": [
        {
          "output_type": "execute_result",
          "data": {
            "text/plain": [
              "array([0., 0., 0., 0., 0., 0., 0., 0., 0., 0.])"
            ]
          },
          "metadata": {},
          "execution_count": 24
        }
      ],
      "source": [
        "Z.squeeze() #remove axis with length = 1"
      ]
    },
    {
      "cell_type": "code",
      "execution_count": 25,
      "metadata": {
        "colab": {
          "base_uri": "https://localhost:8080/"
        },
        "id": "wtG-DpHAcpK_",
        "outputId": "e75e8c97-fb32-4ac1-da32-33391ea9d6a0"
      },
      "outputs": [
        {
          "output_type": "stream",
          "name": "stdout",
          "text": [
            "[[[[0. 0. 0.]\n",
            "   [0. 0. 0.]]]]\n",
            "(1, 1, 2, 3) \n",
            "\n",
            "[[0. 0. 0.]\n",
            " [0. 0. 0.]]\n",
            "(2, 3)\n"
          ]
        }
      ],
      "source": [
        "# squeeze Remove axes of length one\n",
        "Z = np.zeros(6).reshape(1, 1, 2,3)\n",
        "print(Z)\n",
        "print(Z.shape, '\\n')\n",
        "\n",
        "Z_squeeze = Z.squeeze()\n",
        "print(Z_squeeze)\n",
        "print(Z_squeeze.shape)\n"
      ]
    },
    {
      "cell_type": "code",
      "execution_count": 26,
      "metadata": {
        "colab": {
          "base_uri": "https://localhost:8080/"
        },
        "id": "BonXzKqucpLA",
        "outputId": "b61b9a41-97ea-4ea0-8333-c0d7d60897c7"
      },
      "outputs": [
        {
          "output_type": "execute_result",
          "data": {
            "text/plain": [
              "(10, 10)"
            ]
          },
          "metadata": {},
          "execution_count": 26
        }
      ],
      "source": [
        "# Matrix Multiplication\n",
        "Mat = np.random.randn(10,10)\n",
        "Mat.shape"
      ]
    },
    {
      "cell_type": "code",
      "execution_count": 27,
      "metadata": {
        "colab": {
          "base_uri": "https://localhost:8080/"
        },
        "id": "Zgge9PBYcpLA",
        "outputId": "bc6fcae3-0544-46bb-955d-2d6f0d603cde"
      },
      "outputs": [
        {
          "output_type": "stream",
          "name": "stdout",
          "text": [
            "[[0]\n",
            " [1]\n",
            " [2]\n",
            " [3]\n",
            " [4]\n",
            " [5]\n",
            " [6]\n",
            " [7]\n",
            " [8]\n",
            " [9]]\n",
            "(10, 1)\n"
          ]
        }
      ],
      "source": [
        "Z = np.arange(10).reshape(10,1)\n",
        "print(Z)\n",
        "print(Z.shape)"
      ]
    },
    {
      "cell_type": "code",
      "execution_count": 28,
      "metadata": {
        "colab": {
          "base_uri": "https://localhost:8080/"
        },
        "id": "4PzWzG4Att7w",
        "outputId": "86a05d32-22ab-4b5a-f1b7-5ad151d1d33d"
      },
      "outputs": [
        {
          "output_type": "execute_result",
          "data": {
            "text/plain": [
              "array([[  6.18415753],\n",
              "       [  1.37214189],\n",
              "       [ 32.61422904],\n",
              "       [-23.24152584],\n",
              "       [  4.39040664],\n",
              "       [ -5.08435184],\n",
              "       [-31.99421188],\n",
              "       [-17.48648322],\n",
              "       [ -4.25403633],\n",
              "       [ 40.2884744 ]])"
            ]
          },
          "metadata": {},
          "execution_count": 28
        }
      ],
      "source": [
        "# (N, M) @ (M, K) = (N, K)\n",
        "Mat@Z"
      ]
    },
    {
      "cell_type": "code",
      "execution_count": 29,
      "metadata": {
        "colab": {
          "base_uri": "https://localhost:8080/",
          "height": 277
        },
        "id": "wNeR6q8mcpLA",
        "outputId": "27445665-ff4f-4e7a-9a5c-b4536853587a"
      },
      "outputs": [
        {
          "output_type": "stream",
          "name": "stdout",
          "text": [
            "(10, 10)\n",
            "(1, 10)\n"
          ]
        },
        {
          "output_type": "error",
          "ename": "ValueError",
          "evalue": "matmul: Input operand 1 has a mismatch in its core dimension 0, with gufunc signature (n?,k),(k,m?)->(n?,m?) (size 1 is different from 10)",
          "traceback": [
            "\u001b[0;31m---------------------------------------------------------------------------\u001b[0m",
            "\u001b[0;31mValueError\u001b[0m                                Traceback (most recent call last)",
            "\u001b[0;32m<ipython-input-29-3af881ce4938>\u001b[0m in \u001b[0;36m<cell line: 7>\u001b[0;34m()\u001b[0m\n\u001b[1;32m      5\u001b[0m \u001b[0;34m\u001b[0m\u001b[0m\n\u001b[1;32m      6\u001b[0m \u001b[0;31m# (N, M) @ (M, K) = (N, K)\u001b[0m\u001b[0;34m\u001b[0m\u001b[0;34m\u001b[0m\u001b[0m\n\u001b[0;32m----> 7\u001b[0;31m \u001b[0mMat\u001b[0m\u001b[0;34m@\u001b[0m\u001b[0mZ\u001b[0m \u001b[0;31m# (10, 10) @ (1, 10) NOT WORKING\u001b[0m\u001b[0;34m\u001b[0m\u001b[0;34m\u001b[0m\u001b[0m\n\u001b[0m",
            "\u001b[0;31mValueError\u001b[0m: matmul: Input operand 1 has a mismatch in its core dimension 0, with gufunc signature (n?,k),(k,m?)->(n?,m?) (size 1 is different from 10)"
          ]
        }
      ],
      "source": [
        "Z = np.arange(10).reshape(1,10)\n",
        "\n",
        "print(Mat.shape)\n",
        "print(Z.shape)\n",
        "\n",
        "# (N, M) @ (M, K) = (N, K)\n",
        "Mat@Z # (10, 10) @ (1, 10) NOT WORKING\n"
      ]
    },
    {
      "cell_type": "code",
      "execution_count": 30,
      "metadata": {
        "colab": {
          "base_uri": "https://localhost:8080/"
        },
        "id": "csqE3Sqq1_YX",
        "outputId": "2069acf0-4715-4dc0-8eee-4df020b8c8d0"
      },
      "outputs": [
        {
          "output_type": "execute_result",
          "data": {
            "text/plain": [
              "(1, 10)"
            ]
          },
          "metadata": {},
          "execution_count": 30
        }
      ],
      "source": [
        "(Z@Mat).shape"
      ]
    },
    {
      "cell_type": "code",
      "execution_count": 32,
      "metadata": {
        "colab": {
          "base_uri": "https://localhost:8080/"
        },
        "id": "WxkZh6mtcpLB",
        "outputId": "d047d94e-9b92-41c7-d269-0bc9d139b74e"
      },
      "outputs": [
        {
          "output_type": "stream",
          "name": "stdout",
          "text": [
            "0.0\n"
          ]
        },
        {
          "output_type": "execute_result",
          "data": {
            "text/plain": [
              "array([[0., 0., 0., 0., 0.],\n",
              "       [0., 0., 0., 0., 0.],\n",
              "       [0., 0., 0., 0., 0.],\n",
              "       [0., 0., 0., 0., 0.],\n",
              "       [0., 0., 0., 0., 0.]])"
            ]
          },
          "metadata": {},
          "execution_count": 32
        }
      ],
      "source": [
        "# array variable is also a pointer\n",
        "x = np.zeros((5,5))\n",
        "print(x[1,1])\n",
        "y = x.copy()\n",
        "x[1,1]= 2\n",
        "\n",
        "y"
      ]
    },
    {
      "cell_type": "markdown",
      "metadata": {
        "id": "6F8S5BDUcpLB"
      },
      "source": [
        "## Array Broadcasting\n",
        "\n",
        "Normally you only do arithmetic operations between arrays of the same dimension\n",
        "\n",
        "The smaller array of at least 1 dimension of size 1 is “broadcast” across the larger array so that they have compatible shapes by dimension."
      ]
    },
    {
      "cell_type": "code",
      "execution_count": 33,
      "metadata": {
        "colab": {
          "base_uri": "https://localhost:8080/"
        },
        "id": "Odab6zqGMpLE",
        "outputId": "7cf3a1e1-64af-45a0-8127-29ddd978d7b6"
      },
      "outputs": [
        {
          "output_type": "stream",
          "name": "stdout",
          "text": [
            "[0 1 2] \n",
            "\n",
            "[[0]\n",
            " [1]\n",
            " [2]] \n",
            "\n",
            "[[1. 1. 1.]\n",
            " [1. 1. 1.]\n",
            " [1. 1. 1.]] \n",
            "\n",
            "[[0. 0. 0.]\n",
            " [0. 0. 0.]\n",
            " [0. 0. 0.]\n",
            " [0. 0. 0.]\n",
            " [0. 0. 0.]\n",
            " [0. 0. 0.]] \n",
            "\n"
          ]
        }
      ],
      "source": [
        "a = np.arange(3)\n",
        "b = np.arange(3).reshape(3,1)\n",
        "c = np.ones((3,3))\n",
        "d = np.zeros((6,3))\n",
        "print(a, '\\n')\n",
        "print(b,'\\n')\n",
        "print(c,'\\n')\n",
        "print(d,'\\n')"
      ]
    },
    {
      "cell_type": "code",
      "execution_count": 37,
      "metadata": {
        "colab": {
          "base_uri": "https://localhost:8080/",
          "height": 244
        },
        "id": "UEsPlv7KcpLC",
        "outputId": "b9529fb9-d8fe-44df-c54b-d796f6c5db47"
      },
      "outputs": [
        {
          "output_type": "error",
          "ename": "ValueError",
          "evalue": "operands could not be broadcast together with shapes (3,3) (6,3) ",
          "traceback": [
            "\u001b[0;31m---------------------------------------------------------------------------\u001b[0m",
            "\u001b[0;31mValueError\u001b[0m                                Traceback (most recent call last)",
            "\u001b[0;32m<ipython-input-37-45065c76b761>\u001b[0m in \u001b[0;36m<cell line: 4>\u001b[0;34m()\u001b[0m\n\u001b[1;32m      2\u001b[0m \u001b[0;31m# c + c\u001b[0m\u001b[0;34m\u001b[0m\u001b[0;34m\u001b[0m\u001b[0m\n\u001b[1;32m      3\u001b[0m \u001b[0;31m# d + a\u001b[0m\u001b[0;34m\u001b[0m\u001b[0;34m\u001b[0m\u001b[0m\n\u001b[0;32m----> 4\u001b[0;31m \u001b[0mc\u001b[0m \u001b[0;34m+\u001b[0m \u001b[0md\u001b[0m\u001b[0;34m\u001b[0m\u001b[0;34m\u001b[0m\u001b[0m\n\u001b[0m",
            "\u001b[0;31mValueError\u001b[0m: operands could not be broadcast together with shapes (3,3) (6,3) "
          ]
        }
      ],
      "source": [
        "# c + 2\n",
        "# c + c\n",
        "# d + a\n",
        "c + d"
      ]
    },
    {
      "cell_type": "code",
      "execution_count": 38,
      "metadata": {
        "colab": {
          "base_uri": "https://localhost:8080/"
        },
        "id": "pP5l6yyDcpLC",
        "outputId": "81915fce-074e-432f-9955-edec7869420e"
      },
      "outputs": [
        {
          "output_type": "execute_result",
          "data": {
            "text/plain": [
              "array([[1.],\n",
              "       [1.],\n",
              "       [1.],\n",
              "       [1.],\n",
              "       [1.],\n",
              "       [1.]])"
            ]
          },
          "metadata": {},
          "execution_count": 38
        }
      ],
      "source": [
        "np.ones((6,1))"
      ]
    },
    {
      "cell_type": "code",
      "execution_count": 39,
      "metadata": {
        "colab": {
          "base_uri": "https://localhost:8080/"
        },
        "id": "R5Fp-4L3cpLD",
        "outputId": "11db4290-a876-4776-da23-83417e1ff9b7"
      },
      "outputs": [
        {
          "output_type": "execute_result",
          "data": {
            "text/plain": [
              "array([[1., 1., 1., 1., 1.]])"
            ]
          },
          "metadata": {},
          "execution_count": 39
        }
      ],
      "source": [
        "np.ones((1,5))"
      ]
    },
    {
      "cell_type": "code",
      "execution_count": 40,
      "metadata": {
        "colab": {
          "base_uri": "https://localhost:8080/"
        },
        "id": "YRiRURBPcpLD",
        "outputId": "0f03ac32-1a58-4efa-9eba-4c403ee16ef4"
      },
      "outputs": [
        {
          "output_type": "execute_result",
          "data": {
            "text/plain": [
              "array([[2., 2., 2., 2., 2.],\n",
              "       [2., 2., 2., 2., 2.],\n",
              "       [2., 2., 2., 2., 2.],\n",
              "       [2., 2., 2., 2., 2.],\n",
              "       [2., 2., 2., 2., 2.],\n",
              "       [2., 2., 2., 2., 2.]])"
            ]
          },
          "metadata": {},
          "execution_count": 40
        }
      ],
      "source": [
        "np.ones((6,1)) + np.ones((1,5))"
      ]
    },
    {
      "cell_type": "code",
      "execution_count": 41,
      "metadata": {
        "colab": {
          "base_uri": "https://localhost:8080/"
        },
        "id": "S0rfUgFtcpLD",
        "outputId": "8c144b9a-1945-4841-d39a-1f4893aaea2e"
      },
      "outputs": [
        {
          "output_type": "stream",
          "name": "stdout",
          "text": [
            "(4, 1)\n",
            "(1, 3) \n",
            "\n",
            "[[ 0]\n",
            " [10]\n",
            " [20]\n",
            " [30]] \n",
            "\n",
            "[[0 1 2]] \n",
            "\n"
          ]
        },
        {
          "output_type": "execute_result",
          "data": {
            "text/plain": [
              "array([[ 0,  1,  2],\n",
              "       [10, 11, 12],\n",
              "       [20, 21, 22],\n",
              "       [30, 31, 32]])"
            ]
          },
          "metadata": {},
          "execution_count": 41
        }
      ],
      "source": [
        "X = np.arange(4).reshape(-1,1)*10\n",
        "Y = np.arange(3).reshape(1,-1)\n",
        "print(X.shape)\n",
        "print(Y.shape,'\\n')\n",
        "print(X,'\\n')\n",
        "print(Y,'\\n')\n",
        "X+Y"
      ]
    },
    {
      "cell_type": "code",
      "source": [
        "A = np.zeros((5,3,2))\n",
        "A.reshape(-1,1).shape\n"
      ],
      "metadata": {
        "id": "D8WG-RjRBTPr",
        "outputId": "5009d087-ddbb-4cf6-ba66-3b591101d5b9",
        "colab": {
          "base_uri": "https://localhost:8080/"
        }
      },
      "execution_count": 43,
      "outputs": [
        {
          "output_type": "execute_result",
          "data": {
            "text/plain": [
              "(30, 1)"
            ]
          },
          "metadata": {},
          "execution_count": 43
        }
      ]
    },
    {
      "cell_type": "markdown",
      "metadata": {
        "id": "8Hv2qdGpluQl"
      },
      "source": [
        "it tries to duplicates every x’s col and y’s row (dim size = 1) to match the other arrays\n",
        "1. Make the two arrays have the same number of dimensions.\n",
        "  - If the numbers of dimensions of the two arrays are different, add new dimensions with size 1 to the head of the array with the smaller dimension.\n",
        "\n",
        "2. If there is a dimension whose size is not 1 in either of the two arrays, it cannot be broadcasted, and an error is raised."
      ]
    },
    {
      "cell_type": "markdown",
      "metadata": {
        "id": "MhdH-qrJcpLD"
      },
      "source": [
        "![](http://scipy-lectures.org/_images/numpy_broadcasting.png)"
      ]
    },
    {
      "cell_type": "markdown",
      "metadata": {
        "id": "2ls4P9gDcpLD"
      },
      "source": [
        "### Exercise (In-Lecture)\n",
        "create a 2D numpy array $A$ (shape = (5,10) ) such that $A_{ij} = i\\times j$, but without using list comprehensions. Use broadcasting instead\n"
      ]
    },
    {
      "cell_type": "code",
      "execution_count": null,
      "metadata": {
        "id": "4irE8JMJvArT"
      },
      "outputs": [],
      "source": [
        "# hint: check how it looks for\n",
        "#       np.arange(5).reshape(-1,1)\n",
        "#       np.arange(10).reshape(1,-1)"
      ]
    },
    {
      "cell_type": "code",
      "execution_count": 46,
      "metadata": {
        "id": "glYQOWEh35vm",
        "outputId": "38e008c4-5e7c-4f31-cc14-851bce2f46c2",
        "colab": {
          "base_uri": "https://localhost:8080/"
        }
      },
      "outputs": [
        {
          "output_type": "execute_result",
          "data": {
            "text/plain": [
              "array([[ 0,  0,  0,  0,  0,  0,  0,  0,  0,  0],\n",
              "       [ 0,  1,  2,  3,  4,  5,  6,  7,  8,  9],\n",
              "       [ 0,  2,  4,  6,  8, 10, 12, 14, 16, 18],\n",
              "       [ 0,  3,  6,  9, 12, 15, 18, 21, 24, 27],\n",
              "       [ 0,  4,  8, 12, 16, 20, 24, 28, 32, 36]])"
            ]
          },
          "metadata": {},
          "execution_count": 46
        }
      ],
      "source": [
        "# YOUR CODE HERE\n",
        "A = np.arange(5).reshape(-1, 1) * np.arange(10).reshape(1,-1)\n",
        "A"
      ]
    },
    {
      "cell_type": "markdown",
      "metadata": {
        "id": "v4e7Hp77cpLE"
      },
      "source": [
        "Use array broadcasting to create a (10,10) numpy array with values\n",
        "$$ A_{ij} = 2^i + j $$"
      ]
    },
    {
      "cell_type": "code",
      "execution_count": null,
      "metadata": {
        "id": "JAmO02Z-nDlT"
      },
      "outputs": [],
      "source": [
        "# Hint: Check the values of\n",
        "#       2**(np.arange(10).reshape(-1,1))\n",
        "#       np.arange(10).reshape(1,-1)"
      ]
    },
    {
      "cell_type": "code",
      "execution_count": 48,
      "metadata": {
        "id": "sajicgIO4Wcq",
        "outputId": "e1cfb85e-532e-4083-c605-1280d9c84be1",
        "colab": {
          "base_uri": "https://localhost:8080/"
        }
      },
      "outputs": [
        {
          "output_type": "execute_result",
          "data": {
            "text/plain": [
              "array([[  1,   2,   3,   4,   5,   6,   7,   8,   9,  10],\n",
              "       [  2,   3,   4,   5,   6,   7,   8,   9,  10,  11],\n",
              "       [  4,   5,   6,   7,   8,   9,  10,  11,  12,  13],\n",
              "       [  8,   9,  10,  11,  12,  13,  14,  15,  16,  17],\n",
              "       [ 16,  17,  18,  19,  20,  21,  22,  23,  24,  25],\n",
              "       [ 32,  33,  34,  35,  36,  37,  38,  39,  40,  41],\n",
              "       [ 64,  65,  66,  67,  68,  69,  70,  71,  72,  73],\n",
              "       [128, 129, 130, 131, 132, 133, 134, 135, 136, 137],\n",
              "       [256, 257, 258, 259, 260, 261, 262, 263, 264, 265],\n",
              "       [512, 513, 514, 515, 516, 517, 518, 519, 520, 521]])"
            ]
          },
          "metadata": {},
          "execution_count": 48
        }
      ],
      "source": [
        "# YOUR CODE HERE\n",
        "A = 2**(np.arange(10).reshape(-1, 1)) + np.arange(10).reshape(1, -1)\n",
        "A"
      ]
    },
    {
      "cell_type": "markdown",
      "metadata": {
        "id": "TKaxKNLns6vy"
      },
      "source": [
        "# Basic Section (End)"
      ]
    },
    {
      "cell_type": "markdown",
      "metadata": {
        "id": "SuT-q0hKcpLE"
      },
      "source": [
        "## Matrix creation\n",
        "\n",
        "There are some functions to create standard matrices"
      ]
    },
    {
      "cell_type": "code",
      "execution_count": 49,
      "metadata": {
        "colab": {
          "base_uri": "https://localhost:8080/"
        },
        "id": "m_AduRywcpLE",
        "outputId": "e9a7d315-35de-43ce-ba6f-896c057ea7de"
      },
      "outputs": [
        {
          "output_type": "execute_result",
          "data": {
            "text/plain": [
              "array([[1., 0., 0., 0., 0.],\n",
              "       [0., 1., 0., 0., 0.],\n",
              "       [0., 0., 1., 0., 0.],\n",
              "       [0., 0., 0., 1., 0.],\n",
              "       [0., 0., 0., 0., 1.]])"
            ]
          },
          "metadata": {},
          "execution_count": 49
        }
      ],
      "source": [
        "np.eye(5)"
      ]
    },
    {
      "cell_type": "code",
      "execution_count": 50,
      "metadata": {
        "colab": {
          "base_uri": "https://localhost:8080/"
        },
        "id": "ik1RQuxs4xaQ",
        "outputId": "ed7c7d87-9dcb-4bcd-f5be-5f504e6b4100"
      },
      "outputs": [
        {
          "output_type": "execute_result",
          "data": {
            "text/plain": [
              "array([0, 1, 2, 3, 4, 5, 6, 7, 8, 9])"
            ]
          },
          "metadata": {},
          "execution_count": 50
        }
      ],
      "source": [
        "np.arange(10)"
      ]
    },
    {
      "cell_type": "code",
      "execution_count": 51,
      "metadata": {
        "colab": {
          "base_uri": "https://localhost:8080/"
        },
        "id": "bc0OrhdycpLE",
        "outputId": "269fd4b2-f30e-4bf3-b5f0-09fde9f6b8f5"
      },
      "outputs": [
        {
          "output_type": "execute_result",
          "data": {
            "text/plain": [
              "array([[0, 0, 0, 0, 0, 0, 0, 0, 0, 0],\n",
              "       [0, 1, 0, 0, 0, 0, 0, 0, 0, 0],\n",
              "       [0, 0, 2, 0, 0, 0, 0, 0, 0, 0],\n",
              "       [0, 0, 0, 3, 0, 0, 0, 0, 0, 0],\n",
              "       [0, 0, 0, 0, 4, 0, 0, 0, 0, 0],\n",
              "       [0, 0, 0, 0, 0, 5, 0, 0, 0, 0],\n",
              "       [0, 0, 0, 0, 0, 0, 6, 0, 0, 0],\n",
              "       [0, 0, 0, 0, 0, 0, 0, 7, 0, 0],\n",
              "       [0, 0, 0, 0, 0, 0, 0, 0, 8, 0],\n",
              "       [0, 0, 0, 0, 0, 0, 0, 0, 0, 9]])"
            ]
          },
          "metadata": {},
          "execution_count": 51
        }
      ],
      "source": [
        "# np.diag: Extract a diagonal or construct a diagonal array.\n",
        "M = np.diag(np.arange(10))#.reshape(5,20)\n",
        "M"
      ]
    },
    {
      "cell_type": "code",
      "execution_count": 52,
      "metadata": {
        "colab": {
          "base_uri": "https://localhost:8080/"
        },
        "id": "CCH9_P_0cpLF",
        "outputId": "ae1b0ffa-d704-42a2-bde1-d5ff1cd87eb6"
      },
      "outputs": [
        {
          "output_type": "execute_result",
          "data": {
            "text/plain": [
              "array([0, 1, 2, 3, 4, 5, 6, 7, 8, 9])"
            ]
          },
          "metadata": {},
          "execution_count": 52
        }
      ],
      "source": [
        "np.diag(M)"
      ]
    },
    {
      "cell_type": "code",
      "execution_count": 53,
      "metadata": {
        "colab": {
          "base_uri": "https://localhost:8080/"
        },
        "id": "p6xq39cCcpLF",
        "outputId": "7b28abd1-4fa0-4c8b-90a1-51da638e233a"
      },
      "outputs": [
        {
          "output_type": "stream",
          "name": "stdout",
          "text": [
            "(5, 3)\n"
          ]
        },
        {
          "output_type": "execute_result",
          "data": {
            "text/plain": [
              "array([[ 0,  1,  2],\n",
              "       [ 3,  4,  5],\n",
              "       [ 6,  7,  8],\n",
              "       [ 9, 10, 11],\n",
              "       [12, 13, 14]])"
            ]
          },
          "metadata": {},
          "execution_count": 53
        }
      ],
      "source": [
        "# Transpose of the matrix\n",
        "A = np.arange(15).reshape(5,3)\n",
        "print(A.shape)\n",
        "A"
      ]
    },
    {
      "cell_type": "code",
      "execution_count": 54,
      "metadata": {
        "colab": {
          "base_uri": "https://localhost:8080/"
        },
        "id": "5MCDBv15jDy9",
        "outputId": "3d934c23-af3b-400f-b0c5-7519b5dc0510"
      },
      "outputs": [
        {
          "output_type": "execute_result",
          "data": {
            "text/plain": [
              "array([[ 0,  3,  6,  9, 12],\n",
              "       [ 1,  4,  7, 10, 13],\n",
              "       [ 2,  5,  8, 11, 14]])"
            ]
          },
          "metadata": {},
          "execution_count": 54
        }
      ],
      "source": [
        "A.T"
      ]
    },
    {
      "cell_type": "code",
      "execution_count": 55,
      "metadata": {
        "colab": {
          "base_uri": "https://localhost:8080/"
        },
        "id": "xrExcBTqcpLF",
        "outputId": "30c0b1f1-0d67-4c17-ad9b-822549e812bc"
      },
      "outputs": [
        {
          "output_type": "execute_result",
          "data": {
            "text/plain": [
              "array([[ 0,  3,  6,  9, 12],\n",
              "       [ 1,  4,  7, 10, 13],\n",
              "       [ 2,  5,  8, 11, 14]])"
            ]
          },
          "metadata": {},
          "execution_count": 55
        }
      ],
      "source": [
        "A.transpose()"
      ]
    },
    {
      "cell_type": "markdown",
      "metadata": {
        "id": "Aa_FofGIoIyQ"
      },
      "source": [
        "### random seed"
      ]
    },
    {
      "cell_type": "code",
      "execution_count": 56,
      "metadata": {
        "colab": {
          "base_uri": "https://localhost:8080/"
        },
        "id": "uqSzWqbaoulP",
        "outputId": "4557bf78-2d69-42df-d4a7-e0eb8235fd92"
      },
      "outputs": [
        {
          "output_type": "execute_result",
          "data": {
            "text/plain": [
              "array([[0.27071453, 0.7787426 , 0.26977103, 0.14339811, 0.75946983],\n",
              "       [0.31504401, 0.45623695, 0.47256913, 0.10542571, 0.00684927],\n",
              "       [0.3150413 , 0.4170825 , 0.39331545, 0.59578278, 0.11265685],\n",
              "       [0.41139584, 0.29191492, 0.42523396, 0.25837608, 0.47141152],\n",
              "       [0.34202741, 0.56350169, 0.29173968, 0.15248661, 0.01425795]])"
            ]
          },
          "metadata": {},
          "execution_count": 56
        }
      ],
      "source": [
        "np.random.rand(5,5)"
      ]
    },
    {
      "cell_type": "code",
      "execution_count": 59,
      "metadata": {
        "colab": {
          "base_uri": "https://localhost:8080/"
        },
        "id": "G6gxAaVhcpLG",
        "outputId": "c118aeac-e067-4b16-9b0e-27f9f79526ac"
      },
      "outputs": [
        {
          "output_type": "execute_result",
          "data": {
            "text/plain": [
              "array([[0.5488135 , 0.71518937, 0.60276338, 0.54488318, 0.4236548 ],\n",
              "       [0.64589411, 0.43758721, 0.891773  , 0.96366276, 0.38344152],\n",
              "       [0.79172504, 0.52889492, 0.56804456, 0.92559664, 0.07103606],\n",
              "       [0.0871293 , 0.0202184 , 0.83261985, 0.77815675, 0.87001215],\n",
              "       [0.97861834, 0.79915856, 0.46147936, 0.78052918, 0.11827443]])"
            ]
          },
          "metadata": {},
          "execution_count": 59
        }
      ],
      "source": [
        "np.random.seed(0) #control the random state\n",
        "np.random.rand(5,5)"
      ]
    },
    {
      "cell_type": "markdown",
      "metadata": {
        "id": "c32AfJCMcpLG"
      },
      "source": [
        "### Exercise (Post Lecture)\n",
        "\n",
        "Create this matrix   \n",
        "\n",
        "```python\n",
        "array([[5., 1., 1., 1., 1., 1., 1., 1., 1., 1., 1.],\n",
        "       [1., 4., 1., 1., 1., 1., 1., 1., 1., 1., 1.],\n",
        "       [1., 1., 3., 1., 1., 1., 1., 1., 1., 1., 1.],\n",
        "       [1., 1., 1., 2., 1., 1., 1., 1., 1., 1., 1.],\n",
        "       [1., 1., 1., 1., 1., 1., 1., 1., 1., 1., 1.],\n",
        "       [1., 1., 1., 1., 1., 0., 1., 1., 1., 1., 1.],\n",
        "       [1., 1., 1., 1., 1., 1., 1., 1., 1., 1., 1.],\n",
        "       [1., 1., 1., 1., 1., 1., 1., 2., 1., 1., 1.],\n",
        "       [1., 1., 1., 1., 1., 1., 1., 1., 3., 1., 1.],\n",
        "       [1., 1., 1., 1., 1., 1., 1., 1., 1., 4., 1.],\n",
        "       [1., 1., 1., 1., 1., 1., 1., 1., 1., 1., 5.]])\n",
        "```"
      ]
    },
    {
      "cell_type": "code",
      "execution_count": null,
      "metadata": {
        "id": "H0546O8UcpLH"
      },
      "outputs": [],
      "source": [
        "# YOUR CODE HERE"
      ]
    },
    {
      "cell_type": "markdown",
      "metadata": {
        "id": "7sBUB-10cpLH"
      },
      "source": [
        "## Array Indexing and Slicing"
      ]
    },
    {
      "cell_type": "code",
      "execution_count": 60,
      "metadata": {
        "colab": {
          "base_uri": "https://localhost:8080/"
        },
        "id": "w_fypLsicpLH",
        "outputId": "04f43775-6c8b-4f57-ccd4-1c21e681a474"
      },
      "outputs": [
        {
          "output_type": "execute_result",
          "data": {
            "text/plain": [
              "array([0, 1, 2, 3, 4, 5, 6, 7, 8, 9])"
            ]
          },
          "metadata": {},
          "execution_count": 60
        }
      ],
      "source": [
        "import numpy as np\n",
        "arr = np.arange(10)\n",
        "arr"
      ]
    },
    {
      "cell_type": "code",
      "execution_count": 61,
      "metadata": {
        "colab": {
          "base_uri": "https://localhost:8080/"
        },
        "id": "ek7TJqX-cpLH",
        "outputId": "fce2a3cf-27e4-4775-dbb6-c3a425e3e3b6"
      },
      "outputs": [
        {
          "output_type": "execute_result",
          "data": {
            "text/plain": [
              "5"
            ]
          },
          "metadata": {},
          "execution_count": 61
        }
      ],
      "source": [
        "arr[5]"
      ]
    },
    {
      "cell_type": "code",
      "execution_count": 65,
      "metadata": {
        "colab": {
          "base_uri": "https://localhost:8080/"
        },
        "id": "3VwM84XPRCIV",
        "outputId": "3caba16f-172b-47de-f663-bdbe66de3f53"
      },
      "outputs": [
        {
          "output_type": "execute_result",
          "data": {
            "text/plain": [
              "7"
            ]
          },
          "metadata": {},
          "execution_count": 65
        }
      ],
      "source": [
        "arr[-3]"
      ]
    },
    {
      "cell_type": "code",
      "execution_count": 66,
      "metadata": {
        "colab": {
          "base_uri": "https://localhost:8080/"
        },
        "id": "WsRvDLWacpLI",
        "outputId": "b88e05af-e8db-42ca-864c-f75dae55f5d1"
      },
      "outputs": [
        {
          "output_type": "execute_result",
          "data": {
            "text/plain": [
              "array([3, 4, 5, 6])"
            ]
          },
          "metadata": {},
          "execution_count": 66
        }
      ],
      "source": [
        "arr[3:7]"
      ]
    },
    {
      "cell_type": "code",
      "execution_count": 67,
      "metadata": {
        "colab": {
          "base_uri": "https://localhost:8080/"
        },
        "id": "DH2tZoZ5cpLI",
        "outputId": "64326f02-7111-43a1-8de8-72b4b06ae79b"
      },
      "outputs": [
        {
          "output_type": "execute_result",
          "data": {
            "text/plain": [
              "array([2, 3, 4, 5, 6, 7, 8, 9])"
            ]
          },
          "metadata": {},
          "execution_count": 67
        }
      ],
      "source": [
        "arr[2:]"
      ]
    },
    {
      "cell_type": "code",
      "execution_count": 68,
      "metadata": {
        "colab": {
          "base_uri": "https://localhost:8080/"
        },
        "id": "7OASWxJncpLI",
        "outputId": "bd119047-92bc-4c52-cbb7-8360c1e7579c"
      },
      "outputs": [
        {
          "output_type": "execute_result",
          "data": {
            "text/plain": [
              "array([0, 1, 2, 3, 4, 5, 6])"
            ]
          },
          "metadata": {},
          "execution_count": 68
        }
      ],
      "source": [
        "arr[0:-3]"
      ]
    },
    {
      "cell_type": "code",
      "execution_count": 69,
      "metadata": {
        "colab": {
          "base_uri": "https://localhost:8080/"
        },
        "id": "yjg5vIYbcpLI",
        "outputId": "4cd79331-ded5-4f08-a20f-9076935f3b86"
      },
      "outputs": [
        {
          "output_type": "execute_result",
          "data": {
            "text/plain": [
              "array([0, 2, 4])"
            ]
          },
          "metadata": {},
          "execution_count": 69
        }
      ],
      "source": [
        "arr[0:6:2] #similar as range(0,6,2)"
      ]
    },
    {
      "cell_type": "code",
      "execution_count": 70,
      "metadata": {
        "colab": {
          "base_uri": "https://localhost:8080/"
        },
        "id": "YvNXaLtPcpLI",
        "outputId": "dd7a3e27-046a-4b84-911f-ac213dbdea17"
      },
      "outputs": [
        {
          "output_type": "execute_result",
          "data": {
            "text/plain": [
              "array([5, 3, 1])"
            ]
          },
          "metadata": {},
          "execution_count": 70
        }
      ],
      "source": [
        "arr[5:0:-2]"
      ]
    },
    {
      "cell_type": "code",
      "execution_count": 71,
      "metadata": {
        "colab": {
          "base_uri": "https://localhost:8080/"
        },
        "id": "woqqKnphcpLI",
        "outputId": "43900443-80d4-4f6f-ea19-0f7a30a1ce7e"
      },
      "outputs": [
        {
          "output_type": "execute_result",
          "data": {
            "text/plain": [
              "array([9, 8, 7, 6, 5, 4, 3, 2, 1, 0])"
            ]
          },
          "metadata": {},
          "execution_count": 71
        }
      ],
      "source": [
        "arr[::-1]"
      ]
    },
    {
      "cell_type": "code",
      "execution_count": 72,
      "metadata": {
        "colab": {
          "base_uri": "https://localhost:8080/"
        },
        "id": "SbWOYU1rcpLJ",
        "outputId": "d35b0525-b3a8-4662-b08d-da7c4d14e090"
      },
      "outputs": [
        {
          "output_type": "execute_result",
          "data": {
            "text/plain": [
              "array([0, 1, 2, 3, 4, 5, 6, 7, 8, 9])"
            ]
          },
          "metadata": {},
          "execution_count": 72
        }
      ],
      "source": [
        "arr[:]"
      ]
    },
    {
      "cell_type": "code",
      "execution_count": 73,
      "metadata": {
        "colab": {
          "base_uri": "https://localhost:8080/"
        },
        "id": "SUQJIQgakNze",
        "outputId": "9ed67b76-0918-481c-ecb8-9f1a95ae5421"
      },
      "outputs": [
        {
          "output_type": "execute_result",
          "data": {
            "text/plain": [
              "array([0, 1, 2, 3, 4, 5, 6, 7, 8, 9])"
            ]
          },
          "metadata": {},
          "execution_count": 73
        }
      ],
      "source": [
        "arr"
      ]
    },
    {
      "cell_type": "code",
      "execution_count": 75,
      "metadata": {
        "colab": {
          "base_uri": "https://localhost:8080/"
        },
        "id": "8cIHEi6Mn_Sf",
        "outputId": "7a1dff6d-2597-4dcc-8c9a-a1570aa727ee"
      },
      "outputs": [
        {
          "output_type": "stream",
          "name": "stdout",
          "text": [
            "[[ 0  1  2  3  4  5]\n",
            " [10 11 12 13 14 15]\n",
            " [20 21 22 23 24 25]\n",
            " [30 31 32 33 34 35]\n",
            " [40 41 42 43 44 45]\n",
            " [50 51 52 53 54 55]]\n"
          ]
        },
        {
          "output_type": "execute_result",
          "data": {
            "text/plain": [
              "array([[44, 45],\n",
              "       [54, 55]])"
            ]
          },
          "metadata": {},
          "execution_count": 75
        }
      ],
      "source": [
        "a = 10*np.arange(6).reshape(-1,1)+np.arange(6)\n",
        "print(a)\n",
        "a[4:, 4:]"
      ]
    },
    {
      "cell_type": "markdown",
      "metadata": {
        "id": "tapilH8YcpLJ"
      },
      "source": [
        "Can use all the above slicing methods for each dimension of a multidemnsional array\n",
        "![](http://scipy-lectures.org/_images/numpy_indexing.png)"
      ]
    },
    {
      "cell_type": "markdown",
      "metadata": {
        "id": "4tUcmolfcpLJ"
      },
      "source": [
        "try it yourself"
      ]
    },
    {
      "cell_type": "code",
      "source": [
        "for x in [0,4,6]:\n",
        "  a[2::2, ::x] = x\n",
        ""
      ],
      "metadata": {
        "id": "NUNkKWXGEm5X"
      },
      "execution_count": null,
      "outputs": []
    },
    {
      "cell_type": "code",
      "execution_count": 76,
      "metadata": {
        "colab": {
          "base_uri": "https://localhost:8080/"
        },
        "id": "uVI7HuiecpLJ",
        "outputId": "0688e4c7-10fb-4883-f505-829d1260e26a"
      },
      "outputs": [
        {
          "output_type": "execute_result",
          "data": {
            "text/plain": [
              "array([[20, 22, 24],\n",
              "       [40, 42, 44]])"
            ]
          },
          "metadata": {},
          "execution_count": 76
        }
      ],
      "source": [
        "a[2::2,::2]"
      ]
    },
    {
      "cell_type": "code",
      "execution_count": 77,
      "metadata": {
        "colab": {
          "base_uri": "https://localhost:8080/"
        },
        "id": "wkKUYYQTcpLK",
        "outputId": "0a483cf2-89ae-43a5-f125-a24b38760fce"
      },
      "outputs": [
        {
          "output_type": "execute_result",
          "data": {
            "text/plain": [
              "array([[     0,      1,      2,      3,      4,      5],\n",
              "       [    10,     11,     12,     13,     14,     15],\n",
              "       [100000,     21, 100000,     23, 100000,     25],\n",
              "       [    30,     31,     32,     33,     34,     35],\n",
              "       [100000,     41, 100000,     43, 100000,     45],\n",
              "       [    50,     51,     52,     53,     54,     55]])"
            ]
          },
          "metadata": {},
          "execution_count": 77
        }
      ],
      "source": [
        "a[2::2,::2] = 100000\n",
        "a"
      ]
    },
    {
      "cell_type": "markdown",
      "metadata": {
        "id": "y-mTwEvkcpLK"
      },
      "source": [
        "### Exercise (Post-Lecture)\n",
        "Create the following matrix\n",
        "```python\n",
        "array([[1., 1., 1., 1., 1., 1., 1., 1., 1., 1.],\n",
        "       [1., 1., 1., 1., 1., 1., 1., 1., 1., 1.],\n",
        "       [1., 1., 0., 0., 0., 0., 0., 0., 1., 1.],\n",
        "       [1., 1., 0., 0., 0., 0., 0., 0., 1., 1.],\n",
        "       [1., 1., 0., 0., 0., 0., 0., 0., 1., 1.],\n",
        "       [1., 1., 0., 0., 0., 0., 0., 0., 1., 1.],\n",
        "       [1., 1., 0., 0., 0., 0., 0., 0., 1., 1.],\n",
        "       [1., 1., 0., 0., 0., 0., 0., 0., 1., 1.],\n",
        "       [1., 1., 1., 1., 1., 1., 1., 1., 1., 1.],\n",
        "       [1., 1., 1., 1., 1., 1., 1., 1., 1., 1.]])\n",
        "```"
      ]
    },
    {
      "cell_type": "code",
      "execution_count": null,
      "metadata": {
        "id": "-kXUXbGRcpLK"
      },
      "outputs": [],
      "source": [
        "# YOUR CODE HERE"
      ]
    },
    {
      "cell_type": "markdown",
      "metadata": {
        "id": "UHi8Zj4acpLK"
      },
      "source": [
        "Create the following matrix\n",
        "```python\n",
        "array([[-1., -1., -1., -1., -1., -1., -1., -1., -1., -1.],\n",
        "       [-1.,  0.,  1.,  2.,  3.,  4., -1., -1., -1., -1.],\n",
        "       [-1.,  5.,  6.,  7.,  8.,  9., -1., -1., -1., -1.],\n",
        "       [-1., 10., 11., 12., 13., 14., -1., -1., -1., -1.],\n",
        "       [-1., 15., 16., 17., 18., 19., -1., -1., -1., -1.],\n",
        "       [-1., 20., 21., 22., 23., 24., -1., -1., -1., -1.],\n",
        "       [-1., 25., 26., 27., 28., 29., -1., -1., -1., -1.],\n",
        "       [-1., 30., 31., 32., 33., 34., -1., -1., -1., -1.],\n",
        "       [-1., 35., 36., 37., 38., 39., -1., -1., -1., -1.],\n",
        "       [-1., -1., -1., -1., -1., -1., -1., -1., -1., -1.]])\n",
        "```"
      ]
    },
    {
      "cell_type": "code",
      "execution_count": null,
      "metadata": {
        "id": "OfG1CN9FcpLK"
      },
      "outputs": [],
      "source": [
        "# YOUR CODE HERE"
      ]
    },
    {
      "cell_type": "markdown",
      "metadata": {
        "id": "r1a-dglxcpLL"
      },
      "source": [
        "# Fancy Array Indexing\n",
        "\n",
        "We can use numpy arrays as an index for other numpy arrays"
      ]
    },
    {
      "cell_type": "code",
      "execution_count": 78,
      "metadata": {
        "colab": {
          "base_uri": "https://localhost:8080/"
        },
        "id": "Q8xYPQexcpLL",
        "outputId": "4fbdf87f-06c6-4944-d428-f67f7ff953ca"
      },
      "outputs": [
        {
          "output_type": "execute_result",
          "data": {
            "text/plain": [
              "array([0, 1, 2, 3, 4, 5, 6, 7, 8, 9])"
            ]
          },
          "metadata": {},
          "execution_count": 78
        }
      ],
      "source": [
        "arr = np.arange(10)\n",
        "arr"
      ]
    },
    {
      "cell_type": "code",
      "execution_count": 79,
      "metadata": {
        "colab": {
          "base_uri": "https://localhost:8080/"
        },
        "id": "wccPNb_KcpLL",
        "outputId": "b619986c-eb62-485c-80ed-eeecc324f600"
      },
      "outputs": [
        {
          "output_type": "execute_result",
          "data": {
            "text/plain": [
              "array([ 7, -1,  2])"
            ]
          },
          "metadata": {},
          "execution_count": 79
        }
      ],
      "source": [
        "# use array/list/tuple as indexs\n",
        "idx = np.array([7,-1,2])\n",
        "idx"
      ]
    },
    {
      "cell_type": "code",
      "execution_count": 80,
      "metadata": {
        "colab": {
          "base_uri": "https://localhost:8080/"
        },
        "id": "_b6P6mzecpLL",
        "outputId": "95e9890d-0dfc-4612-9f60-be6fbafdb55f"
      },
      "outputs": [
        {
          "output_type": "stream",
          "name": "stdout",
          "text": [
            "[7 9 2]\n"
          ]
        },
        {
          "output_type": "execute_result",
          "data": {
            "text/plain": [
              "array([ 0,  1, -1,  3,  4,  5,  6, -1,  8, -1])"
            ]
          },
          "metadata": {},
          "execution_count": 80
        }
      ],
      "source": [
        "print(arr[idx])\n",
        "arr[idx] = -1\n",
        "arr"
      ]
    },
    {
      "cell_type": "code",
      "execution_count": 81,
      "metadata": {
        "colab": {
          "base_uri": "https://localhost:8080/"
        },
        "id": "0u7cOoKVcpLL",
        "outputId": "40201a5f-9ca4-44a6-bc04-88aa977d1ac4"
      },
      "outputs": [
        {
          "output_type": "execute_result",
          "data": {
            "text/plain": [
              "array([False, False,  True, False, False, False, False,  True, False,\n",
              "        True])"
            ]
          },
          "metadata": {},
          "execution_count": 81
        }
      ],
      "source": [
        "# use bool array\n",
        "arr<0"
      ]
    },
    {
      "cell_type": "code",
      "execution_count": 82,
      "metadata": {
        "colab": {
          "base_uri": "https://localhost:8080/"
        },
        "id": "CBSA1MaOcpLL",
        "outputId": "2fad4858-1fcf-452f-ee1a-f9cabc4f5fcb"
      },
      "outputs": [
        {
          "output_type": "execute_result",
          "data": {
            "text/plain": [
              "array([  0,   1, 100,   3,   4,   5,   6, 100,   8, 100])"
            ]
          },
          "metadata": {},
          "execution_count": 82
        }
      ],
      "source": [
        "arr[arr<0] = 100\n",
        "arr"
      ]
    },
    {
      "cell_type": "markdown",
      "metadata": {
        "id": "ieEw3imtcpLM"
      },
      "source": [
        "For multidimensional array, array indexing works different from slicing"
      ]
    },
    {
      "cell_type": "code",
      "execution_count": 83,
      "metadata": {
        "colab": {
          "base_uri": "https://localhost:8080/"
        },
        "id": "gLwyjAAtcpLM",
        "outputId": "7097c579-1b96-47ca-bcee-47f62aa295d1"
      },
      "outputs": [
        {
          "output_type": "execute_result",
          "data": {
            "text/plain": [
              "array([[0., 0., 0., 0., 0., 0.],\n",
              "       [0., 0., 0., 0., 0., 0.],\n",
              "       [1., 1., 1., 0., 0., 0.],\n",
              "       [1., 1., 1., 0., 0., 0.],\n",
              "       [1., 1., 1., 0., 0., 0.],\n",
              "       [0., 0., 0., 0., 0., 0.]])"
            ]
          },
          "metadata": {},
          "execution_count": 83
        }
      ],
      "source": [
        "X = np.zeros((6,6))\n",
        "X[2:5,0:3]=1\n",
        "X"
      ]
    },
    {
      "cell_type": "code",
      "execution_count": 84,
      "metadata": {
        "colab": {
          "base_uri": "https://localhost:8080/"
        },
        "id": "OgszejT3ky5c",
        "outputId": "3ac5156f-e31e-41a3-ed98-f94008c223e8"
      },
      "outputs": [
        {
          "output_type": "execute_result",
          "data": {
            "text/plain": [
              "(array([2, 3, 4]), array([0, 1, 2]))"
            ]
          },
          "metadata": {},
          "execution_count": 84
        }
      ],
      "source": [
        "np.arange(2,5), np.arange(0,3)"
      ]
    },
    {
      "cell_type": "code",
      "execution_count": 85,
      "metadata": {
        "colab": {
          "base_uri": "https://localhost:8080/"
        },
        "id": "dryNdm5PcpLM",
        "outputId": "3669fc2f-5569-4be6-8ed3-38d12ca8954a"
      },
      "outputs": [
        {
          "output_type": "execute_result",
          "data": {
            "text/plain": [
              "array([[0., 0., 0., 0., 0., 0.],\n",
              "       [0., 0., 0., 0., 0., 0.],\n",
              "       [1., 0., 0., 0., 0., 0.],\n",
              "       [0., 1., 0., 0., 0., 0.],\n",
              "       [0., 0., 1., 0., 0., 0.],\n",
              "       [0., 0., 0., 0., 0., 0.]])"
            ]
          },
          "metadata": {},
          "execution_count": 85
        }
      ],
      "source": [
        "X = np.zeros((6,6))\n",
        "X[np.arange(2,5),np.arange(0,3)]=1\n",
        "X"
      ]
    },
    {
      "cell_type": "code",
      "execution_count": 86,
      "metadata": {
        "colab": {
          "base_uri": "https://localhost:8080/"
        },
        "id": "T3cfJVoecpLM",
        "outputId": "a51ecad8-05cd-498a-f330-ebf49f069fa5"
      },
      "outputs": [
        {
          "output_type": "execute_result",
          "data": {
            "text/plain": [
              "array([[ 0,  1,  2,  3,  4,  5],\n",
              "       [10, 11, 12, 13, 14, 15],\n",
              "       [20, 21, 22, 23, 24, 25],\n",
              "       [30, 31, 32, 33, 34, 35],\n",
              "       [40, 41, 42, 43, 44, 45],\n",
              "       [50, 51, 52, 53, 54, 55]])"
            ]
          },
          "metadata": {},
          "execution_count": 86
        }
      ],
      "source": [
        "# Here is our array, what should we return?\n",
        "a = 10*np.arange(6).reshape(-1,1)+np.arange(6)\n",
        "a"
      ]
    },
    {
      "cell_type": "code",
      "execution_count": 87,
      "metadata": {
        "colab": {
          "base_uri": "https://localhost:8080/"
        },
        "id": "gYPf1JVrcpLN",
        "outputId": "add05696-ff8a-4429-d07a-da0d44d52b1c"
      },
      "outputs": [
        {
          "output_type": "execute_result",
          "data": {
            "text/plain": [
              "array([10, 21, 32, 43, 54])"
            ]
          },
          "metadata": {},
          "execution_count": 87
        }
      ],
      "source": [
        "a[ (1,2,3,4,5), (0,1,2,3,4)]"
      ]
    },
    {
      "cell_type": "code",
      "execution_count": 88,
      "metadata": {
        "colab": {
          "base_uri": "https://localhost:8080/"
        },
        "id": "En0_DPUATTD5",
        "outputId": "65e85c7e-c7b4-4015-89ad-94715b56d10d"
      },
      "outputs": [
        {
          "output_type": "execute_result",
          "data": {
            "text/plain": [
              "array([[30, 32, 35],\n",
              "       [40, 42, 45],\n",
              "       [50, 52, 55]])"
            ]
          },
          "metadata": {},
          "execution_count": 88
        }
      ],
      "source": [
        "a[3:, [0,2,5]]"
      ]
    },
    {
      "cell_type": "code",
      "source": [
        "a"
      ],
      "metadata": {
        "id": "PgA16S_KG07w",
        "outputId": "8d715762-7f8b-4ffc-a3ad-e317c59fa5b6",
        "colab": {
          "base_uri": "https://localhost:8080/"
        }
      },
      "execution_count": 90,
      "outputs": [
        {
          "output_type": "execute_result",
          "data": {
            "text/plain": [
              "array([[ 0,  1,  2,  3,  4,  5],\n",
              "       [10, 11, 12, 13, 14, 15],\n",
              "       [20, 21, 22, 23, 24, 25],\n",
              "       [30, 31, 32, 33, 34, 35],\n",
              "       [40, 41, 42, 43, 44, 45],\n",
              "       [50, 51, 52, 53, 54, 55]])"
            ]
          },
          "metadata": {},
          "execution_count": 90
        }
      ]
    },
    {
      "cell_type": "code",
      "execution_count": 93,
      "metadata": {
        "colab": {
          "base_uri": "https://localhost:8080/"
        },
        "id": "SF6L76_uTTMb",
        "outputId": "8d15cbd6-af74-48f0-e246-d1bb56fa438c"
      },
      "outputs": [
        {
          "output_type": "stream",
          "name": "stdout",
          "text": [
            "[False  True  True  True  True  True]\n"
          ]
        },
        {
          "output_type": "execute_result",
          "data": {
            "text/plain": [
              "array([12, 22, 32, 42, 52])"
            ]
          },
          "metadata": {},
          "execution_count": 93
        }
      ],
      "source": [
        "mask = np.array([i for i in range(12) if i%2==0], dtype = bool)\n",
        "print(mask)\n",
        "a[mask,2]"
      ]
    },
    {
      "cell_type": "markdown",
      "metadata": {
        "id": "40etmVYRcpLN"
      },
      "source": [
        "![](http://scipy-lectures.org/_images/numpy_fancy_indexing.png)"
      ]
    },
    {
      "cell_type": "markdown",
      "metadata": {
        "id": "yjacL27WcpLN"
      },
      "source": [
        "### Exercise (Post - Lecture)\n",
        "Create the following matrix\n",
        "```python\n",
        "array([[0., 0., 0., 0., 0., 0., 0., 0., 0., 1.],\n",
        "       [0., 0., 0., 0., 0., 0., 0., 1., 0., 0.],\n",
        "       [0., 0., 0., 0., 0., 1., 0., 0., 0., 0.],\n",
        "       [0., 0., 0., 1., 0., 0., 0., 0., 0., 0.],\n",
        "       [0., 1., 0., 0., 0., 0., 0., 0., 0., 0.],\n",
        "       [0., 1., 0., 0., 0., 0., 0., 0., 0., 0.],\n",
        "       [0., 0., 0., 1., 0., 0., 0., 0., 0., 0.],\n",
        "       [0., 0., 0., 0., 0., 1., 0., 0., 0., 0.],\n",
        "       [0., 0., 0., 0., 0., 0., 0., 1., 0., 0.],\n",
        "       [0., 0., 0., 0., 0., 0., 0., 0., 0., 1.]])\n",
        "```"
      ]
    },
    {
      "cell_type": "code",
      "execution_count": null,
      "metadata": {
        "id": "DTkKnYepcpLO"
      },
      "outputs": [],
      "source": [
        "# YOUR CODE HERE"
      ]
    },
    {
      "cell_type": "markdown",
      "metadata": {
        "id": "nTu3gNhNcpLO"
      },
      "source": [
        "### Exercise (Post Lecture)\n",
        "Write a function to compute the [trace](https://en.wikipedia.org/wiki/Trace_(linear_algebra)) of a square numpy array using fancy array indexing. Compare your implementation to numpy's built-in function `np.trace`."
      ]
    },
    {
      "cell_type": "code",
      "execution_count": null,
      "metadata": {
        "id": "1ZE8dfvbcpLO"
      },
      "outputs": [],
      "source": [
        "# YOUR CODE HERE"
      ]
    },
    {
      "cell_type": "markdown",
      "metadata": {
        "id": "q5zRB9GycpLO"
      },
      "source": [
        "We can use `np.where`, to get indices of the `True` values in a boolean array"
      ]
    },
    {
      "cell_type": "code",
      "execution_count": 99,
      "metadata": {
        "id": "-Z454xw1uWhr",
        "outputId": "3e4ff580-2840-4ae8-e733-1fd90edf3906",
        "colab": {
          "base_uri": "https://localhost:8080/"
        }
      },
      "outputs": [
        {
          "output_type": "stream",
          "name": "stdout",
          "text": [
            "[[ 0  1  2  3  4]\n",
            " [ 5  6  7  8  9]\n",
            " [10 11 12 13 14]\n",
            " [15 16 17 18 19]\n",
            " [20 21 22 23 24]]\n",
            "[[15  1  2  3  4]\n",
            " [ 5  6  7  8  9]\n",
            " [10 11 12 13 14]\n",
            " [15 16 17 18 19]\n",
            " [20 21 22 23 24]]\n",
            "[[ True False False False False]\n",
            " [False False False False False]\n",
            " [False False False False False]\n",
            " [ True  True  True  True  True]\n",
            " [ True  True  True  True  True]]\n",
            "(array([0, 3, 3, 3, 3, 3, 4, 4, 4, 4, 4]), array([0, 0, 1, 2, 3, 4, 0, 1, 2, 3, 4]))\n"
          ]
        },
        {
          "output_type": "execute_result",
          "data": {
            "text/plain": [
              "array([15, 15, 16, 17, 18, 19, 20, 21, 22, 23, 24])"
            ]
          },
          "metadata": {},
          "execution_count": 99
        }
      ],
      "source": [
        "Y = np.arange(25).reshape(5,5)\n",
        "print(Y)\n",
        "Y[0,0] = 15\n",
        "print(Y)\n",
        "Y > 14\n",
        "print(Y > 14)\n",
        "print(np.where(Y>14))\n",
        "Y[np.where(Y>14)]"
      ]
    },
    {
      "cell_type": "markdown",
      "metadata": {
        "id": "QLxyEUlJcpLO"
      },
      "source": [
        "## Reduction operations\n",
        "\n",
        "Many reduction functions are available\n",
        "\n",
        "- np.sum, np.prod\n",
        "- np.min, np.max\n",
        "- np.any, np.all\n",
        "\n",
        "Partial reductions\n",
        "\n",
        "- np.cumsum, np.cumprod"
      ]
    },
    {
      "cell_type": "code",
      "execution_count": 100,
      "metadata": {
        "colab": {
          "base_uri": "https://localhost:8080/"
        },
        "id": "n3-oTPmAcpLP",
        "outputId": "64d38911-3203-4578-e57b-080b4e5dcc80"
      },
      "outputs": [
        {
          "output_type": "execute_result",
          "data": {
            "text/plain": [
              "array([[ 0,  1,  2,  3,  4],\n",
              "       [ 5,  6,  7,  8,  9],\n",
              "       [10, 11, 12, 13, 14],\n",
              "       [15, 16, 17, 18, 19],\n",
              "       [20, 21, 22, 23, 24],\n",
              "       [25, 26, 27, 28, 29],\n",
              "       [30, 31, 32, 33, 34],\n",
              "       [35, 36, 37, 38, 39],\n",
              "       [40, 41, 42, 43, 44],\n",
              "       [45, 46, 47, 48, 49]])"
            ]
          },
          "metadata": {},
          "execution_count": 100
        }
      ],
      "source": [
        "X = np.arange(50).reshape(10,5)\n",
        "X"
      ]
    },
    {
      "cell_type": "code",
      "execution_count": 101,
      "metadata": {
        "colab": {
          "base_uri": "https://localhost:8080/"
        },
        "id": "JlHMkXQKcpLP",
        "outputId": "008eeb64-c687-49d0-a84f-9f5ce10399be"
      },
      "outputs": [
        {
          "output_type": "execute_result",
          "data": {
            "text/plain": [
              "(1225, 0)"
            ]
          },
          "metadata": {},
          "execution_count": 101
        }
      ],
      "source": [
        "np.sum(X),np.prod(X)"
      ]
    },
    {
      "cell_type": "code",
      "execution_count": 102,
      "metadata": {
        "colab": {
          "base_uri": "https://localhost:8080/"
        },
        "id": "ujXFM-AsdM_i",
        "outputId": "26f243ee-50e9-41ab-8158-6119dd72d779"
      },
      "outputs": [
        {
          "output_type": "execute_result",
          "data": {
            "text/plain": [
              "1225"
            ]
          },
          "metadata": {},
          "execution_count": 102
        }
      ],
      "source": [
        "X.sum()"
      ]
    },
    {
      "cell_type": "markdown",
      "metadata": {
        "id": "g_6eWJYmcft8"
      },
      "source": [
        "The way to understand the “axis” of numpy sum is it collapses the specified axis. So when it collapses the axis 0 (row), it becomes just one row and column-wise sum."
      ]
    },
    {
      "cell_type": "code",
      "execution_count": 106,
      "metadata": {
        "colab": {
          "base_uri": "https://localhost:8080/"
        },
        "id": "yGO-EguJcpLP",
        "outputId": "0c821981-4fc0-4204-8178-9a3ed3328acc"
      },
      "outputs": [
        {
          "output_type": "execute_result",
          "data": {
            "text/plain": [
              "array([ 10,  35,  60,  85, 110, 135, 160, 185, 210, 235])"
            ]
          },
          "metadata": {},
          "execution_count": 106
        }
      ],
      "source": [
        "np.sum(X, axis=1)"
      ]
    },
    {
      "cell_type": "code",
      "execution_count": 105,
      "metadata": {
        "colab": {
          "base_uri": "https://localhost:8080/"
        },
        "id": "EnhMNdmTmYhF",
        "outputId": "c7fd938a-e575-4803-9b93-6e7d3feb2867"
      },
      "outputs": [
        {
          "output_type": "execute_result",
          "data": {
            "text/plain": [
              "array([ 10,  35,  60,  85, 110, 135, 160, 185, 210, 235])"
            ]
          },
          "metadata": {},
          "execution_count": 105
        }
      ],
      "source": [
        "X.sum(axis = 1)"
      ]
    },
    {
      "cell_type": "code",
      "execution_count": 107,
      "metadata": {
        "colab": {
          "base_uri": "https://localhost:8080/"
        },
        "id": "AAQ2oeiOcpLP",
        "outputId": "7ca9ee2b-c9d9-45a4-bf87-120e3a80b2bd"
      },
      "outputs": [
        {
          "output_type": "execute_result",
          "data": {
            "text/plain": [
              "(0, 49)"
            ]
          },
          "metadata": {},
          "execution_count": 107
        }
      ],
      "source": [
        "np.min(X),np.max(X)"
      ]
    },
    {
      "cell_type": "code",
      "execution_count": 108,
      "metadata": {
        "colab": {
          "base_uri": "https://localhost:8080/"
        },
        "id": "DTxiE53y8wMh",
        "outputId": "222f659b-8f08-4c83-efc8-ff6bd19edd12"
      },
      "outputs": [
        {
          "output_type": "execute_result",
          "data": {
            "text/plain": [
              "array([[ 0,  1,  2,  3,  4],\n",
              "       [ 5,  6,  7,  8,  9],\n",
              "       [10, 11, 12, 13, 14],\n",
              "       [15, 16, 17, 18, 19],\n",
              "       [20, 21, 22, 23, 24],\n",
              "       [25, 26, 27, 28, 29],\n",
              "       [30, 31, 32, 33, 34],\n",
              "       [35, 36, 37, 38, 39],\n",
              "       [40, 41, 42, 43, 44],\n",
              "       [45, 46, 47, 48, 49]])"
            ]
          },
          "metadata": {},
          "execution_count": 108
        }
      ],
      "source": [
        "X"
      ]
    },
    {
      "cell_type": "code",
      "execution_count": 109,
      "metadata": {
        "colab": {
          "base_uri": "https://localhost:8080/"
        },
        "id": "0h4QuwoQcpLQ",
        "outputId": "9a5d823f-b3f4-4b95-d8cb-b965cc26b5c8"
      },
      "outputs": [
        {
          "output_type": "execute_result",
          "data": {
            "text/plain": [
              "array([ 0,  5, 10, 15, 20, 25, 30, 35, 40, 45])"
            ]
          },
          "metadata": {},
          "execution_count": 109
        }
      ],
      "source": [
        "np.min(X,axis=1)"
      ]
    },
    {
      "cell_type": "code",
      "source": [
        "S = np.zeros((5,2,3,4))\n",
        "S.sum(axis=2)"
      ],
      "metadata": {
        "id": "SG0xo0iuJoq5",
        "outputId": "68e06867-382d-4792-c605-3603f92e8a46",
        "colab": {
          "base_uri": "https://localhost:8080/"
        }
      },
      "execution_count": 119,
      "outputs": [
        {
          "output_type": "execute_result",
          "data": {
            "text/plain": [
              "array([[[0., 0., 0., 0.],\n",
              "        [0., 0., 0., 0.]],\n",
              "\n",
              "       [[0., 0., 0., 0.],\n",
              "        [0., 0., 0., 0.]],\n",
              "\n",
              "       [[0., 0., 0., 0.],\n",
              "        [0., 0., 0., 0.]],\n",
              "\n",
              "       [[0., 0., 0., 0.],\n",
              "        [0., 0., 0., 0.]],\n",
              "\n",
              "       [[0., 0., 0., 0.],\n",
              "        [0., 0., 0., 0.]]])"
            ]
          },
          "metadata": {},
          "execution_count": 119
        }
      ]
    },
    {
      "cell_type": "code",
      "execution_count": 120,
      "metadata": {
        "colab": {
          "base_uri": "https://localhost:8080/"
        },
        "id": "q3NwyDTgcpLQ",
        "outputId": "0a45afd1-903c-4469-fab6-397909722739"
      },
      "outputs": [
        {
          "output_type": "execute_result",
          "data": {
            "text/plain": [
              "array([[ True,  True,  True,  True],\n",
              "       [ True,  True,  True,  True],\n",
              "       [ True,  True,  True,  True],\n",
              "       [False, False, False, False]])"
            ]
          },
          "metadata": {},
          "execution_count": 120
        }
      ],
      "source": [
        "Y = X<12\n",
        "Y"
      ]
    },
    {
      "cell_type": "code",
      "execution_count": 111,
      "metadata": {
        "colab": {
          "base_uri": "https://localhost:8080/"
        },
        "id": "ybsBrrKtnfX_",
        "outputId": "84fb776e-84e1-4636-c7f9-a786fe5887df"
      },
      "outputs": [
        {
          "output_type": "execute_result",
          "data": {
            "text/plain": [
              "array([[11, 11, 11, 11, 11],\n",
              "       [11, 11, 11, 11, 11],\n",
              "       [11, 11, 10, 10, 10],\n",
              "       [10, 10, 10, 10, 10],\n",
              "       [10, 10, 10, 10, 10],\n",
              "       [10, 10, 10, 10, 10],\n",
              "       [10, 10, 10, 10, 10],\n",
              "       [10, 10, 10, 10, 10],\n",
              "       [10, 10, 10, 10, 10],\n",
              "       [10, 10, 10, 10, 10]])"
            ]
          },
          "metadata": {},
          "execution_count": 111
        }
      ],
      "source": [
        "Y  + 10"
      ]
    },
    {
      "cell_type": "code",
      "execution_count": 112,
      "metadata": {
        "colab": {
          "base_uri": "https://localhost:8080/"
        },
        "id": "oOQuytv-cpLQ",
        "outputId": "fc4c054d-9974-4c42-b380-f522ad635722"
      },
      "outputs": [
        {
          "output_type": "execute_result",
          "data": {
            "text/plain": [
              "array([ True,  True,  True, False, False, False, False, False, False,\n",
              "       False])"
            ]
          },
          "metadata": {},
          "execution_count": 112
        }
      ],
      "source": [
        "np.any(Y, axis=1)"
      ]
    },
    {
      "cell_type": "code",
      "execution_count": 113,
      "metadata": {
        "colab": {
          "base_uri": "https://localhost:8080/"
        },
        "id": "2QdqqgUPcpLQ",
        "outputId": "2cb4dfd4-8af3-4cd1-8f9f-83edb3c0bf8d"
      },
      "outputs": [
        {
          "output_type": "execute_result",
          "data": {
            "text/plain": [
              "array([ True,  True, False, False, False, False, False, False, False,\n",
              "       False])"
            ]
          },
          "metadata": {},
          "execution_count": 113
        }
      ],
      "source": [
        "np.all(Y,axis=1)"
      ]
    },
    {
      "cell_type": "markdown",
      "metadata": {
        "id": "-_TlOPAncpLQ"
      },
      "source": [
        "All the above functions can be called on the array object directly"
      ]
    },
    {
      "cell_type": "code",
      "execution_count": 114,
      "metadata": {
        "colab": {
          "base_uri": "https://localhost:8080/"
        },
        "id": "QKWetd2rcpLQ",
        "outputId": "46cd441d-c96a-4ee9-d919-4b55fb5cc651"
      },
      "outputs": [
        {
          "output_type": "execute_result",
          "data": {
            "text/plain": [
              "array([45, 46, 47, 48, 49])"
            ]
          },
          "metadata": {},
          "execution_count": 114
        }
      ],
      "source": [
        "# instance.method(args) = class.method(instance, args)\n",
        "X.max(axis=0)"
      ]
    },
    {
      "cell_type": "code",
      "execution_count": 115,
      "metadata": {
        "colab": {
          "base_uri": "https://localhost:8080/"
        },
        "id": "soXpCOcWcpLR",
        "outputId": "c8562ab1-79ec-4ca0-d4e8-977c6972398b"
      },
      "outputs": [
        {
          "output_type": "stream",
          "name": "stdout",
          "text": [
            "[0 1 2 3 4 5 6 7 8 9]\n"
          ]
        },
        {
          "output_type": "execute_result",
          "data": {
            "text/plain": [
              "array([ 0,  1,  3,  6, 10, 15, 21, 28, 36, 45])"
            ]
          },
          "metadata": {},
          "execution_count": 115
        }
      ],
      "source": [
        "# np.cumsum\n",
        "Y = np.arange(10)\n",
        "print(Y)\n",
        "np.cumsum(Y)"
      ]
    },
    {
      "cell_type": "code",
      "execution_count": 116,
      "metadata": {
        "colab": {
          "base_uri": "https://localhost:8080/"
        },
        "id": "OyhUdMg-cpLS",
        "outputId": "132a4a24-0ce3-48e6-fbef-a3c588e0a34b"
      },
      "outputs": [
        {
          "output_type": "stream",
          "name": "stdout",
          "text": [
            "[[ 0  1  2  3]\n",
            " [ 4  5  6  7]\n",
            " [ 8  9 10 11]\n",
            " [12 13 14 15]]\n"
          ]
        },
        {
          "output_type": "execute_result",
          "data": {
            "text/plain": [
              "array([[ 0,  1,  3,  6],\n",
              "       [ 4,  9, 15, 22],\n",
              "       [ 8, 17, 27, 38],\n",
              "       [12, 25, 39, 54]])"
            ]
          },
          "metadata": {},
          "execution_count": 116
        }
      ],
      "source": [
        "X = np.arange(16).reshape(4,4)\n",
        "print(X)\n",
        "np.cumsum(X,axis=1)"
      ]
    },
    {
      "cell_type": "markdown",
      "metadata": {
        "id": "yLszNjIkcpLS"
      },
      "source": [
        "Cumulative operations don't change the shape of the array"
      ]
    },
    {
      "cell_type": "markdown",
      "metadata": {
        "id": "kLuovJTJcpLS"
      },
      "source": [
        "### Exercise (Post Lecture)\n",
        "\n",
        "- Find the column with maximum column sum\n",
        "- For which rows of the matrix, the sum of the first three elements of the row is greater than the sum of the last two elements of the row"
      ]
    },
    {
      "cell_type": "code",
      "execution_count": null,
      "metadata": {
        "id": "zXukCIvDpIDN"
      },
      "outputs": [],
      "source": [
        "import numpy as np"
      ]
    },
    {
      "cell_type": "code",
      "execution_count": null,
      "metadata": {
        "id": "kOwKR8nCcpLS"
      },
      "outputs": [],
      "source": [
        "np.random.seed(10)\n",
        "X = np.random.rand(5,5)\n",
        "# YOUR CODE HERE"
      ]
    },
    {
      "cell_type": "markdown",
      "metadata": {
        "id": "d0nRCLdmcpLT"
      },
      "source": [
        "### Exercise (Post Lecture)\n",
        "Compute the the moving average of the array `y` created below, with window size 5."
      ]
    },
    {
      "cell_type": "code",
      "execution_count": null,
      "metadata": {
        "id": "_lmcNe7ucpLV"
      },
      "outputs": [],
      "source": [
        "import numpy as np\n",
        "import matplotlib.pyplot as plt\n",
        "np.random.seed(10)\n",
        "y = np.cumsum(np.random.rand(100) - 0.5)\n",
        "plt.plot(y)"
      ]
    },
    {
      "cell_type": "code",
      "execution_count": null,
      "metadata": {
        "id": "zzs-dYZAcpLW"
      },
      "outputs": [],
      "source": [
        "# YOUR CODE HERE"
      ]
    },
    {
      "cell_type": "markdown",
      "metadata": {
        "id": "o2s_gqSucpLW"
      },
      "source": [
        "## Final Exercise (Post Lecture)\n",
        "\n",
        "Implement the [Conway's game of Life](https://en.wikipedia.org/wiki/Conway%27s_Game_of_Life) using numpy"
      ]
    },
    {
      "cell_type": "code",
      "execution_count": null,
      "metadata": {
        "id": "W2SmTtCs8s6Z"
      },
      "outputs": [],
      "source": [
        "# YOUR CODE HERE"
      ]
    }
  ],
  "metadata": {
    "colab": {
      "provenance": [],
      "toc_visible": true
    },
    "kernelspec": {
      "display_name": "Python 3 (ipykernel)",
      "language": "python",
      "name": "python3"
    },
    "language_info": {
      "codemirror_mode": {
        "name": "ipython",
        "version": 3
      },
      "file_extension": ".py",
      "mimetype": "text/x-python",
      "name": "python",
      "nbconvert_exporter": "python",
      "pygments_lexer": "ipython3",
      "version": "3.9.18"
    }
  },
  "nbformat": 4,
  "nbformat_minor": 0
}