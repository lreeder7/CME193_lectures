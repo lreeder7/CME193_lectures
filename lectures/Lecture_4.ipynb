{
  "cells": [
    {
      "cell_type": "markdown",
      "metadata": {
        "id": "Q56xU0zYP1gI"
      },
      "source": [
        "# Announcement\n",
        "1. HW1 is released and due in two weeks before the lecture. (due before the class)\n",
        "* Please use your time wisely! Don't email asking for late days (everyone gets 2 late days with no penalty).  Additional late days will not be permitted unless there's an unexpected circumstance. Note: academic curriculum-related reasons are not considered unexpected."
      ]
    },
    {
      "cell_type": "markdown",
      "metadata": {
        "id": "UYe6Oh-6c8EB"
      },
      "source": [
        "# CME 193 - Lecture 4\n",
        "\n",
        "\n",
        "Today, we'll cover some more features of numpy.\n",
        "\n",
        "- Random numbers and histograms\n",
        "- Linear Algebra Method walkthrough\n",
        "- PCA Implementation\n"
      ]
    },
    {
      "cell_type": "markdown",
      "metadata": {
        "id": "hNiNwnH9oGI1"
      },
      "source": [
        "Preview:\n",
        "1. Exploring list of numpy.random function including:\n",
        "* `rng.rand(d0,d1,...,dn)`, Random values in a given shape\n",
        "* `rng.randn(d0, d1, ...,dn)`, Random standard normal\n",
        "* `rng.randint(lo, hi, size)`, Random integers `[lo, hi)`\n",
        "* `rng.choice(a, size, repl, p)`, Sample from a\n",
        "1. Review `matplotlib.pyplot`, and try to make a histogram plot using `plt.hist`\n",
        "2. If you were not familar with Linear Algebra concept such as dot product, eigen decomposition, and PCA, I highly recommend studying them using some visual aids resource like `3Blue1Brown` or 'StatQuest', which are youtube channels that explains math&stats concept using extremely helpful visualizations.  \n",
        "[Dot Product](https://www.youtube.com/watch?v=LyGKycYT2v0&list=PLZHQObOWTQDPD3MizzM2xVFitgF8hE_ab&index=10)  \n",
        "[Eigen Decomposition](https://www.youtube.com/watch?v=PFDu9oVAE-g&list=PLZHQObOWTQDPD3MizzM2xVFitgF8hE_ab&index=15)  \n",
        "[PCA main idea](https://www.youtube.com/watch?v=HMOI_lkzW08)  \n",
        "[PCA step by step](https://www.youtube.com/watch?v=FgakZw6K1QQ)\n",
        "\n",
        "\n",
        "HINT: use `?` to check the documentation of the function"
      ]
    },
    {
      "cell_type": "markdown",
      "metadata": {
        "id": "CLaGj9hPm1JH"
      },
      "source": [
        "# Basic Section (Start)\n"
      ]
    },
    {
      "cell_type": "markdown",
      "metadata": {
        "id": "abLMTR8Dc8EE"
      },
      "source": [
        "## Random numbers\n",
        "\n",
        "We'll start with\n",
        "```python\n",
        "import numpy as np\n",
        "import numpy.random as rng\n",
        "```\n",
        "`numpy` is the *package*.  `random` is a *module* in the package."
      ]
    },
    {
      "cell_type": "code",
      "execution_count": null,
      "metadata": {
        "id": "tWcYGSjic8EG"
      },
      "outputs": [],
      "source": [
        "import numpy as np\n",
        "import numpy.random as rng  #random number generator"
      ]
    },
    {
      "cell_type": "markdown",
      "metadata": {
        "id": "VKoTDLgLc8EH"
      },
      "source": [
        "You can find a full list of functions in [the documentation](https://docs.scipy.org/doc/numpy-1.14.0/reference/routines.random.html)\n",
        "\n",
        "* `rng.rand(d0,d1,...,dn)`, Random values in a given shape\n",
        "* `rng.randn(d0, d1, ...,dn)`, Random standard normal\n",
        "* `rng.randint(lo, hi, size)`, Random integers `[lo, hi)`\n",
        "* `rng.choice(a, size, replace, p)`, Sample from a\n",
        "* `rng.shuffle(a)`, Permutation (in-place)\n",
        "* `rng.permutation(a)`, Permutation (new array)\n",
        "* Also, have parameterized distributions: `beta`, `binomial`, `chisquare`, `exponential`, `dirichlet`, `gamma`, `laplace`, `lognormal`, `pareto`, `poisson`, `power`..."
      ]
    },
    {
      "cell_type": "code",
      "execution_count": null,
      "metadata": {
        "id": "amZ_3AB_c8EI"
      },
      "outputs": [],
      "source": [
        "rng.randint(-10,10,20) #start(inclusive), end(exclusive), size of array"
      ]
    },
    {
      "cell_type": "code",
      "execution_count": null,
      "metadata": {
        "id": "x6LtAqA9gM3G"
      },
      "outputs": [],
      "source": [
        "rng.normal(5,3,10)"
      ]
    },
    {
      "cell_type": "code",
      "execution_count": null,
      "metadata": {
        "id": "9V6YJM9tgRwD"
      },
      "outputs": [],
      "source": [
        "rng.normal?"
      ]
    },
    {
      "cell_type": "markdown",
      "metadata": {
        "id": "F0WgTRnsc8EK"
      },
      "source": [
        "### Histograms"
      ]
    },
    {
      "cell_type": "code",
      "execution_count": null,
      "metadata": {
        "id": "KWDthtdec8EL"
      },
      "outputs": [],
      "source": [
        "x1 = rng.normal(5,3,1000)"
      ]
    },
    {
      "cell_type": "code",
      "execution_count": null,
      "metadata": {
        "id": "oaBNCOpjc8EM"
      },
      "outputs": [],
      "source": [
        "import matplotlib.pyplot as plt"
      ]
    },
    {
      "cell_type": "code",
      "execution_count": null,
      "metadata": {
        "colab": {
          "base_uri": "https://localhost:8080/",
          "height": 312
        },
        "id": "q8p4aIQgc8EM",
        "outputId": "ceaa9981-2d27-4d4f-e88c-5d2adac2442e"
      },
      "outputs": [],
      "source": [
        "plt.figure(figsize=(4,3))\n",
        "plt.hist(x1)\n",
        "\n",
        "plt.show()"
      ]
    },
    {
      "cell_type": "code",
      "execution_count": null,
      "metadata": {
        "id": "7lYFENAtRuZO"
      },
      "outputs": [],
      "source": [
        "plt.hist?"
      ]
    },
    {
      "cell_type": "code",
      "execution_count": null,
      "metadata": {
        "colab": {
          "base_uri": "https://localhost:8080/",
          "height": 312
        },
        "id": "4TCZVEiNRreA",
        "outputId": "cd161350-c854-4376-fa33-855774e9ccd8"
      },
      "outputs": [],
      "source": [
        "plt.figure(figsize=(4,3))\n",
        "plt.hist(x1, bins = 100)\n",
        "\n",
        "plt.show()"
      ]
    },
    {
      "cell_type": "code",
      "execution_count": null,
      "metadata": {
        "id": "k0X0XqErg0Ir"
      },
      "outputs": [],
      "source": [
        "x2 = rng.normal(1,1,1000)"
      ]
    },
    {
      "cell_type": "code",
      "execution_count": null,
      "metadata": {
        "colab": {
          "base_uri": "https://localhost:8080/",
          "height": 436
        },
        "id": "Zzmb1Oljc8EM",
        "outputId": "deee9f85-bef5-4441-9ce0-31fe7be620f4"
      },
      "outputs": [],
      "source": [
        "#plot1\n",
        "plt.figure(figsize=(4,3))\n",
        "\n",
        "b = plt.hist(x1,histtype='step')\n",
        "a = plt.hist(x2,histtype='bar')\n",
        "\n",
        "plt.show()\n",
        "\n",
        "#plot 2\n",
        "plt.figure(figsize = (1,1))\n",
        "plt.plot(np.arange(4),np.arange(4))\n",
        "plt.show()"
      ]
    },
    {
      "cell_type": "code",
      "execution_count": null,
      "metadata": {
        "colab": {
          "base_uri": "https://localhost:8080/",
          "height": 336
        },
        "id": "CSG6dbkYc8EO",
        "outputId": "31e6ac35-7aba-456c-d4bf-4c8a1fe0b7f1"
      },
      "outputs": [],
      "source": [
        "plt.figure(figsize=(4,3))\n",
        "\n",
        "plt.hist2d(x1,x2)\n",
        "\n",
        "plt.xlabel('x1')\n",
        "plt.ylabel('x2')\n",
        "plt.colorbar()\n",
        "\n",
        "plt.show()\n",
        "\n",
        "#bucketized the 2d space into blocks\n",
        "# and you count the number of occurance in that block"
      ]
    },
    {
      "cell_type": "markdown",
      "metadata": {
        "id": "HcnOY6-_m4vx"
      },
      "source": [
        "# Basic Section (End)"
      ]
    },
    {
      "cell_type": "markdown",
      "metadata": {
        "id": "TNFdg1glc8EO"
      },
      "source": [
        "# Linear Algebra in NumPy"
      ]
    },
    {
      "cell_type": "code",
      "execution_count": null,
      "metadata": {
        "id": "6JD_iuyFc8EP"
      },
      "outputs": [],
      "source": [
        "import numpy.linalg as la"
      ]
    },
    {
      "cell_type": "markdown",
      "metadata": {
        "id": "qdHJBYlfc8EQ"
      },
      "source": [
        "See [the documentation](https://docs.scipy.org/doc/numpy-1.15.1/reference/routines.linalg.html) for more.\n",
        "\n",
        "* `la.qr`, Computes the QR decomposition\n",
        "* `la.cholesky`, Computes the Cholesky decomposition\n",
        "* `la.inv(A)`, Inverse\n",
        "* `la.solve(A,b)`, Solves $Ax = b$ for $A$ full rank\n",
        "* `la.lstsq(A,b)`, Solves $\\arg\\min_x \\|Ax-b\\|_2$\n",
        "* `la.eig(A)`, Eigenvalue decomposition\n",
        "* `la.eigh(A)`, Eigenvalue decomposition for\n",
        "symmetric or hermitian\n",
        "* `la.eigvals(A)`, Computes eigenvalues.\n",
        "* `la.svd(A, full)`, Singular value decomposition\n",
        "* `la.pinv(A)`, Computes pseudo-inverse of A"
      ]
    },
    {
      "cell_type": "markdown",
      "metadata": {
        "id": "Td5jrso0mfjk"
      },
      "source": [
        "### la.svd"
      ]
    },
    {
      "cell_type": "code",
      "execution_count": null,
      "metadata": {
        "id": "JWGQcTz4c8ER"
      },
      "outputs": [],
      "source": [
        "la.svd?\n",
        "# svd(A) = U@np.diag(S)@V.T"
      ]
    },
    {
      "cell_type": "code",
      "execution_count": null,
      "metadata": {
        "colab": {
          "base_uri": "https://localhost:8080/"
        },
        "id": "AgNA1Iz2zJc8",
        "outputId": "21ce64d2-c8e7-4106-ce70-50aacd16c91e"
      },
      "outputs": [],
      "source": [
        "# example of SVD\n",
        "A = np.random.normal(0, 1, (3,3))\n",
        "A"
      ]
    },
    {
      "cell_type": "code",
      "execution_count": null,
      "metadata": {
        "colab": {
          "base_uri": "https://localhost:8080/"
        },
        "id": "IXTuDH-nc8ER",
        "outputId": "12f8e6dd-8b42-4d4e-e356-332a44c4979b"
      },
      "outputs": [],
      "source": [
        "U, S, Vt = la.svd(A)\n",
        "print(\"A  = \\n\", A)\n",
        "print(\"U = \\n\", U)\n",
        "print(\"S = \\n\", np.diag(S))\n",
        "print(\"V = \\n\", Vt.T)"
      ]
    },
    {
      "cell_type": "markdown",
      "metadata": {
        "id": "Whl5_tcbkLG0"
      },
      "source": [
        "<div>\n",
        "<img src=\"data:image/jpeg;base64,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\" width=\"500\"/>\n",
        "</div>\n"
      ]
    },
    {
      "cell_type": "markdown",
      "metadata": {
        "id": "Xq4NS0b_9WxZ"
      },
      "source": [
        "U and V are orthogonal matrices (columns are orthonormal) ((technically, unitary as it can be complex-valued if A is))\n",
        "- the column value is ranked heriatically from most important to less important, in scale of how much variance it describes from original matrix  \n",
        "\n",
        "S is a diagnal matrix:  \n",
        "- non-negative, descrasing mangnitude -> relative importance of U and V columns\n",
        "  "
      ]
    },
    {
      "cell_type": "code",
      "execution_count": null,
      "metadata": {
        "colab": {
          "base_uri": "https://localhost:8080/"
        },
        "id": "d4ow3o-JYt8f",
        "outputId": "a9d2d8ea-9552-4140-f65d-e95a9c612384"
      },
      "outputs": [],
      "source": [
        "U@U.T\n",
        "#Rounded Error: float point error double precions -> 10^16"
      ]
    },
    {
      "cell_type": "code",
      "execution_count": null,
      "metadata": {
        "colab": {
          "base_uri": "https://localhost:8080/"
        },
        "id": "JxbczqiZmR4N",
        "outputId": "e5923026-6dd4-4737-dea9-0885aeccec7d"
      },
      "outputs": [],
      "source": [
        "A"
      ]
    },
    {
      "cell_type": "code",
      "execution_count": null,
      "metadata": {
        "colab": {
          "base_uri": "https://localhost:8080/"
        },
        "id": "4W6k-bZLc8ES",
        "outputId": "d473b999-3911-4c6f-c3e9-04cacffa7e4f"
      },
      "outputs": [],
      "source": [
        "U@np.diag(S)@Vt"
      ]
    },
    {
      "cell_type": "markdown",
      "metadata": {
        "id": "eyQDeNcOmadE"
      },
      "source": [
        "### la.solve"
      ]
    },
    {
      "cell_type": "markdown",
      "metadata": {},
      "source": [
        "To solve a matrix equation: Ax = b\n",
        "Using the `solve` function (uses LAPACK's general solve, which is probably LU-decomposition)"
      ]
    },
    {
      "cell_type": "code",
      "execution_count": null,
      "metadata": {
        "id": "Hn-eaChmhPCj"
      },
      "outputs": [],
      "source": [
        "?la.solve"
      ]
    },
    {
      "cell_type": "code",
      "execution_count": null,
      "metadata": {
        "colab": {
          "base_uri": "https://localhost:8080/"
        },
        "id": "nlSPiEkRc8ES",
        "outputId": "1a309ed1-8337-4a6d-8a7c-ca6ecabe9740"
      },
      "outputs": [],
      "source": [
        "#find x that gives A@x = b \n",
        "A = np.arange(0, 4, 1.0).reshape(2,2)\n",
        "b = A@np.array([1.0,2.0])\n",
        "print(\"A = \\n\",A)\n",
        "print(\"b = \\n\", b)"
      ]
    },
    {
      "cell_type": "code",
      "execution_count": null,
      "metadata": {
        "id": "qTuNFfoV4wto"
      },
      "outputs": [],
      "source": [
        "?la.solve"
      ]
    },
    {
      "cell_type": "code",
      "execution_count": null,
      "metadata": {
        "colab": {
          "base_uri": "https://localhost:8080/"
        },
        "id": "N8kU00aymyoe",
        "outputId": "568b6f9e-b930-4f58-cfb0-d6b4f1768049"
      },
      "outputs": [],
      "source": [
        "x = la.solve(A,b)\n",
        "print(\"x = \\n\", x)"
      ]
    },
    {
      "cell_type": "code",
      "execution_count": null,
      "metadata": {
        "colab": {
          "base_uri": "https://localhost:8080/"
        },
        "id": "lN3FmWv9m3Bx",
        "outputId": "8b476ff7-6026-41ca-deab-2e478c33952b"
      },
      "outputs": [],
      "source": [
        "A@x"
      ]
    },
    {
      "cell_type": "markdown",
      "metadata": {
        "id": "n4nddaVjc8ES"
      },
      "source": [
        "# Exercise (In-lecture)\n",
        "\n",
        "Generate a 100 by 10 matrix `A = np.random.randn(100,10)` and a vector `b = np.random.rand(100)`. Implement the [Richardson iteration](https://en.wikipedia.org/wiki/Modified_Richardson_iteration) to solve the least-squares problem `|A@x-b|_2^2`. Some pseudocode for this is below:\n",
        "HINT: `la.norm` would be helpful\n",
        "```\n",
        "    input) A: an m x n matrix, b: a m x 1 vector\n",
        "    outputs) x: n x 1 vector minimizing |A@x-b|_2^2.\n",
        "\n",
        "    x <- all-zeros vector\n",
        "    steplength = 0.01\n",
        "\n",
        "    residual = b - A@x\n",
        "    while x has not converged(threshold = 0.00001):  \n",
        "      x = x + steplength*(A.T@residual)\n",
        "      update residual\n",
        "```\n",
        "\n",
        "Compare your solution to numpy's built-in `lstsq` function."
      ]
    },
    {
      "cell_type": "code",
      "execution_count": null,
      "metadata": {
        "colab": {
          "base_uri": "https://localhost:8080/"
        },
        "id": "IiO0aC3gc8ET",
        "outputId": "9c30b090-4512-4c0f-a706-a81661b6ef1e"
      },
      "outputs": [],
      "source": [
        "# YOUR CODE HERE"
      ]
    },
    {
      "cell_type": "code",
      "execution_count": null,
      "metadata": {
        "id": "CmJtY8ycJdAZ"
      },
      "outputs": [],
      "source": [
        "?la.lstsq"
      ]
    },
    {
      "cell_type": "code",
      "execution_count": null,
      "metadata": {
        "colab": {
          "base_uri": "https://localhost:8080/"
        },
        "id": "VxPBuAkyBOQ7",
        "outputId": "6b3f6d50-dbbd-43cd-edf6-6b3bc31d76bf"
      },
      "outputs": [],
      "source": [
        "x,_,_,_ = la.lstsq(A,b, rcond=None)\n",
        "x"
      ]
    },
    {
      "cell_type": "markdown",
      "metadata": {
        "id": "IawkL5Hlc8ET"
      },
      "source": [
        "## Power method (In-lecture)\n",
        "\n",
        "$$ A v = \\lambda v$$\n",
        "\n",
        "with matrix A, vector v, and scalar $\\lambda$. Here $v$ is known as an eigenvector and $\\lambda$ is its corresponding eigenvalue. \n",
        "\n",
        "Power method is an algorithm for finding the largest eigenpair of a matrix.  We'll assume that we're working with symmetric/Hermitian matrices for simplicity (i.e. $A^T = A$).  Recall the largest eigenvector of a matrix $A$ solves the variational problem:\n",
        "$$\\max_{\\|v\\|_2 = 1} v^T A v$$\n",
        "The eigenvalue is the value $\\lambda = v^T A v$.\n",
        "* generate a random symmetric matrix (however you like).\n",
        "* Find the largest eigenpair using the power method\n",
        "* Compare the answer with what you would get from numpy.linalg.eigh\n",
        "\n",
        "The power method uses iterated matrix-vector multiplication to find the largest magnitude eigenvalue of $A$.  \n",
        "HINT: `la.norm` would be helpful\n",
        "```\n",
        "    input) A: an n x n symmetric matrix\n",
        "    outputs) l: the eigenvalue with the largest absolute value\n",
        "             v: the corresponding eigenvector\n",
        "\n",
        "    v <- random vector of length n\n",
        "    while l has not converged(thershold = 1e-5):\n",
        "        v <- A v\n",
        "        v <- v / ||v||_2\n",
        "        l <- v.T@A@v\n",
        "```\n",
        "\n",
        "turn the above pseudo-code into a python function that implements power method. How does the result compare to `eigh`?"
      ]
    },
    {
      "cell_type": "code",
      "execution_count": null,
      "metadata": {
        "colab": {
          "base_uri": "https://localhost:8080/"
        },
        "id": "8VzIrRarVaTe",
        "outputId": "601aad85-e6f1-47c9-eeb0-74438fa021d9"
      },
      "outputs": [],
      "source": [
        "# YOUR CODE HERE"
      ]
    },
    {
      "cell_type": "code",
      "execution_count": null,
      "metadata": {
        "colab": {
          "base_uri": "https://localhost:8080/"
        },
        "id": "144Vo8E2L4rQ",
        "outputId": "3e4f2b81-13e6-4a66-fb98-8c0e260f9a62"
      },
      "outputs": [],
      "source": [
        "# w is the weight\n",
        "# v is the collection of eigenvectors\n",
        "w_eigh, v_eigh = la.eigh(A)\n",
        "\n",
        "(w_eigh[-1],v_eigh[:, -1])"
      ]
    },
    {
      "cell_type": "code",
      "execution_count": null,
      "metadata": {
        "id": "zuiAyPZY59Kx"
      },
      "outputs": [],
      "source": [
        "A = rng.rand(4,4)\n",
        "v = rng.rand(4)"
      ]
    },
    {
      "cell_type": "markdown",
      "metadata": {
        "id": "YSvDgSx_c8EU"
      },
      "source": [
        "We now have the groundwork that we will build on in the rest of the class. We'll conclude class with a demonstration of the power of numpy and scipy as a taster for the rest of the class.\n",
        "\n",
        "## PCA with numpy\n",
        "\n",
        "[Principal Component Analysis (PCA)](https://en.wikipedia.org/wiki/Principal_component_analysis) is a very common tool in data science to extract the most relevant features of a dataset. We can implement this in numpy very easily via the SVD. (This demo is taken from the numpy documentation [here](https://numpy.org/doc/1.19/user/tutorial-svd.html))."
      ]
    },
    {
      "cell_type": "code",
      "execution_count": null,
      "metadata": {
        "id": "SkclosxZFGZF"
      },
      "outputs": [],
      "source": [
        "import matplotlib.pyplot as plt"
      ]
    },
    {
      "cell_type": "code",
      "execution_count": null,
      "metadata": {
        "colab": {
          "base_uri": "https://localhost:8080/"
        },
        "id": "ayWnvl7wc8EV",
        "outputId": "6de19c48-4d04-4a36-c866-4b5163ff3b21"
      },
      "outputs": [],
      "source": [
        "from scipy import misc\n",
        "img_gray = misc.face(gray=True)/255"
      ]
    },
    {
      "cell_type": "code",
      "execution_count": null,
      "metadata": {
        "colab": {
          "base_uri": "https://localhost:8080/",
          "height": 260
        },
        "id": "MPDFxFvWF0y-",
        "outputId": "8198f4c3-a970-4748-e98c-027efd916e87"
      },
      "outputs": [],
      "source": [
        "plt.figure(figsize = (3,3))\n",
        "plt.imshow(img_gray,cmap=\"gray\")\n",
        "plt.show()"
      ]
    },
    {
      "cell_type": "code",
      "execution_count": null,
      "metadata": {
        "colab": {
          "base_uri": "https://localhost:8080/"
        },
        "id": "inU3UkBsc8EV",
        "outputId": "96c85c2e-0785-436c-f3eb-5fa2d595c6bf"
      },
      "outputs": [],
      "source": [
        "img_gray.shape"
      ]
    },
    {
      "cell_type": "markdown",
      "metadata": {
        "id": "jlEnE31Hc8EV"
      },
      "source": [
        "Consider the image above (actually a numpy array). We will attempt to 'compress' it via the SVD."
      ]
    },
    {
      "cell_type": "code",
      "execution_count": null,
      "metadata": {
        "colab": {
          "base_uri": "https://localhost:8080/",
          "height": 468
        },
        "id": "Jv3fiHeXc8EW",
        "outputId": "a2ff9614-6811-48d7-e267-647ecbf370d4"
      },
      "outputs": [],
      "source": [
        "U, s, Vt = la.svd(img_gray)\n",
        "S = np.diag(s)\n",
        "plt.plot(s)"
      ]
    },
    {
      "cell_type": "code",
      "execution_count": null,
      "metadata": {
        "colab": {
          "base_uri": "https://localhost:8080/",
          "height": 468
        },
        "id": "E4gKf2oGoEpH",
        "outputId": "d933422f-72e6-4c63-d218-99289c916604"
      },
      "outputs": [],
      "source": [
        "plt.plot(s)\n",
        "plt.xlim([0,30])"
      ]
    },
    {
      "cell_type": "markdown",
      "metadata": {
        "id": "XJWI7cozc8EW"
      },
      "source": [
        "The singular values of a matrix represent how 'important' a certain set of vectors is to forming the full matrix. We see here that only a very small number of vectors have large singular value."
      ]
    },
    {
      "cell_type": "code",
      "execution_count": null,
      "metadata": {
        "colab": {
          "base_uri": "https://localhost:8080/"
        },
        "id": "2oK887xgc8EW",
        "outputId": "a46b5c7f-8af0-468a-a765-784e3c3cfd82"
      },
      "outputs": [],
      "source": [
        "k = 20\n",
        "compressed = U[:,:k] @ S[:k,:k] @ Vt[:k,:] #(768,20) (20,20) (20, 1024)\n",
        "print(compressed.shape)"
      ]
    },
    {
      "cell_type": "code",
      "execution_count": null,
      "metadata": {
        "colab": {
          "base_uri": "https://localhost:8080/",
          "height": 318
        },
        "id": "2F_wU-lL9n8Z",
        "outputId": "f8fedde2-e02e-412d-f551-2a6d7582ca23"
      },
      "outputs": [],
      "source": [
        "plt.figure(figsize = (4,4))\n",
        "plt.imshow(compressed, cmap=\"gray\")\n",
        "plt.show()"
      ]
    },
    {
      "cell_type": "code",
      "execution_count": null,
      "metadata": {
        "colab": {
          "base_uri": "https://localhost:8080/",
          "height": 336
        },
        "id": "EOHqiEoKt3vo",
        "outputId": "ba91d566-2564-4a44-a989-ca4eb438cfc9"
      },
      "outputs": [],
      "source": [
        "print(img_gray.shape)\n",
        "plt.figure(figsize = (4,4))\n",
        "plt.imshow(img_gray,cmap=\"gray\")\n",
        "plt.show()"
      ]
    },
    {
      "cell_type": "code",
      "execution_count": null,
      "metadata": {
        "colab": {
          "base_uri": "https://localhost:8080/"
        },
        "id": "v_aSa7BVWjE8",
        "outputId": "2f04e039-f91f-4238-d6cd-875d9cf65582"
      },
      "outputs": [],
      "source": [
        "import sys\n",
        "# U @ S @ Vt\n",
        "sys.getsizeof(Vt)"
      ]
    },
    {
      "cell_type": "code",
      "execution_count": null,
      "metadata": {
        "colab": {
          "base_uri": "https://localhost:8080/"
        },
        "id": "oOVlAC-yc8EW",
        "outputId": "464cf074-8316-429e-bb0f-7b19e27c20a1"
      },
      "outputs": [],
      "source": [
        "# U[:,:k] @ S[:k,:k] @ Vt[:k,:]\n",
        "sys.getsizeof(Vt[:k,:])"
      ]
    },
    {
      "cell_type": "code",
      "execution_count": null,
      "metadata": {
        "colab": {
          "base_uri": "https://localhost:8080/"
        },
        "id": "b5EqLbib9xez",
        "outputId": "92d17758-87be-453c-a997-7fd04bff434f"
      },
      "outputs": [],
      "source": [
        "8388736/128"
      ]
    },
    {
      "cell_type": "markdown",
      "metadata": {
        "id": "-ApyRHzoc8EX"
      },
      "source": [
        "As we see, with only 20 vectors we are able to construct a (very blurry) representation of the image. In general, singular value decomposition can be very helpful for extracting generalities of a dataset."
      ]
    }
  ],
  "metadata": {
    "colab": {
      "provenance": [],
      "toc_visible": true
    },
    "kernelspec": {
      "display_name": "Python 3 (ipykernel)",
      "language": "python",
      "name": "python3"
    },
    "language_info": {
      "codemirror_mode": {
        "name": "ipython",
        "version": 3
      },
      "file_extension": ".py",
      "mimetype": "text/x-python",
      "name": "python",
      "nbconvert_exporter": "python",
      "pygments_lexer": "ipython3",
      "version": "3.9.18"
    }
  },
  "nbformat": 4,
  "nbformat_minor": 0
}
