{
  "cells": [
    {
      "cell_type": "markdown",
      "metadata": {
        "id": "tCe3RfRe02W4"
      },
      "source": [
        "# Lecture 5 - SciPy"
      ]
    },
    {
      "cell_type": "markdown",
      "metadata": {
        "id": "6aa21tCA142S"
      },
      "source": [
        "Announcement\n",
        "1. HW 1 will be due next week before the lecture"
      ]
    },
    {
      "cell_type": "markdown",
      "metadata": {
        "id": "Qyj4R04u2UWn"
      },
      "source": [
        "# Basic Section (Start)==================="
      ]
    },
    {
      "cell_type": "markdown",
      "metadata": {
        "id": "_XgP0r5bczJW"
      },
      "source": [
        "\n",
        "\n",
        "What we have seen so far\n",
        "- Basic python language features\n",
        "- Introduction to NumPy\n",
        "- Plotting using matplotlib\n",
        "\n",
        "Scipy is a collection of packages that provide useful mathematical functions commonly used for scientific computing.\n",
        "\n",
        "List of subpackages (We will focus on the highlight ones)\n",
        "- cluster : Clustering algorithms\n",
        "- constants : Physical and mathematical constants\n",
        "- fftpack : Fast Fourier Transform routines\n",
        "- **integrate** : Integration and ordinary differential equation solvers\n",
        "- **interpolate** : Interpolation and smoothing splines\n",
        "- io : Input and Output\n",
        "- ndimage : N-dimensional image processing\n",
        "- odr : Orthogonal distance regression\n",
        "- **optimize** : Optimization and root-finding routines\n",
        "- signal : Signal processing\n",
        "- sparse : Sparse matrices and associated routines\n",
        "- spatial : Spatial data structures and algorithms\n",
        "- special : Special functions\n",
        "- **stats** : Statistical distributions and functions\n",
        "\n",
        "We cannot cover all of them in detail but we will go through some of the packages and their capabilities today\n",
        "\n",
        "- interpolate\n",
        "- optimize\n",
        "- stats\n",
        "- integrate\n",
        "\n",
        "We will also briefly look at some other useful packages\n",
        "- networkx\n",
        "- sympy"
      ]
    },
    {
      "cell_type": "code",
      "execution_count": null,
      "metadata": {
        "id": "csyycI7JczJZ"
      },
      "outputs": [],
      "source": [
        "import numpy as np\n",
        "import matplotlib.pyplot as plt"
      ]
    },
    {
      "cell_type": "code",
      "execution_count": null,
      "metadata": {
        "id": "9k5vsLnuczJa"
      },
      "outputs": [],
      "source": [
        "from numpy import linalg as la"
      ]
    },
    {
      "cell_type": "code",
      "execution_count": null,
      "metadata": {
        "colab": {
          "base_uri": "https://localhost:8080/"
        },
        "id": "lPMQWfBTvsP7",
        "outputId": "e08c2eeb-03d5-4b4a-8000-cc61a03d74aa"
      },
      "outputs": [],
      "source": [
        "A = np.array([[1,2],[3,4]])\n",
        "la.norm(A)"
      ]
    },
    {
      "cell_type": "markdown",
      "metadata": {
        "id": "hQKDstdcczJa"
      },
      "source": [
        "## Interpolation : `scipy.interpolate`"
      ]
    },
    {
      "cell_type": "code",
      "execution_count": null,
      "metadata": {
        "id": "T3-oxfbnczJb"
      },
      "outputs": [],
      "source": [
        "import scipy.interpolate as interp"
      ]
    },
    {
      "cell_type": "code",
      "execution_count": null,
      "metadata": {
        "colab": {
          "base_uri": "https://localhost:8080/",
          "height": 468
        },
        "id": "a_qSGFjxczJb",
        "outputId": "df54ba41-024e-4e99-dd46-9160ee77d84b"
      },
      "outputs": [],
      "source": [
        "x = np.linspace(-1,2,5);\n",
        "y = x**3\n",
        "plt.plot(x,y,'bo')"
      ]
    },
    {
      "cell_type": "code",
      "execution_count": null,
      "metadata": {
        "id": "nygFVLZ0czJc"
      },
      "outputs": [],
      "source": [
        "f = interp.interp1d(x,y,kind=\"linear\") #estimate the linear step-wise functions"
      ]
    },
    {
      "cell_type": "code",
      "execution_count": null,
      "metadata": {
        "colab": {
          "base_uri": "https://localhost:8080/"
        },
        "id": "RmJZkHBLczJd",
        "outputId": "7b4d4421-ea3f-46e2-9d7a-2974a3b6f864"
      },
      "outputs": [],
      "source": [
        "f(1)"
      ]
    },
    {
      "cell_type": "code",
      "execution_count": null,
      "metadata": {
        "colab": {
          "base_uri": "https://localhost:8080/",
          "height": 468
        },
        "id": "YD70mS5xczJd",
        "outputId": "160c7c3d-c2bb-4bbd-8946-7bd36d68b653"
      },
      "outputs": [],
      "source": [
        "x_fine = np.linspace(-1,2,100)\n",
        "plt.plot(x_fine,f(x_fine))\n",
        "\n",
        "plt.plot(x,y,'ro')"
      ]
    },
    {
      "cell_type": "code",
      "execution_count": null,
      "metadata": {
        "colab": {
          "base_uri": "https://localhost:8080/",
          "height": 345
        },
        "id": "S0n4ps-Kq2tF",
        "outputId": "dd208a66-b09e-4a11-f666-f498ff5a58a7"
      },
      "outputs": [],
      "source": [
        "f(3)"
      ]
    },
    {
      "cell_type": "code",
      "execution_count": null,
      "metadata": {
        "id": "Tvqf7AUUqwX7"
      },
      "outputs": [],
      "source": [
        "f = interp.interp1d(x,\n",
        "                    y,\n",
        "                    kind=\"linear\",\n",
        "                    fill_value=\"extrapolate\")\n",
        "#estimate the linear step-wise functions"
      ]
    },
    {
      "cell_type": "code",
      "execution_count": null,
      "metadata": {
        "colab": {
          "base_uri": "https://localhost:8080/"
        },
        "id": "lurgAHImq7R_",
        "outputId": "993a3038-1159-4c9d-b5ac-2174491d8b96"
      },
      "outputs": [],
      "source": [
        "f(3)"
      ]
    },
    {
      "cell_type": "code",
      "execution_count": null,
      "metadata": {
        "colab": {
          "base_uri": "https://localhost:8080/",
          "height": 468
        },
        "id": "FzOQcjGsrAXy",
        "outputId": "a57ecf9d-8836-411d-e9dc-fc149e550bac"
      },
      "outputs": [],
      "source": [
        "x_fine = np.linspace(-1,4,100)\n",
        "plt.plot(x_fine,f(x_fine))\n",
        "\n",
        "plt.plot(x,y,'ro')"
      ]
    },
    {
      "cell_type": "code",
      "execution_count": null,
      "metadata": {
        "colab": {
          "base_uri": "https://localhost:8080/",
          "height": 468
        },
        "id": "AhFZISX9czJe",
        "outputId": "17ff9fa7-88d4-438e-acbf-1b62d2b491bd"
      },
      "outputs": [],
      "source": [
        "x_fine = np.linspace(-1,2,100)\n",
        "# plt.plot(x_fine,interp.interp1d(x,y,kind=\"zero\")(x_fine)) #stepwise fit\n",
        "# plt.plot(x_fine,interp.interp1d(x,y,kind=\"linear\")(x_fine)) #best linear fit\n",
        "plt.plot(x_fine,interp.interp1d(x,y,kind=\"cubic\")(x_fine)) #best fit curve\n",
        "plt.plot(x,y,'ro')"
      ]
    },
    {
      "cell_type": "code",
      "execution_count": null,
      "metadata": {
        "colab": {
          "base_uri": "https://localhost:8080/",
          "height": 468
        },
        "id": "lPoUyHwzczJe",
        "outputId": "813e2b25-a05e-497e-e34d-d8256d15b291"
      },
      "outputs": [],
      "source": [
        "x1 = np.linspace(-1,2,100)\n",
        "y1 = x1**3\n",
        "plt.plot(x1,y1)\n",
        "# y = f(x)"
      ]
    },
    {
      "cell_type": "code",
      "execution_count": null,
      "metadata": {
        "id": "t5F02ugksUvv"
      },
      "outputs": [],
      "source": [
        "# Optional: Interpolate over a 2-D grid ( interp2d -> Deprecated).\n",
        "?interp.interp2d\n",
        "# removed -> 1.13 #curr -> 1.11\n",
        "# -> interp.RegularGridInterpolator\n",
        "\n",
        "#z = f(x,y)\n",
        "# -> Update the latest version of the 2d interpolation"
      ]
    },
    {
      "cell_type": "markdown",
      "metadata": {
        "id": "HlyQV2wpczJf"
      },
      "source": [
        "## Optimization : `scipy.optimize`\n",
        "\n",
        "Contains functions to find minima, roots and fit parameters"
      ]
    },
    {
      "cell_type": "code",
      "execution_count": null,
      "metadata": {
        "id": "InNdo6ZuczJf"
      },
      "outputs": [],
      "source": [
        "from scipy import optimize"
      ]
    },
    {
      "cell_type": "code",
      "execution_count": null,
      "metadata": {
        "id": "mpuYUxd3czJf"
      },
      "outputs": [],
      "source": [
        "# Def a function with one arg x\n",
        "def f(x):\n",
        "    return x**4 - 10*x**2"
      ]
    },
    {
      "cell_type": "code",
      "execution_count": null,
      "metadata": {
        "colab": {
          "base_uri": "https://localhost:8080/",
          "height": 450
        },
        "id": "CI4Mp0S1czJg",
        "outputId": "28ccd601-4263-40ba-ec35-7d9a74a7fc54"
      },
      "outputs": [],
      "source": [
        "x = np.linspace(-5,5,100)\n",
        "plt.plot(x,f(x));"
      ]
    },
    {
      "cell_type": "code",
      "execution_count": null,
      "metadata": {
        "colab": {
          "base_uri": "https://localhost:8080/"
        },
        "id": "6K_88D2fjPh8",
        "outputId": "3c5ee6bf-cb7b-4f95-86fc-f96b06ae8419"
      },
      "outputs": [],
      "source": [
        "# find the argmin(function)\n",
        "results = optimize.minimize(f, -0.5) # function and initial guess\n",
        "results"
      ]
    },
    {
      "cell_type": "code",
      "execution_count": null,
      "metadata": {
        "colab": {
          "base_uri": "https://localhost:8080/",
          "height": 450
        },
        "id": "r7H2hC2RczJg",
        "outputId": "311eb0f2-6a75-4f5e-bd8f-675b14ddd00a"
      },
      "outputs": [],
      "source": [
        "# let's plot the min points we found\n",
        "# TODO: What if we change the initial guess??? Try to change -0.5 to 1\n",
        "plt.plot(x,f(x));\n",
        "results = optimize.minimize(f, -0.5)\n",
        "plt.plot(results.x,f(results.x),'ro');"
      ]
    },
    {
      "cell_type": "code",
      "execution_count": null,
      "metadata": {
        "colab": {
          "base_uri": "https://localhost:8080/",
          "height": 450
        },
        "id": "RGXzXysNty0s",
        "outputId": "4da807e7-459a-4bc4-9ded-660393366d1e"
      },
      "outputs": [],
      "source": [
        "plt.plot(x,f(x));\n",
        "results = optimize.minimize(f, 0.5)\n",
        "plt.plot(results.x,f(results.x),'ro');"
      ]
    },
    {
      "cell_type": "code",
      "execution_count": null,
      "metadata": {
        "colab": {
          "base_uri": "https://localhost:8080/",
          "height": 450
        },
        "id": "GAm9wQPCtzU_",
        "outputId": "c501a0b5-36b7-4d62-ff58-aadd44c1a6ac"
      },
      "outputs": [],
      "source": [
        "plt.plot(x,f(x));\n",
        "results = optimize.minimize(f, 0)\n",
        "plt.plot(results.x,f(results.x),'ro');"
      ]
    },
    {
      "cell_type": "code",
      "execution_count": null,
      "metadata": {
        "colab": {
          "base_uri": "https://localhost:8080/",
          "height": 450
        },
        "id": "WqqDc-4DmL52",
        "outputId": "63329cf6-9f47-4554-ab83-9058c28d4c72"
      },
      "outputs": [],
      "source": [
        "# What happen if we define the bounds and find the min value\n",
        "plt.plot(x,f(x));\n",
        "results = optimize.minimize(f, -0.5, bounds=[(-1.5,0)])\n",
        "x_opt = results.x\n",
        "plt.plot(x_opt,f(x_opt),'ro');"
      ]
    },
    {
      "cell_type": "code",
      "execution_count": null,
      "metadata": {
        "id": "DpZBSBItzU41"
      },
      "outputs": [],
      "source": [
        "from typing import List\n",
        "def f(x:List[int]):\n",
        "  x1,x2,x3 = x\n",
        "  return x1 + x2 * x3\n"
      ]
    },
    {
      "cell_type": "code",
      "execution_count": null,
      "metadata": {
        "colab": {
          "base_uri": "https://localhost:8080/"
        },
        "id": "bnGdcnNOczJh",
        "outputId": "b0ed4627-8644-476d-bfeb-16b85a8d4faf"
      },
      "outputs": [],
      "source": [
        "# input can be a int or numpy array data collection as multi-variate equation\n",
        "# add bounds to define the bounds for each variable element in x\n",
        "def f(x, const_parameter1, const_parameter2):\n",
        "    return const_parameter2* const_parameter1*(x[0]*x[0] + x[1]*x[1] + 5*(np.sin(2*x[0]) +np.sin(2*x[1])))\n",
        "\n",
        "results = optimize.minimize(fun = f,\n",
        "                            x0 = np.array([0,0]),\n",
        "                            bounds=[(-1,2),(-3,3)],\n",
        "                            args = (3,4))\n",
        "results"
      ]
    },
    {
      "cell_type": "code",
      "execution_count": null,
      "metadata": {
        "colab": {
          "base_uri": "https://localhost:8080/",
          "height": 661
        },
        "id": "NbQY0CHQ0E9s",
        "outputId": "13052672-33be-45ba-df6d-cc85e3334fbf"
      },
      "outputs": [],
      "source": [
        "#TODO:  Make Ed post to visualize the optimize graph\n",
        "# What happen if we define the bounds and find the min value\n",
        "# Generate data for visualization\n",
        "x = np.linspace(-1, 2, 400)\n",
        "y = np.linspace(-3, 3, 400)\n",
        "X, Y = np.meshgrid(x, y)\n",
        "Z = np.zeros(X.shape)\n",
        "\n",
        "for i in range(X.shape[0]):\n",
        "    for j in range(X.shape[1]):\n",
        "        Z[i, j] = f([X[i, j], Y[i, j]], 3, 4)\n",
        "\n",
        "# Plotting\n",
        "plt.figure(figsize=(10, 7))\n",
        "contour = plt.contourf(X, Y, Z, 50, cmap='viridis')\n",
        "plt.colorbar(contour)\n",
        "plt.scatter(results.x[0], results.x[1], color='red', marker='x', s=100, label=\"Minimal Point\")\n",
        "plt.xlabel('x[0]')\n",
        "plt.ylabel('x[1]')\n",
        "plt.title('Visualization of function f with minimal point')\n",
        "plt.legend()\n",
        "plt.grid(True)\n",
        "plt.show()\n"
      ]
    },
    {
      "cell_type": "code",
      "execution_count": null,
      "metadata": {
        "id": "NC8f5kx1yn6d"
      },
      "outputs": [],
      "source": [
        "?optimize.minimize"
      ]
    },
    {
      "cell_type": "markdown",
      "metadata": {
        "id": "z1YwM6cL2RHi"
      },
      "source": [
        "# Basic Section (End)==================="
      ]
    },
    {
      "cell_type": "markdown",
      "metadata": {
        "id": "GwszzCOkczJl"
      },
      "source": [
        "## Curve Fitting"
      ]
    },
    {
      "cell_type": "code",
      "execution_count": null,
      "metadata": {
        "colab": {
          "base_uri": "https://localhost:8080/",
          "height": 468
        },
        "id": "b7PinWIJczJl",
        "outputId": "e9e38df5-2527-4e30-ebd0-10bdd0546e82"
      },
      "outputs": [],
      "source": [
        "# wave pattern\n",
        "x = np.linspace(-2,2,30)\n",
        "y = x+np.sin(6.5*x)+0.3*np.random.randn(30)\n",
        "plt.plot(x,y,'ro')"
      ]
    },
    {
      "cell_type": "code",
      "execution_count": null,
      "metadata": {
        "id": "n6LktgvRczJl"
      },
      "outputs": [],
      "source": [
        "# let's take a guess\n",
        "def f(x,a,b):\n",
        "    return a*x +b"
      ]
    },
    {
      "cell_type": "code",
      "execution_count": null,
      "metadata": {
        "colab": {
          "base_uri": "https://localhost:8080/"
        },
        "id": "x_t4Dyd9czJl",
        "outputId": "f03c7241-e342-4e4a-d0ff-d20bb7b5c9f3"
      },
      "outputs": [],
      "source": [
        "((a,b),_) = optimize.curve_fit(f,x,y,(0,1))\n",
        "a,b"
      ]
    },
    {
      "cell_type": "code",
      "execution_count": null,
      "metadata": {
        "id": "J070xbKUczJl"
      },
      "outputs": [],
      "source": [
        "optimize.curve_fit?"
      ]
    },
    {
      "cell_type": "code",
      "execution_count": null,
      "metadata": {
        "colab": {
          "base_uri": "https://localhost:8080/",
          "height": 468
        },
        "id": "pWvM2507czJm",
        "outputId": "73f76273-c462-498d-f358-634b5f0df734"
      },
      "outputs": [],
      "source": [
        "x_fine = np.linspace(-2,2,200)\n",
        "plt.plot(x_fine,f(x_fine,a,b))\n",
        "plt.plot(x,y,'ro')"
      ]
    },
    {
      "cell_type": "code",
      "execution_count": null,
      "metadata": {
        "id": "xwZnoSYUczJm"
      },
      "outputs": [],
      "source": [
        "# Let's use our example data in the begining, replacing the parameters into variables, and let python figure out\n",
        "# what is the bes t fitting values for a,b,c?\n",
        "def g(x,a,b,c,d):\n",
        "    return a*x +b*np.sin(c*x)+d\n",
        "\n",
        "# y = a*x +b*np.sin(c*x)"
      ]
    },
    {
      "cell_type": "code",
      "execution_count": null,
      "metadata": {
        "colab": {
          "base_uri": "https://localhost:8080/"
        },
        "id": "wGvoRqDQczJm",
        "outputId": "fba5857a-171d-40a6-b44f-921ab9866b1e"
      },
      "outputs": [],
      "source": [
        "#initial guess of a,b,c = 1.5, 0, 7, which may affect the results\n",
        "((a,b,c,d),_) = optimize.curve_fit(g,x,y,(1.5,0,7,0))\n",
        "a,b,c,d"
      ]
    },
    {
      "cell_type": "code",
      "execution_count": null,
      "metadata": {
        "colab": {
          "base_uri": "https://localhost:8080/",
          "height": 468
        },
        "id": "kVjvNGIZczJm",
        "outputId": "f2fe8c93-5fa8-4565-d186-a580a907c1ad"
      },
      "outputs": [],
      "source": [
        "x_fine = np.linspace(-2,2,200)\n",
        "plt.plot(x_fine,g(x_fine,a,b,c,d))\n",
        "plt.plot(x,y,'ro')"
      ]
    },
    {
      "cell_type": "markdown",
      "metadata": {
        "id": "gXws8X2FczJn"
      },
      "source": [
        "### Root Finding"
      ]
    },
    {
      "cell_type": "code",
      "execution_count": null,
      "metadata": {
        "id": "z6ALLreZczJn"
      },
      "outputs": [],
      "source": [
        "# Apply the optimize.root function to find the root value making f() = 0\n",
        "def f(x):\n",
        "    return np.sin(x)"
      ]
    },
    {
      "cell_type": "code",
      "execution_count": null,
      "metadata": {
        "colab": {
          "base_uri": "https://localhost:8080/",
          "height": 468
        },
        "id": "njPUfxUO-9oS",
        "outputId": "9f33349d-f077-4703-8971-e041b99ac24e"
      },
      "outputs": [],
      "source": [
        "x_fine = np.linspace(-2,10,200)\n",
        "plt.plot(x_fine,f(x_fine))"
      ]
    },
    {
      "cell_type": "code",
      "execution_count": null,
      "metadata": {
        "colab": {
          "base_uri": "https://localhost:8080/"
        },
        "id": "VfZaCrqyczJn",
        "outputId": "254a2fff-fe88-4ef0-e05b-dd1695fad790"
      },
      "outputs": [],
      "source": [
        "r = optimize.root(f,2)\n",
        "r.x"
      ]
    },
    {
      "cell_type": "code",
      "execution_count": null,
      "metadata": {
        "id": "JINf5fSfczJn"
      },
      "outputs": [],
      "source": [
        "f(r.x)"
      ]
    },
    {
      "cell_type": "markdown",
      "metadata": {
        "id": "NQvEZLdSsc01"
      },
      "source": [
        "#### check more about [scipy.optimize](https://docs.scipy.org/doc/scipy/tutorial/optimize.html?highlight=optimization#)"
      ]
    },
    {
      "cell_type": "markdown",
      "metadata": {
        "id": "d6vYGBexczJn"
      },
      "source": [
        "## Linear programming\n",
        "A very common case is linear programming (LP). These are optimization problems that can be written in the form\n",
        "\n",
        "$$\n",
        "\\begin{equation}\n",
        "\\begin{split}\n",
        "\\text{minimize} \\;\\; & c^{T}x  \\\\\n",
        "\\text{subject to} \\;\\; & A_{ub}x \\leq b_{ub} \\\\\n",
        "& A_{eq}x = b_{eq}\n",
        "\\end{split}\n",
        "\\end{equation}\n",
        "$$\n",
        "\n",
        "Here, we are finding the vector $x$ that minimizes the dot product $c^T x$, where $c$ is some fixed vector, out of all $x$ that satisfy $A_{ub}x \\leq b_{ub}$ and $A_{eq}x = b_{eq}$, where $A_{ub}$ and $A_{eq}$ are matrices and $b_{ub}$ and $b_{eq}$ are vectors."
      ]
    },
    {
      "cell_type": "markdown",
      "metadata": {
        "id": "CvkHVxIgczJo"
      },
      "source": [
        "## Exercise\n",
        "Using Google and reading documentation are important parts of programming. [`scipy.optimize`](https://docs.scipy.org/doc/scipy/reference/optimize.html) comes with specialized functions for solving linear programming problems.\n",
        "\n",
        "Figure out how to solve LPs using `scipy.optimize`, and solve the following LP:\n",
        "$$\n",
        "\\begin{equation}\n",
        "\\begin{split}\n",
        "\\text{minimize} \\;\\; & x_1 + 2 x_2  \\\\\n",
        "\\text{subject to} \\;\\; & x_1 \\leq 1 \\\\\n",
        "& 5 x_1 + x_2 \\geq 0\n",
        "\\end{split}\n",
        "\\end{equation}\n",
        "$$\n",
        "\n",
        "Note that the problem is equivalent to\n",
        "\n",
        "$$\n",
        "\\begin{equation}\n",
        "\\begin{split}\n",
        "\\text{minimize} \\;\\; & c^T x  \\\\\n",
        "\\text{subject to} \\;\\; & A_{ub}x \\leq b_{ub} \\\\\n",
        "& A_{eq}x = b_{eq}\n",
        "\\end{split}\n",
        "\\end{equation}\n",
        "$$\n",
        "where\n",
        "$$\n",
        "c = \\begin{pmatrix} 1 \\\\ 2 \\end{pmatrix} \\qquad\n",
        "A_{ub} = \\begin{pmatrix} 1 & 0 \\\\ -5 & -1 \\end{pmatrix}, \\qquad\n",
        "b_{ub} = \\begin{pmatrix} 1 \\\\ 0 \\end{pmatrix}, \\qquad\n",
        "A_{eq} = 0, \\qquad\n",
        "b_{eq} = 0.\n",
        "$$\n",
        "\n",
        "We can see this because\n",
        "$$\n",
        " \\begin{pmatrix} 1 & 0 \\\\ -5 & -1 \\end{pmatrix} \\begin{pmatrix} x_1 \\\\ x_2 \\end{pmatrix} \\leq \\begin{pmatrix} x_1 \\\\ -5x_1 - x_2 \\end{pmatrix}\n",
        "$$"
      ]
    },
    {
      "cell_type": "code",
      "execution_count": null,
      "metadata": {
        "id": "olFxqvWg7IXT"
      },
      "outputs": [],
      "source": [
        "c = np.array([1,2])\n",
        "Aub = np.array([[1,0],[-5,-1]])\n",
        "bub = np.array([1,0])"
      ]
    },
    {
      "cell_type": "code",
      "execution_count": null,
      "metadata": {
        "colab": {
          "base_uri": "https://localhost:8080/"
        },
        "id": "oR7CDCNBczJo",
        "outputId": "bad42b36-bbb2-4076-d31a-ad6aac861cc3"
      },
      "outputs": [],
      "source": [
        "# YOUR CODE HERE"
      ]
    },
    {
      "cell_type": "markdown",
      "metadata": {
        "id": "OJ4QfOKotVoP"
      },
      "source": [
        "HINT: check the documentation for [scipy.optimize](https://docs.scipy.org/doc/scipy/reference/generated/scipy.optimize.linprog.html?highlight=scipy%20optimize%20linprog#scipy.optimize.linprog)"
      ]
    },
    {
      "cell_type": "markdown",
      "metadata": {
        "id": "a8amGRUnczJo"
      },
      "source": [
        "## Statistics : `scipy.stats`"
      ]
    },
    {
      "cell_type": "code",
      "execution_count": null,
      "metadata": {
        "id": "v9QDFw2aczJo"
      },
      "outputs": [],
      "source": [
        "from scipy import stats"
      ]
    },
    {
      "cell_type": "markdown",
      "metadata": {
        "id": "_jj45sUzczJp"
      },
      "source": [
        "Find the maximum likelihood estimate for parameters"
      ]
    },
    {
      "cell_type": "code",
      "execution_count": null,
      "metadata": {
        "colab": {
          "base_uri": "https://localhost:8080/",
          "height": 450
        },
        "id": "x_i30X_hczJp",
        "outputId": "fa10e22d-7e03-4bec-a79c-5c30a05156f1"
      },
      "outputs": [],
      "source": [
        "samples = 3*np.random.randn(100_000)+2\n",
        "plt.hist(samples);"
      ]
    },
    {
      "cell_type": "code",
      "execution_count": null,
      "metadata": {
        "colab": {
          "base_uri": "https://localhost:8080/"
        },
        "id": "kXGbYWDyczJp",
        "outputId": "53857a75-fb3c-4bdc-c9b6-1fd352c61a5b"
      },
      "outputs": [],
      "source": [
        "stats.norm.fit(samples) #return mean and standard deviation"
      ]
    },
    {
      "cell_type": "code",
      "execution_count": null,
      "metadata": {
        "id": "wXFC3Iz8czJp"
      },
      "outputs": [],
      "source": [
        "a = np.random.randn(300)\n",
        "b = np.random.randn(300) + 0.5 #try + 0.5"
      ]
    },
    {
      "cell_type": "code",
      "execution_count": null,
      "metadata": {
        "colab": {
          "base_uri": "https://localhost:8080/"
        },
        "id": "kkeh5vfPczJp",
        "outputId": "824d1893-b57c-4baf-926f-b4df1ead93b8"
      },
      "outputs": [],
      "source": [
        "# t test for independent distributions to see if they have equal means\n",
        "# In shorts, assuming they have same mean, how likely our assumption would occur\n",
        "stats.ttest_ind(a,b)"
      ]
    },
    {
      "cell_type": "code",
      "execution_count": null,
      "metadata": {
        "id": "Gxp-1Ykm1jcK"
      },
      "outputs": [],
      "source": [
        "#Pearson correlation coefficient -> measuring if two data is correclated\n",
        "# ?stats.pearsonr"
      ]
    },
    {
      "cell_type": "code",
      "execution_count": null,
      "metadata": {
        "id": "57Dkkm98czJq"
      },
      "outputs": [],
      "source": [
        "# if the expected value of a is significantly different from the expected value of b\n",
        "a = np.random.randn(300)\n",
        "b = np.random.randn(300)/2 + a/2"
      ]
    },
    {
      "cell_type": "code",
      "execution_count": null,
      "metadata": {
        "colab": {
          "base_uri": "https://localhost:8080/"
        },
        "id": "dI4-rXllczJq",
        "outputId": "8de7eeb3-6974-4392-9c94-9e1b4ccbc179"
      },
      "outputs": [],
      "source": [
        "stats.pearsonr(a,b) #r-value and p-value"
      ]
    },
    {
      "cell_type": "markdown",
      "metadata": {
        "id": "JpngiCs8czJq"
      },
      "source": [
        "You can also perform kernel density estimation"
      ]
    },
    {
      "cell_type": "code",
      "execution_count": null,
      "metadata": {
        "id": "uvI5XHldczJr"
      },
      "outputs": [],
      "source": [
        "x = np.hstack(( 2*np.random.randn(1000)+5,  0.6*np.random.randn(1000)-1) )"
      ]
    },
    {
      "cell_type": "code",
      "execution_count": null,
      "metadata": {
        "colab": {
          "base_uri": "https://localhost:8080/",
          "height": 450
        },
        "id": "avQpW7JFczJr",
        "outputId": "3fdf0f78-5058-4b69-cbbc-dedeacd80eb1"
      },
      "outputs": [],
      "source": [
        "plt.hist(x);"
      ]
    },
    {
      "cell_type": "code",
      "execution_count": null,
      "metadata": {
        "colab": {
          "base_uri": "https://localhost:8080/"
        },
        "id": "2yy13BcGczJr",
        "outputId": "3c28593b-db54-4950-ee16-a819d956c1a2"
      },
      "outputs": [],
      "source": [
        "pdf = stats.kde.gaussian_kde(x)\n",
        "#we have two distribution, but we are going to capture features from both"
      ]
    },
    {
      "cell_type": "code",
      "execution_count": null,
      "metadata": {
        "colab": {
          "base_uri": "https://localhost:8080/"
        },
        "id": "qhJBY8abup5m",
        "outputId": "7af3bd4b-280a-413e-dd62-675ae6797612"
      },
      "outputs": [],
      "source": [
        "pdf(10)"
      ]
    },
    {
      "cell_type": "code",
      "execution_count": null,
      "metadata": {
        "colab": {
          "base_uri": "https://localhost:8080/",
          "height": 468
        },
        "id": "xlKotoI3czJr",
        "outputId": "63b407f8-a871-498e-c658-bdb7e2d8a1b9"
      },
      "outputs": [],
      "source": [
        "counts,bins,_ = plt.hist(x)\n",
        "x_fine=np.linspace(-2,10,100)\n",
        "plt.plot(x_fine,np.sum(counts)*pdf(x_fine))"
      ]
    },
    {
      "cell_type": "markdown",
      "metadata": {
        "id": "KFy27f22czJr"
      },
      "source": [
        "## Numerical Integration : `scipy.integrate`"
      ]
    },
    {
      "cell_type": "code",
      "execution_count": null,
      "metadata": {
        "id": "kWChbPAKczJs"
      },
      "outputs": [],
      "source": [
        "import scipy.integrate as integ"
      ]
    },
    {
      "cell_type": "markdown",
      "metadata": {
        "id": "fJMO0Im6czJs"
      },
      "source": [
        "You can compute integral using the `quad` funtion"
      ]
    },
    {
      "cell_type": "code",
      "execution_count": null,
      "metadata": {
        "id": "uXeYLKIDoKjB"
      },
      "outputs": [],
      "source": [
        "def f(x):\n",
        "  return 2*x"
      ]
    },
    {
      "cell_type": "code",
      "execution_count": null,
      "metadata": {
        "colab": {
          "base_uri": "https://localhost:8080/"
        },
        "id": "adwIF73qczJt",
        "outputId": "e1832644-74a8-4e64-b231-3f3efad68728"
      },
      "outputs": [],
      "source": [
        "integ.quad(f,0,2) #f and upper and lower bounds\n",
        "# return value up to an error tolerance this much"
      ]
    },
    {
      "cell_type": "code",
      "execution_count": null,
      "metadata": {
        "id": "2vsTpxvMczJt"
      },
      "outputs": [],
      "source": [
        "integ.quad?"
      ]
    },
    {
      "cell_type": "markdown",
      "metadata": {
        "id": "V8rcJMPoczJt"
      },
      "source": [
        "You can also solve ODEs of the form\n",
        "$$ \\frac{dy}{dt} = f(y,t) $$"
      ]
    },
    {
      "cell_type": "code",
      "execution_count": null,
      "metadata": {
        "id": "ArrgxWSvczJt"
      },
      "outputs": [],
      "source": [
        "def f(y,t): #dev function\n",
        "    return (t*y[1], -y[1]-9*y[0])"
      ]
    },
    {
      "cell_type": "code",
      "execution_count": null,
      "metadata": {
        "id": "QUc3YwkMczJu"
      },
      "outputs": [],
      "source": [
        "# f: Computes the derivative of y at t\n",
        "# y0 = [1,1] Initial condition on y (can be a vector).\n",
        "# t: A sequence of time points for which to solve for y.\n",
        "# Return: Array containing the value of y for each desired time in t,\n",
        "#         with the initial value y0 in the first row.\n",
        "t = np.linspace(0,10,100)\n",
        "Y = integ.odeint(f,y0 =[1,1],t=t)"
      ]
    },
    {
      "cell_type": "code",
      "execution_count": null,
      "metadata": {
        "colab": {
          "base_uri": "https://localhost:8080/"
        },
        "id": "ZLxm9LPtd7oN",
        "outputId": "759130ab-9de9-461f-e6bd-d5a41b3b57b0"
      },
      "outputs": [],
      "source": [
        "Y.shape"
      ]
    },
    {
      "cell_type": "code",
      "execution_count": null,
      "metadata": {
        "colab": {
          "base_uri": "https://localhost:8080/",
          "height": 468
        },
        "id": "tvMg_pQzczJu",
        "outputId": "cce5313a-7acd-4e12-d641-e1335ca8f0ee"
      },
      "outputs": [],
      "source": [
        "plt.plot(t,Y[:,0])"
      ]
    },
    {
      "cell_type": "code",
      "execution_count": null,
      "metadata": {
        "colab": {
          "base_uri": "https://localhost:8080/",
          "height": 468
        },
        "id": "CwhYum5wv1Rs",
        "outputId": "1ef7ae38-9b69-4327-ae11-b368f7198a55"
      },
      "outputs": [],
      "source": [
        "plt.plot(t,Y[:,1])"
      ]
    },
    {
      "cell_type": "code",
      "execution_count": null,
      "metadata": {
        "colab": {
          "base_uri": "https://localhost:8080/",
          "height": 468
        },
        "id": "GaRsF71Ki0Nj",
        "outputId": "ef39a2f0-99d3-4c54-9f8f-ed30fa6324c6"
      },
      "outputs": [],
      "source": [
        "plt.plot(Y[:,0],Y[:, 1])"
      ]
    },
    {
      "cell_type": "markdown",
      "metadata": {
        "id": "cl5r9_lrczJu"
      },
      "source": [
        "## Physical simulation\n",
        "Let's simulate a throwing a ball in two dimensions. The ball is described as a function of time by four functions: $x(t), y(t), v_x(t), v_y(t)$, which are governed by the ODE system:\n",
        "\n",
        "$$\n",
        "    \\frac{dx}{dt} = v_x, \\qquad\n",
        "    \\frac{dy}{dt} = v_y, \\qquad\n",
        "    \\frac{dv_x}{dt} = 0, \\qquad\n",
        "    \\frac{dv_y}{dt} = -g.\n",
        "$$\n",
        "\n",
        "We can think of this in vectorized form as:\n",
        "\n",
        "$$\n",
        "    \\frac{d}{dt} \\begin{pmatrix} x \\\\ y \\\\ v_x \\\\ v_y \\end{pmatrix} = \\begin{pmatrix} v_x \\\\ v_y \\\\ 0 \\\\ -g \\end{pmatrix}\n",
        "$$"
      ]
    },
    {
      "cell_type": "code",
      "execution_count": null,
      "metadata": {
        "id": "oe_owsTAczJv"
      },
      "outputs": [],
      "source": [
        "def dzdt(z, t):\n",
        "    x, y, vx, vy = z\n",
        "    g = 1\n",
        "    return np.array([vx, vy, 0, -g])"
      ]
    },
    {
      "cell_type": "code",
      "execution_count": null,
      "metadata": {
        "id": "b1o7X3AmczJv"
      },
      "outputs": [],
      "source": [
        "import matplotlib.pyplot as plt"
      ]
    },
    {
      "cell_type": "code",
      "execution_count": null,
      "metadata": {
        "colab": {
          "base_uri": "https://localhost:8080/",
          "height": 450
        },
        "id": "YXk-6ndlczJv",
        "outputId": "5077e0a5-59b9-439a-e9f9-48382511509f"
      },
      "outputs": [],
      "source": [
        "x, y = 0, 0\n",
        "vx, vy = 1, 20\n",
        "\n",
        "z = np.array([x, y, vx, vy])\n",
        "t = np.linspace(0, 50, 50)\n",
        "\n",
        "result = integ.odeint(dzdt, z, t)\n",
        "\n",
        "plt.scatter(result[:, 0], result[:, 1])\n",
        "plt.show()"
      ]
    },
    {
      "cell_type": "markdown",
      "metadata": {
        "id": "WL3da4vtczJv"
      },
      "source": [
        "## Exercise(Post_lecture)\n",
        "We can add drag with the following slight modification to the ODE, which adds a force with direction opposing the current velocity, and with magnitude proportional to the velocity squared.\n",
        "    \n",
        "$$\n",
        "    \\frac{d}{dt} \\begin{pmatrix} x \\\\ y \\\\ v_x \\\\ v_y \\end{pmatrix} = \\begin{pmatrix} v_x \\\\ v_y \\\\ -\\alpha v_x \\sqrt{v_x^2 + v_y^2} \\\\ -g -\\alpha v_y \\sqrt{v_x^2 + v_y^2} \\end{pmatrix}\n",
        "$$\n",
        "\n",
        "Implement this with $\\alpha = 0.001$, plot the resulting trajectory, and compare to the dragless case."
      ]
    },
    {
      "cell_type": "code",
      "execution_count": null,
      "metadata": {
        "id": "VXng8Nd0czJv"
      },
      "outputs": [],
      "source": [
        "# YOUR CODE HERE"
      ]
    },
    {
      "cell_type": "markdown",
      "metadata": {
        "id": "opRv9zg3czJv"
      },
      "source": [
        "# Other useful packages\n",
        "\n",
        "## `networkx`\n",
        "Useful Package to handle graphs.\n",
        "\n",
        "Install by running `conda install networkx`"
      ]
    },
    {
      "cell_type": "code",
      "execution_count": null,
      "metadata": {
        "id": "ldGmi1TMczJw"
      },
      "outputs": [],
      "source": [
        "import networkx as nx"
      ]
    },
    {
      "cell_type": "code",
      "execution_count": null,
      "metadata": {
        "id": "aaWcmAJVczJw"
      },
      "outputs": [],
      "source": [
        "G = nx.Graph()\n"
      ]
    },
    {
      "cell_type": "code",
      "execution_count": null,
      "metadata": {
        "id": "bw7t4NYB9BPe"
      },
      "outputs": [],
      "source": [
        "G.add_nodes_from([1,2,3,4])"
      ]
    },
    {
      "cell_type": "code",
      "execution_count": null,
      "metadata": {
        "colab": {
          "base_uri": "https://localhost:8080/",
          "height": 536
        },
        "id": "g2spLJpKczJw",
        "outputId": "edf51ca5-a4ae-4cf0-bf10-4dddcafe00a2"
      },
      "outputs": [],
      "source": [
        "nx.draw(G)"
      ]
    },
    {
      "cell_type": "code",
      "execution_count": null,
      "metadata": {
        "id": "atB3I1Ch9Ciy"
      },
      "outputs": [],
      "source": [
        "G.add_edge(1,2)"
      ]
    },
    {
      "cell_type": "code",
      "execution_count": null,
      "metadata": {
        "colab": {
          "base_uri": "https://localhost:8080/",
          "height": 536
        },
        "id": "NXEGBzyK9DBR",
        "outputId": "3f9df42f-ba6f-44be-e902-4846393d21d3"
      },
      "outputs": [],
      "source": [
        "nx.draw(G)"
      ]
    },
    {
      "cell_type": "code",
      "execution_count": null,
      "metadata": {
        "id": "TXc18kbE9JaZ"
      },
      "outputs": [],
      "source": [
        "G.add_edge(2,3)\n",
        "G.add_edge(3,1)\n",
        "G.add_edge(3,4)"
      ]
    },
    {
      "cell_type": "code",
      "execution_count": null,
      "metadata": {
        "colab": {
          "base_uri": "https://localhost:8080/",
          "height": 536
        },
        "id": "ZKjmxcJq9K7P",
        "outputId": "1c965411-5016-4922-806a-a9149db31fb4"
      },
      "outputs": [],
      "source": [
        "nx.draw(G)"
      ]
    },
    {
      "cell_type": "code",
      "execution_count": null,
      "metadata": {
        "colab": {
          "base_uri": "https://localhost:8080/",
          "height": 536
        },
        "id": "CsEJderNczJw",
        "outputId": "f45303b0-10ca-4f4d-d0b5-226af07579cc"
      },
      "outputs": [],
      "source": [
        "G = nx.complete_graph(10)\n",
        "nx.draw(G)"
      ]
    },
    {
      "cell_type": "markdown",
      "metadata": {
        "id": "hFrccNS6czJw"
      },
      "source": [
        "## `sympy`\n",
        "\n",
        "Package for performing symbolic computation and manipulation.\n",
        "\n",
        "Install it in your environment by running `conda install sympy`"
      ]
    },
    {
      "cell_type": "code",
      "execution_count": null,
      "metadata": {
        "colab": {
          "base_uri": "https://localhost:8080/"
        },
        "id": "0p-ZbGpiU8io",
        "outputId": "661ee5a1-5415-472e-a7fc-da0a888c4524"
      },
      "outputs": [],
      "source": [
        "0.2 + 0.1 == 0.3"
      ]
    },
    {
      "cell_type": "code",
      "execution_count": null,
      "metadata": {
        "id": "zYZSKRakUrj6"
      },
      "outputs": [],
      "source": [
        "#That's because .1 cannot be represented exactly\n",
        "#in a binary floating point representation. If you try\n",
        "print(0.1)"
      ]
    },
    {
      "cell_type": "code",
      "execution_count": null,
      "metadata": {
        "id": "mMw3cmB8-Fgd"
      },
      "outputs": [],
      "source": []
    },
    {
      "cell_type": "code",
      "execution_count": null,
      "metadata": {
        "colab": {
          "base_uri": "https://localhost:8080/"
        },
        "id": "hrNgtlfYVBNV",
        "outputId": "dd3a7ddb-f4d6-406b-ca78-d29d8957844e"
      },
      "outputs": [],
      "source": [
        "#Python will respond with .1 because it only prints up\n",
        "# to a certain precision, but there's already a small round-off\n",
        "# error. The same happens with .3, but when you issue\n",
        "print(0.2 + 0.1)\n",
        "#then the round-off errors in .2 and .1 accumulate. Also note:\n",
        "print(0.2 + 0.1 == 0.3)"
      ]
    },
    {
      "cell_type": "code",
      "execution_count": null,
      "metadata": {
        "id": "MO7Zu9dpVBUQ"
      },
      "outputs": [],
      "source": [
        "# IEEE Standard: Floating Point Number and Runoff Error"
      ]
    },
    {
      "cell_type": "code",
      "execution_count": null,
      "metadata": {
        "id": "fjsnaSW_czJx"
      },
      "outputs": [],
      "source": [
        "from sympy import *"
      ]
    },
    {
      "cell_type": "code",
      "execution_count": null,
      "metadata": {
        "id": "VeIFgMozczJx"
      },
      "outputs": [],
      "source": [
        "x,y = symbols([\"x\",\"y\"])"
      ]
    },
    {
      "cell_type": "code",
      "execution_count": null,
      "metadata": {
        "colab": {
          "base_uri": "https://localhost:8080/",
          "height": 59
        },
        "id": "-rc9TsBcczJx",
        "outputId": "ece37ef3-1e02-450d-8f3a-68fd50ce20cd"
      },
      "outputs": [],
      "source": [
        "x"
      ]
    },
    {
      "cell_type": "code",
      "execution_count": null,
      "metadata": {
        "id": "6ogwAQmjczJx"
      },
      "outputs": [],
      "source": [
        "expr = x+y**2"
      ]
    },
    {
      "cell_type": "code",
      "execution_count": null,
      "metadata": {
        "colab": {
          "base_uri": "https://localhost:8080/",
          "height": 59
        },
        "id": "3bXGM0huczJx",
        "outputId": "99a4946c-262f-4b3d-d7cb-0e0244f78c0b"
      },
      "outputs": [],
      "source": [
        "expr"
      ]
    },
    {
      "cell_type": "code",
      "execution_count": null,
      "metadata": {
        "colab": {
          "base_uri": "https://localhost:8080/",
          "height": 59
        },
        "id": "8fnmXQsnczJy",
        "outputId": "415b7b00-e337-4581-b5ac-d09cc2eaced8"
      },
      "outputs": [],
      "source": [
        "x*expr"
      ]
    },
    {
      "cell_type": "code",
      "execution_count": null,
      "metadata": {
        "colab": {
          "base_uri": "https://localhost:8080/",
          "height": 59
        },
        "id": "MofMM8CbczJy",
        "outputId": "8f17ca6f-b808-4a1e-c99b-fd9fbe7c5bad"
      },
      "outputs": [],
      "source": [
        "expand(x*expr)"
      ]
    },
    {
      "cell_type": "code",
      "execution_count": null,
      "metadata": {
        "colab": {
          "base_uri": "https://localhost:8080/",
          "height": 59
        },
        "id": "tKaZwXcSczJy",
        "outputId": "df48e666-f91e-472a-8482-ecff2e703ce3"
      },
      "outputs": [],
      "source": [
        "factor(x**2 - y**2)"
      ]
    },
    {
      "cell_type": "code",
      "execution_count": null,
      "metadata": {
        "colab": {
          "base_uri": "https://localhost:8080/",
          "height": 56
        },
        "id": "n10egf4pczJy",
        "outputId": "9a5dcddd-4ff7-4eb7-d312-1acc17336734"
      },
      "outputs": [],
      "source": [
        "latex(expr)"
      ]
    },
    {
      "cell_type": "code",
      "execution_count": null,
      "metadata": {
        "colab": {
          "base_uri": "https://localhost:8080/",
          "height": 59
        },
        "id": "cD8-U4WEczJy",
        "outputId": "407ea358-0956-4532-a1fe-5eb982121977"
      },
      "outputs": [],
      "source": [
        "simplify( (x-y)**2 + (x+y)**2)"
      ]
    },
    {
      "cell_type": "code",
      "execution_count": null,
      "metadata": {
        "colab": {
          "base_uri": "https://localhost:8080/",
          "height": 78
        },
        "id": "SQ8tzhceczJy",
        "outputId": "b9c21dae-c957-4ffc-8f89-ce811848ed3a"
      },
      "outputs": [],
      "source": [
        "x**2/(y**3+y)"
      ]
    },
    {
      "cell_type": "code",
      "execution_count": null,
      "metadata": {
        "colab": {
          "base_uri": "https://localhost:8080/",
          "height": 72
        },
        "id": "8OivV8dbczJz",
        "outputId": "cee89076-d43c-4eb1-9e85-e3d96e320c78"
      },
      "outputs": [],
      "source": [
        "(x**2/(y**3+y)).subs(y,(x/2)).simplify() #substitue value of y with another parameter"
      ]
    },
    {
      "cell_type": "code",
      "execution_count": null,
      "metadata": {
        "colab": {
          "base_uri": "https://localhost:8080/",
          "height": 57
        },
        "id": "FkQaOgvfczJz",
        "outputId": "a795f48f-0c17-4d76-a9c8-3d2e0ced018e"
      },
      "outputs": [],
      "source": [
        "(x**2/(y**3+y)).evalf(subs={'x':2, 'y':4}) #value plug in\n",
        "# 4/(64+4)"
      ]
    },
    {
      "cell_type": "code",
      "execution_count": null,
      "metadata": {
        "colab": {
          "base_uri": "https://localhost:8080/",
          "height": 98
        },
        "id": "H9fddkw-czJz",
        "outputId": "bc725aae-d92f-43fe-e66a-5a996d0256fb"
      },
      "outputs": [],
      "source": [
        "Integral(exp(-x**2 - y**2), (x, -oo, oo), (y, -oo, oo)) #integration, infinity here is - with two o"
      ]
    },
    {
      "cell_type": "code",
      "execution_count": null,
      "metadata": {
        "id": "WJGBFt0IczJz"
      },
      "outputs": [],
      "source": [
        "I = Integral(exp(-x**2 - y**2), (x, -oo, oo), (y, -oo, oo))"
      ]
    },
    {
      "cell_type": "code",
      "execution_count": null,
      "metadata": {
        "colab": {
          "base_uri": "https://localhost:8080/",
          "height": 59
        },
        "id": "VYj_4qnGczJz",
        "outputId": "534122c1-22c5-4ed5-f82a-d701f11f17b3"
      },
      "outputs": [],
      "source": [
        "I.doit() # do the calculation"
      ]
    },
    {
      "cell_type": "code",
      "execution_count": null,
      "metadata": {
        "colab": {
          "base_uri": "https://localhost:8080/",
          "height": 77
        },
        "id": "16V18bIaczJz",
        "outputId": "0cd14845-c1ab-49ae-bd9a-936336796802"
      },
      "outputs": [],
      "source": [
        "(sin(x)/(1+cos(x)))"
      ]
    },
    {
      "cell_type": "code",
      "execution_count": null,
      "metadata": {
        "colab": {
          "base_uri": "https://localhost:8080/",
          "height": 75
        },
        "id": "Eb1fz-W1czJ0",
        "outputId": "b2e9b2b1-e049-4d7f-ec49-f89970f8a82f"
      },
      "outputs": [],
      "source": [
        "(sin(x)/(1+cos(x))).series(x,0,10) #taylor series center at 0 with 10 terms"
      ]
    },
    {
      "cell_type": "code",
      "execution_count": null,
      "metadata": {},
      "outputs": [],
      "source": []
    },
    {
      "cell_type": "code",
      "execution_count": null,
      "metadata": {},
      "outputs": [],
      "source": []
    }
  ],
  "metadata": {
    "colab": {
      "collapsed_sections": [
        "d6vYGBexczJn"
      ],
      "provenance": [],
      "toc_visible": true
    },
    "kernelspec": {
      "display_name": "Python 3 (ipykernel)",
      "language": "python",
      "name": "python3"
    },
    "language_info": {
      "codemirror_mode": {
        "name": "ipython",
        "version": 3
      },
      "file_extension": ".py",
      "mimetype": "text/x-python",
      "name": "python",
      "nbconvert_exporter": "python",
      "pygments_lexer": "ipython3",
      "version": "3.9.18"
    }
  },
  "nbformat": 4,
  "nbformat_minor": 0
}
