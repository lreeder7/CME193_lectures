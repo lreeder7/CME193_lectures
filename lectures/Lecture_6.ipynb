{
  "cells": [
    {
      "cell_type": "markdown",
      "metadata": {
        "id": "IdHoeqNMdBk0"
      },
      "source": [
        "# CME 193 - Lecture 6 - Pandas\n"
      ]
    },
    {
      "cell_type": "markdown",
      "metadata": {
        "id": "yTOU1RrHMz8A"
      },
      "source": [
        "1. HW 1 is due tonight at 11:59pm on Gradescope\n",
        "  - 2 free late days \n",
        "2. HW 2 is coming today \n",
        "  - Uses pandas, scikit-learn, and scipy optimize\n",
        "  - Very basic ML algorithm implementation"
      ]
    },
    {
      "cell_type": "markdown",
      "metadata": {
        "id": "vgyr4FoKhPzE"
      },
      "source": [
        "# Basic Section (Start)"
      ]
    },
    {
      "cell_type": "markdown",
      "metadata": {
        "id": "aHZ7AT1tdBk3"
      },
      "source": [
        "## Pandas\n",
        "\n",
        "[Pandas](https://pandas.pydata.org/) is a Python library for dealing with tabular data.  The main thing you'll hear people talk about is the DataFrame object (inspired by R), which is designed to hold tabular data.\n",
        "\n",
        "## Difference between a DataFrame and NumPy Array\n",
        "\n",
        "Pandas DataFrames and NumPy arrays both have similarities to Python lists.  \n",
        "* Numpy arrays are designed to contain data of one type (e.g. Int, Float, ...)\n",
        "* DataFrames can contain different types of data (Int, Float, String, ...)\n",
        "    * Usually each column has the same type\n",
        "    \n",
        "    \n",
        "Both arrays and DataFrames are optimized for storage/performance beyond Python lists\n",
        "\n",
        "Pandas is also powerful for working with missing data, working with time series data, for reading and writing your data, for reshaping, grouping, merging your data, ...\n",
        "\n",
        "## Key Features\n",
        "\n",
        "* File I/O - integrations with multiple file formats\n",
        "* Working with missing data (.dropna(), pd.isnull())\n",
        "* Normal table operations: merging and joining, groupby functionality, reshaping via stack, and pivot_tables,\n",
        "* Time series-specific functionality:\n",
        "    * date range generation and frequency conversion, moving window statistics/regressions, date shifting and lagging, etc.\n",
        "* Built in Matplotlib integration\n",
        "\n",
        "## Other Strengths\n",
        "\n",
        "* Strong community, support, and documentation\n",
        "* Size mutability: columns can be inserted and deleted from DataFrame and higher dimensional objects\n",
        "* Powerful, flexible group by functionality to perform split-apply-combine operations on data sets, for both aggregating and transforming data\n",
        "* Make it easy to convert ragged, differently-indexed data in other Python and NumPy data structures into DataFrame objects Intelligent label-based slicing, fancy indexing, and subsetting of large data sets\n",
        "\n",
        "## Python/Pandas vs. R\n",
        "\n",
        "* R is a language dedicated to statistics. Python is a general-purpose language with statistics modules.\n",
        "* R has more statistical analysis features than Python, and specialized syntaxes.\n",
        "\n",
        "However, when it comes to building complex analysis pipelines that mix statistics with e.g. image analysis, text mining, or control of a physical experiment, the richness of Python is an invaluable asset."
      ]
    },
    {
      "cell_type": "markdown",
      "metadata": {
        "id": "2qWAclxsdBk5"
      },
      "source": [
        "## Getting Started\n",
        "\n",
        "[Here](https://pandas.pydata.org/pandas-docs/stable/generated/pandas.DataFrame.html) is a link to the documentation for DataFrames"
      ]
    },
    {
      "cell_type": "code",
      "execution_count": 1,
      "metadata": {
        "id": "tG0DMucndBk6"
      },
      "outputs": [],
      "source": [
        "import pandas as pd\n",
        "import numpy as np"
      ]
    },
    {
      "cell_type": "markdown",
      "metadata": {
        "id": "tVh8cswRdBk7"
      },
      "source": [
        "## Objects and Basic Creation\n",
        "\n",
        "| Name | Dimensions | Description  |\n",
        "| ------:| -----------:|----------|\n",
        "| ```pd.Series``` | 1 | 1D labeled homogeneously-typed array |\n",
        "| ```pd.DataFrame```  | 2| General 2D labeled, size-mutable tabular structure |\n",
        "\n",
        "# Series\n",
        "## What are they?\n",
        "- Series is a one-dimensional labeled array capable of holding any data type (integers, strings, floating point numbers, Python objects, etc.). The axis labels are collectively referred to as the index.\n",
        "- Basic method to create a series:\n",
        "```s = pd.Series(data, index = index) ```\n",
        "- Data Can be many things:\n",
        "    * An ndarray (or regular Python list)\n",
        "    * A Python Dictionary\n",
        "    * A scalar\n",
        "- The passed index is a list of axis labels (which varies on what data is)\n",
        "\n",
        "Think \"Series = Vector + labels\""
      ]
    },
    {
      "cell_type": "code",
      "execution_count": 2,
      "metadata": {
        "colab": {
          "base_uri": "https://localhost:8080/"
        },
        "id": "l2oMvobNdBk7",
        "outputId": "2b38cc93-a432-451d-c790-04c33ade4ad1",
        "scrolled": true
      },
      "outputs": [
        {
          "name": "stdout",
          "output_type": "stream",
          "text": [
            "<class 'pandas.core.series.Series'>\n",
            "0     1\n",
            "1     2\n",
            "2     3\n",
            "3     8\n",
            "4    16\n",
            "5    32\n",
            "6    64\n",
            "dtype: int64\n"
          ]
        }
      ],
      "source": [
        "first_series = pd.Series([1,2,3,8,16,32,64])\n",
        "print(type(first_series))\n",
        "print(first_series)"
      ]
    },
    {
      "cell_type": "code",
      "execution_count": 3,
      "metadata": {
        "colab": {
          "base_uri": "https://localhost:8080/"
        },
        "id": "IKliGsRpR-Gs",
        "outputId": "a963a896-83f8-45d9-ce35-72bb92926d6a"
      },
      "outputs": [
        {
          "data": {
            "text/plain": [
              "3"
            ]
          },
          "execution_count": 3,
          "metadata": {},
          "output_type": "execute_result"
        }
      ],
      "source": [
        "first_series[2]"
      ]
    },
    {
      "cell_type": "code",
      "execution_count": 4,
      "metadata": {
        "colab": {
          "base_uri": "https://localhost:8080/"
        },
        "id": "M0ZFZzDgRyaj",
        "outputId": "9fe36006-906c-4859-c0ef-524170a14bec"
      },
      "outputs": [
        {
          "name": "stdout",
          "output_type": "stream",
          "text": [
            "<class 'pandas.core.series.Series'>\n",
            "2     1\n",
            "1     2\n",
            "0     3\n",
            "3     8\n",
            "4    16\n",
            "5    32\n",
            "6    64\n",
            "dtype: int64\n"
          ]
        }
      ],
      "source": [
        "second_series = pd.Series([1,2,3,8,16,32,64],  index=[2,1,0,3,4,5,6])\n",
        "print(type(second_series))\n",
        "print(second_series)"
      ]
    },
    {
      "cell_type": "code",
      "execution_count": 5,
      "metadata": {
        "colab": {
          "base_uri": "https://localhost:8080/"
        },
        "id": "P_GKLnFsR7Rn",
        "outputId": "27c4516d-6cac-4766-b202-e46cda58164f"
      },
      "outputs": [
        {
          "data": {
            "text/plain": [
              "1"
            ]
          },
          "execution_count": 5,
          "metadata": {},
          "output_type": "execute_result"
        }
      ],
      "source": [
        "second_series[2] #indexing by label"
      ]
    },
    {
      "cell_type": "code",
      "execution_count": 6,
      "metadata": {
        "colab": {
          "base_uri": "https://localhost:8080/"
        },
        "id": "qnGoG8kak9IE",
        "outputId": "31723f12-dd5a-445f-f18e-2a2931e37b78"
      },
      "outputs": [
        {
          "data": {
            "text/plain": [
              "3"
            ]
          },
          "execution_count": 6,
          "metadata": {},
          "output_type": "execute_result"
        }
      ],
      "source": [
        "second_series.iloc[2] #indexing by position"
      ]
    },
    {
      "cell_type": "markdown",
      "metadata": {},
      "source": [
        "`print` options: add formatting to the end of whatever you want to print"
      ]
    },
    {
      "cell_type": "code",
      "execution_count": 14,
      "metadata": {
        "colab": {
          "base_uri": "https://localhost:8080/"
        },
        "id": "rzshyvqy6OXK",
        "outputId": "ab1f2aa4-de2c-400a-fa99-e80f644c59e9"
      },
      "outputs": [
        {
          "name": "stdout",
          "output_type": "stream",
          "text": [
            "happy valentine's day\n",
            "--------------------------------------------------\n",
            "<3\n"
          ]
        }
      ],
      "source": [
        "print(\"happy\", end = ' ')\n",
        "endstring = '\\n'+'-'*50+'\\n'\n",
        "print('valentine\\'s day', end = endstring)\n",
        "print(\"<3\")"
      ]
    },
    {
      "cell_type": "code",
      "execution_count": 15,
      "metadata": {
        "colab": {
          "base_uri": "https://localhost:8080/"
        },
        "id": "rg1zCy3JdBk8",
        "outputId": "6ba6591f-1801-4a13-c2b9-2d2e8d125f41",
        "scrolled": true
      },
      "outputs": [
        {
          "name": "stdout",
          "output_type": "stream",
          "text": [
            "a    0.514341\n",
            "a    0.698448\n",
            "c    1.178768\n",
            "d    0.620256\n",
            "e   -1.172206\n",
            "dtype: float64\n",
            "--------------------------------------------------\n",
            "Index(['a', 'a', 'c', 'd', 'e'], dtype='object')\n",
            "--------------------------------------------------\n"
          ]
        },
        {
          "data": {
            "text/plain": [
              "a    0.514341\n",
              "a    0.698448\n",
              "dtype: float64"
            ]
          },
          "execution_count": 15,
          "metadata": {},
          "output_type": "execute_result"
        }
      ],
      "source": [
        "s = pd.Series(np.random.randn(5), index=['a', 'a', 'c', 'd', 'e'])\n",
        "print(s, end = endstring)\n",
        "print(s.index, end = endstring)\n",
        "s['a']"
      ]
    },
    {
      "cell_type": "code",
      "execution_count": 16,
      "metadata": {
        "colab": {
          "base_uri": "https://localhost:8080/"
        },
        "id": "rZNq-JWz9Zz1",
        "outputId": "4ca6798f-ec42-42f5-8400-f654c5926ff6"
      },
      "outputs": [
        {
          "data": {
            "text/plain": [
              "-1.1722056216157708"
            ]
          },
          "execution_count": 16,
          "metadata": {},
          "output_type": "execute_result"
        }
      ],
      "source": [
        "s['e']"
      ]
    },
    {
      "cell_type": "code",
      "execution_count": 18,
      "metadata": {
        "colab": {
          "base_uri": "https://localhost:8080/"
        },
        "id": "6lxbVGRK45Uo",
        "outputId": "a2f22ada-de89-44af-82ec-830300bce698"
      },
      "outputs": [
        {
          "data": {
            "text/plain": [
              "-1.1722056216157708"
            ]
          },
          "execution_count": 18,
          "metadata": {},
          "output_type": "execute_result"
        }
      ],
      "source": [
        "s.iloc[4]"
      ]
    },
    {
      "cell_type": "markdown",
      "metadata": {
        "id": "TKAJyRNRdBk9"
      },
      "source": [
        "If Data is a dictionary, the index will be constructed from the corresponding keys. If you specify an index, the values in the data corresponding to the given index keys/labels will be pulled out. "
      ]
    },
    {
      "cell_type": "code",
      "execution_count": 19,
      "metadata": {
        "colab": {
          "base_uri": "https://localhost:8080/"
        },
        "id": "ocnC-4P3dBk9",
        "outputId": "ceb57c81-3471-4046-bb10-a80b51b2e999",
        "scrolled": false
      },
      "outputs": [
        {
          "data": {
            "text/plain": [
              "a      [0.0, 0]\n",
              "2           2.0\n",
              "b    {'1': 1.0}\n",
              "dtype: object"
            ]
          },
          "execution_count": 19,
          "metadata": {},
          "output_type": "execute_result"
        }
      ],
      "source": [
        "d = {'a': [0., 0], 2: 2., 'b': {'1':1.}}\n",
        "pd.Series(d)"
      ]
    },
    {
      "cell_type": "markdown",
      "metadata": {
        "id": "HA1XRA6vdBk-"
      },
      "source": [
        "You can create a series from a scalar, but need to specify indices"
      ]
    },
    {
      "cell_type": "code",
      "execution_count": 22,
      "metadata": {
        "colab": {
          "base_uri": "https://localhost:8080/"
        },
        "id": "YdVSAI_vdBk-",
        "outputId": "eccb7374-d1ba-43c3-f184-8833486a40d2"
      },
      "outputs": [
        {
          "data": {
            "text/plain": [
              "0    5\n",
              "1    5\n",
              "2    5\n",
              "3    5\n",
              "4    5\n",
              "5    5\n",
              "6    5\n",
              "dtype: int64"
            ]
          },
          "execution_count": 22,
          "metadata": {},
          "output_type": "execute_result"
        }
      ],
      "source": [
        "pd.Series(5, index = np.arange(7))"
      ]
    },
    {
      "cell_type": "markdown",
      "metadata": {
        "id": "5JYyFDZfdBk_"
      },
      "source": [
        "You can slice series like you would numpy arrays/python lists"
      ]
    },
    {
      "cell_type": "code",
      "execution_count": 23,
      "metadata": {
        "colab": {
          "base_uri": "https://localhost:8080/"
        },
        "id": "VGH_RFUCdBlA",
        "outputId": "5512905a-1195-4aeb-dfb3-3213d4cca114"
      },
      "outputs": [
        {
          "name": "stdout",
          "output_type": "stream",
          "text": [
            "a    0.282075\n",
            "b   -0.896167\n",
            "c   -0.817894\n",
            "d    2.344126\n",
            "e   -0.093918\n",
            "dtype: float64\n"
          ]
        }
      ],
      "source": [
        "s = pd.Series(np.random.randn(5), index=['a', 'b', 'c', 'd', 'e'])\n",
        "print(s)"
      ]
    },
    {
      "cell_type": "markdown",
      "metadata": {
        "id": "w0Jz7ipn7G85"
      },
      "source": [
        "#### slicing"
      ]
    },
    {
      "cell_type": "code",
      "execution_count": 24,
      "metadata": {
        "colab": {
          "base_uri": "https://localhost:8080/"
        },
        "id": "2bNJtX3-dBlB",
        "outputId": "54c0926a-13b2-4f81-9fb6-1d184a9ae0fd"
      },
      "outputs": [
        {
          "name": "stdout",
          "output_type": "stream",
          "text": [
            "a    0.282075\n",
            "b   -0.896167\n",
            "c   -0.817894\n",
            "dtype: float64\n",
            "--------------------------------------------------\n",
            "a    0.282075\n",
            "b   -0.896167\n",
            "c   -0.817894\n",
            "dtype: float64\n",
            "--------------------------------------------------\n"
          ]
        }
      ],
      "source": [
        "end_string = '\\n' + '-'*50 + '\\n'\n",
        "\n",
        "# slicing\n",
        "print(s.iloc[:3], end = end_string)\n",
        "\n",
        "#alternate slicing, unlike all other slicing, including end. #.loc is equivalent to []\n",
        "print(s['a':'c'], end = end_string)"
      ]
    },
    {
      "cell_type": "markdown",
      "metadata": {
        "id": "aEzqNPrw7F54"
      },
      "source": [
        "#### conditional indexing"
      ]
    },
    {
      "cell_type": "code",
      "execution_count": 25,
      "metadata": {
        "colab": {
          "base_uri": "https://localhost:8080/"
        },
        "id": "6gSUbXgn5e0W",
        "outputId": "a3a5c096-d8c1-487c-8c9e-84f8fe9cffc2"
      },
      "outputs": [
        {
          "data": {
            "text/plain": [
              "a     True\n",
              "b    False\n",
              "c    False\n",
              "d     True\n",
              "e    False\n",
              "dtype: bool"
            ]
          },
          "execution_count": 25,
          "metadata": {},
          "output_type": "execute_result"
        }
      ],
      "source": [
        "# conditional indexing\n",
        "s > 0"
      ]
    },
    {
      "cell_type": "code",
      "execution_count": 27,
      "metadata": {
        "colab": {
          "base_uri": "https://localhost:8080/"
        },
        "id": "GaGjylfTdBlF",
        "outputId": "3c8ce799-b8a3-4472-900f-126e7cd86e70"
      },
      "outputs": [
        {
          "name": "stdout",
          "output_type": "stream",
          "text": [
            "a    0.282075\n",
            "d    2.344126\n",
            "dtype: float64\n",
            "--------------------------------------------------\n"
          ]
        }
      ],
      "source": [
        "# conditional indexing - index with booleans\n",
        "print(s[s > 0], end = end_string)"
      ]
    },
    {
      "cell_type": "code",
      "execution_count": 28,
      "metadata": {
        "colab": {
          "base_uri": "https://localhost:8080/"
        },
        "id": "oKo2jC8S2dsV",
        "outputId": "5bbbc489-dfe7-432b-8e8e-f7bab993cab9"
      },
      "outputs": [
        {
          "name": "stdout",
          "output_type": "stream",
          "text": [
            "a     1.325879\n",
            "b     0.408131\n",
            "c     0.441360\n",
            "d    10.424158\n",
            "e     0.910358\n",
            "dtype: float64\n",
            "--------------------------------------------------\n"
          ]
        }
      ],
      "source": [
        "# elementwise function - vectorization\n",
        "print(np.exp(s), end = end_string)"
      ]
    },
    {
      "cell_type": "markdown",
      "metadata": {
        "id": "Xnw3TBoOdBlH"
      },
      "source": [
        "### Series Attributes:\n",
        "\n",
        "- Get the index :\n",
        "`s.index`\n",
        "- Get the values :\n",
        "`s.values`\n",
        "- Find the shape :`s.shape`\n"
      ]
    },
    {
      "cell_type": "code",
      "execution_count": 32,
      "metadata": {},
      "outputs": [
        {
          "name": "stdout",
          "output_type": "stream",
          "text": [
            "Index(['a', 'b', 'c', 'd', 'e'], dtype='object')\n",
            "[ 0.28207546 -0.89616692 -0.81789399  2.34412601 -0.09391777]\n",
            "(5,)\n"
          ]
        }
      ],
      "source": [
        "print(s.index)\n",
        "print(s.values)\n",
        "print(s.shape)"
      ]
    },
    {
      "cell_type": "markdown",
      "metadata": {},
      "source": [
        "\n",
        "### Series Iteration\n",
        "Calling `.items()` on a dictionary returns data pairs `(idx, val)`. An easy way to iterate over a dictionary:"
      ]
    },
    {
      "cell_type": "code",
      "execution_count": 34,
      "metadata": {
        "colab": {
          "base_uri": "https://localhost:8080/"
        },
        "id": "AEO8czh0dBlH",
        "outputId": "4a8995e3-4d1d-44b1-ce9a-ca14a49f8975"
      },
      "outputs": [
        {
          "name": "stdout",
          "output_type": "stream",
          "text": [
            "a  ->  0.28207546048901005\n",
            "-------------------------\n",
            "b  ->  -0.8961669173822233\n",
            "-------------------------\n",
            "c  ->  -0.8178939873818939\n",
            "-------------------------\n",
            "d  ->  2.3441260129925183\n",
            "-------------------------\n",
            "e  ->  -0.09391776731930968\n",
            "-------------------------\n"
          ]
        }
      ],
      "source": [
        "for data_pair in s.items(): # for idx, val in s.items():\n",
        "    idx, val = data_pair #(idx, val)\n",
        "    print(idx, \" -> \", val)\n",
        "    print(\"-\"*25)"
      ]
    },
    {
      "cell_type": "markdown",
      "metadata": {
        "id": "QAaB2Q1OdBlI"
      },
      "source": [
        "Sort by index or by value"
      ]
    },
    {
      "cell_type": "code",
      "execution_count": 35,
      "metadata": {
        "colab": {
          "base_uri": "https://localhost:8080/"
        },
        "id": "lJWyfU2rdBlI",
        "outputId": "95902165-742f-4f5d-d0d7-53d5ff77d565"
      },
      "outputs": [
        {
          "name": "stdout",
          "output_type": "stream",
          "text": [
            "a    0.282075\n",
            "b   -0.896167\n",
            "c   -0.817894\n",
            "d    2.344126\n",
            "e   -0.093918\n",
            "dtype: float64\n",
            "--------------------------------------------------\n",
            "b   -0.896167\n",
            "c   -0.817894\n",
            "e   -0.093918\n",
            "a    0.282075\n",
            "d    2.344126\n",
            "dtype: float64\n",
            "--------------------------------------------------\n"
          ]
        }
      ],
      "source": [
        "print(s.sort_index(), end = end_string)\n",
        "\n",
        "print(s.sort_values(), end = end_string)"
      ]
    },
    {
      "cell_type": "markdown",
      "metadata": {
        "id": "3wy4S--mdBlJ"
      },
      "source": [
        "Find counts of unique values"
      ]
    },
    {
      "cell_type": "code",
      "execution_count": 36,
      "metadata": {
        "colab": {
          "base_uri": "https://localhost:8080/"
        },
        "id": "PbIc3uexdBlK",
        "outputId": "b8aa02ba-b39b-4f20-b57d-3510fcd5ccfb",
        "scrolled": true
      },
      "outputs": [
        {
          "name": "stdout",
          "output_type": "stream",
          "text": [
            "0    0\n",
            "1    0\n",
            "2    0\n",
            "3    1\n",
            "4    1\n",
            "5    1\n",
            "6    2\n",
            "7    2\n",
            "8    2\n",
            "9    2\n",
            "dtype: int64\n",
            "--------------------------------------------------\n",
            "2    4\n",
            "0    3\n",
            "1    3\n",
            "Name: count, dtype: int64\n"
          ]
        }
      ],
      "source": [
        "s = pd.Series([0,0,0,1,1,1,2,2,2,2])\n",
        "sct = s.value_counts()\n",
        "print(s, end = end_string)\n",
        "print(sct)"
      ]
    },
    {
      "cell_type": "code",
      "execution_count": 37,
      "metadata": {
        "colab": {
          "base_uri": "https://localhost:8080/"
        },
        "id": "JTqE_Xv1dUig",
        "outputId": "91a38e76-df8e-48e3-e89b-2676c1817e7d"
      },
      "outputs": [
        {
          "data": {
            "text/plain": [
              "Counter({2: 5, 3: 4, 0: 3, 1: 3})"
            ]
          },
          "execution_count": 37,
          "metadata": {},
          "output_type": "execute_result"
        }
      ],
      "source": [
        "# Small Hack for Counter\n",
        "from collections import Counter\n",
        "Counter([0,0,0,1,1,1,2,2,2,2,3,2,3,3,3,])"
      ]
    },
    {
      "cell_type": "markdown",
      "metadata": {
        "id": "wcmsOgZsdBlN"
      },
      "source": [
        "You can do just about anything you can do with a numpy array\n",
        "\n",
        "- Series.mean()\n",
        "- Series.median()\n",
        "- Series.mode()\n",
        "- Series.nsmallest(num)\n",
        "- Series.max ..."
      ]
    },
    {
      "cell_type": "code",
      "execution_count": 38,
      "metadata": {
        "colab": {
          "base_uri": "https://localhost:8080/"
        },
        "id": "F_6SBTSfdBlO",
        "outputId": "ff3ec20c-85f9-4aed-c8bd-743f929b720c"
      },
      "outputs": [
        {
          "name": "stdout",
          "output_type": "stream",
          "text": [
            "0\n",
            "--------------------------------------------------\n",
            "2\n",
            "--------------------------------------------------\n"
          ]
        }
      ],
      "source": [
        "print(s.min(),end = end_string)\n",
        "print(s.max(), end = end_string)"
      ]
    },
    {
      "cell_type": "markdown",
      "metadata": {
        "id": "MXKpRX5qdBlQ"
      },
      "source": [
        "## Exercise (post-lecture)\n",
        "\n",
        "- Consider the series `s` of letters in a sentence.\n",
        "- What is count of each alphabetical letter in the sentence, output a series which is sorted by the count\n",
        "- Create a list with only the top 5 common letters (not including space)  \n",
        "\n",
        "HINT:   \n",
        "1. `s.str.isalpha()` to check if a pd.series data is alphabetical  \n",
        "2. `s.sort_values(ascending = False)` to sort value from largest to smallest"
      ]
    },
    {
      "cell_type": "code",
      "execution_count": null,
      "metadata": {
        "id": "6QHH3SXWdBlR"
      },
      "outputs": [],
      "source": [
        "s=pd.Series(list(\"Series is a one-dimensional labeled array capable of holding any data type (integers, strings, floating point numbers, Python objects, etc.). The axis labels are collectively referred to as the indexeeeeeee.\"))"
      ]
    },
    {
      "cell_type": "code",
      "execution_count": null,
      "metadata": {
        "colab": {
          "base_uri": "https://localhost:8080/"
        },
        "id": "pWjkUkcRer19",
        "outputId": "119628ff-b898-4dfe-ff12-85ad34065c0e"
      },
      "outputs": [],
      "source": [
        "# YOUR CODE HERE"
      ]
    },
    {
      "cell_type": "markdown",
      "metadata": {
        "id": "N_7VNw_thTpc"
      },
      "source": [
        "# Basic Section (End)"
      ]
    },
    {
      "cell_type": "markdown",
      "metadata": {
        "id": "ClVn93b3dBlS"
      },
      "source": [
        "# DataFrame\n",
        "- DataFrame is a 2-dimensional labeled data structure with columns of potentially different types. You can think of it like a spreadsheet or SQL table, or a dict of Series objects. It is generally the most commonly used pandas object.\n",
        "- You can create a DataFrame from:\n",
        "    - Dict of 1D ndarrays, lists, dicts, or Series\n",
        "    - 2-D numpy array\n",
        "    - A list of dictionaries\n",
        "    - Another Dataframe\n",
        "``` python\n",
        "df = pd.DataFrame(data, index = index, columns = columns)\n",
        "```\n",
        "- ```index```/ ``` columns ``` is a list of the row/ column labels. If you pass an index and/ or columns, you are guarenteeing the index and /or column of the df.\n",
        "- If you do not pass anything in, the input will be constructed by \"common sense\" rules\n",
        "\n",
        "[**pandas.DataFrame**](http://pandas.pydata.org/pandas-docs/stable/generated/pandas.DataFrame.html)\n",
        "\n",
        "# DataFrame Creation From dict of series or dicts\n",
        "- The index of the resulting DataFrame will be the union of the indices of the various Series. If there are any nested dicts, these will be first converted to Series.\n",
        "- If no columns are passed, the columns will be the sorted list of dict keys."
      ]
    },
    {
      "cell_type": "code",
      "execution_count": 39,
      "metadata": {
        "colab": {
          "base_uri": "https://localhost:8080/"
        },
        "id": "gjygv3HBdBlS",
        "outputId": "c47573cd-7579-4815-b369-7c5bbc1ca7db"
      },
      "outputs": [
        {
          "data": {
            "text/plain": [
              "(a     1\n",
              " bb    2\n",
              " c     3\n",
              " dtype: int64,\n",
              " a    0\n",
              " b    1\n",
              " c    2\n",
              " d    3\n",
              " dtype: int64)"
            ]
          },
          "execution_count": 39,
          "metadata": {},
          "output_type": "execute_result"
        }
      ],
      "source": [
        "# Create a dictionary of series\n",
        "# Columns are dictionary keys, indices and values obtained from series\n",
        "a_series = pd.Series([1,2,3], index  = ['a', 'bb', 'c'])\n",
        "b_series = pd.Series([0,1,2,3], index = ['a','b', 'c', 'd'])\n",
        "a_series,b_series"
      ]
    },
    {
      "cell_type": "code",
      "execution_count": 46,
      "metadata": {
        "colab": {
          "base_uri": "https://localhost:8080/",
          "height": 228
        },
        "id": "GGHZSwP_AFC9",
        "outputId": "82602c61-cb10-44a8-dc64-2ae955676788"
      },
      "outputs": [
        {
          "data": {
            "text/html": [
              "<div>\n",
              "<style scoped>\n",
              "    .dataframe tbody tr th:only-of-type {\n",
              "        vertical-align: middle;\n",
              "    }\n",
              "\n",
              "    .dataframe tbody tr th {\n",
              "        vertical-align: top;\n",
              "    }\n",
              "\n",
              "    .dataframe thead th {\n",
              "        text-align: right;\n",
              "    }\n",
              "</style>\n",
              "<table border=\"1\" class=\"dataframe\">\n",
              "  <thead>\n",
              "    <tr style=\"text-align: right;\">\n",
              "      <th></th>\n",
              "      <th>one</th>\n",
              "      <th>two</th>\n",
              "    </tr>\n",
              "  </thead>\n",
              "  <tbody>\n",
              "    <tr>\n",
              "      <th>a</th>\n",
              "      <td>1.0</td>\n",
              "      <td>0.0</td>\n",
              "    </tr>\n",
              "    <tr>\n",
              "      <th>b</th>\n",
              "      <td>NaN</td>\n",
              "      <td>1.0</td>\n",
              "    </tr>\n",
              "    <tr>\n",
              "      <th>bb</th>\n",
              "      <td>2.0</td>\n",
              "      <td>NaN</td>\n",
              "    </tr>\n",
              "    <tr>\n",
              "      <th>c</th>\n",
              "      <td>3.0</td>\n",
              "      <td>2.0</td>\n",
              "    </tr>\n",
              "    <tr>\n",
              "      <th>d</th>\n",
              "      <td>NaN</td>\n",
              "      <td>3.0</td>\n",
              "    </tr>\n",
              "  </tbody>\n",
              "</table>\n",
              "</div>"
            ],
            "text/plain": [
              "    one  two\n",
              "a   1.0  0.0\n",
              "b   NaN  1.0\n",
              "bb  2.0  NaN\n",
              "c   3.0  2.0\n",
              "d   NaN  3.0"
            ]
          },
          "execution_count": 46,
          "metadata": {},
          "output_type": "execute_result"
        }
      ],
      "source": [
        "d = {'one': a_series,\n",
        "     'two': b_series}\n",
        "df = pd.DataFrame(d)\n",
        "# use NaN to fill in the missing value\n",
        "# pandas convert all element to floating type\n",
        "df"
      ]
    },
    {
      "cell_type": "code",
      "execution_count": 47,
      "metadata": {
        "colab": {
          "base_uri": "https://localhost:8080/"
        },
        "id": "8yJi_H9QdBlS",
        "outputId": "53a25427-5cd0-4b55-f01b-8f82985ad72d"
      },
      "outputs": [
        {
          "name": "stdout",
          "output_type": "stream",
          "text": [
            "   one\n",
            "d  NaN\n",
            "b  NaN\n",
            "a  1.0\n",
            "\n",
            "--------------------------------------------------\n",
            "\n",
            "   two    x\n",
            "d  3.0  NaN\n",
            "b  1.0  NaN\n",
            "a  0.0  NaN\n",
            "x  NaN  NaN\n"
          ]
        }
      ],
      "source": [
        "# Slicing\n",
        "print(pd.DataFrame(d, index = ['d', 'b', 'a'], columns = ['one']))\n",
        "print(end_string)\n",
        "\n",
        "# If we are extracting non-existing data, that would be NaN\n",
        "print(pd.DataFrame(d, index = ['d', 'b', 'a', 'x'], columns = ['two', 'x']))\n",
        "\n",
        "\n",
        "#Q: what's the problem of this slicing method?"
      ]
    },
    {
      "cell_type": "markdown",
      "metadata": {
        "id": "XyC32Bw3dBlS"
      },
      "source": [
        "# From dict of ndarray / lists\n",
        "- The ndarrays must all be the same length.\n",
        "- If an index is passed, it must clearly also be the same length as the arrays. If no index is passed, the result will be range(n), where n is the array length."
      ]
    },
    {
      "cell_type": "code",
      "execution_count": 48,
      "metadata": {
        "colab": {
          "base_uri": "https://localhost:8080/",
          "height": 196
        },
        "id": "6pFaDmJ7dBlT",
        "outputId": "00879bca-f472-4f5b-c29a-c4d73294efbf"
      },
      "outputs": [
        {
          "data": {
            "text/html": [
              "<div>\n",
              "<style scoped>\n",
              "    .dataframe tbody tr th:only-of-type {\n",
              "        vertical-align: middle;\n",
              "    }\n",
              "\n",
              "    .dataframe tbody tr th {\n",
              "        vertical-align: top;\n",
              "    }\n",
              "\n",
              "    .dataframe thead th {\n",
              "        text-align: right;\n",
              "    }\n",
              "</style>\n",
              "<table border=\"1\" class=\"dataframe\">\n",
              "  <thead>\n",
              "    <tr style=\"text-align: right;\">\n",
              "      <th></th>\n",
              "      <th>one</th>\n",
              "      <th>two</th>\n",
              "    </tr>\n",
              "  </thead>\n",
              "  <tbody>\n",
              "    <tr>\n",
              "      <th>0</th>\n",
              "      <td>1.0</td>\n",
              "      <td>4.0</td>\n",
              "    </tr>\n",
              "    <tr>\n",
              "      <th>1</th>\n",
              "      <td>2.0</td>\n",
              "      <td>3.0</td>\n",
              "    </tr>\n",
              "    <tr>\n",
              "      <th>2</th>\n",
              "      <td>3.0</td>\n",
              "      <td>2.0</td>\n",
              "    </tr>\n",
              "    <tr>\n",
              "      <th>3</th>\n",
              "      <td>4.0</td>\n",
              "      <td>1.0</td>\n",
              "    </tr>\n",
              "  </tbody>\n",
              "</table>\n",
              "</div>"
            ],
            "text/plain": [
              "   one  two\n",
              "0  1.0  4.0\n",
              "1  2.0  3.0\n",
              "2  3.0  2.0\n",
              "3  4.0  1.0"
            ]
          },
          "execution_count": 48,
          "metadata": {},
          "output_type": "execute_result"
        }
      ],
      "source": [
        "d = {'one' : [1., 2., 3., 4], 'two' : [4., 3., 2., 1.]}\n",
        "pd.DataFrame(d)"
      ]
    },
    {
      "cell_type": "markdown",
      "metadata": {
        "id": "eISfRVZJdBlU"
      },
      "source": [
        "# From a list of dicts"
      ]
    },
    {
      "cell_type": "code",
      "execution_count": 49,
      "metadata": {
        "colab": {
          "base_uri": "https://localhost:8080/"
        },
        "id": "RK1KtwZ0dBlU",
        "outputId": "575c0479-88e4-4037-8126-2b09581f02d3",
        "scrolled": true
      },
      "outputs": [
        {
          "data": {
            "text/plain": [
              "[{'Column0': 45, 'Column1': 13, 'Column2': 47, 'Column3': 27, 'Column4': 15},\n",
              " {'Column0': 82, 'Column1': 70, 'Column2': 24, 'Column3': 32, 'Column4': 93},\n",
              " {'Column0': 85, 'Column1': 50, 'Column2': 80, 'Column3': 18, 'Column4': 69},\n",
              " {'Column0': 24, 'Column1': 72, 'Column2': 70, 'Column3': 30, 'Column4': 13},\n",
              " {'Column0': 6, 'Column1': 23, 'Column2': 85, 'Column3': 72, 'Column4': 85},\n",
              " {'Column0': 50, 'Column1': 8, 'Column2': 82, 'Column3': 93, 'Column4': 26},\n",
              " {'Column0': 25, 'Column1': 94, 'Column2': 75, 'Column3': 51, 'Column4': 66},\n",
              " {'Column0': 83, 'Column1': 97, 'Column2': 96, 'Column3': 31, 'Column4': 74},\n",
              " {'Column0': 22, 'Column1': 85, 'Column2': 24, 'Column3': 94, 'Column4': 1},\n",
              " {'Column0': 22, 'Column1': 81, 'Column2': 91, 'Column3': 89, 'Column4': 18}]"
            ]
          },
          "execution_count": 49,
          "metadata": {},
          "output_type": "execute_result"
        }
      ],
      "source": [
        "data = []\n",
        "for i in range(10):\n",
        "    data += [ {'Column' + str(j):np.random.randint(100) for j in range(5)} ]\n",
        "    # dictionary comprehension!\n",
        "data"
      ]
    },
    {
      "cell_type": "code",
      "execution_count": 50,
      "metadata": {
        "colab": {
          "base_uri": "https://localhost:8080/"
        },
        "id": "QCSY-JfodBlV",
        "outputId": "c4662684-1cec-4586-bcc6-32634e02cfa9"
      },
      "outputs": [
        {
          "name": "stdout",
          "output_type": "stream",
          "text": [
            "   Column0  Column1  Column2  Column3  Column4\n",
            "0       45       13       47       27       15\n",
            "1       82       70       24       32       93\n",
            "2       85       50       80       18       69\n",
            "3       24       72       70       30       13\n",
            "4        6       23       85       72       85\n",
            "5       50        8       82       93       26\n",
            "6       25       94       75       51       66\n",
            "7       83       97       96       31       74\n",
            "8       22       85       24       94        1\n",
            "9       22       81       91       89       18\n"
          ]
        }
      ],
      "source": [
        "# Creation from a list of dicts\n",
        "df = pd.DataFrame(data)\n",
        "print(df)"
      ]
    },
    {
      "cell_type": "code",
      "execution_count": 51,
      "metadata": {
        "colab": {
          "base_uri": "https://localhost:8080/",
          "height": 386
        },
        "id": "OE47Z3AudBlV",
        "outputId": "3700168b-f1d3-4586-c3f6-314083ae9e29"
      },
      "outputs": [
        {
          "data": {
            "text/html": [
              "<div>\n",
              "<style scoped>\n",
              "    .dataframe tbody tr th:only-of-type {\n",
              "        vertical-align: middle;\n",
              "    }\n",
              "\n",
              "    .dataframe tbody tr th {\n",
              "        vertical-align: top;\n",
              "    }\n",
              "\n",
              "    .dataframe thead th {\n",
              "        text-align: right;\n",
              "    }\n",
              "</style>\n",
              "<table border=\"1\" class=\"dataframe\">\n",
              "  <thead>\n",
              "    <tr style=\"text-align: right;\">\n",
              "      <th></th>\n",
              "      <th>Column0</th>\n",
              "      <th>Column1</th>\n",
              "    </tr>\n",
              "  </thead>\n",
              "  <tbody>\n",
              "    <tr>\n",
              "      <th>0</th>\n",
              "      <td>45</td>\n",
              "      <td>13</td>\n",
              "    </tr>\n",
              "    <tr>\n",
              "      <th>1</th>\n",
              "      <td>82</td>\n",
              "      <td>70</td>\n",
              "    </tr>\n",
              "    <tr>\n",
              "      <th>2</th>\n",
              "      <td>85</td>\n",
              "      <td>50</td>\n",
              "    </tr>\n",
              "    <tr>\n",
              "      <th>3</th>\n",
              "      <td>24</td>\n",
              "      <td>72</td>\n",
              "    </tr>\n",
              "    <tr>\n",
              "      <th>4</th>\n",
              "      <td>6</td>\n",
              "      <td>23</td>\n",
              "    </tr>\n",
              "    <tr>\n",
              "      <th>5</th>\n",
              "      <td>50</td>\n",
              "      <td>8</td>\n",
              "    </tr>\n",
              "    <tr>\n",
              "      <th>6</th>\n",
              "      <td>25</td>\n",
              "      <td>94</td>\n",
              "    </tr>\n",
              "    <tr>\n",
              "      <th>7</th>\n",
              "      <td>83</td>\n",
              "      <td>97</td>\n",
              "    </tr>\n",
              "    <tr>\n",
              "      <th>8</th>\n",
              "      <td>22</td>\n",
              "      <td>85</td>\n",
              "    </tr>\n",
              "    <tr>\n",
              "      <th>9</th>\n",
              "      <td>22</td>\n",
              "      <td>81</td>\n",
              "    </tr>\n",
              "  </tbody>\n",
              "</table>\n",
              "</div>"
            ],
            "text/plain": [
              "   Column0  Column1\n",
              "0       45       13\n",
              "1       82       70\n",
              "2       85       50\n",
              "3       24       72\n",
              "4        6       23\n",
              "5       50        8\n",
              "6       25       94\n",
              "7       83       97\n",
              "8       22       85\n",
              "9       22       81"
            ]
          },
          "execution_count": 51,
          "metadata": {},
          "output_type": "execute_result"
        }
      ],
      "source": [
        "# Only certain columns\n",
        "df = pd.DataFrame(data, columns = ['Column0', 'Column1'])\n",
        "df"
      ]
    },
    {
      "cell_type": "code",
      "execution_count": 52,
      "metadata": {
        "colab": {
          "base_uri": "https://localhost:8080/",
          "height": 260
        },
        "id": "PV-4pLTGEeUs",
        "outputId": "38b1af51-08fe-4fbe-ccf6-6d24819009d0"
      },
      "outputs": [
        {
          "data": {
            "text/html": [
              "<div>\n",
              "<style scoped>\n",
              "    .dataframe tbody tr th:only-of-type {\n",
              "        vertical-align: middle;\n",
              "    }\n",
              "\n",
              "    .dataframe tbody tr th {\n",
              "        vertical-align: top;\n",
              "    }\n",
              "\n",
              "    .dataframe thead th {\n",
              "        text-align: right;\n",
              "    }\n",
              "</style>\n",
              "<table border=\"1\" class=\"dataframe\">\n",
              "  <thead>\n",
              "    <tr style=\"text-align: right;\">\n",
              "      <th></th>\n",
              "      <th>Column0</th>\n",
              "      <th>Column1</th>\n",
              "    </tr>\n",
              "  </thead>\n",
              "  <tbody>\n",
              "    <tr>\n",
              "      <th>0</th>\n",
              "      <td>45</td>\n",
              "      <td>13</td>\n",
              "    </tr>\n",
              "    <tr>\n",
              "      <th>1</th>\n",
              "      <td>82</td>\n",
              "      <td>70</td>\n",
              "    </tr>\n",
              "    <tr>\n",
              "      <th>2</th>\n",
              "      <td>85</td>\n",
              "      <td>50</td>\n",
              "    </tr>\n",
              "    <tr>\n",
              "      <th>3</th>\n",
              "      <td>24</td>\n",
              "      <td>72</td>\n",
              "    </tr>\n",
              "    <tr>\n",
              "      <th>4</th>\n",
              "      <td>6</td>\n",
              "      <td>23</td>\n",
              "    </tr>\n",
              "    <tr>\n",
              "      <th>5</th>\n",
              "      <td>50</td>\n",
              "      <td>8</td>\n",
              "    </tr>\n",
              "  </tbody>\n",
              "</table>\n",
              "</div>"
            ],
            "text/plain": [
              "   Column0  Column1\n",
              "0       45       13\n",
              "1       82       70\n",
              "2       85       50\n",
              "3       24       72\n",
              "4        6       23\n",
              "5       50        8"
            ]
          },
          "execution_count": 52,
          "metadata": {},
          "output_type": "execute_result"
        }
      ],
      "source": [
        "df.head(6) #print the first few rows, default = 5"
      ]
    },
    {
      "cell_type": "markdown",
      "metadata": {
        "id": "YwExV0mZdBlV"
      },
      "source": [
        "## Attributes\n",
        "\n",
        "- ``` df.index ``` : the row index of df\n",
        "- ``` df.columns ``` : the columns of df\n",
        "- ``` df.shape ``` : the shape of the df\n",
        "- ``` df.values ``` : numpy array of values"
      ]
    },
    {
      "cell_type": "code",
      "execution_count": 53,
      "metadata": {
        "colab": {
          "base_uri": "https://localhost:8080/"
        },
        "id": "4zDxot1kdBlV",
        "outputId": "6e811c27-cb8a-4c7e-ba91-5523cf9f1de1"
      },
      "outputs": [
        {
          "data": {
            "text/plain": [
              "[0, 1, 2, 3, 4, 5, 6, 7, 8, 9]"
            ]
          },
          "execution_count": 53,
          "metadata": {},
          "output_type": "execute_result"
        }
      ],
      "source": [
        "list(df.index)"
      ]
    },
    {
      "cell_type": "code",
      "execution_count": 54,
      "metadata": {
        "colab": {
          "base_uri": "https://localhost:8080/"
        },
        "id": "IXHiYlIgiir5",
        "outputId": "fb8f5f6d-47f2-4a9b-b55d-6aefaebf28ff"
      },
      "outputs": [
        {
          "data": {
            "text/plain": [
              "Index(['Column0', 'Column1'], dtype='object')"
            ]
          },
          "execution_count": 54,
          "metadata": {},
          "output_type": "execute_result"
        }
      ],
      "source": [
        "df.columns"
      ]
    },
    {
      "cell_type": "code",
      "execution_count": 55,
      "metadata": {
        "colab": {
          "base_uri": "https://localhost:8080/"
        },
        "id": "lO-oWcGXii4a",
        "outputId": "71597289-e220-4c5f-cf01-eb8717e3bccf"
      },
      "outputs": [
        {
          "data": {
            "text/plain": [
              "(10, 2)"
            ]
          },
          "execution_count": 55,
          "metadata": {},
          "output_type": "execute_result"
        }
      ],
      "source": [
        "df.shape"
      ]
    },
    {
      "cell_type": "code",
      "execution_count": 56,
      "metadata": {
        "colab": {
          "base_uri": "https://localhost:8080/"
        },
        "id": "Qgom40oHik9E",
        "outputId": "2422cdec-e7bf-40db-8b10-525da965d495"
      },
      "outputs": [
        {
          "data": {
            "text/plain": [
              "array([[45, 13],\n",
              "       [82, 70],\n",
              "       [85, 50],\n",
              "       [24, 72],\n",
              "       [ 6, 23],\n",
              "       [50,  8],\n",
              "       [25, 94],\n",
              "       [83, 97],\n",
              "       [22, 85],\n",
              "       [22, 81]])"
            ]
          },
          "execution_count": 56,
          "metadata": {},
          "output_type": "execute_result"
        }
      ],
      "source": [
        "df.values"
      ]
    },
    {
      "cell_type": "code",
      "execution_count": 61,
      "metadata": {
        "colab": {
          "base_uri": "https://localhost:8080/",
          "height": 196
        },
        "id": "kRvk3wrAdBlV",
        "outputId": "a3567e48-feb3-4f57-c14e-933acd334372",
        "scrolled": true
      },
      "outputs": [
        {
          "data": {
            "text/html": [
              "<div>\n",
              "<style scoped>\n",
              "    .dataframe tbody tr th:only-of-type {\n",
              "        vertical-align: middle;\n",
              "    }\n",
              "\n",
              "    .dataframe tbody tr th {\n",
              "        vertical-align: top;\n",
              "    }\n",
              "\n",
              "    .dataframe thead th {\n",
              "        text-align: right;\n",
              "    }\n",
              "</style>\n",
              "<table border=\"1\" class=\"dataframe\">\n",
              "  <thead>\n",
              "    <tr style=\"text-align: right;\">\n",
              "      <th></th>\n",
              "      <th>one</th>\n",
              "      <th>two</th>\n",
              "    </tr>\n",
              "  </thead>\n",
              "  <tbody>\n",
              "    <tr>\n",
              "      <th>a</th>\n",
              "      <td>1.0</td>\n",
              "      <td>0</td>\n",
              "    </tr>\n",
              "    <tr>\n",
              "      <th>b</th>\n",
              "      <td>2.0</td>\n",
              "      <td>1</td>\n",
              "    </tr>\n",
              "    <tr>\n",
              "      <th>c</th>\n",
              "      <td>3.0</td>\n",
              "      <td>2</td>\n",
              "    </tr>\n",
              "    <tr>\n",
              "      <th>d</th>\n",
              "      <td>NaN</td>\n",
              "      <td>3</td>\n",
              "    </tr>\n",
              "  </tbody>\n",
              "</table>\n",
              "</div>"
            ],
            "text/plain": [
              "   one  two\n",
              "a  1.0    0\n",
              "b  2.0    1\n",
              "c  3.0    2\n",
              "d  NaN    3"
            ]
          },
          "execution_count": 61,
          "metadata": {},
          "output_type": "execute_result"
        }
      ],
      "source": [
        "# Adding and accessing columns\n",
        "d = {'one': pd.Series([1,2,3], index  = ['a', 'b', 'c']),\n",
        "     'two': pd.Series(range(4), index = ['a','b', 'c', 'd'])}\n",
        "df = pd.DataFrame(d)\n",
        "df"
      ]
    },
    {
      "cell_type": "code",
      "execution_count": 62,
      "metadata": {
        "colab": {
          "base_uri": "https://localhost:8080/",
          "height": 196
        },
        "id": "nQqbp5H58E0J",
        "outputId": "a908024f-3ce6-4375-af27-cc3e6bee129e"
      },
      "outputs": [
        {
          "data": {
            "text/html": [
              "<div>\n",
              "<style scoped>\n",
              "    .dataframe tbody tr th:only-of-type {\n",
              "        vertical-align: middle;\n",
              "    }\n",
              "\n",
              "    .dataframe tbody tr th {\n",
              "        vertical-align: top;\n",
              "    }\n",
              "\n",
              "    .dataframe thead th {\n",
              "        text-align: right;\n",
              "    }\n",
              "</style>\n",
              "<table border=\"1\" class=\"dataframe\">\n",
              "  <thead>\n",
              "    <tr style=\"text-align: right;\">\n",
              "      <th></th>\n",
              "      <th>one</th>\n",
              "      <th>two</th>\n",
              "      <th>three</th>\n",
              "      <th>flag</th>\n",
              "      <th>const</th>\n",
              "    </tr>\n",
              "  </thead>\n",
              "  <tbody>\n",
              "    <tr>\n",
              "      <th>a</th>\n",
              "      <td>1.0</td>\n",
              "      <td>0</td>\n",
              "      <td>0.0</td>\n",
              "      <td>False</td>\n",
              "      <td>const_value</td>\n",
              "    </tr>\n",
              "    <tr>\n",
              "      <th>b</th>\n",
              "      <td>2.0</td>\n",
              "      <td>1</td>\n",
              "      <td>2.0</td>\n",
              "      <td>False</td>\n",
              "      <td>const_value</td>\n",
              "    </tr>\n",
              "    <tr>\n",
              "      <th>c</th>\n",
              "      <td>3.0</td>\n",
              "      <td>2</td>\n",
              "      <td>6.0</td>\n",
              "      <td>True</td>\n",
              "      <td>const_value</td>\n",
              "    </tr>\n",
              "    <tr>\n",
              "      <th>d</th>\n",
              "      <td>NaN</td>\n",
              "      <td>3</td>\n",
              "      <td>NaN</td>\n",
              "      <td>False</td>\n",
              "      <td>const_value</td>\n",
              "    </tr>\n",
              "  </tbody>\n",
              "</table>\n",
              "</div>"
            ],
            "text/plain": [
              "   one  two  three   flag        const\n",
              "a  1.0    0    0.0  False  const_value\n",
              "b  2.0    1    2.0  False  const_value\n",
              "c  3.0    2    6.0   True  const_value\n",
              "d  NaN    3    NaN  False  const_value"
            ]
          },
          "execution_count": 62,
          "metadata": {},
          "output_type": "execute_result"
        }
      ],
      "source": [
        "# math operation, like how we create data in the dictionary\n",
        "df['three'] =  df['one']*df['two']\n",
        "# # Create a boolean flag column\n",
        "df['flag'] = df['one'] > 2\n",
        "# # Create a const column\n",
        "df['const'] = 'const_value'\n",
        "\n",
        "df"
      ]
    },
    {
      "cell_type": "code",
      "execution_count": 63,
      "metadata": {
        "colab": {
          "base_uri": "https://localhost:8080/",
          "height": 196
        },
        "id": "SbhFLxIydBlV",
        "outputId": "49701997-82e7-453f-b595-fc04370f82f7"
      },
      "outputs": [
        {
          "data": {
            "text/html": [
              "<div>\n",
              "<style scoped>\n",
              "    .dataframe tbody tr th:only-of-type {\n",
              "        vertical-align: middle;\n",
              "    }\n",
              "\n",
              "    .dataframe tbody tr th {\n",
              "        vertical-align: top;\n",
              "    }\n",
              "\n",
              "    .dataframe thead th {\n",
              "        text-align: right;\n",
              "    }\n",
              "</style>\n",
              "<table border=\"1\" class=\"dataframe\">\n",
              "  <thead>\n",
              "    <tr style=\"text-align: right;\">\n",
              "      <th></th>\n",
              "      <th>one</th>\n",
              "      <th>bar</th>\n",
              "      <th>two</th>\n",
              "      <th>three</th>\n",
              "      <th>flag</th>\n",
              "      <th>const</th>\n",
              "    </tr>\n",
              "  </thead>\n",
              "  <tbody>\n",
              "    <tr>\n",
              "      <th>a</th>\n",
              "      <td>1.0</td>\n",
              "      <td>0</td>\n",
              "      <td>0</td>\n",
              "      <td>0.0</td>\n",
              "      <td>False</td>\n",
              "      <td>const_value</td>\n",
              "    </tr>\n",
              "    <tr>\n",
              "      <th>b</th>\n",
              "      <td>2.0</td>\n",
              "      <td>1</td>\n",
              "      <td>1</td>\n",
              "      <td>2.0</td>\n",
              "      <td>False</td>\n",
              "      <td>const_value</td>\n",
              "    </tr>\n",
              "    <tr>\n",
              "      <th>c</th>\n",
              "      <td>3.0</td>\n",
              "      <td>2</td>\n",
              "      <td>2</td>\n",
              "      <td>6.0</td>\n",
              "      <td>True</td>\n",
              "      <td>const_value</td>\n",
              "    </tr>\n",
              "    <tr>\n",
              "      <th>d</th>\n",
              "      <td>NaN</td>\n",
              "      <td>3</td>\n",
              "      <td>3</td>\n",
              "      <td>NaN</td>\n",
              "      <td>False</td>\n",
              "      <td>const_value</td>\n",
              "    </tr>\n",
              "  </tbody>\n",
              "</table>\n",
              "</div>"
            ],
            "text/plain": [
              "   one  bar  two  three   flag        const\n",
              "a  1.0    0    0    0.0  False  const_value\n",
              "b  2.0    1    1    2.0  False  const_value\n",
              "c  3.0    2    2    6.0   True  const_value\n",
              "d  NaN    3    3    NaN  False  const_value"
            ]
          },
          "execution_count": 63,
          "metadata": {},
          "output_type": "execute_result"
        }
      ],
      "source": [
        "# inserting column in specified location index, with values\n",
        "# insert at index 1, column named 'bar', with data df['two']\n",
        "df.insert(1, 'bar', df['two'])\n",
        "df"
      ]
    },
    {
      "cell_type": "code",
      "execution_count": 64,
      "metadata": {
        "colab": {
          "base_uri": "https://localhost:8080/",
          "height": 196
        },
        "id": "UGtJCyfmdBlW",
        "outputId": "376b8453-ea40-4c24-f918-0a54ead0ed85"
      },
      "outputs": [
        {
          "data": {
            "text/html": [
              "<div>\n",
              "<style scoped>\n",
              "    .dataframe tbody tr th:only-of-type {\n",
              "        vertical-align: middle;\n",
              "    }\n",
              "\n",
              "    .dataframe tbody tr th {\n",
              "        vertical-align: top;\n",
              "    }\n",
              "\n",
              "    .dataframe thead th {\n",
              "        text-align: right;\n",
              "    }\n",
              "</style>\n",
              "<table border=\"1\" class=\"dataframe\">\n",
              "  <thead>\n",
              "    <tr style=\"text-align: right;\">\n",
              "      <th></th>\n",
              "      <th>one</th>\n",
              "      <th>bar</th>\n",
              "      <th>two</th>\n",
              "      <th>flag</th>\n",
              "      <th>const</th>\n",
              "    </tr>\n",
              "  </thead>\n",
              "  <tbody>\n",
              "    <tr>\n",
              "      <th>a</th>\n",
              "      <td>1.0</td>\n",
              "      <td>0</td>\n",
              "      <td>0</td>\n",
              "      <td>False</td>\n",
              "      <td>const_value</td>\n",
              "    </tr>\n",
              "    <tr>\n",
              "      <th>b</th>\n",
              "      <td>2.0</td>\n",
              "      <td>1</td>\n",
              "      <td>1</td>\n",
              "      <td>False</td>\n",
              "      <td>const_value</td>\n",
              "    </tr>\n",
              "    <tr>\n",
              "      <th>c</th>\n",
              "      <td>3.0</td>\n",
              "      <td>2</td>\n",
              "      <td>2</td>\n",
              "      <td>True</td>\n",
              "      <td>const_value</td>\n",
              "    </tr>\n",
              "    <tr>\n",
              "      <th>d</th>\n",
              "      <td>NaN</td>\n",
              "      <td>3</td>\n",
              "      <td>3</td>\n",
              "      <td>False</td>\n",
              "      <td>const_value</td>\n",
              "    </tr>\n",
              "  </tbody>\n",
              "</table>\n",
              "</div>"
            ],
            "text/plain": [
              "   one  bar  two   flag        const\n",
              "a  1.0    0    0  False  const_value\n",
              "b  2.0    1    1  False  const_value\n",
              "c  3.0    2    2   True  const_value\n",
              "d  NaN    3    3  False  const_value"
            ]
          },
          "execution_count": 64,
          "metadata": {},
          "output_type": "execute_result"
        }
      ],
      "source": [
        "# Deleting Columns  .pop()\n",
        "three = df.pop('three')\n",
        "df"
      ]
    },
    {
      "cell_type": "code",
      "execution_count": 65,
      "metadata": {
        "colab": {
          "base_uri": "https://localhost:8080/"
        },
        "id": "xLFs4_uP804Q",
        "outputId": "3b8d4320-6658-410c-b250-206a1e420cd2"
      },
      "outputs": [
        {
          "data": {
            "text/plain": [
              "a    0.0\n",
              "b    2.0\n",
              "c    6.0\n",
              "d    NaN\n",
              "Name: three, dtype: float64"
            ]
          },
          "execution_count": 65,
          "metadata": {},
          "output_type": "execute_result"
        }
      ],
      "source": [
        "three"
      ]
    },
    {
      "cell_type": "markdown",
      "metadata": {
        "id": "Rg7nVU2fdBlW"
      },
      "source": [
        "## Indexing and Selection\n",
        "\n",
        "- 3 methods ``` [],  iloc, loc ```\n",
        "\n",
        "| Operation  | Syntax       | Result |\n",
        "|----|----------------------| ---------------------------|\n",
        "| Select Column | df[col]   |    Series                      |\n",
        "| Select Row by Label | df.loc[label] | Series  |\n",
        "| Select Row by Integer Location | df.iloc[idx] |      Series                    |\n",
        "| Slice rows | df[5:10]        |                        DataFrame  |\n",
        "| Select rows by boolean | df[mask]   | DataFrame        |\n",
        "\n",
        "- Note all the operations below are valid on series as well restricted to one dimension"
      ]
    },
    {
      "cell_type": "markdown",
      "metadata": {
        "id": "WP-wzewvdBlW"
      },
      "source": [
        "## Selecting Cols form Of Indexing: []\n",
        "- Series: selecting a label: `s[label]`\n",
        "- DataFrame: selection single or multiple columns:\n",
        "`df['col']` or `df[['col1', 'col2']]`\n",
        "- DataFrame: slicing the rows:\n",
        "`df['rowlabel1': 'rowlabel2']`\n",
        "or\n",
        "`df[boolean_mask]`"
      ]
    },
    {
      "cell_type": "code",
      "execution_count": 66,
      "metadata": {
        "colab": {
          "base_uri": "https://localhost:8080/",
          "height": 257
        },
        "id": "6_Mhx8ONdBlX",
        "outputId": "63d50e3e-dc78-4eb8-c2cd-40ad20743781"
      },
      "outputs": [
        {
          "data": {
            "text/html": [
              "<div>\n",
              "<style scoped>\n",
              "    .dataframe tbody tr th:only-of-type {\n",
              "        vertical-align: middle;\n",
              "    }\n",
              "\n",
              "    .dataframe tbody tr th {\n",
              "        vertical-align: top;\n",
              "    }\n",
              "\n",
              "    .dataframe thead th {\n",
              "        text-align: right;\n",
              "    }\n",
              "</style>\n",
              "<table border=\"1\" class=\"dataframe\">\n",
              "  <thead>\n",
              "    <tr style=\"text-align: right;\">\n",
              "      <th></th>\n",
              "      <th>A</th>\n",
              "      <th>B</th>\n",
              "      <th>C</th>\n",
              "      <th>D</th>\n",
              "    </tr>\n",
              "  </thead>\n",
              "  <tbody>\n",
              "    <tr>\n",
              "      <th>2000-01-01</th>\n",
              "      <td>-2.121524</td>\n",
              "      <td>0.507054</td>\n",
              "      <td>-2.226815</td>\n",
              "      <td>-2.510802</td>\n",
              "    </tr>\n",
              "    <tr>\n",
              "      <th>2000-01-02</th>\n",
              "      <td>-2.092022</td>\n",
              "      <td>-0.133716</td>\n",
              "      <td>-1.861902</td>\n",
              "      <td>1.330017</td>\n",
              "    </tr>\n",
              "    <tr>\n",
              "      <th>...</th>\n",
              "      <td>...</td>\n",
              "      <td>...</td>\n",
              "      <td>...</td>\n",
              "      <td>...</td>\n",
              "    </tr>\n",
              "    <tr>\n",
              "      <th>2000-01-07</th>\n",
              "      <td>0.117608</td>\n",
              "      <td>-0.015148</td>\n",
              "      <td>0.998754</td>\n",
              "      <td>2.011301</td>\n",
              "    </tr>\n",
              "    <tr>\n",
              "      <th>2000-01-08</th>\n",
              "      <td>-0.082389</td>\n",
              "      <td>0.841889</td>\n",
              "      <td>0.320857</td>\n",
              "      <td>-0.026443</td>\n",
              "    </tr>\n",
              "  </tbody>\n",
              "</table>\n",
              "<p>8 rows × 4 columns</p>\n",
              "</div>"
            ],
            "text/plain": [
              "                   A         B         C         D\n",
              "2000-01-01 -2.121524  0.507054 -2.226815 -2.510802\n",
              "2000-01-02 -2.092022 -0.133716 -1.861902  1.330017\n",
              "...              ...       ...       ...       ...\n",
              "2000-01-07  0.117608 -0.015148  0.998754  2.011301\n",
              "2000-01-08 -0.082389  0.841889  0.320857 -0.026443\n",
              "\n",
              "[8 rows x 4 columns]"
            ]
          },
          "execution_count": 66,
          "metadata": {},
          "output_type": "execute_result"
        }
      ],
      "source": [
        "# Lets create a data frame\n",
        "pd.options.display.max_rows = 4\n",
        "dates = pd.date_range('1/1/2000', periods=8)\n",
        "df = pd.DataFrame(np.random.randn(8, 4), index=dates, columns=['A', 'B', 'C','D'])\n",
        "df"
      ]
    },
    {
      "cell_type": "code",
      "execution_count": 73,
      "metadata": {
        "colab": {
          "base_uri": "https://localhost:8080/"
        },
        "id": "1mmVKRnAdBlX",
        "outputId": "f1fa605e-de94-44c4-93ff-bc34d2cd6b7e"
      },
      "outputs": [
        {
          "data": {
            "text/plain": [
              "2000-01-01   -2.121524\n",
              "2000-01-02   -2.092022\n",
              "                ...   \n",
              "2000-01-07    0.117608\n",
              "2000-01-08   -0.082389\n",
              "Freq: D, Name: A, Length: 8, dtype: float64"
            ]
          },
          "execution_count": 73,
          "metadata": {},
          "output_type": "execute_result"
        }
      ],
      "source": [
        "# column  'A'\n",
        "df['A']"
      ]
    },
    {
      "cell_type": "code",
      "execution_count": 68,
      "metadata": {
        "colab": {
          "base_uri": "https://localhost:8080/"
        },
        "id": "LBx9AJcIlcT2",
        "outputId": "ffe3f52a-0763-4609-9867-bf50fb7fc0ef"
      },
      "outputs": [
        {
          "data": {
            "text/plain": [
              "2000-01-01   -2.121524\n",
              "2000-01-02   -2.092022\n",
              "                ...   \n",
              "2000-01-07    0.117608\n",
              "2000-01-08   -0.082389\n",
              "Freq: D, Name: A, Length: 8, dtype: float64"
            ]
          },
          "execution_count": 68,
          "metadata": {},
          "output_type": "execute_result"
        }
      ],
      "source": [
        "### You can also access a column by df.colname\n",
        "df.A #same as df['A']"
      ]
    },
    {
      "cell_type": "code",
      "execution_count": 69,
      "metadata": {
        "colab": {
          "base_uri": "https://localhost:8080/",
          "height": 257
        },
        "id": "mqCYIHpMdBlX",
        "outputId": "119319d1-f051-42f0-9df3-f02c3658ee95"
      },
      "outputs": [
        {
          "data": {
            "text/html": [
              "<div>\n",
              "<style scoped>\n",
              "    .dataframe tbody tr th:only-of-type {\n",
              "        vertical-align: middle;\n",
              "    }\n",
              "\n",
              "    .dataframe tbody tr th {\n",
              "        vertical-align: top;\n",
              "    }\n",
              "\n",
              "    .dataframe thead th {\n",
              "        text-align: right;\n",
              "    }\n",
              "</style>\n",
              "<table border=\"1\" class=\"dataframe\">\n",
              "  <thead>\n",
              "    <tr style=\"text-align: right;\">\n",
              "      <th></th>\n",
              "      <th>A</th>\n",
              "      <th>B</th>\n",
              "    </tr>\n",
              "  </thead>\n",
              "  <tbody>\n",
              "    <tr>\n",
              "      <th>2000-01-01</th>\n",
              "      <td>-2.121524</td>\n",
              "      <td>0.507054</td>\n",
              "    </tr>\n",
              "    <tr>\n",
              "      <th>2000-01-02</th>\n",
              "      <td>-2.092022</td>\n",
              "      <td>-0.133716</td>\n",
              "    </tr>\n",
              "    <tr>\n",
              "      <th>...</th>\n",
              "      <td>...</td>\n",
              "      <td>...</td>\n",
              "    </tr>\n",
              "    <tr>\n",
              "      <th>2000-01-07</th>\n",
              "      <td>0.117608</td>\n",
              "      <td>-0.015148</td>\n",
              "    </tr>\n",
              "    <tr>\n",
              "      <th>2000-01-08</th>\n",
              "      <td>-0.082389</td>\n",
              "      <td>0.841889</td>\n",
              "    </tr>\n",
              "  </tbody>\n",
              "</table>\n",
              "<p>8 rows × 2 columns</p>\n",
              "</div>"
            ],
            "text/plain": [
              "                   A         B\n",
              "2000-01-01 -2.121524  0.507054\n",
              "2000-01-02 -2.092022 -0.133716\n",
              "...              ...       ...\n",
              "2000-01-07  0.117608 -0.015148\n",
              "2000-01-08 -0.082389  0.841889\n",
              "\n",
              "[8 rows x 2 columns]"
            ]
          },
          "execution_count": 69,
          "metadata": {},
          "output_type": "execute_result"
        }
      ],
      "source": [
        "# multiple column\n",
        "df[['A', 'B']]"
      ]
    },
    {
      "cell_type": "code",
      "execution_count": 70,
      "metadata": {
        "colab": {
          "base_uri": "https://localhost:8080/"
        },
        "id": "u-BJVYsfdBlX",
        "outputId": "9a923c28-379b-49a4-b56a-a4efada04585"
      },
      "outputs": [
        {
          "data": {
            "text/plain": [
              "2000-01-01    False\n",
              "2000-01-02    False\n",
              "              ...  \n",
              "2000-01-07     True\n",
              "2000-01-08    False\n",
              "Freq: D, Length: 8, dtype: bool"
            ]
          },
          "execution_count": 70,
          "metadata": {},
          "output_type": "execute_result"
        }
      ],
      "source": [
        "df['A'] > df['B']"
      ]
    },
    {
      "cell_type": "code",
      "execution_count": 71,
      "metadata": {
        "colab": {
          "base_uri": "https://localhost:8080/",
          "height": 257
        },
        "id": "Hjh0eKDydBlY",
        "outputId": "f626b51a-f8c7-4863-ecf5-f7113777e0c1"
      },
      "outputs": [
        {
          "data": {
            "text/html": [
              "<div>\n",
              "<style scoped>\n",
              "    .dataframe tbody tr th:only-of-type {\n",
              "        vertical-align: middle;\n",
              "    }\n",
              "\n",
              "    .dataframe tbody tr th {\n",
              "        vertical-align: top;\n",
              "    }\n",
              "\n",
              "    .dataframe thead th {\n",
              "        text-align: right;\n",
              "    }\n",
              "</style>\n",
              "<table border=\"1\" class=\"dataframe\">\n",
              "  <thead>\n",
              "    <tr style=\"text-align: right;\">\n",
              "      <th></th>\n",
              "      <th>A</th>\n",
              "      <th>B</th>\n",
              "      <th>C</th>\n",
              "      <th>D</th>\n",
              "    </tr>\n",
              "  </thead>\n",
              "  <tbody>\n",
              "    <tr>\n",
              "      <th>2000-01-06</th>\n",
              "      <td>0.841975</td>\n",
              "      <td>-0.677183</td>\n",
              "      <td>0.979898</td>\n",
              "      <td>0.586924</td>\n",
              "    </tr>\n",
              "    <tr>\n",
              "      <th>2000-01-07</th>\n",
              "      <td>0.117608</td>\n",
              "      <td>-0.015148</td>\n",
              "      <td>0.998754</td>\n",
              "      <td>2.011301</td>\n",
              "    </tr>\n",
              "  </tbody>\n",
              "</table>\n",
              "</div>"
            ],
            "text/plain": [
              "                   A         B         C         D\n",
              "2000-01-06  0.841975 -0.677183  0.979898  0.586924\n",
              "2000-01-07  0.117608 -0.015148  0.998754  2.011301"
            ]
          },
          "execution_count": 71,
          "metadata": {},
          "output_type": "execute_result"
        }
      ],
      "source": [
        "# boolean mask\n",
        "df[df['A'] > df['B']]"
      ]
    },
    {
      "cell_type": "markdown",
      "metadata": {
        "id": "CPkld6IOdBlY"
      },
      "source": [
        "## Selecting rows by label .loc (Recommend)\n",
        "\n",
        "- is primarily label based, but may also be used with a boolean array.\n",
        "- .loc will raise KeyError when the items are not found\n",
        "- Allowed inputs:\n",
        "    1. A single label\n",
        "    2. A list of labels\n",
        "    3. A boolean array"
      ]
    },
    {
      "cell_type": "code",
      "execution_count": 74,
      "metadata": {
        "id": "Dt-uxdJCl3_d"
      },
      "outputs": [],
      "source": [
        "pd.set_option('display.max_rows', 20)\n",
        "pd.set_option('display.max_columns', 10)"
      ]
    },
    {
      "cell_type": "code",
      "execution_count": 75,
      "metadata": {
        "colab": {
          "base_uri": "https://localhost:8080/",
          "height": 323
        },
        "id": "Pfx-O6cm8Jav",
        "outputId": "eaddda19-20d8-4619-e740-e75e25ae265d"
      },
      "outputs": [
        {
          "data": {
            "text/html": [
              "<div>\n",
              "<style scoped>\n",
              "    .dataframe tbody tr th:only-of-type {\n",
              "        vertical-align: middle;\n",
              "    }\n",
              "\n",
              "    .dataframe tbody tr th {\n",
              "        vertical-align: top;\n",
              "    }\n",
              "\n",
              "    .dataframe thead th {\n",
              "        text-align: right;\n",
              "    }\n",
              "</style>\n",
              "<table border=\"1\" class=\"dataframe\">\n",
              "  <thead>\n",
              "    <tr style=\"text-align: right;\">\n",
              "      <th></th>\n",
              "      <th>A</th>\n",
              "      <th>B</th>\n",
              "      <th>C</th>\n",
              "      <th>D</th>\n",
              "    </tr>\n",
              "  </thead>\n",
              "  <tbody>\n",
              "    <tr>\n",
              "      <th>2000-01-01</th>\n",
              "      <td>-2.121524</td>\n",
              "      <td>0.507054</td>\n",
              "      <td>-2.226815</td>\n",
              "      <td>-2.510802</td>\n",
              "    </tr>\n",
              "    <tr>\n",
              "      <th>2000-01-02</th>\n",
              "      <td>-2.092022</td>\n",
              "      <td>-0.133716</td>\n",
              "      <td>-1.861902</td>\n",
              "      <td>1.330017</td>\n",
              "    </tr>\n",
              "    <tr>\n",
              "      <th>2000-01-03</th>\n",
              "      <td>-0.501943</td>\n",
              "      <td>-0.098445</td>\n",
              "      <td>0.591518</td>\n",
              "      <td>-1.661728</td>\n",
              "    </tr>\n",
              "    <tr>\n",
              "      <th>2000-01-04</th>\n",
              "      <td>-0.996519</td>\n",
              "      <td>-0.629037</td>\n",
              "      <td>-1.985133</td>\n",
              "      <td>0.053648</td>\n",
              "    </tr>\n",
              "    <tr>\n",
              "      <th>2000-01-05</th>\n",
              "      <td>-1.518193</td>\n",
              "      <td>-0.308139</td>\n",
              "      <td>-0.360917</td>\n",
              "      <td>-0.322763</td>\n",
              "    </tr>\n",
              "    <tr>\n",
              "      <th>2000-01-06</th>\n",
              "      <td>0.841975</td>\n",
              "      <td>-0.677183</td>\n",
              "      <td>0.979898</td>\n",
              "      <td>0.586924</td>\n",
              "    </tr>\n",
              "    <tr>\n",
              "      <th>2000-01-07</th>\n",
              "      <td>0.117608</td>\n",
              "      <td>-0.015148</td>\n",
              "      <td>0.998754</td>\n",
              "      <td>2.011301</td>\n",
              "    </tr>\n",
              "    <tr>\n",
              "      <th>2000-01-08</th>\n",
              "      <td>-0.082389</td>\n",
              "      <td>0.841889</td>\n",
              "      <td>0.320857</td>\n",
              "      <td>-0.026443</td>\n",
              "    </tr>\n",
              "  </tbody>\n",
              "</table>\n",
              "</div>"
            ],
            "text/plain": [
              "                   A         B         C         D\n",
              "2000-01-01 -2.121524  0.507054 -2.226815 -2.510802\n",
              "2000-01-02 -2.092022 -0.133716 -1.861902  1.330017\n",
              "2000-01-03 -0.501943 -0.098445  0.591518 -1.661728\n",
              "2000-01-04 -0.996519 -0.629037 -1.985133  0.053648\n",
              "2000-01-05 -1.518193 -0.308139 -0.360917 -0.322763\n",
              "2000-01-06  0.841975 -0.677183  0.979898  0.586924\n",
              "2000-01-07  0.117608 -0.015148  0.998754  2.011301\n",
              "2000-01-08 -0.082389  0.841889  0.320857 -0.026443"
            ]
          },
          "execution_count": 75,
          "metadata": {},
          "output_type": "execute_result"
        }
      ],
      "source": [
        "df"
      ]
    },
    {
      "cell_type": "code",
      "execution_count": 76,
      "metadata": {
        "colab": {
          "base_uri": "https://localhost:8080/",
          "height": 228
        },
        "id": "-b0dOuk1lxk4",
        "outputId": "dc020b01-a94e-4adc-fb22-bc2c8ba1759c"
      },
      "outputs": [
        {
          "data": {
            "text/html": [
              "<div>\n",
              "<style scoped>\n",
              "    .dataframe tbody tr th:only-of-type {\n",
              "        vertical-align: middle;\n",
              "    }\n",
              "\n",
              "    .dataframe tbody tr th {\n",
              "        vertical-align: top;\n",
              "    }\n",
              "\n",
              "    .dataframe thead th {\n",
              "        text-align: right;\n",
              "    }\n",
              "</style>\n",
              "<table border=\"1\" class=\"dataframe\">\n",
              "  <thead>\n",
              "    <tr style=\"text-align: right;\">\n",
              "      <th></th>\n",
              "      <th>A</th>\n",
              "      <th>B</th>\n",
              "      <th>C</th>\n",
              "      <th>D</th>\n",
              "    </tr>\n",
              "  </thead>\n",
              "  <tbody>\n",
              "    <tr>\n",
              "      <th>2000-01-01</th>\n",
              "      <td>-2.121524</td>\n",
              "      <td>0.507054</td>\n",
              "      <td>-2.226815</td>\n",
              "      <td>-2.510802</td>\n",
              "    </tr>\n",
              "    <tr>\n",
              "      <th>2000-01-02</th>\n",
              "      <td>-2.092022</td>\n",
              "      <td>-0.133716</td>\n",
              "      <td>-1.861902</td>\n",
              "      <td>1.330017</td>\n",
              "    </tr>\n",
              "    <tr>\n",
              "      <th>2000-01-03</th>\n",
              "      <td>-0.501943</td>\n",
              "      <td>-0.098445</td>\n",
              "      <td>0.591518</td>\n",
              "      <td>-1.661728</td>\n",
              "    </tr>\n",
              "    <tr>\n",
              "      <th>2000-01-04</th>\n",
              "      <td>-0.996519</td>\n",
              "      <td>-0.629037</td>\n",
              "      <td>-1.985133</td>\n",
              "      <td>0.053648</td>\n",
              "    </tr>\n",
              "    <tr>\n",
              "      <th>2000-01-05</th>\n",
              "      <td>-1.518193</td>\n",
              "      <td>-0.308139</td>\n",
              "      <td>-0.360917</td>\n",
              "      <td>-0.322763</td>\n",
              "    </tr>\n",
              "  </tbody>\n",
              "</table>\n",
              "</div>"
            ],
            "text/plain": [
              "                   A         B         C         D\n",
              "2000-01-01 -2.121524  0.507054 -2.226815 -2.510802\n",
              "2000-01-02 -2.092022 -0.133716 -1.861902  1.330017\n",
              "2000-01-03 -0.501943 -0.098445  0.591518 -1.661728\n",
              "2000-01-04 -0.996519 -0.629037 -1.985133  0.053648\n",
              "2000-01-05 -1.518193 -0.308139 -0.360917 -0.322763"
            ]
          },
          "execution_count": 76,
          "metadata": {},
          "output_type": "execute_result"
        }
      ],
      "source": [
        "df.head()"
      ]
    },
    {
      "cell_type": "code",
      "execution_count": 77,
      "metadata": {
        "colab": {
          "base_uri": "https://localhost:8080/"
        },
        "id": "CpFS1nKwdBlY",
        "outputId": "a5022d7e-0e88-41f2-ea46-eca592e5c510"
      },
      "outputs": [
        {
          "data": {
            "text/plain": [
              "A   -2.121524\n",
              "B    0.507054\n",
              "C   -2.226815\n",
              "D   -2.510802\n",
              "Name: 2000-01-01 00:00:00, dtype: float64"
            ]
          },
          "execution_count": 77,
          "metadata": {},
          "output_type": "execute_result"
        }
      ],
      "source": [
        "## Selection by label .loc\n",
        "df.loc['2000-01-01']"
      ]
    },
    {
      "cell_type": "code",
      "execution_count": 78,
      "metadata": {
        "colab": {
          "base_uri": "https://localhost:8080/"
        },
        "id": "-ZK1Quc2X_1U",
        "outputId": "c06d8a44-cdf3-4b14-f780-e064e95fac6a"
      },
      "outputs": [
        {
          "data": {
            "text/plain": [
              "-2.1215236682640675"
            ]
          },
          "execution_count": 78,
          "metadata": {},
          "output_type": "execute_result"
        }
      ],
      "source": [
        "## Selection by label .loc\n",
        "df.loc['2000-01-01', 'A']"
      ]
    },
    {
      "cell_type": "code",
      "execution_count": 79,
      "metadata": {
        "colab": {
          "base_uri": "https://localhost:8080/",
          "height": 164
        },
        "id": "2q8xzw3mdBlY",
        "outputId": "f0f8ee4d-1e36-4234-eca4-6c92cbeb0002"
      },
      "outputs": [
        {
          "data": {
            "text/html": [
              "<div>\n",
              "<style scoped>\n",
              "    .dataframe tbody tr th:only-of-type {\n",
              "        vertical-align: middle;\n",
              "    }\n",
              "\n",
              "    .dataframe tbody tr th {\n",
              "        vertical-align: top;\n",
              "    }\n",
              "\n",
              "    .dataframe thead th {\n",
              "        text-align: right;\n",
              "    }\n",
              "</style>\n",
              "<table border=\"1\" class=\"dataframe\">\n",
              "  <thead>\n",
              "    <tr style=\"text-align: right;\">\n",
              "      <th></th>\n",
              "      <th>A</th>\n",
              "      <th>B</th>\n",
              "      <th>C</th>\n",
              "    </tr>\n",
              "  </thead>\n",
              "  <tbody>\n",
              "    <tr>\n",
              "      <th>2000-01-01</th>\n",
              "      <td>-2.121524</td>\n",
              "      <td>0.507054</td>\n",
              "      <td>-2.226815</td>\n",
              "    </tr>\n",
              "    <tr>\n",
              "      <th>2000-01-02</th>\n",
              "      <td>-2.092022</td>\n",
              "      <td>-0.133716</td>\n",
              "      <td>-1.861902</td>\n",
              "    </tr>\n",
              "    <tr>\n",
              "      <th>2000-01-03</th>\n",
              "      <td>-0.501943</td>\n",
              "      <td>-0.098445</td>\n",
              "      <td>0.591518</td>\n",
              "    </tr>\n",
              "  </tbody>\n",
              "</table>\n",
              "</div>"
            ],
            "text/plain": [
              "                   A         B         C\n",
              "2000-01-01 -2.121524  0.507054 -2.226815\n",
              "2000-01-02 -2.092022 -0.133716 -1.861902\n",
              "2000-01-03 -0.501943 -0.098445  0.591518"
            ]
          },
          "execution_count": 79,
          "metadata": {},
          "output_type": "execute_result"
        }
      ],
      "source": [
        "# similar to numpy slicing by using labels\n",
        "df.loc['2000-01-01':'2000-01-03', 'A':'C']"
      ]
    },
    {
      "cell_type": "code",
      "execution_count": 80,
      "metadata": {
        "colab": {
          "base_uri": "https://localhost:8080/",
          "height": 323
        },
        "id": "LghrS92u9-Pw",
        "outputId": "7d4a1797-e408-410e-ced0-eb402cf50557"
      },
      "outputs": [
        {
          "data": {
            "text/html": [
              "<div>\n",
              "<style scoped>\n",
              "    .dataframe tbody tr th:only-of-type {\n",
              "        vertical-align: middle;\n",
              "    }\n",
              "\n",
              "    .dataframe tbody tr th {\n",
              "        vertical-align: top;\n",
              "    }\n",
              "\n",
              "    .dataframe thead th {\n",
              "        text-align: right;\n",
              "    }\n",
              "</style>\n",
              "<table border=\"1\" class=\"dataframe\">\n",
              "  <thead>\n",
              "    <tr style=\"text-align: right;\">\n",
              "      <th></th>\n",
              "      <th>A</th>\n",
              "      <th>B</th>\n",
              "      <th>C</th>\n",
              "      <th>D</th>\n",
              "    </tr>\n",
              "  </thead>\n",
              "  <tbody>\n",
              "    <tr>\n",
              "      <th>2000-01-01</th>\n",
              "      <td>-2.121524</td>\n",
              "      <td>0.507054</td>\n",
              "      <td>-2.226815</td>\n",
              "      <td>-2.510802</td>\n",
              "    </tr>\n",
              "    <tr>\n",
              "      <th>2000-01-02</th>\n",
              "      <td>-2.092022</td>\n",
              "      <td>-0.133716</td>\n",
              "      <td>-1.861902</td>\n",
              "      <td>1.330017</td>\n",
              "    </tr>\n",
              "    <tr>\n",
              "      <th>2000-01-03</th>\n",
              "      <td>-0.501943</td>\n",
              "      <td>-0.098445</td>\n",
              "      <td>0.591518</td>\n",
              "      <td>-1.661728</td>\n",
              "    </tr>\n",
              "    <tr>\n",
              "      <th>2000-01-04</th>\n",
              "      <td>-0.996519</td>\n",
              "      <td>-0.629037</td>\n",
              "      <td>-1.985133</td>\n",
              "      <td>0.053648</td>\n",
              "    </tr>\n",
              "    <tr>\n",
              "      <th>2000-01-05</th>\n",
              "      <td>-1.518193</td>\n",
              "      <td>-0.308139</td>\n",
              "      <td>-0.360917</td>\n",
              "      <td>-0.322763</td>\n",
              "    </tr>\n",
              "    <tr>\n",
              "      <th>2000-01-06</th>\n",
              "      <td>0.841975</td>\n",
              "      <td>-0.677183</td>\n",
              "      <td>0.979898</td>\n",
              "      <td>0.586924</td>\n",
              "    </tr>\n",
              "    <tr>\n",
              "      <th>2000-01-07</th>\n",
              "      <td>0.117608</td>\n",
              "      <td>-0.015148</td>\n",
              "      <td>0.998754</td>\n",
              "      <td>2.011301</td>\n",
              "    </tr>\n",
              "    <tr>\n",
              "      <th>2000-01-08</th>\n",
              "      <td>-0.082389</td>\n",
              "      <td>0.841889</td>\n",
              "      <td>0.320857</td>\n",
              "      <td>-0.026443</td>\n",
              "    </tr>\n",
              "  </tbody>\n",
              "</table>\n",
              "</div>"
            ],
            "text/plain": [
              "                   A         B         C         D\n",
              "2000-01-01 -2.121524  0.507054 -2.226815 -2.510802\n",
              "2000-01-02 -2.092022 -0.133716 -1.861902  1.330017\n",
              "2000-01-03 -0.501943 -0.098445  0.591518 -1.661728\n",
              "2000-01-04 -0.996519 -0.629037 -1.985133  0.053648\n",
              "2000-01-05 -1.518193 -0.308139 -0.360917 -0.322763\n",
              "2000-01-06  0.841975 -0.677183  0.979898  0.586924\n",
              "2000-01-07  0.117608 -0.015148  0.998754  2.011301\n",
              "2000-01-08 -0.082389  0.841889  0.320857 -0.026443"
            ]
          },
          "execution_count": 80,
          "metadata": {},
          "output_type": "execute_result"
        }
      ],
      "source": [
        "df"
      ]
    },
    {
      "cell_type": "code",
      "execution_count": 81,
      "metadata": {
        "colab": {
          "base_uri": "https://localhost:8080/"
        },
        "id": "sNr2Wm6P-Rk0",
        "outputId": "bcde466e-1f9f-463f-f112-5e15685f7d3e"
      },
      "outputs": [
        {
          "data": {
            "text/plain": [
              "A    False\n",
              "B     True\n",
              "C    False\n",
              "D    False\n",
              "Name: 2000-01-01 00:00:00, dtype: bool"
            ]
          },
          "execution_count": 81,
          "metadata": {},
          "output_type": "execute_result"
        }
      ],
      "source": [
        "df.loc['2000-01-01'] > 0"
      ]
    },
    {
      "cell_type": "code",
      "execution_count": 82,
      "metadata": {
        "colab": {
          "base_uri": "https://localhost:8080/",
          "height": 323
        },
        "id": "aFEIjS2kdBlY",
        "outputId": "6c8e5316-3912-44df-c296-79d54e553d57"
      },
      "outputs": [
        {
          "data": {
            "text/html": [
              "<div>\n",
              "<style scoped>\n",
              "    .dataframe tbody tr th:only-of-type {\n",
              "        vertical-align: middle;\n",
              "    }\n",
              "\n",
              "    .dataframe tbody tr th {\n",
              "        vertical-align: top;\n",
              "    }\n",
              "\n",
              "    .dataframe thead th {\n",
              "        text-align: right;\n",
              "    }\n",
              "</style>\n",
              "<table border=\"1\" class=\"dataframe\">\n",
              "  <thead>\n",
              "    <tr style=\"text-align: right;\">\n",
              "      <th></th>\n",
              "      <th>B</th>\n",
              "    </tr>\n",
              "  </thead>\n",
              "  <tbody>\n",
              "    <tr>\n",
              "      <th>2000-01-01</th>\n",
              "      <td>0.507054</td>\n",
              "    </tr>\n",
              "    <tr>\n",
              "      <th>2000-01-02</th>\n",
              "      <td>-0.133716</td>\n",
              "    </tr>\n",
              "    <tr>\n",
              "      <th>2000-01-03</th>\n",
              "      <td>-0.098445</td>\n",
              "    </tr>\n",
              "    <tr>\n",
              "      <th>2000-01-04</th>\n",
              "      <td>-0.629037</td>\n",
              "    </tr>\n",
              "    <tr>\n",
              "      <th>2000-01-05</th>\n",
              "      <td>-0.308139</td>\n",
              "    </tr>\n",
              "    <tr>\n",
              "      <th>2000-01-06</th>\n",
              "      <td>-0.677183</td>\n",
              "    </tr>\n",
              "    <tr>\n",
              "      <th>2000-01-07</th>\n",
              "      <td>-0.015148</td>\n",
              "    </tr>\n",
              "    <tr>\n",
              "      <th>2000-01-08</th>\n",
              "      <td>0.841889</td>\n",
              "    </tr>\n",
              "  </tbody>\n",
              "</table>\n",
              "</div>"
            ],
            "text/plain": [
              "                   B\n",
              "2000-01-01  0.507054\n",
              "2000-01-02 -0.133716\n",
              "2000-01-03 -0.098445\n",
              "2000-01-04 -0.629037\n",
              "2000-01-05 -0.308139\n",
              "2000-01-06 -0.677183\n",
              "2000-01-07 -0.015148\n",
              "2000-01-08  0.841889"
            ]
          },
          "execution_count": 82,
          "metadata": {},
          "output_type": "execute_result"
        }
      ],
      "source": [
        "# Get columns for which value is greater than 0 on certain day, get all rows\n",
        "df.loc[:, df.loc['2000-01-01'] > 0]"
      ]
    },
    {
      "cell_type": "markdown",
      "metadata": {
        "id": "Y6H8P80gdBlY"
      },
      "source": [
        "## Selecting rows by position\n",
        "\n",
        "- The .iloc attribute is the primary access method. The following are valid input:\n",
        "    - An integer\n",
        "    - A list of integers\n",
        "    - A slice\n",
        "    - A boolean array"
      ]
    },
    {
      "cell_type": "code",
      "execution_count": 83,
      "metadata": {
        "colab": {
          "base_uri": "https://localhost:8080/",
          "height": 260
        },
        "id": "QsAFB2zrdBlZ",
        "outputId": "4af9c33e-d2fd-4c9b-ded6-da37a7f0d667"
      },
      "outputs": [
        {
          "data": {
            "text/html": [
              "<div>\n",
              "<style scoped>\n",
              "    .dataframe tbody tr th:only-of-type {\n",
              "        vertical-align: middle;\n",
              "    }\n",
              "\n",
              "    .dataframe tbody tr th {\n",
              "        vertical-align: top;\n",
              "    }\n",
              "\n",
              "    .dataframe thead th {\n",
              "        text-align: right;\n",
              "    }\n",
              "</style>\n",
              "<table border=\"1\" class=\"dataframe\">\n",
              "  <thead>\n",
              "    <tr style=\"text-align: right;\">\n",
              "      <th></th>\n",
              "      <th>0</th>\n",
              "      <th>3</th>\n",
              "      <th>6</th>\n",
              "      <th>9</th>\n",
              "    </tr>\n",
              "  </thead>\n",
              "  <tbody>\n",
              "    <tr>\n",
              "      <th>0</th>\n",
              "      <td>-2.174920</td>\n",
              "      <td>0.539787</td>\n",
              "      <td>-1.709389</td>\n",
              "      <td>-1.169321</td>\n",
              "    </tr>\n",
              "    <tr>\n",
              "      <th>2</th>\n",
              "      <td>-0.613619</td>\n",
              "      <td>0.400946</td>\n",
              "      <td>-0.701363</td>\n",
              "      <td>-0.110230</td>\n",
              "    </tr>\n",
              "    <tr>\n",
              "      <th>4</th>\n",
              "      <td>-0.663391</td>\n",
              "      <td>-0.496492</td>\n",
              "      <td>0.207111</td>\n",
              "      <td>-0.223525</td>\n",
              "    </tr>\n",
              "    <tr>\n",
              "      <th>6</th>\n",
              "      <td>-1.129927</td>\n",
              "      <td>0.557471</td>\n",
              "      <td>-0.141310</td>\n",
              "      <td>-0.229843</td>\n",
              "    </tr>\n",
              "    <tr>\n",
              "      <th>8</th>\n",
              "      <td>1.167618</td>\n",
              "      <td>1.887855</td>\n",
              "      <td>-1.126263</td>\n",
              "      <td>2.084456</td>\n",
              "    </tr>\n",
              "    <tr>\n",
              "      <th>10</th>\n",
              "      <td>-0.563117</td>\n",
              "      <td>0.829874</td>\n",
              "      <td>-1.927859</td>\n",
              "      <td>0.451517</td>\n",
              "    </tr>\n",
              "  </tbody>\n",
              "</table>\n",
              "</div>"
            ],
            "text/plain": [
              "           0         3         6         9\n",
              "0  -2.174920  0.539787 -1.709389 -1.169321\n",
              "2  -0.613619  0.400946 -0.701363 -0.110230\n",
              "4  -0.663391 -0.496492  0.207111 -0.223525\n",
              "6  -1.129927  0.557471 -0.141310 -0.229843\n",
              "8   1.167618  1.887855 -1.126263  2.084456\n",
              "10 -0.563117  0.829874 -1.927859  0.451517"
            ]
          },
          "execution_count": 83,
          "metadata": {},
          "output_type": "execute_result"
        }
      ],
      "source": [
        "df1 = pd.DataFrame(np.random.randn(6,4),\n",
        "                   index=list(range(0,12,2)), columns=list(range(0,12,3)))\n",
        "\n",
        "df1"
      ]
    },
    {
      "cell_type": "code",
      "execution_count": 84,
      "metadata": {
        "colab": {
          "base_uri": "https://localhost:8080/",
          "height": 164
        },
        "id": "MJ66diXPmhiF",
        "outputId": "66722a49-c9dc-4cac-8957-bfe1ffc19416"
      },
      "outputs": [
        {
          "data": {
            "text/html": [
              "<div>\n",
              "<style scoped>\n",
              "    .dataframe tbody tr th:only-of-type {\n",
              "        vertical-align: middle;\n",
              "    }\n",
              "\n",
              "    .dataframe tbody tr th {\n",
              "        vertical-align: top;\n",
              "    }\n",
              "\n",
              "    .dataframe thead th {\n",
              "        text-align: right;\n",
              "    }\n",
              "</style>\n",
              "<table border=\"1\" class=\"dataframe\">\n",
              "  <thead>\n",
              "    <tr style=\"text-align: right;\">\n",
              "      <th></th>\n",
              "      <th>0</th>\n",
              "      <th>3</th>\n",
              "      <th>6</th>\n",
              "      <th>9</th>\n",
              "    </tr>\n",
              "  </thead>\n",
              "  <tbody>\n",
              "    <tr>\n",
              "      <th>0</th>\n",
              "      <td>-2.174920</td>\n",
              "      <td>0.539787</td>\n",
              "      <td>-1.709389</td>\n",
              "      <td>-1.169321</td>\n",
              "    </tr>\n",
              "    <tr>\n",
              "      <th>2</th>\n",
              "      <td>-0.613619</td>\n",
              "      <td>0.400946</td>\n",
              "      <td>-0.701363</td>\n",
              "      <td>-0.110230</td>\n",
              "    </tr>\n",
              "    <tr>\n",
              "      <th>4</th>\n",
              "      <td>-0.663391</td>\n",
              "      <td>-0.496492</td>\n",
              "      <td>0.207111</td>\n",
              "      <td>-0.223525</td>\n",
              "    </tr>\n",
              "  </tbody>\n",
              "</table>\n",
              "</div>"
            ],
            "text/plain": [
              "          0         3         6         9\n",
              "0 -2.174920  0.539787 -1.709389 -1.169321\n",
              "2 -0.613619  0.400946 -0.701363 -0.110230\n",
              "4 -0.663391 -0.496492  0.207111 -0.223525"
            ]
          },
          "execution_count": 84,
          "metadata": {},
          "output_type": "execute_result"
        }
      ],
      "source": [
        "# rows 0-2\n",
        "df1.loc[[0,2,4]]"
      ]
    },
    {
      "cell_type": "code",
      "execution_count": 85,
      "metadata": {
        "colab": {
          "base_uri": "https://localhost:8080/",
          "height": 164
        },
        "id": "qFpE-g_ndBlZ",
        "outputId": "a62c9ff0-8976-4230-8616-efafbd8f01b5"
      },
      "outputs": [
        {
          "data": {
            "text/html": [
              "<div>\n",
              "<style scoped>\n",
              "    .dataframe tbody tr th:only-of-type {\n",
              "        vertical-align: middle;\n",
              "    }\n",
              "\n",
              "    .dataframe tbody tr th {\n",
              "        vertical-align: top;\n",
              "    }\n",
              "\n",
              "    .dataframe thead th {\n",
              "        text-align: right;\n",
              "    }\n",
              "</style>\n",
              "<table border=\"1\" class=\"dataframe\">\n",
              "  <thead>\n",
              "    <tr style=\"text-align: right;\">\n",
              "      <th></th>\n",
              "      <th>0</th>\n",
              "      <th>3</th>\n",
              "      <th>6</th>\n",
              "      <th>9</th>\n",
              "    </tr>\n",
              "  </thead>\n",
              "  <tbody>\n",
              "    <tr>\n",
              "      <th>0</th>\n",
              "      <td>-2.174920</td>\n",
              "      <td>0.539787</td>\n",
              "      <td>-1.709389</td>\n",
              "      <td>-1.169321</td>\n",
              "    </tr>\n",
              "    <tr>\n",
              "      <th>2</th>\n",
              "      <td>-0.613619</td>\n",
              "      <td>0.400946</td>\n",
              "      <td>-0.701363</td>\n",
              "      <td>-0.110230</td>\n",
              "    </tr>\n",
              "    <tr>\n",
              "      <th>4</th>\n",
              "      <td>-0.663391</td>\n",
              "      <td>-0.496492</td>\n",
              "      <td>0.207111</td>\n",
              "      <td>-0.223525</td>\n",
              "    </tr>\n",
              "  </tbody>\n",
              "</table>\n",
              "</div>"
            ],
            "text/plain": [
              "          0         3         6         9\n",
              "0 -2.174920  0.539787 -1.709389 -1.169321\n",
              "2 -0.613619  0.400946 -0.701363 -0.110230\n",
              "4 -0.663391 -0.496492  0.207111 -0.223525"
            ]
          },
          "execution_count": 85,
          "metadata": {},
          "output_type": "execute_result"
        }
      ],
      "source": [
        "# rows 0-2\n",
        "df1.iloc[:3]"
      ]
    },
    {
      "cell_type": "code",
      "execution_count": 86,
      "metadata": {
        "colab": {
          "base_uri": "https://localhost:8080/",
          "height": 260
        },
        "id": "Us6BEWDv-xPL",
        "outputId": "4316e2f3-3c39-4bc9-b375-9d95568920b6"
      },
      "outputs": [
        {
          "data": {
            "text/html": [
              "<div>\n",
              "<style scoped>\n",
              "    .dataframe tbody tr th:only-of-type {\n",
              "        vertical-align: middle;\n",
              "    }\n",
              "\n",
              "    .dataframe tbody tr th {\n",
              "        vertical-align: top;\n",
              "    }\n",
              "\n",
              "    .dataframe thead th {\n",
              "        text-align: right;\n",
              "    }\n",
              "</style>\n",
              "<table border=\"1\" class=\"dataframe\">\n",
              "  <thead>\n",
              "    <tr style=\"text-align: right;\">\n",
              "      <th></th>\n",
              "      <th>0</th>\n",
              "      <th>3</th>\n",
              "      <th>6</th>\n",
              "      <th>9</th>\n",
              "    </tr>\n",
              "  </thead>\n",
              "  <tbody>\n",
              "    <tr>\n",
              "      <th>0</th>\n",
              "      <td>-2.174920</td>\n",
              "      <td>0.539787</td>\n",
              "      <td>-1.709389</td>\n",
              "      <td>-1.169321</td>\n",
              "    </tr>\n",
              "    <tr>\n",
              "      <th>2</th>\n",
              "      <td>-0.613619</td>\n",
              "      <td>0.400946</td>\n",
              "      <td>-0.701363</td>\n",
              "      <td>-0.110230</td>\n",
              "    </tr>\n",
              "    <tr>\n",
              "      <th>4</th>\n",
              "      <td>-0.663391</td>\n",
              "      <td>-0.496492</td>\n",
              "      <td>0.207111</td>\n",
              "      <td>-0.223525</td>\n",
              "    </tr>\n",
              "    <tr>\n",
              "      <th>6</th>\n",
              "      <td>-1.129927</td>\n",
              "      <td>0.557471</td>\n",
              "      <td>-0.141310</td>\n",
              "      <td>-0.229843</td>\n",
              "    </tr>\n",
              "    <tr>\n",
              "      <th>8</th>\n",
              "      <td>1.167618</td>\n",
              "      <td>1.887855</td>\n",
              "      <td>-1.126263</td>\n",
              "      <td>2.084456</td>\n",
              "    </tr>\n",
              "    <tr>\n",
              "      <th>10</th>\n",
              "      <td>-0.563117</td>\n",
              "      <td>0.829874</td>\n",
              "      <td>-1.927859</td>\n",
              "      <td>0.451517</td>\n",
              "    </tr>\n",
              "  </tbody>\n",
              "</table>\n",
              "</div>"
            ],
            "text/plain": [
              "           0         3         6         9\n",
              "0  -2.174920  0.539787 -1.709389 -1.169321\n",
              "2  -0.613619  0.400946 -0.701363 -0.110230\n",
              "4  -0.663391 -0.496492  0.207111 -0.223525\n",
              "6  -1.129927  0.557471 -0.141310 -0.229843\n",
              "8   1.167618  1.887855 -1.126263  2.084456\n",
              "10 -0.563117  0.829874 -1.927859  0.451517"
            ]
          },
          "execution_count": 86,
          "metadata": {},
          "output_type": "execute_result"
        }
      ],
      "source": [
        "df1"
      ]
    },
    {
      "cell_type": "code",
      "execution_count": 87,
      "metadata": {
        "colab": {
          "base_uri": "https://localhost:8080/",
          "height": 196
        },
        "id": "AepI19ujdBlZ",
        "outputId": "6750fb49-9956-4cbc-ec67-e7dc6b5b421d"
      },
      "outputs": [
        {
          "data": {
            "text/html": [
              "<div>\n",
              "<style scoped>\n",
              "    .dataframe tbody tr th:only-of-type {\n",
              "        vertical-align: middle;\n",
              "    }\n",
              "\n",
              "    .dataframe tbody tr th {\n",
              "        vertical-align: top;\n",
              "    }\n",
              "\n",
              "    .dataframe thead th {\n",
              "        text-align: right;\n",
              "    }\n",
              "</style>\n",
              "<table border=\"1\" class=\"dataframe\">\n",
              "  <thead>\n",
              "    <tr style=\"text-align: right;\">\n",
              "      <th></th>\n",
              "      <th>6</th>\n",
              "      <th>9</th>\n",
              "    </tr>\n",
              "  </thead>\n",
              "  <tbody>\n",
              "    <tr>\n",
              "      <th>2</th>\n",
              "      <td>-0.701363</td>\n",
              "      <td>-0.110230</td>\n",
              "    </tr>\n",
              "    <tr>\n",
              "      <th>4</th>\n",
              "      <td>0.207111</td>\n",
              "      <td>-0.223525</td>\n",
              "    </tr>\n",
              "    <tr>\n",
              "      <th>6</th>\n",
              "      <td>-0.141310</td>\n",
              "      <td>-0.229843</td>\n",
              "    </tr>\n",
              "    <tr>\n",
              "      <th>8</th>\n",
              "      <td>-1.126263</td>\n",
              "      <td>2.084456</td>\n",
              "    </tr>\n",
              "  </tbody>\n",
              "</table>\n",
              "</div>"
            ],
            "text/plain": [
              "          6         9\n",
              "2 -0.701363 -0.110230\n",
              "4  0.207111 -0.223525\n",
              "6 -0.141310 -0.229843\n",
              "8 -1.126263  2.084456"
            ]
          },
          "execution_count": 87,
          "metadata": {},
          "output_type": "execute_result"
        }
      ],
      "source": [
        "#  rows 1:5  and columns 2 : 4\n",
        "df1.iloc[1:5, 2:4]"
      ]
    },
    {
      "cell_type": "code",
      "execution_count": 88,
      "metadata": {
        "colab": {
          "base_uri": "https://localhost:8080/",
          "height": 164
        },
        "id": "m3sywHSEdBlZ",
        "outputId": "e3e216d3-08de-4d4b-b7e4-31518f6208cd"
      },
      "outputs": [
        {
          "data": {
            "text/html": [
              "<div>\n",
              "<style scoped>\n",
              "    .dataframe tbody tr th:only-of-type {\n",
              "        vertical-align: middle;\n",
              "    }\n",
              "\n",
              "    .dataframe tbody tr th {\n",
              "        vertical-align: top;\n",
              "    }\n",
              "\n",
              "    .dataframe thead th {\n",
              "        text-align: right;\n",
              "    }\n",
              "</style>\n",
              "<table border=\"1\" class=\"dataframe\">\n",
              "  <thead>\n",
              "    <tr style=\"text-align: right;\">\n",
              "      <th></th>\n",
              "      <th>3</th>\n",
              "      <th>9</th>\n",
              "    </tr>\n",
              "  </thead>\n",
              "  <tbody>\n",
              "    <tr>\n",
              "      <th>2</th>\n",
              "      <td>0.400946</td>\n",
              "      <td>-0.110230</td>\n",
              "    </tr>\n",
              "    <tr>\n",
              "      <th>6</th>\n",
              "      <td>0.557471</td>\n",
              "      <td>-0.229843</td>\n",
              "    </tr>\n",
              "    <tr>\n",
              "      <th>10</th>\n",
              "      <td>0.829874</td>\n",
              "      <td>0.451517</td>\n",
              "    </tr>\n",
              "  </tbody>\n",
              "</table>\n",
              "</div>"
            ],
            "text/plain": [
              "           3         9\n",
              "2   0.400946 -0.110230\n",
              "6   0.557471 -0.229843\n",
              "10  0.829874  0.451517"
            ]
          },
          "execution_count": 88,
          "metadata": {},
          "output_type": "execute_result"
        }
      ],
      "source": [
        "# select via integer list\n",
        "df1.iloc[[1,3,5], [1,3]]"
      ]
    },
    {
      "cell_type": "code",
      "execution_count": 89,
      "metadata": {
        "colab": {
          "base_uri": "https://localhost:8080/",
          "height": 260
        },
        "id": "KkvSkP6vEJin",
        "outputId": "c5e7eb47-ab73-4011-b81b-e77d8a973ee4"
      },
      "outputs": [
        {
          "data": {
            "text/html": [
              "<div>\n",
              "<style scoped>\n",
              "    .dataframe tbody tr th:only-of-type {\n",
              "        vertical-align: middle;\n",
              "    }\n",
              "\n",
              "    .dataframe tbody tr th {\n",
              "        vertical-align: top;\n",
              "    }\n",
              "\n",
              "    .dataframe thead th {\n",
              "        text-align: right;\n",
              "    }\n",
              "</style>\n",
              "<table border=\"1\" class=\"dataframe\">\n",
              "  <thead>\n",
              "    <tr style=\"text-align: right;\">\n",
              "      <th></th>\n",
              "      <th>0</th>\n",
              "      <th>3</th>\n",
              "      <th>6</th>\n",
              "      <th>9</th>\n",
              "    </tr>\n",
              "  </thead>\n",
              "  <tbody>\n",
              "    <tr>\n",
              "      <th>0</th>\n",
              "      <td>-2.174920</td>\n",
              "      <td>0.539787</td>\n",
              "      <td>-1.709389</td>\n",
              "      <td>-1.169321</td>\n",
              "    </tr>\n",
              "    <tr>\n",
              "      <th>2</th>\n",
              "      <td>-0.613619</td>\n",
              "      <td>0.400946</td>\n",
              "      <td>-0.701363</td>\n",
              "      <td>-0.110230</td>\n",
              "    </tr>\n",
              "    <tr>\n",
              "      <th>4</th>\n",
              "      <td>-0.663391</td>\n",
              "      <td>-0.496492</td>\n",
              "      <td>0.207111</td>\n",
              "      <td>-0.223525</td>\n",
              "    </tr>\n",
              "    <tr>\n",
              "      <th>6</th>\n",
              "      <td>-1.129927</td>\n",
              "      <td>0.557471</td>\n",
              "      <td>-0.141310</td>\n",
              "      <td>-0.229843</td>\n",
              "    </tr>\n",
              "    <tr>\n",
              "      <th>8</th>\n",
              "      <td>1.167618</td>\n",
              "      <td>1.887855</td>\n",
              "      <td>-1.126263</td>\n",
              "      <td>2.084456</td>\n",
              "    </tr>\n",
              "    <tr>\n",
              "      <th>10</th>\n",
              "      <td>-0.563117</td>\n",
              "      <td>0.829874</td>\n",
              "      <td>-1.927859</td>\n",
              "      <td>0.451517</td>\n",
              "    </tr>\n",
              "  </tbody>\n",
              "</table>\n",
              "</div>"
            ],
            "text/plain": [
              "           0         3         6         9\n",
              "0  -2.174920  0.539787 -1.709389 -1.169321\n",
              "2  -0.613619  0.400946 -0.701363 -0.110230\n",
              "4  -0.663391 -0.496492  0.207111 -0.223525\n",
              "6  -1.129927  0.557471 -0.141310 -0.229843\n",
              "8   1.167618  1.887855 -1.126263  2.084456\n",
              "10 -0.563117  0.829874 -1.927859  0.451517"
            ]
          },
          "execution_count": 89,
          "metadata": {},
          "output_type": "execute_result"
        }
      ],
      "source": [
        "df1"
      ]
    },
    {
      "cell_type": "code",
      "execution_count": 90,
      "metadata": {
        "colab": {
          "base_uri": "https://localhost:8080/"
        },
        "id": "4DRIeubOEJrN",
        "outputId": "ae67df6c-6f95-42aa-a9b5-e5be18351bd1"
      },
      "outputs": [
        {
          "data": {
            "text/plain": [
              "0     0.539787\n",
              "2     0.400946\n",
              "4    -0.496492\n",
              "6     0.557471\n",
              "8     1.887855\n",
              "10    0.829874\n",
              "Name: 3, dtype: float64"
            ]
          },
          "execution_count": 90,
          "metadata": {},
          "output_type": "execute_result"
        }
      ],
      "source": [
        "df1.iloc[:, 1]"
      ]
    },
    {
      "cell_type": "code",
      "execution_count": 92,
      "metadata": {
        "colab": {
          "base_uri": "https://localhost:8080/",
          "height": 182
        },
        "id": "Uj-MbCHKdBlZ",
        "outputId": "e43eba00-2f67-4ef9-b340-1fbbd503c63e"
      },
      "outputs": [
        {
          "name": "stdout",
          "output_type": "stream",
          "text": [
            "[ True  True False  True  True  True]\n"
          ]
        },
        {
          "data": {
            "text/html": [
              "<div>\n",
              "<style scoped>\n",
              "    .dataframe tbody tr th:only-of-type {\n",
              "        vertical-align: middle;\n",
              "    }\n",
              "\n",
              "    .dataframe tbody tr th {\n",
              "        vertical-align: top;\n",
              "    }\n",
              "\n",
              "    .dataframe thead th {\n",
              "        text-align: right;\n",
              "    }\n",
              "</style>\n",
              "<table border=\"1\" class=\"dataframe\">\n",
              "  <thead>\n",
              "    <tr style=\"text-align: right;\">\n",
              "      <th></th>\n",
              "      <th>0</th>\n",
              "      <th>3</th>\n",
              "      <th>6</th>\n",
              "      <th>9</th>\n",
              "    </tr>\n",
              "  </thead>\n",
              "  <tbody>\n",
              "    <tr>\n",
              "      <th>0</th>\n",
              "      <td>-2.174920</td>\n",
              "      <td>0.539787</td>\n",
              "      <td>-1.709389</td>\n",
              "      <td>-1.169321</td>\n",
              "    </tr>\n",
              "    <tr>\n",
              "      <th>2</th>\n",
              "      <td>-0.613619</td>\n",
              "      <td>0.400946</td>\n",
              "      <td>-0.701363</td>\n",
              "      <td>-0.110230</td>\n",
              "    </tr>\n",
              "    <tr>\n",
              "      <th>6</th>\n",
              "      <td>-1.129927</td>\n",
              "      <td>0.557471</td>\n",
              "      <td>-0.141310</td>\n",
              "      <td>-0.229843</td>\n",
              "    </tr>\n",
              "    <tr>\n",
              "      <th>8</th>\n",
              "      <td>1.167618</td>\n",
              "      <td>1.887855</td>\n",
              "      <td>-1.126263</td>\n",
              "      <td>2.084456</td>\n",
              "    </tr>\n",
              "    <tr>\n",
              "      <th>10</th>\n",
              "      <td>-0.563117</td>\n",
              "      <td>0.829874</td>\n",
              "      <td>-1.927859</td>\n",
              "      <td>0.451517</td>\n",
              "    </tr>\n",
              "  </tbody>\n",
              "</table>\n",
              "</div>"
            ],
            "text/plain": [
              "           0         3         6         9\n",
              "0  -2.174920  0.539787 -1.709389 -1.169321\n",
              "2  -0.613619  0.400946 -0.701363 -0.110230\n",
              "6  -1.129927  0.557471 -0.141310 -0.229843\n",
              "8   1.167618  1.887855 -1.126263  2.084456\n",
              "10 -0.563117  0.829874 -1.927859  0.451517"
            ]
          },
          "execution_count": 92,
          "metadata": {},
          "output_type": "execute_result"
        }
      ],
      "source": [
        "# selecting via integer mask\n",
        "boolean_mask = df1.iloc[:, 1] > 0\n",
        "print(boolean_mask.values)\n",
        "\n",
        "df1.iloc[boolean_mask.values,:]"
      ]
    },
    {
      "cell_type": "markdown",
      "metadata": {
        "id": "CijPiEZ3dBlZ"
      },
      "source": [
        "### Exercise （post-lecture)\n",
        "\n",
        "Given the dataframe, find the following\n",
        "- Last two rows of columns A and D\n",
        "- Last three rows such which statisfy that column A > Column B"
      ]
    },
    {
      "cell_type": "code",
      "execution_count": null,
      "metadata": {
        "colab": {
          "base_uri": "https://localhost:8080/",
          "height": 323
        },
        "id": "oqmBHdYbdBlZ",
        "outputId": "2d568031-9512-406d-efa6-34d7242b815b"
      },
      "outputs": [],
      "source": [
        "dates = pd.date_range('1/1/2000', periods=8)\n",
        "df = pd.DataFrame(np.random.randn(8, 4), index=dates, columns=['A', 'B', 'C','D'])\n",
        "df"
      ]
    },
    {
      "cell_type": "code",
      "execution_count": null,
      "metadata": {
        "colab": {
          "base_uri": "https://localhost:8080/",
          "height": 323
        },
        "id": "8XtKqL6-dBlZ",
        "outputId": "ff41b820-bdfb-48d7-a64e-c64380061b59"
      },
      "outputs": [],
      "source": [
        "# YOUR SOLUTION HERE"
      ]
    },
    {
      "cell_type": "markdown",
      "metadata": {
        "id": "dDuma8ijdBla"
      },
      "source": [
        "# Merging DataFrames\n",
        "\n",
        "- Pandas has full-featured, very high performance, in memory join operations that are very similar to SQL and R\n",
        "\n",
        "- The documentation is https://pandas.pydata.org/pandas-docs/stable/merging.html#database-style-dataframe-joining-merging\n",
        "\n",
        "- Pandas provides a single function, merge, as the entry point for all standard database join operations between DataFrame objects:\n",
        "``` python\n",
        "pd.merge(left, right, how='inner', on=None, left_on=None, right_on=None,\n",
        "left_index=False, right_index=False, sort=True) ```\n"
      ]
    },
    {
      "cell_type": "markdown",
      "metadata": {
        "id": "YZ7De5F4dBla"
      },
      "source": [
        "The sequence of operations in a basic call to `pd.merge()` is:\n",
        "\n",
        "1. Check all columns in `left` and `right`. Let S be the set of columns which are present in both\n",
        "2. For every row of `left`, check if it has a corresponding row in `right` with the same values among the columns in S.\n",
        "3. If two matching rows are found, merge the rows together in the natural way.\n",
        "\n",
        "The `how` parameter determines how Pandas will deal with the rows that don't match."
      ]
    },
    {
      "cell_type": "code",
      "execution_count": 105,
      "metadata": {
        "colab": {
          "base_uri": "https://localhost:8080/"
        },
        "id": "z5_LEDCJdBla",
        "outputId": "ae559a88-dabd-481b-d837-2ac923da1da7",
        "scrolled": true
      },
      "outputs": [
        {
          "name": "stdout",
          "output_type": "stream",
          "text": [
            "left: \n",
            "--------------------------------------------------\n",
            "      key  lval_uid\n",
            "0   henry        10\n",
            "1  graham        11\n",
            "--------------------------------------------------\n",
            "right: \n",
            "--------------------------------------------------\n",
            "     key  rval_score\n",
            "0  henry          60\n",
            "1   john          90\n"
          ]
        }
      ],
      "source": [
        "# Example of merge\n",
        "left = pd.DataFrame({'key': ['henry', 'graham'], 'lval_uid': [10, 11]})\n",
        "right = pd.DataFrame({'key': ['henry', 'john'], 'rval_score': [60, 90]})\n",
        "\n",
        "print(\"left: \",left,\"right: \",right, sep=end_string)"
      ]
    },
    {
      "cell_type": "code",
      "execution_count": 106,
      "metadata": {
        "colab": {
          "base_uri": "https://localhost:8080/"
        },
        "id": "6_Kc5JVFdBla",
        "outputId": "51c0e7af-2664-49da-c974-4ee00910ddff"
      },
      "outputs": [
        {
          "name": "stdout",
          "output_type": "stream",
          "text": [
            "     key  lval_uid  rval_score\n",
            "0  henry        10          60\n"
          ]
        }
      ],
      "source": [
        "merged = pd.merge(left, right, on=['key'], how=\"inner\")\n",
        "print(merged)\n",
        "#inner ignores all rows in left which don't have a match in right (and vice versa)"
      ]
    },
    {
      "cell_type": "code",
      "execution_count": 96,
      "metadata": {
        "colab": {
          "base_uri": "https://localhost:8080/"
        },
        "id": "iXnbGm-ldBla",
        "outputId": "b54fae99-b438-4f88-9e16-37fd86622a9d"
      },
      "outputs": [
        {
          "name": "stdout",
          "output_type": "stream",
          "text": [
            "      key  lval_uid  rval_score\n",
            "0   henry      10.0        60.0\n",
            "1  graham      11.0         NaN\n",
            "2    john       NaN        90.0\n"
          ]
        }
      ],
      "source": [
        "merged = pd.merge(left, right, on=['key'], how=\"outer\")\n",
        "print(merged)\n",
        "#outer keeps all rows which don't have a match, filling missing entries with NaN"
      ]
    },
    {
      "cell_type": "code",
      "execution_count": 97,
      "metadata": {
        "colab": {
          "base_uri": "https://localhost:8080/"
        },
        "id": "9KznRDvXdBla",
        "outputId": "bcef0229-088d-4d6e-87ad-07a372dc0d91"
      },
      "outputs": [
        {
          "name": "stdout",
          "output_type": "stream",
          "text": [
            "      key  lval_uid  rval_score\n",
            "0   henry        10        60.0\n",
            "1  graham        11         NaN\n"
          ]
        }
      ],
      "source": [
        "merged = pd.merge(left, right,  on=['key'], how=\"left\")\n",
        "print(merged)\n",
        "#left keeps all rows in `left` if they don't have a match, but ignores rows in right if they don't match"
      ]
    },
    {
      "cell_type": "code",
      "execution_count": 98,
      "metadata": {
        "colab": {
          "base_uri": "https://localhost:8080/"
        },
        "id": "_guOSJsPdBla",
        "outputId": "d5b987fe-5943-427b-c64d-2f4281546aa4"
      },
      "outputs": [
        {
          "name": "stdout",
          "output_type": "stream",
          "text": [
            "     key  lval_uid  rval_score\n",
            "0  henry      10.0          60\n",
            "1   john       NaN          90\n"
          ]
        }
      ],
      "source": [
        "merged = pd.merge(left, right,  on=['key'], how=\"right\")\n",
        "print(merged)\n",
        "#right does the same thing as left but on the `right` df"
      ]
    },
    {
      "cell_type": "markdown",
      "metadata": {
        "id": "eYwYMXNxdBlb"
      },
      "source": [
        "`on_left` and `on_right` lets us merge based on columns which have different names in `left` and `right` (they need to be of the same type though)"
      ]
    },
    {
      "cell_type": "markdown",
      "metadata": {
        "id": "k3K6-BgppgIz"
      },
      "source": [
        "## Execrise\n",
        "Take a guess what would be the output here, and run the cell to validate your guess."
      ]
    },
    {
      "cell_type": "code",
      "execution_count": 112,
      "metadata": {
        "id": "Qs3NquAEdBlb"
      },
      "outputs": [
        {
          "name": "stdout",
          "output_type": "stream",
          "text": [
            "    key  lval\n",
            "0  test     4\n",
            "1  test     2\n",
            "--------------------------------------------------\n",
            "    key  rval\n",
            "0  test     3\n",
            "1  test     5\n",
            "--------------------------------------------------\n",
            "    key  lval  rval\n",
            "0  test     4     3\n",
            "1  test     4     5\n",
            "2  test     2     3\n",
            "3  test     2     5\n",
            "--------------------------------------------------\n"
          ]
        }
      ],
      "source": [
        "left = pd.DataFrame({'key': ['test', 'test'], 'lval': [4, 2]})\n",
        "print(left, end = end_string)\n",
        "right = pd.DataFrame({'key': ['test', 'test'], 'rval': [3, 5]})\n",
        "print(right, end = end_string)\n",
        "print(pd.merge(left,right, on = ['key']), end=end_string)"
      ]
    },
    {
      "cell_type": "markdown",
      "metadata": {
        "id": "_y3l38ludBlb"
      },
      "source": [
        "## Function Application\n",
        " - Row or Column-wise Function Application: Applies function along input axis of DataFrame\n",
        "```python\n",
        "df.apply(func, axis = 0)\n",
        "```\n",
        "- apply() is used to apply a function along an axis of the DataFrame or on values of Series.\n",
        "- applymap() is used to apply a function to a DataFrame elementwise.\n",
        "- map() is used to substitute each value in a Series with another value."
      ]
    },
    {
      "cell_type": "code",
      "execution_count": 113,
      "metadata": {
        "colab": {
          "base_uri": "https://localhost:8080/",
          "height": 260
        },
        "id": "7E9yyCcOdBlb",
        "outputId": "aa6a6a84-52a3-4e56-c32f-cb97e94c82fe"
      },
      "outputs": [
        {
          "data": {
            "text/html": [
              "<div>\n",
              "<style scoped>\n",
              "    .dataframe tbody tr th:only-of-type {\n",
              "        vertical-align: middle;\n",
              "    }\n",
              "\n",
              "    .dataframe tbody tr th {\n",
              "        vertical-align: top;\n",
              "    }\n",
              "\n",
              "    .dataframe thead th {\n",
              "        text-align: right;\n",
              "    }\n",
              "</style>\n",
              "<table border=\"1\" class=\"dataframe\">\n",
              "  <thead>\n",
              "    <tr style=\"text-align: right;\">\n",
              "      <th></th>\n",
              "      <th>a</th>\n",
              "      <th>b</th>\n",
              "      <th>c</th>\n",
              "      <th>d</th>\n",
              "    </tr>\n",
              "  </thead>\n",
              "  <tbody>\n",
              "    <tr>\n",
              "      <th>0</th>\n",
              "      <td>1.0</td>\n",
              "      <td>2.0</td>\n",
              "      <td>3.0</td>\n",
              "      <td>4.0</td>\n",
              "    </tr>\n",
              "    <tr>\n",
              "      <th>2</th>\n",
              "      <td>1.0</td>\n",
              "      <td>2.0</td>\n",
              "      <td>3.0</td>\n",
              "      <td>4.0</td>\n",
              "    </tr>\n",
              "    <tr>\n",
              "      <th>4</th>\n",
              "      <td>1.0</td>\n",
              "      <td>2.0</td>\n",
              "      <td>3.0</td>\n",
              "      <td>4.0</td>\n",
              "    </tr>\n",
              "    <tr>\n",
              "      <th>6</th>\n",
              "      <td>1.0</td>\n",
              "      <td>2.0</td>\n",
              "      <td>3.0</td>\n",
              "      <td>4.0</td>\n",
              "    </tr>\n",
              "    <tr>\n",
              "      <th>8</th>\n",
              "      <td>1.0</td>\n",
              "      <td>2.0</td>\n",
              "      <td>3.0</td>\n",
              "      <td>4.0</td>\n",
              "    </tr>\n",
              "    <tr>\n",
              "      <th>10</th>\n",
              "      <td>1.0</td>\n",
              "      <td>2.0</td>\n",
              "      <td>3.0</td>\n",
              "      <td>4.0</td>\n",
              "    </tr>\n",
              "  </tbody>\n",
              "</table>\n",
              "</div>"
            ],
            "text/plain": [
              "      a    b    c    d\n",
              "0   1.0  2.0  3.0  4.0\n",
              "2   1.0  2.0  3.0  4.0\n",
              "4   1.0  2.0  3.0  4.0\n",
              "6   1.0  2.0  3.0  4.0\n",
              "8   1.0  2.0  3.0  4.0\n",
              "10  1.0  2.0  3.0  4.0"
            ]
          },
          "execution_count": 113,
          "metadata": {},
          "output_type": "execute_result"
        }
      ],
      "source": [
        "## APPLY EXAMPLES\n",
        "df1 = pd.DataFrame(np.ones([6,4])*np.array([1,2,3,4]), index=list(range(0,12,2)), columns=list('abcd'))\n",
        "df1"
      ]
    },
    {
      "cell_type": "code",
      "execution_count": 114,
      "metadata": {
        "colab": {
          "base_uri": "https://localhost:8080/"
        },
        "id": "ZkF0GNGrdBlb",
        "outputId": "3f8c7659-c673-4e1a-9387-0a46124a44c8"
      },
      "outputs": [
        {
          "data": {
            "text/plain": [
              "a     6.0\n",
              "b    12.0\n",
              "c    18.0\n",
              "d    24.0\n",
              "dtype: float64"
            ]
          },
          "execution_count": 114,
          "metadata": {},
          "output_type": "execute_result"
        }
      ],
      "source": [
        "# Apply to each column\n",
        "df1.apply(np.sum, axis = 0)"
      ]
    },
    {
      "cell_type": "code",
      "execution_count": 115,
      "metadata": {
        "colab": {
          "base_uri": "https://localhost:8080/"
        },
        "id": "BjcAt3t8dBlb",
        "outputId": "c93dbdaa-f721-4f39-9d1a-70dc788b0ffd"
      },
      "outputs": [
        {
          "data": {
            "text/plain": [
              "0     10.0\n",
              "2     10.0\n",
              "4     10.0\n",
              "6     10.0\n",
              "8     10.0\n",
              "10    10.0\n",
              "dtype: float64"
            ]
          },
          "execution_count": 115,
          "metadata": {},
          "output_type": "execute_result"
        }
      ],
      "source": [
        "# Apply to each row\n",
        "df1.apply(np.sum, axis = 1)"
      ]
    },
    {
      "cell_type": "markdown",
      "metadata": {
        "id": "k928W2YldBlb"
      },
      "source": [
        "### Side note: lambda(anonymous) functions\n",
        "\n",
        "lambda functions allow you to specify a function without giving it a separate declaration.  For example, the function\n",
        "```python\n",
        "lambda x: (x - x.mean())/x.std()\n",
        "```\n",
        "is equivalent to the function\n",
        "```python\n",
        "def normalize(x):\n",
        "    return (x - x.mean())/x.std()\n",
        "```\n",
        "You'll often see lambda functions used in list comprehensions, or in methods (like `map()`, `apply()`, or `applymap()`) that take a function as input."
      ]
    },
    {
      "cell_type": "code",
      "execution_count": 116,
      "metadata": {
        "colab": {
          "base_uri": "https://localhost:8080/",
          "height": 260
        },
        "id": "_2HTzOnfBui3",
        "outputId": "4fc08a72-31f6-4439-f19a-d2301d449484"
      },
      "outputs": [
        {
          "data": {
            "text/html": [
              "<div>\n",
              "<style scoped>\n",
              "    .dataframe tbody tr th:only-of-type {\n",
              "        vertical-align: middle;\n",
              "    }\n",
              "\n",
              "    .dataframe tbody tr th {\n",
              "        vertical-align: top;\n",
              "    }\n",
              "\n",
              "    .dataframe thead th {\n",
              "        text-align: right;\n",
              "    }\n",
              "</style>\n",
              "<table border=\"1\" class=\"dataframe\">\n",
              "  <thead>\n",
              "    <tr style=\"text-align: right;\">\n",
              "      <th></th>\n",
              "      <th>a</th>\n",
              "      <th>b</th>\n",
              "      <th>c</th>\n",
              "      <th>d</th>\n",
              "    </tr>\n",
              "  </thead>\n",
              "  <tbody>\n",
              "    <tr>\n",
              "      <th>0</th>\n",
              "      <td>1.0</td>\n",
              "      <td>2.0</td>\n",
              "      <td>3.0</td>\n",
              "      <td>4.0</td>\n",
              "    </tr>\n",
              "    <tr>\n",
              "      <th>2</th>\n",
              "      <td>1.0</td>\n",
              "      <td>2.0</td>\n",
              "      <td>3.0</td>\n",
              "      <td>4.0</td>\n",
              "    </tr>\n",
              "    <tr>\n",
              "      <th>4</th>\n",
              "      <td>1.0</td>\n",
              "      <td>2.0</td>\n",
              "      <td>3.0</td>\n",
              "      <td>4.0</td>\n",
              "    </tr>\n",
              "    <tr>\n",
              "      <th>6</th>\n",
              "      <td>1.0</td>\n",
              "      <td>2.0</td>\n",
              "      <td>3.0</td>\n",
              "      <td>4.0</td>\n",
              "    </tr>\n",
              "    <tr>\n",
              "      <th>8</th>\n",
              "      <td>1.0</td>\n",
              "      <td>2.0</td>\n",
              "      <td>3.0</td>\n",
              "      <td>4.0</td>\n",
              "    </tr>\n",
              "    <tr>\n",
              "      <th>10</th>\n",
              "      <td>1.0</td>\n",
              "      <td>2.0</td>\n",
              "      <td>3.0</td>\n",
              "      <td>4.0</td>\n",
              "    </tr>\n",
              "  </tbody>\n",
              "</table>\n",
              "</div>"
            ],
            "text/plain": [
              "      a    b    c    d\n",
              "0   1.0  2.0  3.0  4.0\n",
              "2   1.0  2.0  3.0  4.0\n",
              "4   1.0  2.0  3.0  4.0\n",
              "6   1.0  2.0  3.0  4.0\n",
              "8   1.0  2.0  3.0  4.0\n",
              "10  1.0  2.0  3.0  4.0"
            ]
          },
          "execution_count": 116,
          "metadata": {},
          "output_type": "execute_result"
        }
      ],
      "source": [
        "df1"
      ]
    },
    {
      "cell_type": "code",
      "execution_count": 117,
      "metadata": {
        "colab": {
          "base_uri": "https://localhost:8080/",
          "height": 260
        },
        "id": "Kq9On-91J005",
        "outputId": "b5f902cb-ae87-4c8a-85d9-7bf329c2bd56"
      },
      "outputs": [
        {
          "data": {
            "text/html": [
              "<div>\n",
              "<style scoped>\n",
              "    .dataframe tbody tr th:only-of-type {\n",
              "        vertical-align: middle;\n",
              "    }\n",
              "\n",
              "    .dataframe tbody tr th {\n",
              "        vertical-align: top;\n",
              "    }\n",
              "\n",
              "    .dataframe thead th {\n",
              "        text-align: right;\n",
              "    }\n",
              "</style>\n",
              "<table border=\"1\" class=\"dataframe\">\n",
              "  <thead>\n",
              "    <tr style=\"text-align: right;\">\n",
              "      <th></th>\n",
              "      <th>a</th>\n",
              "      <th>b</th>\n",
              "      <th>c</th>\n",
              "      <th>d</th>\n",
              "    </tr>\n",
              "  </thead>\n",
              "  <tbody>\n",
              "    <tr>\n",
              "      <th>0</th>\n",
              "      <td>7.0</td>\n",
              "      <td>14.0</td>\n",
              "      <td>21.0</td>\n",
              "      <td>28.0</td>\n",
              "    </tr>\n",
              "    <tr>\n",
              "      <th>2</th>\n",
              "      <td>7.0</td>\n",
              "      <td>14.0</td>\n",
              "      <td>21.0</td>\n",
              "      <td>28.0</td>\n",
              "    </tr>\n",
              "    <tr>\n",
              "      <th>4</th>\n",
              "      <td>7.0</td>\n",
              "      <td>14.0</td>\n",
              "      <td>21.0</td>\n",
              "      <td>28.0</td>\n",
              "    </tr>\n",
              "    <tr>\n",
              "      <th>6</th>\n",
              "      <td>7.0</td>\n",
              "      <td>14.0</td>\n",
              "      <td>21.0</td>\n",
              "      <td>28.0</td>\n",
              "    </tr>\n",
              "    <tr>\n",
              "      <th>8</th>\n",
              "      <td>7.0</td>\n",
              "      <td>14.0</td>\n",
              "      <td>21.0</td>\n",
              "      <td>28.0</td>\n",
              "    </tr>\n",
              "    <tr>\n",
              "      <th>10</th>\n",
              "      <td>7.0</td>\n",
              "      <td>14.0</td>\n",
              "      <td>21.0</td>\n",
              "      <td>28.0</td>\n",
              "    </tr>\n",
              "  </tbody>\n",
              "</table>\n",
              "</div>"
            ],
            "text/plain": [
              "      a     b     c     d\n",
              "0   7.0  14.0  21.0  28.0\n",
              "2   7.0  14.0  21.0  28.0\n",
              "4   7.0  14.0  21.0  28.0\n",
              "6   7.0  14.0  21.0  28.0\n",
              "8   7.0  14.0  21.0  28.0\n",
              "10  7.0  14.0  21.0  28.0"
            ]
          },
          "execution_count": 117,
          "metadata": {},
          "output_type": "execute_result"
        }
      ],
      "source": [
        "def add_sum(x):\n",
        "    return x + x.sum()\n",
        "df1.apply(add_sum, axis = 0)"
      ]
    },
    {
      "cell_type": "code",
      "execution_count": 118,
      "metadata": {
        "colab": {
          "base_uri": "https://localhost:8080/",
          "height": 260
        },
        "id": "D9AOZ7gFdBlb",
        "outputId": "fece9339-a183-4e60-fb14-6d7b4a73dd53"
      },
      "outputs": [
        {
          "data": {
            "text/html": [
              "<div>\n",
              "<style scoped>\n",
              "    .dataframe tbody tr th:only-of-type {\n",
              "        vertical-align: middle;\n",
              "    }\n",
              "\n",
              "    .dataframe tbody tr th {\n",
              "        vertical-align: top;\n",
              "    }\n",
              "\n",
              "    .dataframe thead th {\n",
              "        text-align: right;\n",
              "    }\n",
              "</style>\n",
              "<table border=\"1\" class=\"dataframe\">\n",
              "  <thead>\n",
              "    <tr style=\"text-align: right;\">\n",
              "      <th></th>\n",
              "      <th>a</th>\n",
              "      <th>b</th>\n",
              "      <th>c</th>\n",
              "      <th>d</th>\n",
              "    </tr>\n",
              "  </thead>\n",
              "  <tbody>\n",
              "    <tr>\n",
              "      <th>0</th>\n",
              "      <td>7.0</td>\n",
              "      <td>14.0</td>\n",
              "      <td>21.0</td>\n",
              "      <td>28.0</td>\n",
              "    </tr>\n",
              "    <tr>\n",
              "      <th>2</th>\n",
              "      <td>7.0</td>\n",
              "      <td>14.0</td>\n",
              "      <td>21.0</td>\n",
              "      <td>28.0</td>\n",
              "    </tr>\n",
              "    <tr>\n",
              "      <th>4</th>\n",
              "      <td>7.0</td>\n",
              "      <td>14.0</td>\n",
              "      <td>21.0</td>\n",
              "      <td>28.0</td>\n",
              "    </tr>\n",
              "    <tr>\n",
              "      <th>6</th>\n",
              "      <td>7.0</td>\n",
              "      <td>14.0</td>\n",
              "      <td>21.0</td>\n",
              "      <td>28.0</td>\n",
              "    </tr>\n",
              "    <tr>\n",
              "      <th>8</th>\n",
              "      <td>7.0</td>\n",
              "      <td>14.0</td>\n",
              "      <td>21.0</td>\n",
              "      <td>28.0</td>\n",
              "    </tr>\n",
              "    <tr>\n",
              "      <th>10</th>\n",
              "      <td>7.0</td>\n",
              "      <td>14.0</td>\n",
              "      <td>21.0</td>\n",
              "      <td>28.0</td>\n",
              "    </tr>\n",
              "  </tbody>\n",
              "</table>\n",
              "</div>"
            ],
            "text/plain": [
              "      a     b     c     d\n",
              "0   7.0  14.0  21.0  28.0\n",
              "2   7.0  14.0  21.0  28.0\n",
              "4   7.0  14.0  21.0  28.0\n",
              "6   7.0  14.0  21.0  28.0\n",
              "8   7.0  14.0  21.0  28.0\n",
              "10  7.0  14.0  21.0  28.0"
            ]
          },
          "execution_count": 118,
          "metadata": {},
          "output_type": "execute_result"
        }
      ],
      "source": [
        "# # Use lambda functions  to normalize columns\n",
        "df1.apply(lambda x: x + x.sum(), axis = 0)"
      ]
    },
    {
      "cell_type": "code",
      "execution_count": 119,
      "metadata": {
        "id": "DfMXMr5GCVYH"
      },
      "outputs": [],
      "source": [
        "l1 = [-1,2,3,4,5,62,8,1,-1]\n",
        "l2 = [(1,2),(3,4),(-1,4),(4,6),(10,1)]"
      ]
    },
    {
      "cell_type": "code",
      "execution_count": 120,
      "metadata": {
        "colab": {
          "base_uri": "https://localhost:8080/"
        },
        "id": "RTcSB2g2CiHw",
        "outputId": "dfb1842c-8493-482f-c0bb-465acbffe379"
      },
      "outputs": [
        {
          "data": {
            "text/plain": [
              "[-1, -1, 1, 2, 3, 4, 5, 8, 62]"
            ]
          },
          "execution_count": 120,
          "metadata": {},
          "output_type": "execute_result"
        }
      ],
      "source": [
        "sorted(l1)"
      ]
    },
    {
      "cell_type": "code",
      "execution_count": 121,
      "metadata": {
        "colab": {
          "base_uri": "https://localhost:8080/"
        },
        "id": "pHFi7payCp4X",
        "outputId": "b9a6c5da-cfce-426e-a0cf-25283c4b6d4d"
      },
      "outputs": [
        {
          "data": {
            "text/plain": [
              "[(10, 1), (1, 2), (3, 4), (-1, 4), (4, 6)]"
            ]
          },
          "execution_count": 121,
          "metadata": {},
          "output_type": "execute_result"
        }
      ],
      "source": [
        "sorted(l2, key = lambda x: x[1])"
      ]
    },
    {
      "cell_type": "markdown",
      "metadata": {
        "id": "Be3OCDrIroRE"
      },
      "source": [
        "## Exercise:\n",
        "Say I wanted to find where the maximum dates occured for each column of the df. How can we do that?  \n",
        "HINT: `.idxmax()` function for `pd.Series`"
      ]
    },
    {
      "cell_type": "code",
      "execution_count": 122,
      "metadata": {
        "id": "wnSdcKJSdBlb"
      },
      "outputs": [
        {
          "data": {
            "text/html": [
              "<div>\n",
              "<style scoped>\n",
              "    .dataframe tbody tr th:only-of-type {\n",
              "        vertical-align: middle;\n",
              "    }\n",
              "\n",
              "    .dataframe tbody tr th {\n",
              "        vertical-align: top;\n",
              "    }\n",
              "\n",
              "    .dataframe thead th {\n",
              "        text-align: right;\n",
              "    }\n",
              "</style>\n",
              "<table border=\"1\" class=\"dataframe\">\n",
              "  <thead>\n",
              "    <tr style=\"text-align: right;\">\n",
              "      <th></th>\n",
              "      <th>A</th>\n",
              "      <th>B</th>\n",
              "      <th>C</th>\n",
              "    </tr>\n",
              "  </thead>\n",
              "  <tbody>\n",
              "    <tr>\n",
              "      <th>2000-01-01</th>\n",
              "      <td>0.613040</td>\n",
              "      <td>-0.006958</td>\n",
              "      <td>-0.196480</td>\n",
              "    </tr>\n",
              "    <tr>\n",
              "      <th>2000-01-02</th>\n",
              "      <td>-0.119040</td>\n",
              "      <td>1.981378</td>\n",
              "      <td>-0.402345</td>\n",
              "    </tr>\n",
              "    <tr>\n",
              "      <th>2000-01-03</th>\n",
              "      <td>-2.309459</td>\n",
              "      <td>1.004119</td>\n",
              "      <td>-1.420442</td>\n",
              "    </tr>\n",
              "    <tr>\n",
              "      <th>2000-01-04</th>\n",
              "      <td>0.702569</td>\n",
              "      <td>-0.757207</td>\n",
              "      <td>-1.324377</td>\n",
              "    </tr>\n",
              "    <tr>\n",
              "      <th>2000-01-05</th>\n",
              "      <td>0.857074</td>\n",
              "      <td>0.359226</td>\n",
              "      <td>0.525984</td>\n",
              "    </tr>\n",
              "    <tr>\n",
              "      <th>...</th>\n",
              "      <td>...</td>\n",
              "      <td>...</td>\n",
              "      <td>...</td>\n",
              "    </tr>\n",
              "    <tr>\n",
              "      <th>2002-09-22</th>\n",
              "      <td>-0.957322</td>\n",
              "      <td>0.077362</td>\n",
              "      <td>1.155728</td>\n",
              "    </tr>\n",
              "    <tr>\n",
              "      <th>2002-09-23</th>\n",
              "      <td>-0.810880</td>\n",
              "      <td>-1.648908</td>\n",
              "      <td>0.324848</td>\n",
              "    </tr>\n",
              "    <tr>\n",
              "      <th>2002-09-24</th>\n",
              "      <td>0.579752</td>\n",
              "      <td>-1.176081</td>\n",
              "      <td>-0.287115</td>\n",
              "    </tr>\n",
              "    <tr>\n",
              "      <th>2002-09-25</th>\n",
              "      <td>1.175139</td>\n",
              "      <td>-0.759122</td>\n",
              "      <td>1.169488</td>\n",
              "    </tr>\n",
              "    <tr>\n",
              "      <th>2002-09-26</th>\n",
              "      <td>0.843410</td>\n",
              "      <td>-0.088871</td>\n",
              "      <td>1.627086</td>\n",
              "    </tr>\n",
              "  </tbody>\n",
              "</table>\n",
              "<p>1000 rows × 3 columns</p>\n",
              "</div>"
            ],
            "text/plain": [
              "                   A         B         C\n",
              "2000-01-01  0.613040 -0.006958 -0.196480\n",
              "2000-01-02 -0.119040  1.981378 -0.402345\n",
              "2000-01-03 -2.309459  1.004119 -1.420442\n",
              "2000-01-04  0.702569 -0.757207 -1.324377\n",
              "2000-01-05  0.857074  0.359226  0.525984\n",
              "...              ...       ...       ...\n",
              "2002-09-22 -0.957322  0.077362  1.155728\n",
              "2002-09-23 -0.810880 -1.648908  0.324848\n",
              "2002-09-24  0.579752 -1.176081 -0.287115\n",
              "2002-09-25  1.175139 -0.759122  1.169488\n",
              "2002-09-26  0.843410 -0.088871  1.627086\n",
              "\n",
              "[1000 rows x 3 columns]"
            ]
          },
          "execution_count": 122,
          "metadata": {},
          "output_type": "execute_result"
        }
      ],
      "source": [
        "## APPLY EXAMPLES CONT\n",
        "# Create DF with 1000 rows and 3 columns filled with random entries\n",
        "tsdf = pd.DataFrame(np.random.randn(1000, 3), columns=['A', 'B', 'C'],\n",
        "                    index=pd.date_range('1/1/2000', periods=1000))\n",
        "\n",
        "tsdf"
      ]
    },
    {
      "cell_type": "code",
      "execution_count": 123,
      "metadata": {
        "id": "xegfrQWPdBlc"
      },
      "outputs": [
        {
          "data": {
            "text/plain": [
              "A   2000-03-02\n",
              "B   2002-07-12\n",
              "C   2001-03-23\n",
              "dtype: datetime64[ns]"
            ]
          },
          "execution_count": 123,
          "metadata": {},
          "output_type": "execute_result"
        }
      ],
      "source": [
        "# YOUR SOLUTION HERE"
      ]
    },
    {
      "cell_type": "markdown",
      "metadata": {
        "id": "WztiI6XDdBlc"
      },
      "source": [
        "# I/O Functions\n",
        "\n",
        "- There are loads of input output features. The highlights most useful to you are likely:\n",
        "    - ``` pd.read_csv ``` / ``` pd.to_csv ```\n",
        "    - ``` pd.read_excel ``` / ``` pd.to_excel ```\n",
        "    - ``` pd.read_sql ``` / ``` pd.to_sql ```\n",
        "    - ``` pd.read_pickle ``` / ``` pd.to_pickle ```\n",
        "Documentation:\n",
        "\n",
        "* [Pandas Import-Output Functions](https://pandas.pydata.org/pandas-docs/stable/io.html)"
      ]
    },
    {
      "cell_type": "markdown",
      "metadata": {
        "id": "Eo9l0is_dBlc"
      },
      "source": [
        "### Loading data from CSV\n",
        "Here are the first several lines of `iris.csv`:\n",
        "\n",
        "```\n",
        "sepal_length,sepal_width,petal_length,petal_width,name\n",
        "5.1,3.5,1.4,0.2,setosa\n",
        "4.9,3.0,1.4,0.2,setosa\n",
        "4.7,3.2,1.3,0.2,setosa\n",
        "4.6,3.1,1.5,0.2,setosa\n",
        "5.0,3.6,1.4,0.2,setosa\n",
        "5.4,3.9,1.7,0.4,setosa\n",
        "```"
      ]
    },
    {
      "cell_type": "code",
      "execution_count": 124,
      "metadata": {
        "colab": {
          "base_uri": "https://localhost:8080/",
          "height": 447
        },
        "id": "RGi4lSgbdBlc",
        "outputId": "704e4111-5cf7-41ad-8471-5dd076c0fd50"
      },
      "outputs": [
        {
          "data": {
            "text/html": [
              "<div>\n",
              "<style scoped>\n",
              "    .dataframe tbody tr th:only-of-type {\n",
              "        vertical-align: middle;\n",
              "    }\n",
              "\n",
              "    .dataframe tbody tr th {\n",
              "        vertical-align: top;\n",
              "    }\n",
              "\n",
              "    .dataframe thead th {\n",
              "        text-align: right;\n",
              "    }\n",
              "</style>\n",
              "<table border=\"1\" class=\"dataframe\">\n",
              "  <thead>\n",
              "    <tr style=\"text-align: right;\">\n",
              "      <th></th>\n",
              "      <th>sepal_length</th>\n",
              "      <th>sepal_width</th>\n",
              "      <th>petal_length</th>\n",
              "      <th>petal_width</th>\n",
              "      <th>species</th>\n",
              "    </tr>\n",
              "  </thead>\n",
              "  <tbody>\n",
              "    <tr>\n",
              "      <th>0</th>\n",
              "      <td>5.1</td>\n",
              "      <td>3.5</td>\n",
              "      <td>1.4</td>\n",
              "      <td>0.2</td>\n",
              "      <td>setosa</td>\n",
              "    </tr>\n",
              "    <tr>\n",
              "      <th>1</th>\n",
              "      <td>4.9</td>\n",
              "      <td>3.0</td>\n",
              "      <td>1.4</td>\n",
              "      <td>0.2</td>\n",
              "      <td>setosa</td>\n",
              "    </tr>\n",
              "    <tr>\n",
              "      <th>2</th>\n",
              "      <td>4.7</td>\n",
              "      <td>3.2</td>\n",
              "      <td>1.3</td>\n",
              "      <td>0.2</td>\n",
              "      <td>setosa</td>\n",
              "    </tr>\n",
              "    <tr>\n",
              "      <th>3</th>\n",
              "      <td>4.6</td>\n",
              "      <td>3.1</td>\n",
              "      <td>1.5</td>\n",
              "      <td>0.2</td>\n",
              "      <td>setosa</td>\n",
              "    </tr>\n",
              "    <tr>\n",
              "      <th>4</th>\n",
              "      <td>5.0</td>\n",
              "      <td>3.6</td>\n",
              "      <td>1.4</td>\n",
              "      <td>0.2</td>\n",
              "      <td>setosa</td>\n",
              "    </tr>\n",
              "    <tr>\n",
              "      <th>...</th>\n",
              "      <td>...</td>\n",
              "      <td>...</td>\n",
              "      <td>...</td>\n",
              "      <td>...</td>\n",
              "      <td>...</td>\n",
              "    </tr>\n",
              "    <tr>\n",
              "      <th>145</th>\n",
              "      <td>6.7</td>\n",
              "      <td>3.0</td>\n",
              "      <td>5.2</td>\n",
              "      <td>2.3</td>\n",
              "      <td>virginica</td>\n",
              "    </tr>\n",
              "    <tr>\n",
              "      <th>146</th>\n",
              "      <td>6.3</td>\n",
              "      <td>2.5</td>\n",
              "      <td>5.0</td>\n",
              "      <td>1.9</td>\n",
              "      <td>virginica</td>\n",
              "    </tr>\n",
              "    <tr>\n",
              "      <th>147</th>\n",
              "      <td>6.5</td>\n",
              "      <td>3.0</td>\n",
              "      <td>5.2</td>\n",
              "      <td>2.0</td>\n",
              "      <td>virginica</td>\n",
              "    </tr>\n",
              "    <tr>\n",
              "      <th>148</th>\n",
              "      <td>6.2</td>\n",
              "      <td>3.4</td>\n",
              "      <td>5.4</td>\n",
              "      <td>2.3</td>\n",
              "      <td>virginica</td>\n",
              "    </tr>\n",
              "    <tr>\n",
              "      <th>149</th>\n",
              "      <td>5.9</td>\n",
              "      <td>3.0</td>\n",
              "      <td>5.1</td>\n",
              "      <td>1.8</td>\n",
              "      <td>virginica</td>\n",
              "    </tr>\n",
              "  </tbody>\n",
              "</table>\n",
              "<p>150 rows × 5 columns</p>\n",
              "</div>"
            ],
            "text/plain": [
              "     sepal_length  sepal_width  petal_length  petal_width    species\n",
              "0             5.1          3.5           1.4          0.2     setosa\n",
              "1             4.9          3.0           1.4          0.2     setosa\n",
              "2             4.7          3.2           1.3          0.2     setosa\n",
              "3             4.6          3.1           1.5          0.2     setosa\n",
              "4             5.0          3.6           1.4          0.2     setosa\n",
              "..            ...          ...           ...          ...        ...\n",
              "145           6.7          3.0           5.2          2.3  virginica\n",
              "146           6.3          2.5           5.0          1.9  virginica\n",
              "147           6.5          3.0           5.2          2.0  virginica\n",
              "148           6.2          3.4           5.4          2.3  virginica\n",
              "149           5.9          3.0           5.1          1.8  virginica\n",
              "\n",
              "[150 rows x 5 columns]"
            ]
          },
          "execution_count": 124,
          "metadata": {},
          "output_type": "execute_result"
        }
      ],
      "source": [
        "import pandas as pd\n",
        "# Can use df.info to find out information about the df\n",
        "iris_data = pd.read_csv('https://gist.githubusercontent.com/curran/a08a1080b88344b0c8a7/raw/639388c2cbc2120a14dcf466e85730eb8be498bb/iris.csv')\n",
        "iris_data"
      ]
    },
    {
      "cell_type": "code",
      "execution_count": 125,
      "metadata": {
        "colab": {
          "base_uri": "https://localhost:8080/"
        },
        "id": "AvY-x-3DC2wK",
        "outputId": "9c77dec5-15b8-45e2-84e0-7933cf473295"
      },
      "outputs": [
        {
          "name": "stdout",
          "output_type": "stream",
          "text": [
            "<class 'pandas.core.frame.DataFrame'>\n",
            "RangeIndex: 150 entries, 0 to 149\n",
            "Data columns (total 5 columns):\n",
            " #   Column        Non-Null Count  Dtype  \n",
            "---  ------        --------------  -----  \n",
            " 0   sepal_length  150 non-null    float64\n",
            " 1   sepal_width   150 non-null    float64\n",
            " 2   petal_length  150 non-null    float64\n",
            " 3   petal_width   150 non-null    float64\n",
            " 4   species       150 non-null    object \n",
            "dtypes: float64(4), object(1)\n",
            "memory usage: 6.0+ KB\n"
          ]
        }
      ],
      "source": [
        "#iris_data = pd.read_csv('./data/iris.csv')\n",
        "iris_data.info()"
      ]
    },
    {
      "cell_type": "code",
      "execution_count": 126,
      "metadata": {
        "colab": {
          "base_uri": "https://localhost:8080/",
          "height": 323
        },
        "id": "hAP_P2EzdBlc",
        "outputId": "31482c34-a741-4eeb-8f79-4c81d81b9292"
      },
      "outputs": [
        {
          "data": {
            "text/html": [
              "<div>\n",
              "<style scoped>\n",
              "    .dataframe tbody tr th:only-of-type {\n",
              "        vertical-align: middle;\n",
              "    }\n",
              "\n",
              "    .dataframe tbody tr th {\n",
              "        vertical-align: top;\n",
              "    }\n",
              "\n",
              "    .dataframe thead th {\n",
              "        text-align: right;\n",
              "    }\n",
              "</style>\n",
              "<table border=\"1\" class=\"dataframe\">\n",
              "  <thead>\n",
              "    <tr style=\"text-align: right;\">\n",
              "      <th></th>\n",
              "      <th>sepal_length</th>\n",
              "      <th>sepal_width</th>\n",
              "      <th>petal_length</th>\n",
              "      <th>petal_width</th>\n",
              "    </tr>\n",
              "  </thead>\n",
              "  <tbody>\n",
              "    <tr>\n",
              "      <th>count</th>\n",
              "      <td>150.000000</td>\n",
              "      <td>150.000000</td>\n",
              "      <td>150.000000</td>\n",
              "      <td>150.000000</td>\n",
              "    </tr>\n",
              "    <tr>\n",
              "      <th>mean</th>\n",
              "      <td>5.843333</td>\n",
              "      <td>3.054000</td>\n",
              "      <td>3.758667</td>\n",
              "      <td>1.198667</td>\n",
              "    </tr>\n",
              "    <tr>\n",
              "      <th>std</th>\n",
              "      <td>0.828066</td>\n",
              "      <td>0.433594</td>\n",
              "      <td>1.764420</td>\n",
              "      <td>0.763161</td>\n",
              "    </tr>\n",
              "    <tr>\n",
              "      <th>min</th>\n",
              "      <td>4.300000</td>\n",
              "      <td>2.000000</td>\n",
              "      <td>1.000000</td>\n",
              "      <td>0.100000</td>\n",
              "    </tr>\n",
              "    <tr>\n",
              "      <th>25%</th>\n",
              "      <td>5.100000</td>\n",
              "      <td>2.800000</td>\n",
              "      <td>1.600000</td>\n",
              "      <td>0.300000</td>\n",
              "    </tr>\n",
              "    <tr>\n",
              "      <th>50%</th>\n",
              "      <td>5.800000</td>\n",
              "      <td>3.000000</td>\n",
              "      <td>4.350000</td>\n",
              "      <td>1.300000</td>\n",
              "    </tr>\n",
              "    <tr>\n",
              "      <th>75%</th>\n",
              "      <td>6.400000</td>\n",
              "      <td>3.300000</td>\n",
              "      <td>5.100000</td>\n",
              "      <td>1.800000</td>\n",
              "    </tr>\n",
              "    <tr>\n",
              "      <th>max</th>\n",
              "      <td>7.900000</td>\n",
              "      <td>4.400000</td>\n",
              "      <td>6.900000</td>\n",
              "      <td>2.500000</td>\n",
              "    </tr>\n",
              "  </tbody>\n",
              "</table>\n",
              "</div>"
            ],
            "text/plain": [
              "       sepal_length  sepal_width  petal_length  petal_width\n",
              "count    150.000000   150.000000    150.000000   150.000000\n",
              "mean       5.843333     3.054000      3.758667     1.198667\n",
              "std        0.828066     0.433594      1.764420     0.763161\n",
              "min        4.300000     2.000000      1.000000     0.100000\n",
              "25%        5.100000     2.800000      1.600000     0.300000\n",
              "50%        5.800000     3.000000      4.350000     1.300000\n",
              "75%        6.400000     3.300000      5.100000     1.800000\n",
              "max        7.900000     4.400000      6.900000     2.500000"
            ]
          },
          "execution_count": 126,
          "metadata": {},
          "output_type": "execute_result"
        }
      ],
      "source": [
        "# describe and stats summarize the dataframe\n",
        "iris_data.describe()"
      ]
    },
    {
      "cell_type": "markdown",
      "metadata": {
        "id": "PfBpFnxZdBlc"
      },
      "source": [
        "## The split/apply combo (groupyby)\n",
        "- pandas objects can be split on any of their axes. The abstract definition of grouping is to provide a mapping of labels to group names:\n",
        "- Syntax:  \n",
        "    - ``` groups = df.groupby(key) ```\n",
        "    - ``` groups = df.groupby(key, axis = 1) ```\n",
        "    - ``` groups = df.groupby([key1, key2], axis = 1) ```"
      ]
    },
    {
      "cell_type": "markdown",
      "metadata": {
        "id": "DZziA0yDdBlc"
      },
      "source": [
        "\n",
        "- The group by concept is that we want to apply the same function on subsets of the dataframe, based on some key we use to split the DataFrame into subsets\n",
        "- This idea is referred to as the \"split-apply-combine\" operation:\n",
        "    - Split the data into groups based on some criteria\n",
        "    - Apply a function to each group independently\n",
        "    - Combine the results\n",
        "\n",
        "![image](https://i.stack.imgur.com/sgCn1.jpg)"
      ]
    },
    {
      "cell_type": "code",
      "execution_count": 127,
      "metadata": {
        "colab": {
          "base_uri": "https://localhost:8080/",
          "height": 354
        },
        "id": "J-M6YF0OdBld",
        "outputId": "4b210d57-0ef7-4274-baa6-d806db73ea5d"
      },
      "outputs": [
        {
          "data": {
            "text/html": [
              "<div>\n",
              "<style scoped>\n",
              "    .dataframe tbody tr th:only-of-type {\n",
              "        vertical-align: middle;\n",
              "    }\n",
              "\n",
              "    .dataframe tbody tr th {\n",
              "        vertical-align: top;\n",
              "    }\n",
              "\n",
              "    .dataframe thead th {\n",
              "        text-align: right;\n",
              "    }\n",
              "</style>\n",
              "<table border=\"1\" class=\"dataframe\">\n",
              "  <thead>\n",
              "    <tr style=\"text-align: right;\">\n",
              "      <th></th>\n",
              "      <th>key</th>\n",
              "      <th>data</th>\n",
              "    </tr>\n",
              "  </thead>\n",
              "  <tbody>\n",
              "    <tr>\n",
              "      <th>0</th>\n",
              "      <td>A</td>\n",
              "      <td>0</td>\n",
              "    </tr>\n",
              "    <tr>\n",
              "      <th>1</th>\n",
              "      <td>B</td>\n",
              "      <td>5</td>\n",
              "    </tr>\n",
              "    <tr>\n",
              "      <th>2</th>\n",
              "      <td>C</td>\n",
              "      <td>10</td>\n",
              "    </tr>\n",
              "    <tr>\n",
              "      <th>3</th>\n",
              "      <td>A</td>\n",
              "      <td>5</td>\n",
              "    </tr>\n",
              "    <tr>\n",
              "      <th>4</th>\n",
              "      <td>B</td>\n",
              "      <td>10</td>\n",
              "    </tr>\n",
              "    <tr>\n",
              "      <th>5</th>\n",
              "      <td>C</td>\n",
              "      <td>15</td>\n",
              "    </tr>\n",
              "    <tr>\n",
              "      <th>6</th>\n",
              "      <td>A</td>\n",
              "      <td>10</td>\n",
              "    </tr>\n",
              "    <tr>\n",
              "      <th>7</th>\n",
              "      <td>B</td>\n",
              "      <td>15</td>\n",
              "    </tr>\n",
              "    <tr>\n",
              "      <th>8</th>\n",
              "      <td>C</td>\n",
              "      <td>20</td>\n",
              "    </tr>\n",
              "  </tbody>\n",
              "</table>\n",
              "</div>"
            ],
            "text/plain": [
              "  key  data\n",
              "0   A     0\n",
              "1   B     5\n",
              "2   C    10\n",
              "3   A     5\n",
              "4   B    10\n",
              "5   C    15\n",
              "6   A    10\n",
              "7   B    15\n",
              "8   C    20"
            ]
          },
          "execution_count": 127,
          "metadata": {},
          "output_type": "execute_result"
        }
      ],
      "source": [
        "df = pd.DataFrame({'key':['A','B','C','A','B','C','A','B','C'],\n",
        "                   'data': [0, 5, 10, 5, 10, 15, 10, 15, 20]})\n",
        "df"
      ]
    },
    {
      "cell_type": "code",
      "execution_count": 128,
      "metadata": {
        "colab": {
          "base_uri": "https://localhost:8080/"
        },
        "id": "G3GCacdctm0A",
        "outputId": "0b9c243b-ce8d-461f-e5ae-8afa3b4bde52"
      },
      "outputs": [
        {
          "data": {
            "text/plain": [
              "<pandas.core.groupby.generic.DataFrameGroupBy object at 0x14d835490>"
            ]
          },
          "execution_count": 128,
          "metadata": {},
          "output_type": "execute_result"
        }
      ],
      "source": [
        "g = df.groupby('key')\n",
        "g"
      ]
    },
    {
      "cell_type": "code",
      "execution_count": 129,
      "metadata": {
        "colab": {
          "base_uri": "https://localhost:8080/",
          "height": 228
        },
        "id": "cDOSQh0jttH5",
        "outputId": "3987d279-3857-4b85-e779-884009e809a4"
      },
      "outputs": [
        {
          "data": {
            "text/html": [
              "<div>\n",
              "<style scoped>\n",
              "    .dataframe tbody tr th:only-of-type {\n",
              "        vertical-align: middle;\n",
              "    }\n",
              "\n",
              "    .dataframe tbody tr th {\n",
              "        vertical-align: top;\n",
              "    }\n",
              "\n",
              "    .dataframe thead tr th {\n",
              "        text-align: left;\n",
              "    }\n",
              "\n",
              "    .dataframe thead tr:last-of-type th {\n",
              "        text-align: right;\n",
              "    }\n",
              "</style>\n",
              "<table border=\"1\" class=\"dataframe\">\n",
              "  <thead>\n",
              "    <tr>\n",
              "      <th></th>\n",
              "      <th>data</th>\n",
              "    </tr>\n",
              "    <tr>\n",
              "      <th></th>\n",
              "      <th>min</th>\n",
              "    </tr>\n",
              "    <tr>\n",
              "      <th>key</th>\n",
              "      <th></th>\n",
              "    </tr>\n",
              "  </thead>\n",
              "  <tbody>\n",
              "    <tr>\n",
              "      <th>A</th>\n",
              "      <td>0</td>\n",
              "    </tr>\n",
              "    <tr>\n",
              "      <th>B</th>\n",
              "      <td>5</td>\n",
              "    </tr>\n",
              "    <tr>\n",
              "      <th>C</th>\n",
              "      <td>10</td>\n",
              "    </tr>\n",
              "  </tbody>\n",
              "</table>\n",
              "</div>"
            ],
            "text/plain": [
              "    data\n",
              "     min\n",
              "key     \n",
              "A      0\n",
              "B      5\n",
              "C     10"
            ]
          },
          "execution_count": 129,
          "metadata": {},
          "output_type": "execute_result"
        }
      ],
      "source": [
        "g.agg(['min'])"
      ]
    },
    {
      "cell_type": "code",
      "execution_count": 130,
      "metadata": {
        "colab": {
          "base_uri": "https://localhost:8080/",
          "height": 228
        },
        "id": "0cRYA3Cctu8i",
        "outputId": "8003dc3f-bf16-4a46-fc7b-d3871ee5ca59"
      },
      "outputs": [
        {
          "data": {
            "text/html": [
              "<div>\n",
              "<style scoped>\n",
              "    .dataframe tbody tr th:only-of-type {\n",
              "        vertical-align: middle;\n",
              "    }\n",
              "\n",
              "    .dataframe tbody tr th {\n",
              "        vertical-align: top;\n",
              "    }\n",
              "\n",
              "    .dataframe thead tr th {\n",
              "        text-align: left;\n",
              "    }\n",
              "\n",
              "    .dataframe thead tr:last-of-type th {\n",
              "        text-align: right;\n",
              "    }\n",
              "</style>\n",
              "<table border=\"1\" class=\"dataframe\">\n",
              "  <thead>\n",
              "    <tr>\n",
              "      <th></th>\n",
              "      <th colspan=\"2\" halign=\"left\">data</th>\n",
              "    </tr>\n",
              "    <tr>\n",
              "      <th></th>\n",
              "      <th>max</th>\n",
              "      <th>sum</th>\n",
              "    </tr>\n",
              "    <tr>\n",
              "      <th>key</th>\n",
              "      <th></th>\n",
              "      <th></th>\n",
              "    </tr>\n",
              "  </thead>\n",
              "  <tbody>\n",
              "    <tr>\n",
              "      <th>A</th>\n",
              "      <td>10</td>\n",
              "      <td>15</td>\n",
              "    </tr>\n",
              "    <tr>\n",
              "      <th>B</th>\n",
              "      <td>15</td>\n",
              "      <td>30</td>\n",
              "    </tr>\n",
              "    <tr>\n",
              "      <th>C</th>\n",
              "      <td>20</td>\n",
              "      <td>45</td>\n",
              "    </tr>\n",
              "  </tbody>\n",
              "</table>\n",
              "</div>"
            ],
            "text/plain": [
              "    data    \n",
              "     max sum\n",
              "key         \n",
              "A     10  15\n",
              "B     15  30\n",
              "C     20  45"
            ]
          },
          "execution_count": 130,
          "metadata": {},
          "output_type": "execute_result"
        }
      ],
      "source": [
        "g.agg(['max','sum'])"
      ]
    },
    {
      "cell_type": "code",
      "execution_count": 131,
      "metadata": {
        "colab": {
          "base_uri": "https://localhost:8080/",
          "height": 228
        },
        "id": "etUfR07KdBld",
        "outputId": "7666ccc8-ece6-449e-9215-253129d30321"
      },
      "outputs": [
        {
          "data": {
            "text/html": [
              "<div>\n",
              "<style scoped>\n",
              "    .dataframe tbody tr th:only-of-type {\n",
              "        vertical-align: middle;\n",
              "    }\n",
              "\n",
              "    .dataframe tbody tr th {\n",
              "        vertical-align: top;\n",
              "    }\n",
              "\n",
              "    .dataframe thead tr th {\n",
              "        text-align: left;\n",
              "    }\n",
              "\n",
              "    .dataframe thead tr:last-of-type th {\n",
              "        text-align: right;\n",
              "    }\n",
              "</style>\n",
              "<table border=\"1\" class=\"dataframe\">\n",
              "  <thead>\n",
              "    <tr>\n",
              "      <th></th>\n",
              "      <th colspan=\"3\" halign=\"left\">data</th>\n",
              "    </tr>\n",
              "    <tr>\n",
              "      <th></th>\n",
              "      <th>min</th>\n",
              "      <th>max</th>\n",
              "      <th>sum</th>\n",
              "    </tr>\n",
              "    <tr>\n",
              "      <th>key</th>\n",
              "      <th></th>\n",
              "      <th></th>\n",
              "      <th></th>\n",
              "    </tr>\n",
              "  </thead>\n",
              "  <tbody>\n",
              "    <tr>\n",
              "      <th>A</th>\n",
              "      <td>0</td>\n",
              "      <td>10</td>\n",
              "      <td>15</td>\n",
              "    </tr>\n",
              "    <tr>\n",
              "      <th>B</th>\n",
              "      <td>5</td>\n",
              "      <td>15</td>\n",
              "      <td>30</td>\n",
              "    </tr>\n",
              "    <tr>\n",
              "      <th>C</th>\n",
              "      <td>10</td>\n",
              "      <td>20</td>\n",
              "      <td>45</td>\n",
              "    </tr>\n",
              "  </tbody>\n",
              "</table>\n",
              "</div>"
            ],
            "text/plain": [
              "    data        \n",
              "     min max sum\n",
              "key             \n",
              "A      0  10  15\n",
              "B      5  15  30\n",
              "C     10  20  45"
            ]
          },
          "execution_count": 131,
          "metadata": {},
          "output_type": "execute_result"
        }
      ],
      "source": [
        "sums = df.groupby('key').agg(['min', 'max', 'sum'])\n",
        "sums"
      ]
    },
    {
      "cell_type": "code",
      "execution_count": 132,
      "metadata": {
        "colab": {
          "base_uri": "https://localhost:8080/",
          "height": 196
        },
        "id": "xJqgLt9rcITu",
        "outputId": "2f372b36-af62-4c9f-8bd7-8c888c4b36b5"
      },
      "outputs": [
        {
          "data": {
            "text/html": [
              "<div>\n",
              "<style scoped>\n",
              "    .dataframe tbody tr th:only-of-type {\n",
              "        vertical-align: middle;\n",
              "    }\n",
              "\n",
              "    .dataframe tbody tr th {\n",
              "        vertical-align: top;\n",
              "    }\n",
              "\n",
              "    .dataframe thead th {\n",
              "        text-align: right;\n",
              "    }\n",
              "</style>\n",
              "<table border=\"1\" class=\"dataframe\">\n",
              "  <thead>\n",
              "    <tr style=\"text-align: right;\">\n",
              "      <th></th>\n",
              "      <th>data</th>\n",
              "    </tr>\n",
              "    <tr>\n",
              "      <th>key</th>\n",
              "      <th></th>\n",
              "    </tr>\n",
              "  </thead>\n",
              "  <tbody>\n",
              "    <tr>\n",
              "      <th>A</th>\n",
              "      <td>15.1</td>\n",
              "    </tr>\n",
              "    <tr>\n",
              "      <th>B</th>\n",
              "      <td>30.1</td>\n",
              "    </tr>\n",
              "    <tr>\n",
              "      <th>C</th>\n",
              "      <td>45.1</td>\n",
              "    </tr>\n",
              "  </tbody>\n",
              "</table>\n",
              "</div>"
            ],
            "text/plain": [
              "     data\n",
              "key      \n",
              "A    15.1\n",
              "B    30.1\n",
              "C    45.1"
            ]
          },
          "execution_count": 132,
          "metadata": {},
          "output_type": "execute_result"
        }
      ],
      "source": [
        "customize = df.groupby('key').apply(lambda x: x.sum() + 0.1)\n",
        "customize"
      ]
    },
    {
      "cell_type": "markdown",
      "metadata": {
        "id": "hWipSy57dBld"
      },
      "source": [
        "# Plotting data : [Chart visualization](https://pandas.pydata.org/pandas-docs/stable/user_guide/visualization.html) (Optional)\n",
        "\n",
        "- The plot method on Series and DataFrame is just a wrapper on matplotlib plt.plot()\n",
        "- Many available plots:\n",
        "    - ‘bar’ or ‘barh’ for bar plots\n",
        "    - ‘hist’ for histogram\n",
        "    - ‘box’ for boxplot\n",
        "    - ‘kde’ or 'density' for density plots • ‘area’ for area plots\n",
        "    - ‘scatter’ for scatter plots\n",
        "    - ‘hexbin’ for hexagonal bin plots • ‘pie’ for pie plots\n",
        "    \n",
        "- There are several more complex plotting functions in pandas.tools.plotting that take a Series or DataFrame as an argument. These include:\n",
        "    - Scatter matrices\n",
        "    - Autocorrelation\n",
        "    - Bootstrap Plot"
      ]
    },
    {
      "cell_type": "code",
      "execution_count": 133,
      "metadata": {
        "id": "cBwyDfAwdBld"
      },
      "outputs": [],
      "source": [
        "import matplotlib.pyplot as plt"
      ]
    },
    {
      "cell_type": "code",
      "execution_count": 134,
      "metadata": {
        "colab": {
          "base_uri": "https://localhost:8080/",
          "height": 447
        },
        "id": "yUpQBGNa6cvV",
        "outputId": "0a76b0dc-74d2-42ce-efaf-b70afadd99e7"
      },
      "outputs": [
        {
          "data": {
            "text/html": [
              "<div>\n",
              "<style scoped>\n",
              "    .dataframe tbody tr th:only-of-type {\n",
              "        vertical-align: middle;\n",
              "    }\n",
              "\n",
              "    .dataframe tbody tr th {\n",
              "        vertical-align: top;\n",
              "    }\n",
              "\n",
              "    .dataframe thead th {\n",
              "        text-align: right;\n",
              "    }\n",
              "</style>\n",
              "<table border=\"1\" class=\"dataframe\">\n",
              "  <thead>\n",
              "    <tr style=\"text-align: right;\">\n",
              "      <th></th>\n",
              "      <th>sepal_length</th>\n",
              "      <th>sepal_width</th>\n",
              "      <th>petal_length</th>\n",
              "      <th>petal_width</th>\n",
              "      <th>species</th>\n",
              "    </tr>\n",
              "  </thead>\n",
              "  <tbody>\n",
              "    <tr>\n",
              "      <th>0</th>\n",
              "      <td>5.1</td>\n",
              "      <td>3.5</td>\n",
              "      <td>1.4</td>\n",
              "      <td>0.2</td>\n",
              "      <td>setosa</td>\n",
              "    </tr>\n",
              "    <tr>\n",
              "      <th>1</th>\n",
              "      <td>4.9</td>\n",
              "      <td>3.0</td>\n",
              "      <td>1.4</td>\n",
              "      <td>0.2</td>\n",
              "      <td>setosa</td>\n",
              "    </tr>\n",
              "    <tr>\n",
              "      <th>2</th>\n",
              "      <td>4.7</td>\n",
              "      <td>3.2</td>\n",
              "      <td>1.3</td>\n",
              "      <td>0.2</td>\n",
              "      <td>setosa</td>\n",
              "    </tr>\n",
              "    <tr>\n",
              "      <th>3</th>\n",
              "      <td>4.6</td>\n",
              "      <td>3.1</td>\n",
              "      <td>1.5</td>\n",
              "      <td>0.2</td>\n",
              "      <td>setosa</td>\n",
              "    </tr>\n",
              "    <tr>\n",
              "      <th>4</th>\n",
              "      <td>5.0</td>\n",
              "      <td>3.6</td>\n",
              "      <td>1.4</td>\n",
              "      <td>0.2</td>\n",
              "      <td>setosa</td>\n",
              "    </tr>\n",
              "    <tr>\n",
              "      <th>...</th>\n",
              "      <td>...</td>\n",
              "      <td>...</td>\n",
              "      <td>...</td>\n",
              "      <td>...</td>\n",
              "      <td>...</td>\n",
              "    </tr>\n",
              "    <tr>\n",
              "      <th>145</th>\n",
              "      <td>6.7</td>\n",
              "      <td>3.0</td>\n",
              "      <td>5.2</td>\n",
              "      <td>2.3</td>\n",
              "      <td>virginica</td>\n",
              "    </tr>\n",
              "    <tr>\n",
              "      <th>146</th>\n",
              "      <td>6.3</td>\n",
              "      <td>2.5</td>\n",
              "      <td>5.0</td>\n",
              "      <td>1.9</td>\n",
              "      <td>virginica</td>\n",
              "    </tr>\n",
              "    <tr>\n",
              "      <th>147</th>\n",
              "      <td>6.5</td>\n",
              "      <td>3.0</td>\n",
              "      <td>5.2</td>\n",
              "      <td>2.0</td>\n",
              "      <td>virginica</td>\n",
              "    </tr>\n",
              "    <tr>\n",
              "      <th>148</th>\n",
              "      <td>6.2</td>\n",
              "      <td>3.4</td>\n",
              "      <td>5.4</td>\n",
              "      <td>2.3</td>\n",
              "      <td>virginica</td>\n",
              "    </tr>\n",
              "    <tr>\n",
              "      <th>149</th>\n",
              "      <td>5.9</td>\n",
              "      <td>3.0</td>\n",
              "      <td>5.1</td>\n",
              "      <td>1.8</td>\n",
              "      <td>virginica</td>\n",
              "    </tr>\n",
              "  </tbody>\n",
              "</table>\n",
              "<p>150 rows × 5 columns</p>\n",
              "</div>"
            ],
            "text/plain": [
              "     sepal_length  sepal_width  petal_length  petal_width    species\n",
              "0             5.1          3.5           1.4          0.2     setosa\n",
              "1             4.9          3.0           1.4          0.2     setosa\n",
              "2             4.7          3.2           1.3          0.2     setosa\n",
              "3             4.6          3.1           1.5          0.2     setosa\n",
              "4             5.0          3.6           1.4          0.2     setosa\n",
              "..            ...          ...           ...          ...        ...\n",
              "145           6.7          3.0           5.2          2.3  virginica\n",
              "146           6.3          2.5           5.0          1.9  virginica\n",
              "147           6.5          3.0           5.2          2.0  virginica\n",
              "148           6.2          3.4           5.4          2.3  virginica\n",
              "149           5.9          3.0           5.1          1.8  virginica\n",
              "\n",
              "[150 rows x 5 columns]"
            ]
          },
          "execution_count": 134,
          "metadata": {},
          "output_type": "execute_result"
        }
      ],
      "source": [
        "iris_data"
      ]
    },
    {
      "cell_type": "code",
      "execution_count": 135,
      "metadata": {
        "colab": {
          "base_uri": "https://localhost:8080/",
          "height": 450
        },
        "id": "43n53TfjdBld",
        "outputId": "5219eabf-5724-434f-8c4d-3e12aee8eaf7"
      },
      "outputs": [
        {
          "data": {
            "image/png": "[encoded data removed]",
            "text/plain": [
              "<Figure size 640x480 with 1 Axes>"
            ]
          },
          "metadata": {},
          "output_type": "display_data"
        }
      ],
      "source": [
        "iris_data.plot(); #plot all the numeric data"
      ]
    },
    {
      "cell_type": "code",
      "execution_count": 136,
      "metadata": {
        "colab": {
          "base_uri": "https://localhost:8080/",
          "height": 730
        },
        "id": "qkkvEQqtdBld",
        "outputId": "ddb474ee-002c-4997-9c08-d735ef70bfdf"
      },
      "outputs": [
        {
          "name": "stdout",
          "output_type": "stream",
          "text": [
            "                    A          B          C          D\n",
            "2000-01-01  -0.787817  -0.277987   0.337194  -0.576485\n",
            "2000-01-02  -0.193419  -0.382973  -1.403998   2.101826\n",
            "2000-01-03  -0.699435   0.347048  -0.998492   3.244836\n",
            "2000-01-04  -1.982839  -0.457881  -1.580632   1.980887\n",
            "2000-01-05  -2.409809  -1.155307  -1.500085   0.902221\n",
            "...               ...        ...        ...        ...\n",
            "2002-09-22 -28.296207  37.197977 -56.695362 -79.481179\n",
            "2002-09-23 -28.935289  36.089882 -56.240363 -78.893877\n",
            "2002-09-24 -28.100013  36.089090 -56.201866 -77.881913\n",
            "2002-09-25 -27.163973  35.663569 -54.435032 -78.846905\n",
            "2002-09-26 -28.539241  35.678211 -54.063453 -76.778002\n",
            "\n",
            "[1000 rows x 4 columns]\n"
          ]
        },
        {
          "data": {
            "text/plain": [
              "<Axes: >"
            ]
          },
          "execution_count": 136,
          "metadata": {},
          "output_type": "execute_result"
        },
        {
          "data": {
            "image/png": "[encoded data removed]",
            "text/plain": [
              "<Figure size 640x480 with 1 Axes>"
            ]
          },
          "metadata": {},
          "output_type": "display_data"
        }
      ],
      "source": [
        "## Quick example - Random walks\n",
        "df = pd.DataFrame(np.random.randn(1000, 4),\n",
        "                  index =pd.date_range('1/1/2000', periods=1000),\n",
        "                  columns=list('ABCD'))\n",
        "df = df.cumsum()\n",
        "print(df)\n",
        "df.plot()"
      ]
    },
    {
      "cell_type": "code",
      "execution_count": 137,
      "metadata": {
        "colab": {
          "base_uri": "https://localhost:8080/",
          "height": 465
        },
        "id": "jxCTbSbJdBld",
        "outputId": "5d66b56d-6c80-4371-e027-251e6abce913"
      },
      "outputs": [
        {
          "data": {
            "text/plain": [
              "<matplotlib.lines.Line2D at 0x14f2136a0>"
            ]
          },
          "execution_count": 137,
          "metadata": {},
          "output_type": "execute_result"
        },
        {
          "data": {
            "image/png": "[encoded data removed]",
            "text/plain": [
              "<Figure size 640x480 with 1 Axes>"
            ]
          },
          "metadata": {},
          "output_type": "display_data"
        }
      ],
      "source": [
        "plt.figure()\n",
        "df.iloc[5].plot(kind = 'bar')\n",
        "plt.axhline(0, color = 'g')"
      ]
    },
    {
      "cell_type": "code",
      "execution_count": 138,
      "metadata": {
        "colab": {
          "base_uri": "https://localhost:8080/",
          "height": 450
        },
        "id": "yaHJJB7WdBld",
        "outputId": "5535d2d0-5330-47ad-9845-7166bc3b18c2"
      },
      "outputs": [
        {
          "data": {
            "image/png": "[encoded data removed]",
            "text/plain": [
              "<Figure size 640x480 with 1 Axes>"
            ]
          },
          "metadata": {},
          "output_type": "display_data"
        }
      ],
      "source": [
        "#data = pd.read_csv('./data/iris.csv')\n",
        "ax = iris_data.groupby('species') \\\n",
        "         .get_group('setosa') \\\n",
        "         .boxplot(column=[\"sepal_length\",\"sepal_width\"], return_type='axes')"
      ]
    },
    {
      "cell_type": "code",
      "execution_count": null,
      "metadata": {
        "id": "dPOEZth2tLXd"
      },
      "outputs": [],
      "source": []
    }
  ],
  "metadata": {
    "colab": {
      "collapsed_sections": [
        "Rg7nVU2fdBlW"
      ],
      "provenance": [],
      "toc_visible": true
    },
    "kernelspec": {
      "display_name": "Python 3 (ipykernel)",
      "language": "python",
      "name": "python3"
    },
    "language_info": {
      "codemirror_mode": {
        "name": "ipython",
        "version": 3
      },
      "file_extension": ".py",
      "mimetype": "text/x-python",
      "name": "python",
      "nbconvert_exporter": "python",
      "pygments_lexer": "ipython3",
      "version": "3.9.18"
    }
  },
  "nbformat": 4,
  "nbformat_minor": 0
}
