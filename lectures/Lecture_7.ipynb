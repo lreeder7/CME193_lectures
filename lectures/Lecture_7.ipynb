{
  "cells": [
    {
      "cell_type": "markdown",
      "metadata": {},
      "source": [
        "# Reminders\n",
        "Homework 2 is due next week. You will need to know how to use Scikit-learn's `LinearRegression` model, which we'll go over today. "
      ]
    },
    {
      "cell_type": "markdown",
      "metadata": {
        "id": "8XoikBZ-dKNW"
      },
      "source": [
        "# Lecture 7 - CME 193 - scikit-learn\n",
        "\n",
        "[Scikit-learn](https://scikit-learn.org/stable/) is a library that allows you to do machine learning, that is, make predictions from data, in Python. There are four basic machine learning tasks:\n",
        "\n",
        " 1. Regression: predict a number from datapoints, given datapoints and corresponding numbers\n",
        " 2. Classification: predict a category from datapoints, given datapoints and corresponding numbers\n",
        " 3. Clustering: predict a category from datapoints, given only datapoints\n",
        " 4. Dimensionality reduction: make datapoints lower-dimensional so that we can visualize the data\n",
        "\n",
        "Here is a [handy flowchart](https://scikit-learn.org/stable/tutorial/machine_learning_map/index.html) of when to use each technique."
      ]
    },
    {
      "cell_type": "markdown",
      "metadata": {
        "id": "uVNmKjl0dKNZ"
      },
      "source": [
        "![](https://scikit-learn.org/stable/_static/ml_map.png)"
      ]
    },
    {
      "cell_type": "markdown",
      "metadata": {
        "id": "yDXoUC1_nORf"
      },
      "source": [
        "# Start of Basic Section"
      ]
    },
    {
      "cell_type": "code",
      "execution_count": null,
      "metadata": {
        "id": "tZWLtKTvdKNa",
        "scrolled": true
      },
      "outputs": [],
      "source": [
        "import pandas as pd\n",
        "import numpy as np\n",
        "import matplotlib.pyplot as plt"
      ]
    },
    {
      "cell_type": "markdown",
      "metadata": {
        "id": "QO6OekVYdKNb"
      },
      "source": [
        "## Regression\n",
        "Abalone are a type of edible marine snail, and they have internal rings that correspond to their age (like trees). We need to cut the shell through the cone, staining it, and counting the number of rings through a microscope -- a boring and time-consuming task. In the following, we will use a dataset of [abalone measurements](https://archive.ics.uci.edu/ml/datasets/abalone). It has the following fields:\n",
        "\n",
        "    Sex / nominal / -- / M, F, and I (infant)\n",
        "    Length / continuous / mm / Longest shell measurement\n",
        "    Diameter\t/ continuous / mm / perpendicular to length\n",
        "    Height / continuous / mm / with meat in shell\n",
        "    Whole weight / continuous / grams / whole abalone\n",
        "    Shucked weight / continuous\t/ grams / weight of meat\n",
        "    Viscera weight / continuous / grams / gut weight (after bleeding)\n",
        "    Shell weight / continuous / grams / after being dried\n",
        "    Rings / integer / -- / +1.5 gives the age in years\n",
        "\n",
        "Suppose we are interested in predicting the age of the abalone given their measurements. This is an example of a regression problem."
      ]
    },
    {
      "cell_type": "code",
      "execution_count": null,
      "metadata": {
        "id": "7CivtH2MdKNc",
        "scrolled": true
      },
      "outputs": [],
      "source": [
        "df = pd.read_csv('http://archive.ics.uci.edu/ml/machine-learning-databases/abalone/abalone.data',\n",
        "                   header=None, names=['sex', 'length', 'diameter', 'height', 'weight', 'shucked_weight',\n",
        "                                       'viscera_weight', 'shell_weight', 'rings'])"
      ]
    },
    {
      "cell_type": "code",
      "execution_count": null,
      "metadata": {
        "id": "8PctCx0-dKNd",
        "scrolled": false
      },
      "outputs": [],
      "source": [
        "df.head()"
      ]
    },
    {
      "cell_type": "code",
      "execution_count": null,
      "metadata": {
        "id": "es7sTYwqssKI"
      },
      "outputs": [],
      "source": [
        "df.info()"
      ]
    },
    {
      "cell_type": "code",
      "execution_count": null,
      "metadata": {
        "id": "XC-tZSKLdKNd",
        "scrolled": true
      },
      "outputs": [],
      "source": [
        "df.describe()"
      ]
    },
    {
      "cell_type": "code",
      "execution_count": null,
      "metadata": {
        "id": "ib73haW5dKNe",
        "scrolled": true
      },
      "outputs": [],
      "source": [
        "# we have pd.pandas.plot as a convinient way to make some simple plot (just a wrapper on matplotlib plt.plot())\n",
        "# refer back to the Optional section of lec 6 or https://pandas.pydata.org/docs/reference/api/pandas.DataFrame.plot.html\n",
        "\n",
        "df['rings'].plot(kind='hist') #you can see the number of rings clustered around 6 ~ 11"
      ]
    },
    {
      "cell_type": "code",
      "execution_count": null,
      "metadata": {
        "id": "MkXYFujKdKNe",
        "scrolled": false
      },
      "outputs": [],
      "source": [
        "df.plot('weight', 'rings', kind='scatter') # we can see some trend here"
      ]
    },
    {
      "cell_type": "markdown",
      "metadata": {
        "id": "g3q-3WPZ1zNA"
      },
      "source": [
        "### Four steps of ML\n",
        "0. get the data\n",
        "1. import the model\n",
        "2. train the model\n",
        "3. use the model to predict"
      ]
    },
    {
      "cell_type": "code",
      "execution_count": null,
      "metadata": {
        "id": "8x5NsUcp8cM0"
      },
      "outputs": [],
      "source": [
        "df.head()"
      ]
    },
    {
      "cell_type": "code",
      "execution_count": null,
      "metadata": {
        "id": "RqnZ6KmAdKNf",
        "scrolled": true
      },
      "outputs": [],
      "source": [
        "#0. create data\n",
        "X = df[['weight']].to_numpy() #data as 2D input array\n",
        "y = df['rings'].to_numpy() #data to output 1D array to predict"
      ]
    },
    {
      "cell_type": "code",
      "execution_count": null,
      "metadata": {
        "id": "XmTMqresdKNf"
      },
      "outputs": [],
      "source": [
        "X.shape # we expect the input data for linear regression model to be 2D"
      ]
    },
    {
      "cell_type": "code",
      "execution_count": null,
      "metadata": {
        "id": "HKeg8F9Pkx99"
      },
      "outputs": [],
      "source": [
        "X"
      ]
    },
    {
      "cell_type": "code",
      "execution_count": null,
      "metadata": {
        "id": "i5Z0rzvSdKNg"
      },
      "outputs": [],
      "source": [
        "y.shape"
      ]
    },
    {
      "cell_type": "code",
      "execution_count": null,
      "metadata": {
        "id": "NbH11_Vhkzba"
      },
      "outputs": [],
      "source": [
        "y"
      ]
    },
    {
      "cell_type": "code",
      "execution_count": null,
      "metadata": {
        "id": "TQcSN9lSdKNh",
        "scrolled": true
      },
      "outputs": [],
      "source": [
        "from sklearn.linear_model import LinearRegression\n",
        "#1.we create a raw linearRegression model\n",
        "model = LinearRegression() # Stats203\n",
        "\n",
        "#2. we takes the model, train it with the dataset\n",
        "model.fit(X, y)\n",
        "\n",
        "# For y = A@X + B, all variables and parameters here are matrix,\n",
        "# we return optmized coefficient A and intercept B here\n",
        "print(model.coef_, model.intercept_)"
      ]
    },
    {
      "cell_type": "code",
      "execution_count": null,
      "metadata": {
        "id": "Qc5T5MWqdKNi",
        "scrolled": true
      },
      "outputs": [],
      "source": [
        "#3. make a prediction\n",
        "test_data = np.array([[1.5], [2.2]])\n",
        "model.predict(test_data) #make two predictions when X is 1.5 or 2.2, what are y?"
      ]
    },
    {
      "cell_type": "code",
      "execution_count": null,
      "metadata": {
        "id": "ivrJ-vDGdKNj",
        "scrolled": true
      },
      "outputs": [],
      "source": [
        "df.plot('weight', 'rings', kind='scatter')\n",
        "\n",
        "weight = np.linspace(0, 3, 10).reshape(-1, 1)\n",
        "plt.plot(weight, model.predict(weight), 'r') # y = 3.55 @ X + 6.99"
      ]
    },
    {
      "cell_type": "code",
      "execution_count": null,
      "metadata": {
        "id": "2t2wAUZMdqPD"
      },
      "outputs": [],
      "source": [
        "print(model.score(X, y))\n",
        "# return the R^2 coefficient = How much %data variance can be explained by the model -> STATS 203"
      ]
    },
    {
      "cell_type": "markdown",
      "metadata": {
        "id": "SaHnPCWZ2Ifu"
      },
      "source": [
        "This looks ok but it does not do a great job. It looks like $rings = const*\\sqrt(weights)$, let's try that"
      ]
    },
    {
      "cell_type": "code",
      "execution_count": null,
      "metadata": {
        "id": "Hu2Am-nQdKNj"
      },
      "outputs": [],
      "source": [
        " # let's create a new column of root of weight\n",
        "df['root_weight'] = np.sqrt(df['weight'])"
      ]
    },
    {
      "cell_type": "code",
      "execution_count": null,
      "metadata": {
        "id": "PiqE6VjO91LE"
      },
      "outputs": [],
      "source": [
        "df.head()"
      ]
    },
    {
      "cell_type": "code",
      "execution_count": null,
      "metadata": {
        "id": "iS3TZDkEdKNk"
      },
      "outputs": [],
      "source": [
        "X = df[['weight','root_weight']].to_numpy()\n",
        "y = df['rings'].to_numpy()\n",
        "model = LinearRegression()\n",
        "model.fit(X, y)"
      ]
    },
    {
      "cell_type": "code",
      "execution_count": null,
      "metadata": {
        "id": "s9r32-s-95kn"
      },
      "outputs": [],
      "source": [
        "X.shape, y.shape"
      ]
    },
    {
      "cell_type": "code",
      "execution_count": null,
      "metadata": {
        "id": "PoJIozlIdKNl"
      },
      "outputs": [],
      "source": [
        "# y = A@X + B\n",
        "# X 2x1\n",
        "# A 1x2\n",
        "model.coef_\n",
        "# The first coefficient is for `weight`, and second coef is for `root_weight`"
      ]
    },
    {
      "cell_type": "code",
      "execution_count": null,
      "metadata": {
        "id": "-lYm7we2_fLN"
      },
      "outputs": [],
      "source": [
        "# How .predict function works under the hood?\n",
        "\n",
        "print(\"Calculate by for formula y = A@x + b: \",model.coef_ @ X[1,:] + model.intercept_) #Ax + b\n",
        "\n",
        "print(\"Result of .predict() function: \", model.predict(X[1,:].reshape(1,-1))[0]) #Expected 2D array"
      ]
    },
    {
      "cell_type": "code",
      "execution_count": null,
      "metadata": {
        "id": "GVH0BOIQdKNl"
      },
      "outputs": [],
      "source": [
        "weight = np.linspace(0, 3, 100).reshape(-1, 1)\n",
        "root_weight = np.sqrt(weight)\n",
        "features = np.hstack((weight,root_weight))\n",
        "df.plot('weight', 'rings', kind='scatter')\n",
        "plt.plot(weight, model.predict(features), 'r')"
      ]
    },
    {
      "cell_type": "code",
      "execution_count": null,
      "metadata": {
        "id": "a1duFCfPdKNm"
      },
      "outputs": [],
      "source": [
        "model.score(X,y) # we get improvement from  R^2  = 0.29"
      ]
    },
    {
      "cell_type": "markdown",
      "metadata": {
        "id": "DR46JDh2BcDD"
      },
      "source": [
        "As we can see above, the density of points near the red line is much higher than the region where rings > 20. To visualize the density attribute, we use heatmap (2d histogram) to bucketize the counts within a 2d square."
      ]
    },
    {
      "cell_type": "code",
      "execution_count": null,
      "metadata": {
        "id": "yCuygZ_zdKNm"
      },
      "outputs": [],
      "source": [
        "plt.hist2d(df['weight'],df['rings'],bins=(50,30));\n",
        "plt.plot(weight, model.predict(features), 'r')\n",
        "plt.colorbar()"
      ]
    },
    {
      "cell_type": "markdown",
      "metadata": {
        "id": "M0rPVOQHnHZa"
      },
      "source": [
        "# End of Basic Section"
      ]
    },
    {
      "cell_type": "markdown",
      "metadata": {
        "id": "1S18FyBzdKNn"
      },
      "source": [
        "## Classification\n",
        "\n",
        "Another example of a machine learning problem is classification. Here we will use a dataset of flower measurements from three different flower species of *Iris* (*Iris setosa*, *Iris virginica*, and *Iris versicolor*). We aim to predict the species of the flower. Because the species is not a numerical output, it is not a regression problem, but a classification problem."
      ]
    },
    {
      "cell_type": "code",
      "execution_count": null,
      "metadata": {
        "colab": {
          "base_uri": "https://localhost:8080/"
        },
        "id": "ipCGQD70dKNn",
        "outputId": "490e5682-8b9e-4dbb-e804-b1b8c27fbcd2"
      },
      "outputs": [],
      "source": [
        "from sklearn import datasets\n",
        "iris = datasets.load_iris()\n",
        "print(iris.DESCR)"
      ]
    },
    {
      "cell_type": "code",
      "execution_count": null,
      "metadata": {
        "id": "JAxUp7zUdKNn"
      },
      "outputs": [],
      "source": [
        "X = iris.data[:, :2] #sepal\n",
        "y = iris.target_names[iris.target]"
      ]
    },
    {
      "cell_type": "code",
      "execution_count": null,
      "metadata": {
        "colab": {
          "base_uri": "https://localhost:8080/"
        },
        "id": "Y5AtJD0vfE4k",
        "outputId": "fe95bcc9-87f4-4835-a3f6-18a5f12996a0"
      },
      "outputs": [],
      "source": [
        "print(X.shape)\n",
        "X[:10]"
      ]
    },
    {
      "cell_type": "code",
      "execution_count": null,
      "metadata": {
        "colab": {
          "base_uri": "https://localhost:8080/"
        },
        "id": "30CDNqRFfFkI",
        "outputId": "07fbe6ed-8ff7-4815-c8dc-adfe30bb9775"
      },
      "outputs": [],
      "source": [
        "y"
      ]
    },
    {
      "cell_type": "code",
      "execution_count": null,
      "metadata": {
        "colab": {
          "base_uri": "https://localhost:8080/",
          "height": 452
        },
        "id": "1trhnra9dKNo",
        "outputId": "517469fc-e090-45af-f0cf-96228f85ef43",
        "scrolled": true
      },
      "outputs": [],
      "source": [
        "# We plot the graph with attribute width and length, distinguished color by its class\n",
        "for name in iris.target_names:\n",
        "    plt.scatter(X[y == name, 0], X[y == name, 1], label=name)\n",
        "plt.xlabel('Sepal length')\n",
        "plt.ylabel('Sepal width')\n",
        "plt.legend();"
      ]
    },
    {
      "cell_type": "markdown",
      "metadata": {},
      "source": [
        "We have labeled data, i.e. we know the types of irises for each of these data points. We want to learn a model that can, given sepal width and sepal length, predict which type of iris it will be. To train the model, we do what is called a train/test split so we can evaluate how well our model performs. "
      ]
    },
    {
      "cell_type": "code",
      "execution_count": null,
      "metadata": {
        "colab": {
          "base_uri": "https://localhost:8080/"
        },
        "id": "X3--dkdFdKNo",
        "outputId": "6c610b76-ccd7-4ccb-fd24-559b43fdcd94",
        "scrolled": true
      },
      "outputs": [],
      "source": [
        "# split our data sets into training and testing sets\n",
        "# Training set: used to train the model\n",
        "# Testing set: used to valid performance of the trained model\n",
        "from sklearn.model_selection import train_test_split\n",
        "X_train, X_test, y_train, y_test = train_test_split(X, y, test_size=0.2, random_state=1)\n",
        "print(X_train.shape, y_train.shape)\n",
        "print(X_test.shape, y_test.shape)"
      ]
    },
    {
      "cell_type": "code",
      "execution_count": null,
      "metadata": {
        "colab": {
          "base_uri": "https://localhost:8080/",
          "height": 74
        },
        "id": "Oq1bM_tLdKNp",
        "outputId": "09565c1e-b0b4-47c1-afb4-cf42d3b35eb8",
        "scrolled": false
      },
      "outputs": [],
      "source": [
        "from sklearn.neighbors import KNeighborsClassifier\n",
        "#use the intuition that a point is checking its neighbors \n",
        "# (if all neighbors are blue → the point is likely to be blue) \n",
        "model = KNeighborsClassifier()\n",
        "model.fit(X_train, y_train)"
      ]
    },
    {
      "cell_type": "code",
      "execution_count": null,
      "metadata": {
        "colab": {
          "base_uri": "https://localhost:8080/"
        },
        "id": "l5xgbbHMdKNp",
        "outputId": "e23ef728-c42d-49d1-94db-10308623f3f7",
        "scrolled": true
      },
      "outputs": [],
      "source": [
        "y_predict = model.predict(X_test)\n",
        "y_predict"
      ]
    },
    {
      "cell_type": "code",
      "execution_count": null,
      "metadata": {
        "colab": {
          "base_uri": "https://localhost:8080/"
        },
        "id": "Pht80YwSdKNp",
        "outputId": "f4fdc44f-87d2-484e-bd64-6b923bee7f2a"
      },
      "outputs": [],
      "source": [
        "y_test"
      ]
    },
    {
      "cell_type": "markdown",
      "metadata": {
        "id": "XHSrlMJsdKNq"
      },
      "source": [
        "## Evaluating your model in a more elegant way"
      ]
    },
    {
      "cell_type": "code",
      "execution_count": null,
      "metadata": {
        "colab": {
          "base_uri": "https://localhost:8080/"
        },
        "id": "xL6RGNWPqs_7",
        "outputId": "e5003ebc-1f7a-4a07-b43d-8040a325116d"
      },
      "outputs": [],
      "source": [
        "y_predict == y_test"
      ]
    },
    {
      "cell_type": "code",
      "execution_count": null,
      "metadata": {
        "colab": {
          "base_uri": "https://localhost:8080/"
        },
        "id": "40_QLhLzdKNs",
        "outputId": "07c38175-812e-43e0-9167-1d37e495de64",
        "scrolled": true
      },
      "outputs": [],
      "source": [
        "print(np.mean(y_predict == y_test))  # Accuracy"
      ]
    },
    {
      "cell_type": "code",
      "execution_count": null,
      "metadata": {
        "colab": {
          "base_uri": "https://localhost:8080/"
        },
        "id": "KtKBsOwTqqVL",
        "outputId": "2b4d7a9d-1281-4b24-d025-847b7530509f"
      },
      "outputs": [],
      "source": [
        "import sklearn.metrics as metrics\n",
        "metrics.accuracy_score(y_predict, y_test)"
      ]
    },
    {
      "cell_type": "markdown",
      "metadata": {
        "id": "j8Kl7FuKJODP"
      },
      "source": [
        " More comprehensive score for classification:\n",
        "\n",
        " - Precision: fraction of relevant instances among the retrieved instances,  \n",
        "\n",
        "- Recall:    fraction of relevant instances that were retrieved  \n",
        "\n",
        "- F1-score: 2*(Precision * Recall)/(Precision+Recall): quantify the performance of model (max 1.0, higher -> better)"
      ]
    },
    {
      "cell_type": "markdown",
      "metadata": {},
      "source": [
        "![](https://upload.wikimedia.org/wikipedia/commons/2/26/Precisionrecall.svg)"
      ]
    },
    {
      "cell_type": "code",
      "execution_count": null,
      "metadata": {
        "colab": {
          "base_uri": "https://localhost:8080/"
        },
        "id": "zm-35nBvdKNu",
        "outputId": "cbb7b57a-3aec-44bd-8f66-9b12d96d99fc",
        "scrolled": true
      },
      "outputs": [],
      "source": [
        "#eg: virginica precision = 0.67, to predict sample of 1000 of mixed flower,\n",
        "# if we predict 100 flowers are virginica, we will be 67% correct,\n",
        "# virginica recall = 0.33 -> however, we only extracted 33% of the virginica,\n",
        "# which we predict another 67% of true virginica as something else\n",
        "\n",
        "print(metrics.classification_report(y_predict, y_test))"
      ]
    },
    {
      "cell_type": "code",
      "execution_count": null,
      "metadata": {
        "colab": {
          "base_uri": "https://localhost:8080/"
        },
        "id": "9oQSZWavdKNw",
        "outputId": "b55719ab-0092-4965-cd94-60dd421a63e9"
      },
      "outputs": [],
      "source": [
        "# Cross validation:\n",
        "# Cross_val_score is used as a simple cross validation technique to prevent over-fitting and promote model generalization.\n",
        "# Won't go into details, but it will divide data into multiple subsets and runs the model multiple times to see its performance on average\n",
        "\n",
        "# By default, split data into 5 chucks, train the model 5 times by holding one each chuck used for validation\n",
        "from sklearn.model_selection import cross_val_score\n",
        "model = KNeighborsClassifier()\n",
        "scores = cross_val_score(model, X, y, cv=5)\n",
        "scores"
      ]
    },
    {
      "cell_type": "code",
      "execution_count": null,
      "metadata": {
        "colab": {
          "base_uri": "https://localhost:8080/"
        },
        "id": "Fjg08gQ4dKNz",
        "outputId": "ebee5a09-a9bd-4dd6-c7c3-c9aff47a68d1"
      },
      "outputs": [],
      "source": [
        "print(f\"Precision: {scores.mean()} (+/- {scores.std()})\")"
      ]
    },
    {
      "cell_type": "markdown",
      "metadata": {
        "id": "xbLgjLB_dKN0"
      },
      "source": [
        "### How can we do better? Use More / Different data"
      ]
    },
    {
      "cell_type": "code",
      "execution_count": null,
      "metadata": {
        "colab": {
          "base_uri": "https://localhost:8080/",
          "height": 449
        },
        "id": "HMjriqSyLUrd",
        "outputId": "88f45a98-a4fc-4653-aac4-f764f9466285"
      },
      "outputs": [],
      "source": [
        "X = iris.data[:, 2:]\n",
        "y = iris.target_names[iris.target]\n",
        "\n",
        "for name in iris.target_names:\n",
        "    plt.scatter(X[y == name, 0], X[y == name, 1], label=name)\n",
        "plt.xlabel('petal length')\n",
        "plt.ylabel('petal width')\n",
        "plt.legend();\n",
        "\n",
        "# It does a much better job than Sepal"
      ]
    },
    {
      "cell_type": "code",
      "execution_count": null,
      "metadata": {
        "colab": {
          "base_uri": "https://localhost:8080/"
        },
        "id": "nY0HL10edKN0",
        "outputId": "ba638e53-bfbd-49db-a09a-ccb7d401a8f4"
      },
      "outputs": [],
      "source": [
        "X = iris.data[:, 2:]\n",
        "y = iris.target_names[iris.target]\n",
        "model = KNeighborsClassifier()\n",
        "scores = cross_val_score(model, X, y, cv=5)\n",
        "print(f\"Precision: {scores.mean()} (+/- {scores.std()})\")\n",
        "\n",
        "#Looks good, but what's downside of it?"
      ]
    },
    {
      "cell_type": "markdown",
      "metadata": {
        "id": "7CenFr1btNLk"
      },
      "source": [
        "### More Advanced Topic -> Keyword: feature engineering, Regularization"
      ]
    },
    {
      "cell_type": "markdown",
      "metadata": {},
      "source": [
        "![](https://www.mathworks.com/discovery/overfitting/_jcr_content/mainParsys/image.adapt.full.medium.svg/1705396624275.svg)"
      ]
    },
    {
      "cell_type": "markdown",
      "metadata": {
        "id": "Vqi2UHJedKN0"
      },
      "source": [
        "\n",
        "# Exercise (Post Lecture)\n",
        "Try to fit some of the models in the following cell to the same data. Compute the relevant statistics (e.g. accuracy, precision, recall). Look up the documentation for the classifier, and see if the classifier takes any parameters. How does changing the parameter affect the result?"
      ]
    },
    {
      "cell_type": "code",
      "execution_count": null,
      "metadata": {
        "id": "BqJp6yR4dKN1",
        "scrolled": true
      },
      "outputs": [],
      "source": [
        "from sklearn.neural_network import MLPClassifier\n",
        "from sklearn.svm import SVC\n",
        "from sklearn.gaussian_process import GaussianProcessClassifier\n",
        "from sklearn.tree import DecisionTreeClassifier\n",
        "from sklearn.ensemble import RandomForestClassifier, AdaBoostClassifier\n",
        "from sklearn.naive_bayes import GaussianNB\n",
        "from sklearn.discriminant_analysis import QuadraticDiscriminantAnalysis"
      ]
    },
    {
      "cell_type": "code",
      "execution_count": null,
      "metadata": {
        "id": "Qt11BUcodKN1"
      },
      "outputs": [],
      "source": [
        "# # 0.Get data\n",
        "# X = iris.data\n",
        "# y = iris.target_names[iris.target]\n",
        "# # Split the model\n",
        "# X_train, X_test, y_train, y_test = train_test_split(X, y, test_size=0.2, random_state=0)\n",
        "\n",
        "# # 1. Get Model\n",
        "# model = <YOUR MODEL FUNCTION>()\n",
        "\n",
        "# # 2. Train model\n",
        "# model.fit(X_train, y_train)\n",
        "\n",
        "# # 3. Make Prediction\n",
        "# print(metrics.classification_report(model.predict(X_test), y_test))"
      ]
    },
    {
      "cell_type": "markdown",
      "metadata": {
        "id": "SSODoexodKN2"
      },
      "source": [
        "## Clustering\n",
        "\n",
        "Clustering is useful if we don't have a dataset labelled (unsupervised classification) with the categories we want to predict, but we nevertheless expect there to be a certain number of categories. For example, suppose we have the previous dataset, but we are missing the labels. We can use a clustering algorithm like k-means to *cluster* the datapoints. Because we don't have labels, clustering is what is called an **unsupervised learning** algorithm."
      ]
    },
    {
      "cell_type": "markdown",
      "metadata": {},
      "source": [
        "![](https://www.researchgate.net/publication/351953193/figure/fig3/AS:11431281117150742@1675395484096/Supervised-and-unsupervised-machine-learning-a-Schematic-representation-of-an.png)"
      ]
    },
    {
      "cell_type": "code",
      "execution_count": null,
      "metadata": {
        "id": "nMhZXNnbdKN3"
      },
      "outputs": [],
      "source": [
        "X = iris.data"
      ]
    },
    {
      "cell_type": "code",
      "execution_count": null,
      "metadata": {
        "colab": {
          "base_uri": "https://localhost:8080/",
          "height": 452
        },
        "id": "BW2Wk9WadKN4",
        "outputId": "3a0a6de4-06bc-4012-f182-589d93e7a809"
      },
      "outputs": [],
      "source": [
        "for name in iris.target_names:\n",
        "    plt.scatter(X[y == name, 0], X[y == name, 1], label=name)\n",
        "plt.xlabel('Sepal length')\n",
        "plt.ylabel('Sepal width')\n",
        "plt.legend()\n",
        "plt.show()"
      ]
    },
    {
      "cell_type": "code",
      "execution_count": null,
      "metadata": {
        "colab": {
          "base_uri": "https://localhost:8080/",
          "height": 489
        },
        "id": "ZuJgOhOj3CJN",
        "outputId": "a9012bf5-44e6-4a0d-9726-820e5d22e614"
      },
      "outputs": [],
      "source": [
        "plt.scatter(X[:, 0], X[:, 1])\n",
        "plt.xlabel('Sepal length')\n",
        "plt.ylabel('Sepal width')\n",
        "plt.show()"
      ]
    },
    {
      "cell_type": "code",
      "execution_count": null,
      "metadata": {
        "colab": {
          "base_uri": "https://localhost:8080/",
          "height": 128
        },
        "id": "wrQUCb3qdKN4",
        "outputId": "ae81478c-0a25-4a6f-95af-bd5445b38eb1"
      },
      "outputs": [],
      "source": [
        "from sklearn.cluster import KMeans\n",
        "# We initilized three starting points, adjusting them to an optimized solution\n",
        "# The k-means algorithm assumes the data is generated by a mixture of Gaussians\n",
        "model = KMeans(n_clusters=3, random_state=0)\n",
        "model.fit(X)"
      ]
    },
    {
      "cell_type": "code",
      "execution_count": null,
      "metadata": {
        "colab": {
          "base_uri": "https://localhost:8080/"
        },
        "id": "irXJJmNadKN5",
        "outputId": "6ccb9a60-29f3-4698-94b0-bd3cc6829f7e"
      },
      "outputs": [],
      "source": [
        "# give all flows in the data a label\n",
        "model.labels_"
      ]
    },
    {
      "cell_type": "code",
      "execution_count": null,
      "metadata": {
        "colab": {
          "base_uri": "https://localhost:8080/"
        },
        "id": "nY0KeeaKdKN5",
        "outputId": "271891eb-41ba-4b7e-ba39-b9c093bfa376"
      },
      "outputs": [],
      "source": [
        "# The target labels looks different (which is fine) with similar trend\n",
        "iris.target"
      ]
    },
    {
      "cell_type": "code",
      "execution_count": null,
      "metadata": {
        "colab": {
          "base_uri": "https://localhost:8080/",
          "height": 452
        },
        "id": "KF_OvKSudKN5",
        "outputId": "5715ed23-5636-4941-cbc3-6778699b7d0a"
      },
      "outputs": [],
      "source": [
        "# See it visually sepal\n",
        "for name in [0,1,2]:\n",
        "    plt.scatter(X[model.labels_ == name, 0], X[model.labels_ == name, 1], label=name)\n",
        "plt.xlabel('Sepal length')\n",
        "plt.ylabel('Sepal width')\n",
        "plt.legend()\n",
        "plt.show()"
      ]
    },
    {
      "cell_type": "code",
      "execution_count": null,
      "metadata": {
        "colab": {
          "base_uri": "https://localhost:8080/",
          "height": 452
        },
        "id": "d1EYUU-EdKN5",
        "outputId": "b08a612e-e158-4e28-ee88-7f9c90e8b748"
      },
      "outputs": [],
      "source": [
        "for name in iris.target_names:\n",
        "    plt.scatter(X[y == name, 0], X[y == name, 1], label=name)\n",
        "plt.xlabel('Sepal length')\n",
        "plt.ylabel('Sepal width')\n",
        "plt.legend()\n",
        "plt.show()"
      ]
    },
    {
      "cell_type": "markdown",
      "metadata": {
        "id": "X5NCCgrDwaoE"
      },
      "source": [
        "### More Advanced Topic: How to choosing the appropriate Number of Cluster ? [Elbow Method] ; Are there more metrics for evaluation? -> CS229"
      ]
    },
    {
      "cell_type": "markdown",
      "metadata": {
        "id": "gEbKfHrMdKN5"
      },
      "source": [
        "### Exercise (Post Lecture)\n",
        "\n",
        "Load the breast cancer dataset.\n",
        "\n",
        "- Try to cluster it into two clusters and check if the clusters match with the target class from the dataset, which specifies if its malignant or not. Here we are testing if we can we idenitify if its malignant or benign without even looking at the target class i.e. using unsupervised learning.\n",
        "\n",
        "- Next, train a supervised classifier, a `KNeighborsClassifier`, and see how much improvement we get?"
      ]
    },
    {
      "cell_type": "code",
      "execution_count": null,
      "metadata": {
        "colab": {
          "base_uri": "https://localhost:8080/"
        },
        "id": "HR1J35NrdKN6",
        "outputId": "4c831043-a524-49da-9910-9d2b32e21652"
      },
      "outputs": [],
      "source": [
        "bc = datasets.load_breast_cancer()\n",
        "X = bc.data\n",
        "y = bc.target\n",
        "print(bc.DESCR)"
      ]
    },
    {
      "cell_type": "code",
      "execution_count": null,
      "metadata": {
        "id": "Q6JK115OdKN6"
      },
      "outputs": [],
      "source": [
        "# # Unsupervised\n",
        "# YOUR CODE HERE"
      ]
    },
    {
      "cell_type": "code",
      "execution_count": null,
      "metadata": {
        "id": "uATUBrUlUzte"
      },
      "outputs": [],
      "source": [
        "# # Supervised\n",
        "# YOUR CODE HERE"
      ]
    },
    {
      "cell_type": "markdown",
      "metadata": {
        "id": "MKlvpFEhdKN6"
      },
      "source": [
        "## Dimensionality reduction\n",
        "\n",
        "Dimensionality reduction is another unsupervised learning problem (that is, it does not require labels). It aims to project datapoints into a lower dimensional space while preserving distances between datapoints. Remember when we looked at using the SVD to do PCA in Lecture 4? This was dimensionality reduction!"
      ]
    },
    {
      "cell_type": "code",
      "execution_count": null,
      "metadata": {
        "colab": {
          "base_uri": "https://localhost:8080/",
          "height": 469
        },
        "id": "VxQxRJOhdKN6",
        "outputId": "0fcf44df-6cee-47d1-ba2e-b5853a16c295"
      },
      "outputs": [],
      "source": [
        "X = iris.data[:, :]\n",
        "y = iris.target_names[iris.target]\n",
        "\n",
        "for name in iris.target_names:\n",
        "    plt.scatter(X[y == name, 0], X[y == name, 1], label=name)\n",
        "plt.xlabel('Sepal length')\n",
        "plt.ylabel('Sepal width')\n",
        "plt.legend()"
      ]
    },
    {
      "cell_type": "code",
      "execution_count": null,
      "metadata": {
        "colab": {
          "base_uri": "https://localhost:8080/",
          "height": 466
        },
        "id": "_gGtolIidKN7",
        "outputId": "a3782a0b-7fa8-4b1b-ee3b-da52745763f3"
      },
      "outputs": [],
      "source": [
        "for name in iris.target_names:\n",
        "    plt.scatter(X[y == name, 2], X[y == name, 3], label=name)\n",
        "plt.xlabel('Petal length')\n",
        "plt.ylabel('Petal width')\n",
        "plt.legend()"
      ]
    },
    {
      "cell_type": "markdown",
      "metadata": {
        "id": "7ikSB-uqV5My"
      },
      "source": [
        "We are going to use an algorithm callsed [TSNE](https://scikit-learn.org/stable/modules/generated/sklearn.manifold.TSNE.html)\n",
        "\n",
        "T-distributed Stochastic Neighbor Embedding: a tool to visualize high-dimensional data. It converts similarities between data points to joint probabilities and tries to minimize the cost function of divergence between the joint probabilities of the low-dimensional embedding and the high-dimensional data.\n",
        "\n",
        "It is highly recommended to use another dimensionality reduction method (e.g. PCA for dense data or TruncatedSVD for sparse data `from sklearn.decomposition import PCA`) to reduce the number of dimensions to a reasonable amount (e.g. 50) if the number of features is very high\n"
      ]
    },
    {
      "cell_type": "code",
      "execution_count": null,
      "metadata": {
        "id": "qGSA7GqDdKN7",
        "scrolled": true
      },
      "outputs": [],
      "source": [
        "from sklearn.manifold import TSNE\n",
        "model = TSNE(n_components=2)\n",
        "X_transformed = model.fit_transform(X)"
      ]
    },
    {
      "cell_type": "code",
      "execution_count": null,
      "metadata": {
        "colab": {
          "base_uri": "https://localhost:8080/"
        },
        "id": "BJrT-0RLdKN7",
        "outputId": "c7a85ed7-f8d1-44cf-ce54-46c24a902488",
        "scrolled": false
      },
      "outputs": [],
      "source": [
        "# we convert the data into 2-dim with preserved features\n",
        "print(X.shape, X_transformed.shape)"
      ]
    },
    {
      "cell_type": "code",
      "execution_count": null,
      "metadata": {
        "colab": {
          "base_uri": "https://localhost:8080/",
          "height": 450
        },
        "id": "FJN3CxwadKN7",
        "outputId": "f676cdeb-ce12-435f-a6d2-db64ebdd1283",
        "scrolled": true
      },
      "outputs": [],
      "source": [
        "for name in iris.target_names:\n",
        "    plt.scatter(X_transformed[y == name, 0], X_transformed[y == name, 1], label=name)\n",
        "\n",
        "plt.legend()"
      ]
    },
    {
      "cell_type": "markdown",
      "metadata": {
        "id": "mJ6zUknBdKN7"
      },
      "source": [
        "Lets take a look at the breast cancer dataset with dimensionality reduction"
      ]
    },
    {
      "cell_type": "code",
      "execution_count": null,
      "metadata": {
        "colab": {
          "base_uri": "https://localhost:8080/"
        },
        "id": "Ww7cYub_417n",
        "outputId": "c1681bd8-6e5c-49db-a9d0-09d7321f9659"
      },
      "outputs": [],
      "source": [
        "bc = datasets.load_breast_cancer()\n",
        "print(bc.DESCR)"
      ]
    },
    {
      "cell_type": "code",
      "execution_count": null,
      "metadata": {},
      "outputs": [],
      "source": [
        "print(bc.keys())\n",
        "print(bc['data'].shape)\n",
        "print(bc.target_names)\n",
        "print(bc.target)\n",
        "print(bc.target_names[bc.target])"
      ]
    },
    {
      "cell_type": "code",
      "execution_count": null,
      "metadata": {
        "id": "GwaSn2NxdKN7"
      },
      "outputs": [],
      "source": [
        "X = bc.data\n",
        "y = bc.target_names[bc.target]\n",
        "model = TSNE(n_components=2)\n",
        "X_transformed = model.fit_transform(X)"
      ]
    },
    {
      "cell_type": "code",
      "execution_count": null,
      "metadata": {
        "colab": {
          "base_uri": "https://localhost:8080/"
        },
        "id": "FrdRu4KFy8WC",
        "outputId": "d352a8ee-6f29-43c1-a739-4b4eef90a5e8"
      },
      "outputs": [],
      "source": [
        "# we convert the data into 2-dim with preserved features\n",
        "print(X.shape, X_transformed.shape)"
      ]
    },
    {
      "cell_type": "code",
      "execution_count": null,
      "metadata": {
        "colab": {
          "base_uri": "https://localhost:8080/"
        },
        "id": "JOQA7yC4dKN8",
        "outputId": "f56b2432-305f-49bf-b52a-b4516e23d3cc"
      },
      "outputs": [],
      "source": [
        "# If we used full model of 30 attributes\n",
        "print(X.shape)\n",
        "X_train, X_test, y_train, y_test = train_test_split(X, y, test_size=0.2, random_state=0)\n",
        "model = KNeighborsClassifier()\n",
        "model.fit(X_train, y_train)\n",
        "y_pred = model.predict(X_test)\n",
        "print(metrics.classification_report(y_pred, y_test))"
      ]
    },
    {
      "cell_type": "code",
      "execution_count": null,
      "metadata": {
        "colab": {
          "base_uri": "https://localhost:8080/"
        },
        "id": "vnKgeNOydKN8",
        "outputId": "76508159-6283-4820-d972-4acebc5e2197"
      },
      "outputs": [],
      "source": [
        "# We use the 2-d dataset -> we get 92% accuracy -> still very good\n",
        "print(X_transformed.shape)\n",
        "X_train, X_test, y_train, y_test = train_test_split(X_transformed, y, test_size=0.2, random_state=0)\n",
        "model = KNeighborsClassifier()\n",
        "model.fit(X_train, y_train)\n",
        "print(metrics.classification_report(model.predict(X_test), y_test))"
      ]
    },
    {
      "cell_type": "code",
      "execution_count": null,
      "metadata": {
        "colab": {
          "base_uri": "https://localhost:8080/",
          "height": 447
        },
        "id": "v-tEQzVTdKN8",
        "outputId": "889975ec-4c84-4403-ef5d-87d135a5fd4d"
      },
      "outputs": [],
      "source": [
        "# visualize the reduced dimension data\n",
        "for name in bc.target_names:\n",
        "    plt.scatter(X_transformed[y == name, 0], X_transformed[y == name, 1], label=name)\n",
        "\n",
        "plt.legend()"
      ]
    },
    {
      "cell_type": "code",
      "execution_count": null,
      "metadata": {
        "colab": {
          "base_uri": "https://localhost:8080/",
          "height": 447
        },
        "id": "9eRFZyOZXnpg",
        "outputId": "c38655f7-30cc-4545-d1a8-4ff74e371287"
      },
      "outputs": [],
      "source": [
        "# visualize the predicted reduced dimension data\n",
        "ypred = model.predict(X_transformed)\n",
        "for name in bc.target_names:\n",
        "    plt.scatter(X_transformed[ypred == name, 0], X_transformed[ypred == name, 1], label=name)\n",
        "\n",
        "plt.legend()"
      ]
    },
    {
      "cell_type": "code",
      "execution_count": null,
      "metadata": {
        "id": "-kR3pSEVXiG9"
      },
      "outputs": [],
      "source": []
    }
  ],
  "metadata": {
    "colab": {
      "collapsed_sections": [
        "1S18FyBzdKNn",
        "XHSrlMJsdKNq",
        "xbLgjLB_dKN0",
        "7CenFr1btNLk",
        "X5NCCgrDwaoE",
        "MKlvpFEhdKN6"
      ],
      "provenance": [],
      "toc_visible": true
    },
    "kernelspec": {
      "display_name": "Python 3 (ipykernel)",
      "language": "python",
      "name": "python3"
    },
    "language_info": {
      "codemirror_mode": {
        "name": "ipython",
        "version": 3
      },
      "file_extension": ".py",
      "mimetype": "text/x-python",
      "name": "python",
      "nbconvert_exporter": "python",
      "pygments_lexer": "ipython3",
      "version": "3.9.18"
    }
  },
  "nbformat": 4,
  "nbformat_minor": 0
}
