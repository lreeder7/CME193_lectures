{
  "cells": [
    {
      "cell_type": "markdown",
      "metadata": {
        "id": "3VNIH93hD-Ya"
      },
      "source": [
        "# Lecture 8 - PyTorch\n",
        "\n",
        "This will be the final lecture, today we will first have a brief introduction of deep learning, then we will look at some basics of using PyTorch to implement some simple models in deep learning.\n",
        "\n",
        "1. Homework due today"
      ]
    },
    {
      "cell_type": "markdown",
      "metadata": {
        "id": "jJYsdl4IbsO6"
      },
      "source": [
        "# Basic Section (Start)\n",
        "What is Neural Network:\n",
        "1. [Recommended youtube video with great visual helpers](https://www.youtube.com/watch?v=aircAruvnKk&list=PLZHQObOWTQDNU6R1_67000Dx_ZCJB-3pi&index=4)\n",
        "2.  Slides on course site\n",
        "# Basic Section (End)"
      ]
    },
    {
      "cell_type": "markdown",
      "metadata": {
        "id": "S-fCZYu2D-Yc"
      },
      "source": [
        "## Deep Learning Libraries\n",
        "\n",
        "There are many deep learning libraries available, the most common ones for Python are\n",
        "\n",
        "- TensorFlow, Keras\n",
        "- PyTorch\n",
        "\n",
        "Working with TensorFlow requires going into lot of details of the contruction of the computation graph, whereas Keras is a higher level interface for TensorFlow. Tensorflow is very popular in the industry and good for production code.\n",
        "\n",
        "PyTorch can be used as low level interface, but is much more user-friendly than TensorFlow, but it also has a higher level interface. PyTorch is more popular in the research community.\n",
        "\n",
        "In Stanford courses and projects, it is very common to use PyTorch."
      ]
    },
    {
      "cell_type": "markdown",
      "metadata": {
        "id": "DzUDYHi8D-Yd"
      },
      "source": [
        "## Main features that any deep learning library should provide\n",
        "\n",
        "No matter what library or language you use, the main features provided by a deep learning library are\n",
        "1. Use the GPU to speed up computation\n",
        "2. Ability to do automatic differentiation\n",
        "3. Useful library functions for common architectures and optimization algorithms\n",
        "\n",
        "### PyTorch\n",
        "We will look at all of the above in pytorch.\n",
        "The best way to think about pytorch is that its numpy + GPU + autograd.\n",
        "\n",
        "You can install it with\n",
        "\n",
        "```conda install pytorch```.\n",
        "\n",
        "Alternatively (and recommended), run this notebook in Google Colab-- it provides an environment with all of the PyTorch dependencies plus a GPU free of charge."
      ]
    },
    {
      "cell_type": "code",
      "execution_count": 82,
      "metadata": {
        "id": "fCdvNHW0D-Ye"
      },
      "outputs": [],
      "source": [
        "import torch\n",
        "import numpy as np"
      ]
    },
    {
      "cell_type": "markdown",
      "metadata": {
        "id": "ZpWzZewHD-Yi"
      },
      "source": [
        "The equivalent object to numpy arrays in PyTorch are called tensors, but they are just multidimensional arrays."
      ]
    },
    {
      "cell_type": "code",
      "execution_count": 83,
      "metadata": {
        "id": "t78yenP1D-Yj",
        "outputId": "d58ccdcd-3f20-464c-e449-b8c92cc4eb8f",
        "colab": {
          "base_uri": "https://localhost:8080/"
        }
      },
      "outputs": [
        {
          "output_type": "execute_result",
          "data": {
            "text/plain": [
              "tensor([2, 3, 4, 5])"
            ]
          },
          "metadata": {},
          "execution_count": 83
        }
      ],
      "source": [
        "torch.tensor([2,3,4,5])"
      ]
    },
    {
      "cell_type": "code",
      "execution_count": 84,
      "metadata": {
        "id": "Efg1UeizD-Ym",
        "outputId": "4fd0aa25-85fa-414f-8cd0-c23d2dbea387",
        "colab": {
          "base_uri": "https://localhost:8080/"
        }
      },
      "outputs": [
        {
          "output_type": "execute_result",
          "data": {
            "text/plain": [
              "tensor([[0., 0., 0., 0., 0.],\n",
              "        [0., 0., 0., 0., 0.],\n",
              "        [0., 0., 0., 0., 0.],\n",
              "        [0., 0., 0., 0., 0.],\n",
              "        [0., 0., 0., 0., 0.]])"
            ]
          },
          "metadata": {},
          "execution_count": 84
        }
      ],
      "source": [
        "torch.zeros((5,5))"
      ]
    },
    {
      "cell_type": "code",
      "execution_count": 85,
      "metadata": {
        "id": "1BlufhDpD-Yp",
        "outputId": "e814f6d3-d483-4065-92e5-1957d4a922fe",
        "colab": {
          "base_uri": "https://localhost:8080/"
        }
      },
      "outputs": [
        {
          "output_type": "stream",
          "name": "stdout",
          "text": [
            "<class 'torch.Tensor'>\n"
          ]
        },
        {
          "output_type": "execute_result",
          "data": {
            "text/plain": [
              "tensor([[1., 1., 1., 1., 1.],\n",
              "        [1., 1., 1., 1., 1.],\n",
              "        [1., 1., 1., 1., 1.],\n",
              "        [1., 1., 1., 1., 1.],\n",
              "        [1., 1., 1., 1., 1.]])"
            ]
          },
          "metadata": {},
          "execution_count": 85
        }
      ],
      "source": [
        "x = torch.ones((5,5))\n",
        "print(type(x))\n",
        "x"
      ]
    },
    {
      "cell_type": "code",
      "execution_count": 86,
      "metadata": {
        "id": "acgFdW_4D-Yr",
        "outputId": "f0e111e7-47b0-4aed-9bfd-817b659e7a7c",
        "colab": {
          "base_uri": "https://localhost:8080/"
        }
      },
      "outputs": [
        {
          "output_type": "execute_result",
          "data": {
            "text/plain": [
              "tensor([[7., 7., 7., 7., 7.],\n",
              "        [7., 7., 7., 7., 7.],\n",
              "        [7., 7., 7., 7., 7.],\n",
              "        [7., 7., 7., 7., 7.],\n",
              "        [7., 7., 7., 7., 7.]])"
            ]
          },
          "metadata": {},
          "execution_count": 86
        }
      ],
      "source": [
        "2*x + 5"
      ]
    },
    {
      "cell_type": "code",
      "execution_count": 87,
      "metadata": {
        "id": "NwCz7O1wD-Yu",
        "outputId": "78e686ba-2a06-47dc-c5b9-fe31324d120a",
        "colab": {
          "base_uri": "https://localhost:8080/"
        }
      },
      "outputs": [
        {
          "output_type": "execute_result",
          "data": {
            "text/plain": [
              "tensor([[ 0.5098, -0.1428,  0.7089, -1.2880, -0.4879],\n",
              "        [-0.1388, -0.3422, -1.7130,  0.4208,  0.0902],\n",
              "        [-0.0070,  0.2284, -0.2772,  0.5980,  1.2274],\n",
              "        [-1.7381, -1.3370,  0.1945, -0.6324, -0.0259],\n",
              "        [-0.5987, -0.5542,  1.0880,  1.7805, -1.1394]])"
            ]
          },
          "metadata": {},
          "execution_count": 87
        }
      ],
      "source": [
        "torch.randn(5,5)"
      ]
    },
    {
      "cell_type": "code",
      "execution_count": 88,
      "metadata": {
        "id": "4fHiY5VKD-Yw",
        "outputId": "c1bc2e51-0b13-4f0c-fef0-6d7e5375ead9",
        "colab": {
          "base_uri": "https://localhost:8080/"
        }
      },
      "outputs": [
        {
          "output_type": "execute_result",
          "data": {
            "text/plain": [
              "tensor([0.7969, 0.0792, 0.8780, 0.8403, 0.5745, 0.7364, 0.4532, 0.5269, 0.6353,\n",
              "        0.0493, 0.0394, 0.3111, 0.3738, 0.5245, 0.2594, 0.4753, 0.0732, 0.3152,\n",
              "        0.5095, 0.2218, 0.2549, 0.9722, 0.5688, 0.9450, 0.1898])"
            ]
          },
          "metadata": {},
          "execution_count": 88
        }
      ],
      "source": [
        "x = torch.rand(25)\n",
        "x"
      ]
    },
    {
      "cell_type": "code",
      "execution_count": 89,
      "metadata": {
        "id": "0_QKyI7hD-Yz",
        "outputId": "83d706b4-e183-4b60-931a-88813f15c1f0",
        "colab": {
          "base_uri": "https://localhost:8080/"
        }
      },
      "outputs": [
        {
          "output_type": "execute_result",
          "data": {
            "text/plain": [
              "tensor([[0.7969, 0.0792, 0.8780, 0.8403, 0.5745],\n",
              "        [0.7364, 0.4532, 0.5269, 0.6353, 0.0493],\n",
              "        [0.0394, 0.3111, 0.3738, 0.5245, 0.2594],\n",
              "        [0.4753, 0.0732, 0.3152, 0.5095, 0.2218],\n",
              "        [0.2549, 0.9722, 0.5688, 0.9450, 0.1898]])"
            ]
          },
          "metadata": {},
          "execution_count": 89
        }
      ],
      "source": [
        "x=x.reshape(-1,5)\n",
        "x"
      ]
    },
    {
      "cell_type": "code",
      "execution_count": 90,
      "metadata": {
        "id": "WLKjs14-D-Y3",
        "outputId": "150655c2-5e6c-46e6-e04d-75d8cd5d0e1a",
        "colab": {
          "base_uri": "https://localhost:8080/"
        }
      },
      "outputs": [
        {
          "output_type": "execute_result",
          "data": {
            "text/plain": [
              "torch.Size([5, 5])"
            ]
          },
          "metadata": {},
          "execution_count": 90
        }
      ],
      "source": [
        "x.shape"
      ]
    },
    {
      "cell_type": "code",
      "execution_count": 91,
      "metadata": {
        "id": "Kn9fwJoSD-Y5",
        "outputId": "fc803207-2d4a-4c86-fe44-9f9f785c0752",
        "colab": {
          "base_uri": "https://localhost:8080/"
        }
      },
      "outputs": [
        {
          "output_type": "stream",
          "name": "stdout",
          "text": [
            "tensor([0, 1, 2, 3, 4, 5, 6, 7, 8, 9])\n",
            "tensor([[1., 0., 0., 0., 0.],\n",
            "        [0., 1., 0., 0., 0.],\n",
            "        [0., 0., 1., 0., 0.],\n",
            "        [0., 0., 0., 1., 0.],\n",
            "        [0., 0., 0., 0., 1.]])\n",
            "tensor([0.0000, 0.1111, 0.2222, 0.3333, 0.4444, 0.5556, 0.6667, 0.7778, 0.8889,\n",
            "        1.0000])\n"
          ]
        }
      ],
      "source": [
        "print(torch.arange(10))\n",
        "print(torch.eye(5))\n",
        "print(torch.linspace(0,1,10))"
      ]
    },
    {
      "cell_type": "markdown",
      "metadata": {
        "id": "Cix7EXwSD-Y7"
      },
      "source": [
        "Some functions are a bit different"
      ]
    },
    {
      "cell_type": "code",
      "execution_count": 92,
      "metadata": {
        "id": "fRrYVBDmjLpq",
        "outputId": "b9bd349d-55f5-4ee3-9803-eb40b958fdbb",
        "colab": {
          "base_uri": "https://localhost:8080/"
        }
      },
      "outputs": [
        {
          "output_type": "stream",
          "name": "stdout",
          "text": [
            "[[0.57860653 0.12350709 0.41390229 0.17291162 0.76952849]\n",
            " [0.53944518 0.87342218 0.34375145 0.03383577 0.3693543 ]\n",
            " [0.03189781 0.77280011 0.14828126 0.29334995 0.10907554]\n",
            " [0.40576985 0.950174   0.58958208 0.07766999 0.91885133]\n",
            " [0.79989498 0.75777491 0.73824198 0.46470267 0.6413701 ]]\n",
            "[[1.]\n",
            " [1.]\n",
            " [1.]\n",
            " [1.]\n",
            " [1.]]\n"
          ]
        },
        {
          "output_type": "execute_result",
          "data": {
            "text/plain": [
              "array([[2.05845603],\n",
              "       [2.15980888],\n",
              "       [1.35540468],\n",
              "       [2.94204725],\n",
              "       [3.40198463]])"
            ]
          },
          "metadata": {},
          "execution_count": 92
        }
      ],
      "source": [
        "A = np.random.rand(5,5)\n",
        "x = np.ones((5,1))\n",
        "print(A)\n",
        "print(x)\n",
        "\n",
        "A@x"
      ]
    },
    {
      "cell_type": "code",
      "execution_count": 93,
      "metadata": {
        "id": "npGWD47jicvY",
        "outputId": "6ef17b26-8d58-45b3-bd2a-74dfd5cc71b5",
        "colab": {
          "base_uri": "https://localhost:8080/"
        }
      },
      "outputs": [
        {
          "output_type": "stream",
          "name": "stdout",
          "text": [
            "tensor([[0.0654, 0.5832, 0.7834, 0.5172, 0.5806],\n",
            "        [0.2415, 0.9853, 0.0420, 0.7158, 0.8510],\n",
            "        [0.4330, 0.0905, 0.7468, 0.5740, 0.7172],\n",
            "        [0.9222, 0.2012, 0.9953, 0.7680, 0.5001],\n",
            "        [0.0733, 0.4108, 0.4638, 0.7694, 0.3507]])\n",
            "tensor([[1.],\n",
            "        [1.],\n",
            "        [1.],\n",
            "        [1.],\n",
            "        [1.]])\n"
          ]
        },
        {
          "output_type": "execute_result",
          "data": {
            "text/plain": [
              "tensor([[2.5298],\n",
              "        [2.8356],\n",
              "        [2.5614],\n",
              "        [3.3867],\n",
              "        [2.0681]])"
            ]
          },
          "metadata": {},
          "execution_count": 93
        }
      ],
      "source": [
        "A_ = torch.rand((5,5))\n",
        "x_ = torch.ones(5,1)\n",
        "print(A_)\n",
        "print(x_)\n",
        "A_@x_"
      ]
    },
    {
      "cell_type": "code",
      "execution_count": null,
      "metadata": {
        "id": "6oz9QB17QTCL"
      },
      "outputs": [],
      "source": [
        "# class Test:\n",
        "#   def __init__(self):\n",
        "#     self.__data = 'Great__'\n",
        "#     self.data = 'Great'\n",
        "# test = Test()\n",
        "# print(test.__data)"
      ]
    },
    {
      "cell_type": "code",
      "source": [
        "x = np.ones((5,1))\n",
        "print(x)"
      ],
      "metadata": {
        "id": "2Y1aKfSTKOFl",
        "outputId": "54b7b874-e49b-4031-ca21-c81947c2182d",
        "colab": {
          "base_uri": "https://localhost:8080/"
        }
      },
      "execution_count": 94,
      "outputs": [
        {
          "output_type": "stream",
          "name": "stdout",
          "text": [
            "[[1.]\n",
            " [1.]\n",
            " [1.]\n",
            " [1.]\n",
            " [1.]]\n"
          ]
        }
      ]
    },
    {
      "cell_type": "code",
      "execution_count": 95,
      "metadata": {
        "id": "9BukQIL5D-Y8",
        "outputId": "65cb9745-8b18-4603-a4f7-e661dd0aa0ce",
        "colab": {
          "base_uri": "https://localhost:8080/"
        }
      },
      "outputs": [
        {
          "output_type": "stream",
          "name": "stdout",
          "text": [
            "tensor([[1.],\n",
            "        [1.],\n",
            "        [1.],\n",
            "        [1.],\n",
            "        [1.]])\n"
          ]
        }
      ],
      "source": [
        "x_ = torch.ones(5,1)\n",
        "print(x_)"
      ]
    },
    {
      "cell_type": "markdown",
      "metadata": {
        "id": "vpEwcH-JD-ZA"
      },
      "source": [
        "You can convert tensors to a numpy array that shares its memory with the pytorch tensor -> to use more library that are compatible to numpy but not pytorch"
      ]
    },
    {
      "cell_type": "code",
      "execution_count": 96,
      "metadata": {
        "id": "MquNPK71D-ZC",
        "outputId": "19f8e1aa-d405-44af-b01e-941738c2b140",
        "colab": {
          "base_uri": "https://localhost:8080/"
        }
      },
      "outputs": [
        {
          "output_type": "execute_result",
          "data": {
            "text/plain": [
              "tensor([[1., 1., 1., 1., 1.],\n",
              "        [1., 1., 1., 1., 1.],\n",
              "        [1., 1., 1., 1., 1.],\n",
              "        [1., 1., 1., 1., 1.],\n",
              "        [1., 1., 1., 1., 1.]])"
            ]
          },
          "metadata": {},
          "execution_count": 96
        }
      ],
      "source": [
        "x = torch.ones(5,5)\n",
        "x"
      ]
    },
    {
      "cell_type": "code",
      "execution_count": 97,
      "metadata": {
        "id": "aOeMqFrOD-ZE",
        "outputId": "349d9b88-2b7f-4a3c-e530-150f80d0361c",
        "colab": {
          "base_uri": "https://localhost:8080/"
        }
      },
      "outputs": [
        {
          "output_type": "stream",
          "name": "stdout",
          "text": [
            "<class 'numpy.ndarray'>\n"
          ]
        },
        {
          "output_type": "execute_result",
          "data": {
            "text/plain": [
              "array([[1., 1., 1., 1., 1.],\n",
              "       [1., 1., 1., 1., 1.],\n",
              "       [1., 1., 1., 1., 1.],\n",
              "       [1., 1., 1., 1., 1.],\n",
              "       [1., 1., 1., 1., 1.]], dtype=float32)"
            ]
          },
          "metadata": {},
          "execution_count": 97
        }
      ],
      "source": [
        "xn = x.numpy()\n",
        "print(type(xn))\n",
        "xn"
      ]
    },
    {
      "cell_type": "code",
      "execution_count": 98,
      "metadata": {
        "id": "bZlG0x9xD-ZH",
        "outputId": "0d60ac17-bf48-4b59-d98e-47ef0c8f1b38",
        "colab": {
          "base_uri": "https://localhost:8080/"
        }
      },
      "outputs": [
        {
          "output_type": "execute_result",
          "data": {
            "text/plain": [
              "array([[ 1.,  1.,  1.,  1.,  1.],\n",
              "       [ 1.,  1.,  1.,  1.,  1.],\n",
              "       [ 1.,  1.,  1.,  1.,  1.],\n",
              "       [ 1.,  1.,  1.,  1.,  1.],\n",
              "       [ 1.,  1., 10.,  1.,  1.]], dtype=float32)"
            ]
          },
          "metadata": {},
          "execution_count": 98
        }
      ],
      "source": [
        "# Changes in Numpy will cause changes in Tensor\n",
        "xn[4,2]=10\n",
        "xn"
      ]
    },
    {
      "cell_type": "code",
      "execution_count": 99,
      "metadata": {
        "id": "sN6qJIsID-ZJ",
        "outputId": "89cd5c22-640e-41ab-b690-16d52f48c06d",
        "colab": {
          "base_uri": "https://localhost:8080/"
        }
      },
      "outputs": [
        {
          "output_type": "execute_result",
          "data": {
            "text/plain": [
              "tensor([[ 1.,  1.,  1.,  1.,  1.],\n",
              "        [ 1.,  1.,  1.,  1.,  1.],\n",
              "        [ 1.,  1.,  1.,  1.,  1.],\n",
              "        [ 1.,  1.,  1.,  1.,  1.],\n",
              "        [ 1.,  1., 10.,  1.,  1.]])"
            ]
          },
          "metadata": {},
          "execution_count": 99
        }
      ],
      "source": [
        "x"
      ]
    },
    {
      "cell_type": "markdown",
      "metadata": {
        "id": "pDnSshCXD-ZL"
      },
      "source": [
        "### Using the GPU\n",
        "\n",
        "The GPU (Graphical Processing Unit) is a separate processing unit that is specialized to handle bulk computations required for rendering high quality graphics. It mainly consists of a large number of processor cores that are individually very slow, but because of their sheer number (around 2000) they can churn through computations very quickly."
      ]
    },
    {
      "cell_type": "code",
      "execution_count": 100,
      "metadata": {
        "id": "pmJ0hjO5D-ZM",
        "outputId": "f4568d53-c5bb-4613-b661-946e353bf9e9",
        "colab": {
          "base_uri": "https://localhost:8080/"
        }
      },
      "outputs": [
        {
          "output_type": "execute_result",
          "data": {
            "text/plain": [
              "True"
            ]
          },
          "metadata": {},
          "execution_count": 100
        }
      ],
      "source": [
        "import torch\n",
        "\"\"\"\n",
        "CUDA is a parallel computing platform\n",
        "and application programming interface\n",
        "that allows software to use certain types\n",
        "of graphics processing units for general purpose processing\n",
        "\"\"\";\n",
        "#CUDA -> Recommend CME213 (C++)\n",
        "torch.cuda.is_available()"
      ]
    },
    {
      "cell_type": "markdown",
      "metadata": {
        "id": "i0kadMeJD-ZN"
      },
      "source": [
        "Installing the GPU drivers and the CUDA toolkit can be quite messy, so if you just want to experiment with GPUs and deep learning libraries, you can use [Google colaboratory](https://colab.research.google.com/)"
      ]
    },
    {
      "cell_type": "code",
      "execution_count": 101,
      "metadata": {
        "id": "fCtE0kLaD-ZO"
      },
      "outputs": [],
      "source": [
        "gpu = torch.device(\"cuda\")\n",
        "cpu = torch.device(\"cpu\")"
      ]
    },
    {
      "cell_type": "code",
      "execution_count": 102,
      "metadata": {
        "id": "ESIE5J08D-ZS"
      },
      "outputs": [],
      "source": [
        "A = torch.rand(100,100)\n",
        "B = torch.rand(100,100)"
      ]
    },
    {
      "cell_type": "code",
      "execution_count": 103,
      "metadata": {
        "id": "t6VNz5SzD-ZU",
        "outputId": "cfa7edc2-3de1-47a1-df8b-237b81dc13ce",
        "colab": {
          "base_uri": "https://localhost:8080/"
        }
      },
      "outputs": [
        {
          "output_type": "execute_result",
          "data": {
            "text/plain": [
              "tensor([[26.3180, 26.2944, 23.6101,  ..., 26.1075, 24.1745, 24.6728],\n",
              "        [25.8878, 26.9902, 23.9919,  ..., 27.1890, 26.1619, 26.0173],\n",
              "        [22.8132, 24.1727, 22.9417,  ..., 25.9095, 22.9610, 23.9043],\n",
              "        ...,\n",
              "        [25.8806, 27.0250, 24.7991,  ..., 24.8536, 24.7872, 25.0519],\n",
              "        [25.0513, 24.8801, 24.9222,  ..., 24.6244, 23.6362, 24.1914],\n",
              "        [23.3239, 22.9218, 22.7339,  ..., 23.5111, 21.5087, 23.1358]])"
            ]
          },
          "metadata": {},
          "execution_count": 103
        }
      ],
      "source": [
        "A@B"
      ]
    },
    {
      "cell_type": "code",
      "execution_count": 104,
      "metadata": {
        "id": "vXjtNNqtD-ZW"
      },
      "outputs": [],
      "source": [
        "A_gpu = A.to(gpu)\n",
        "B_gpu = B.to(gpu)"
      ]
    },
    {
      "cell_type": "code",
      "execution_count": 105,
      "metadata": {
        "id": "krIHa3ErD-ZY",
        "outputId": "b6e92b19-2fb7-4efe-9056-a07290244a28",
        "colab": {
          "base_uri": "https://localhost:8080/"
        }
      },
      "outputs": [
        {
          "output_type": "execute_result",
          "data": {
            "text/plain": [
              "tensor([[26.3180, 26.2944, 23.6101,  ..., 26.1075, 24.1745, 24.6728],\n",
              "        [25.8878, 26.9902, 23.9919,  ..., 27.1890, 26.1619, 26.0173],\n",
              "        [22.8132, 24.1727, 22.9417,  ..., 25.9095, 22.9610, 23.9043],\n",
              "        ...,\n",
              "        [25.8806, 27.0250, 24.7991,  ..., 24.8536, 24.7872, 25.0519],\n",
              "        [25.0513, 24.8801, 24.9222,  ..., 24.6244, 23.6362, 24.1914],\n",
              "        [23.3239, 22.9218, 22.7339,  ..., 23.5111, 21.5087, 23.1358]],\n",
              "       device='cuda:0')"
            ]
          },
          "metadata": {},
          "execution_count": 105
        }
      ],
      "source": [
        "A_gpu@B_gpu"
      ]
    },
    {
      "cell_type": "code",
      "execution_count": 106,
      "metadata": {
        "id": "sox7ng2OD-ZZ",
        "outputId": "1f7d6841-e721-48f3-c0aa-6db599f99106",
        "colab": {
          "base_uri": "https://localhost:8080/",
          "height": 179
        }
      },
      "outputs": [
        {
          "output_type": "error",
          "ename": "RuntimeError",
          "evalue": "Expected all tensors to be on the same device, but found at least two devices, cpu and cuda:0! (when checking argument for argument mat2 in method wrapper_CUDA_mm)",
          "traceback": [
            "\u001b[0;31m---------------------------------------------------------------------------\u001b[0m",
            "\u001b[0;31mRuntimeError\u001b[0m                              Traceback (most recent call last)",
            "\u001b[0;32m<ipython-input-106-2e3381049b9a>\u001b[0m in \u001b[0;36m<cell line: 1>\u001b[0;34m()\u001b[0m\n\u001b[0;32m----> 1\u001b[0;31m \u001b[0mA\u001b[0m\u001b[0;34m@\u001b[0m\u001b[0mB_gpu\u001b[0m \u001b[0;31m#this won't work!\u001b[0m\u001b[0;34m\u001b[0m\u001b[0;34m\u001b[0m\u001b[0m\n\u001b[0m",
            "\u001b[0;31mRuntimeError\u001b[0m: Expected all tensors to be on the same device, but found at least two devices, cpu and cuda:0! (when checking argument for argument mat2 in method wrapper_CUDA_mm)"
          ]
        }
      ],
      "source": [
        "A@B_gpu #this won't work!"
      ]
    },
    {
      "cell_type": "code",
      "execution_count": 107,
      "metadata": {
        "id": "j5oi8M-GD-Zc",
        "outputId": "3fe3005b-9632-4f98-b209-d73b1d46b75f",
        "colab": {
          "base_uri": "https://localhost:8080/"
        }
      },
      "outputs": [
        {
          "output_type": "execute_result",
          "data": {
            "text/plain": [
              "tensor([[26.3180, 26.2944, 23.6101,  ..., 26.1075, 24.1745, 24.6728],\n",
              "        [25.8878, 26.9902, 23.9919,  ..., 27.1890, 26.1619, 26.0173],\n",
              "        [22.8132, 24.1727, 22.9417,  ..., 25.9095, 22.9610, 23.9043],\n",
              "        ...,\n",
              "        [25.8806, 27.0250, 24.7991,  ..., 24.8536, 24.7872, 25.0519],\n",
              "        [25.0513, 24.8801, 24.9222,  ..., 24.6244, 23.6362, 24.1914],\n",
              "        [23.3239, 22.9218, 22.7339,  ..., 23.5111, 21.5087, 23.1358]])"
            ]
          },
          "metadata": {},
          "execution_count": 107
        }
      ],
      "source": [
        "C_gpu = A_gpu@B_gpu\n",
        "C = C_gpu.to(cpu)\n",
        "C"
      ]
    },
    {
      "cell_type": "markdown",
      "metadata": {
        "id": "vICVTE1wD-Zq"
      },
      "source": [
        "## Speedup from GPU\n",
        "`%%timeit` is a Jupyter Notebook magic command that is used to measure the execution time of a Python code snippet. When you add `%%timeit` at the beginning of a cell in a Jupyter Notebook, it will run the code in the cell multiple times and measure the average execution time."
      ]
    },
    {
      "cell_type": "code",
      "execution_count": 108,
      "metadata": {
        "id": "4raRnuw1D-Zr",
        "outputId": "0dbc8147-4185-457c-c7ea-cf33f6901d7c",
        "colab": {
          "base_uri": "https://localhost:8080/"
        }
      },
      "outputs": [
        {
          "output_type": "stream",
          "name": "stdout",
          "text": [
            "2.61 s ± 271 ms per loop (mean ± std. dev. of 7 runs, 1 loop each)\n"
          ]
        }
      ],
      "source": [
        "%%timeit\n",
        "A = torch.rand(3000,3000)\n",
        "B = torch.rand(3000,3000)\n",
        "for i in range(5):\n",
        "    B=torch.mm(A,B)\n"
      ]
    },
    {
      "cell_type": "code",
      "execution_count": 109,
      "metadata": {
        "id": "Ch47eB6OD-Zt",
        "outputId": "fa9f202f-bd28-46b6-cef7-07461a01fc5b",
        "colab": {
          "base_uri": "https://localhost:8080/"
        }
      },
      "outputs": [
        {
          "output_type": "stream",
          "name": "stdout",
          "text": [
            "70 ms ± 1.89 ms per loop (mean ± std. dev. of 7 runs, 100 loops each)\n"
          ]
        }
      ],
      "source": [
        "%%timeit\n",
        "A = torch.rand(3000,3000, device = gpu)\n",
        "B = torch.rand(3000,3000, device = gpu)\n",
        "for i in range(5):\n",
        "    B=torch.mm(A,B)"
      ]
    },
    {
      "cell_type": "markdown",
      "metadata": {
        "id": "wDNQLaL6D-Zu"
      },
      "source": [
        "## Automatic Differentiation\n",
        "\n",
        "PyTorch uses dynamic computation graphs to compute the gradients of the parameters. Only certain parameters need gradients: i.e. the parameters we are wanting to update: weights and biases!"
      ]
    },
    {
      "cell_type": "code",
      "execution_count": 110,
      "metadata": {
        "id": "1r6mfgjHD-Zv"
      },
      "outputs": [],
      "source": [
        "x = torch.tensor([2.0])\n",
        "w = torch.tensor([5.0], requires_grad = True)\n",
        "b = torch.tensor([2.0], requires_grad = True)"
      ]
    },
    {
      "cell_type": "code",
      "execution_count": 111,
      "metadata": {
        "id": "eezGUNqXD-Zy",
        "outputId": "b978c1e0-7e2a-458c-c8f1-736d68715c81",
        "colab": {
          "base_uri": "https://localhost:8080/"
        }
      },
      "outputs": [
        {
          "output_type": "execute_result",
          "data": {
            "text/plain": [
              "tensor([12.], grad_fn=<AddBackward0>)"
            ]
          },
          "metadata": {},
          "execution_count": 111
        }
      ],
      "source": [
        "y = w*x + b #12 = 5*2 + 2\n",
        "y"
      ]
    },
    {
      "cell_type": "markdown",
      "metadata": {
        "id": "F_Y_WzasD-Z0"
      },
      "source": [
        "Define an error for your function"
      ]
    },
    {
      "cell_type": "code",
      "execution_count": 112,
      "metadata": {
        "id": "3r7oYMHFD-Z0",
        "outputId": "abc1c6a5-c8ec-43b0-aedf-c6f388d80c92",
        "colab": {
          "base_uri": "https://localhost:8080/"
        }
      },
      "outputs": [
        {
          "output_type": "execute_result",
          "data": {
            "text/plain": [
              "tensor(1., grad_fn=<LinalgVectorNormBackward0>)"
            ]
          },
          "metadata": {},
          "execution_count": 112
        }
      ],
      "source": [
        "loss = torch.norm( y - 13)\n",
        "loss"
      ]
    },
    {
      "cell_type": "markdown",
      "metadata": {
        "id": "oMhtVXAhD-Z5"
      },
      "source": [
        "Calling `x.backward()` on any tensor forces PyTorch to compute all the gradients of the tensors used to compute `x` which had the `requires_grad` flag set to `True`. The computed gradient will be stored in the `.grad` property of the tensors"
      ]
    },
    {
      "cell_type": "code",
      "execution_count": 113,
      "metadata": {
        "id": "5PIU90uoD-Z5"
      },
      "outputs": [],
      "source": [
        "loss.backward()"
      ]
    },
    {
      "cell_type": "code",
      "execution_count": 114,
      "metadata": {
        "id": "vYbns6g4D-Z7",
        "outputId": "3f888484-c923-455d-90f2-594ab550394c",
        "colab": {
          "base_uri": "https://localhost:8080/"
        }
      },
      "outputs": [
        {
          "output_type": "execute_result",
          "data": {
            "text/plain": [
              "tensor([-2.])"
            ]
          },
          "metadata": {},
          "execution_count": 114
        }
      ],
      "source": [
        "w.grad"
      ]
    },
    {
      "cell_type": "code",
      "execution_count": 115,
      "metadata": {
        "id": "0MYesARFD-Z9",
        "outputId": "1b38a691-700f-4808-cb7d-6e0acc094fa0",
        "colab": {
          "base_uri": "https://localhost:8080/"
        }
      },
      "outputs": [
        {
          "output_type": "execute_result",
          "data": {
            "text/plain": [
              "tensor([-1.])"
            ]
          },
          "metadata": {},
          "execution_count": 115
        }
      ],
      "source": [
        "b.grad"
      ]
    },
    {
      "cell_type": "markdown",
      "metadata": {
        "id": "a9GBX-JwVykN"
      },
      "source": [
        "We now can use the gradients of $w$ and $b$ to update their values (i.e. gradient descent). A helpful trick we can use here is telling PyTorch to skip the gradient calculations, which can help to reduce the memory usage and speed up computations. In this case, we don't want to update the gradients of $w$ and $b$ based on this parameter update."
      ]
    },
    {
      "cell_type": "code",
      "execution_count": 116,
      "metadata": {
        "id": "XDhPOJHRD-aA"
      },
      "outputs": [],
      "source": [
        "# It will reduce memory consumption for computations\n",
        "# that would otherwise have requires_grad=True\n",
        "with torch.no_grad(): #when we update w and b, do not update gradients\n",
        "    w -= 0.01 * w.grad\n",
        "    b -= 0.3 * b.grad"
      ]
    },
    {
      "cell_type": "code",
      "execution_count": 117,
      "metadata": {
        "id": "6TlUBDHaD-aC",
        "outputId": "1d2cece9-4e83-4246-8d8a-c26e84ff583d",
        "colab": {
          "base_uri": "https://localhost:8080/"
        }
      },
      "outputs": [
        {
          "output_type": "execute_result",
          "data": {
            "text/plain": [
              "(tensor([5.0200], requires_grad=True), tensor([2.3000], requires_grad=True))"
            ]
          },
          "metadata": {},
          "execution_count": 117
        }
      ],
      "source": [
        "w,b"
      ]
    },
    {
      "cell_type": "code",
      "execution_count": 118,
      "metadata": {
        "id": "Lj85MTj2D-aF",
        "outputId": "1e70893d-26e2-4208-d1d2-5ffe702c0308",
        "colab": {
          "base_uri": "https://localhost:8080/"
        }
      },
      "outputs": [
        {
          "output_type": "execute_result",
          "data": {
            "text/plain": [
              "(tensor([-2.]), tensor([-1.]))"
            ]
          },
          "metadata": {},
          "execution_count": 118
        }
      ],
      "source": [
        "w.grad, b.grad"
      ]
    },
    {
      "cell_type": "code",
      "execution_count": 119,
      "metadata": {
        "id": "J3UbDFA7D-aJ",
        "outputId": "b6c7743a-9123-4abc-cee8-6a8a491a56af",
        "colab": {
          "base_uri": "https://localhost:8080/"
        }
      },
      "outputs": [
        {
          "output_type": "execute_result",
          "data": {
            "text/plain": [
              "(tensor([0.]), tensor([0.]))"
            ]
          },
          "metadata": {},
          "execution_count": 119
        }
      ],
      "source": [
        "# the gradients will accumulate and lead to incorrect updates and slower convergence.\n",
        "w.grad.zero_()\n",
        "b.grad.zero_()\n",
        "\n",
        "w.grad, b.grad"
      ]
    },
    {
      "cell_type": "markdown",
      "source": [
        "After our update to our parameters, we can do another run through the network (forward propagation)."
      ],
      "metadata": {
        "id": "FENX09IOR7LK"
      }
    },
    {
      "cell_type": "code",
      "execution_count": 120,
      "metadata": {
        "id": "PNgA5bqxD-aL"
      },
      "outputs": [],
      "source": [
        "y = w*x + b"
      ]
    },
    {
      "cell_type": "code",
      "execution_count": 121,
      "metadata": {
        "id": "LhEnrtmQD-aN",
        "outputId": "3b388b72-1924-4700-e967-268a4b0c94f7",
        "colab": {
          "base_uri": "https://localhost:8080/"
        }
      },
      "outputs": [
        {
          "output_type": "execute_result",
          "data": {
            "text/plain": [
              "tensor([12.3400], grad_fn=<AddBackward0>)"
            ]
          },
          "metadata": {},
          "execution_count": 121
        }
      ],
      "source": [
        "y"
      ]
    },
    {
      "cell_type": "markdown",
      "source": [
        "As we can see, our prediction for $y$ has improved from 12 -> 12.34, meaning our $w$ and $b$ approximations have improved. We can calculate the loss again to see that it has improved, and again use backpropagation to update the gradients of $w$ and $b$."
      ],
      "metadata": {
        "id": "gMfXWragSGWA"
      }
    },
    {
      "cell_type": "code",
      "execution_count": 122,
      "metadata": {
        "id": "QJYE5aRpD-aO",
        "outputId": "e0cdb026-50b9-4276-9eb2-ddd9f2059111",
        "colab": {
          "base_uri": "https://localhost:8080/"
        }
      },
      "outputs": [
        {
          "output_type": "execute_result",
          "data": {
            "text/plain": [
              "tensor(0.6600, grad_fn=<LinalgVectorNormBackward0>)"
            ]
          },
          "metadata": {},
          "execution_count": 122
        }
      ],
      "source": [
        "loss = torch.norm( y - 13)\n",
        "loss"
      ]
    },
    {
      "cell_type": "code",
      "execution_count": 123,
      "metadata": {
        "id": "BBLYqopxD-aQ",
        "outputId": "5c7fd9be-1cda-402d-edee-0f7fba50d807",
        "colab": {
          "base_uri": "https://localhost:8080/"
        }
      },
      "outputs": [
        {
          "output_type": "execute_result",
          "data": {
            "text/plain": [
              "(tensor([-2.]), tensor([-1.]))"
            ]
          },
          "metadata": {},
          "execution_count": 123
        }
      ],
      "source": [
        "loss.backward()\n",
        "w.grad, b.grad"
      ]
    },
    {
      "cell_type": "markdown",
      "metadata": {
        "id": "hNbj9oDlD-aS"
      },
      "source": [
        "### Making it more compact"
      ]
    },
    {
      "cell_type": "code",
      "execution_count": 125,
      "metadata": {
        "id": "xlQ60VuqD-aS"
      },
      "outputs": [],
      "source": [
        "def model_fn(x,w,b):\n",
        "    return w*x + b"
      ]
    },
    {
      "cell_type": "code",
      "execution_count": 126,
      "metadata": {
        "id": "9zZHeiwJD-aV"
      },
      "outputs": [],
      "source": [
        "def loss_fn(y,yt):\n",
        "    return torch.norm(y-yt)"
      ]
    },
    {
      "cell_type": "code",
      "execution_count": 127,
      "metadata": {
        "id": "q7drmZAzD-aX"
      },
      "outputs": [],
      "source": [
        "w = torch.tensor([5.0], requires_grad = True)\n",
        "b = torch.tensor([2.0], requires_grad = True)"
      ]
    },
    {
      "cell_type": "code",
      "execution_count": 128,
      "metadata": {
        "id": "ZSogMXf-D-aY"
      },
      "outputs": [],
      "source": [
        "x = torch.tensor([2.0])\n",
        "yt = torch.tensor([13.0])"
      ]
    },
    {
      "cell_type": "code",
      "execution_count": 129,
      "metadata": {
        "id": "77BNsdU-D-aa",
        "outputId": "b17c3902-9b1a-4bb9-9aee-6b04d2aed200",
        "colab": {
          "base_uri": "https://localhost:8080/"
        }
      },
      "outputs": [
        {
          "output_type": "stream",
          "name": "stdout",
          "text": [
            " w = tensor([5.1000], requires_grad=True)\n",
            " b = tensor([2.0500], requires_grad=True)\n",
            " y = tensor([12.], grad_fn=<AddBackward0>)\n",
            " loss = 1.0\n",
            "---------------\n",
            "epoch = 1\n",
            " w = tensor([5.2000], requires_grad=True) \n",
            " b = tensor([2.1000], requires_grad=True)\n",
            " y = tensor([12.2500], grad_fn=<AddBackward0>)\n",
            " loss = 0.75\n",
            "---------------\n",
            "epoch = 2\n",
            " w = tensor([5.3000], requires_grad=True) \n",
            " b = tensor([2.1500], requires_grad=True)\n",
            " y = tensor([12.5000], grad_fn=<AddBackward0>)\n",
            " loss = 0.5\n",
            "---------------\n",
            "epoch = 3\n",
            " w = tensor([5.4000], requires_grad=True) \n",
            " b = tensor([2.2000], requires_grad=True)\n",
            " y = tensor([12.7500], grad_fn=<AddBackward0>)\n",
            " loss = 0.2500009536743164\n",
            "---------------\n",
            "epoch = 4\n",
            " w = tensor([5.5000], requires_grad=True) \n",
            " b = tensor([2.2500], requires_grad=True)\n",
            " y = tensor([13.0000], grad_fn=<AddBackward0>)\n",
            " loss = 9.5367431640625e-07\n"
          ]
        }
      ],
      "source": [
        "y = model_fn(x,w,b)\n",
        "loss = loss_fn(y,yt)\n",
        "loss.backward()\n",
        "with torch.no_grad():\n",
        "    w -= 0.05 * w.grad\n",
        "    b -= 0.05 * b.grad\n",
        "w.grad.zero_()\n",
        "b.grad.zero_()\n",
        "\n",
        "print( f\" w = {w}\\n b = {b}\\n y = {y}\\n loss = {loss}\")\n",
        "#note that 'loss' indicates the loss for the previous values\n",
        "for epoch in range(1,5):\n",
        "    # running again\n",
        "    print(15*'-')\n",
        "    y = model_fn(x,w,b)\n",
        "    loss = loss_fn(y,yt)\n",
        "    loss.backward()\n",
        "    with torch.no_grad():\n",
        "        w -= 0.05 * w.grad\n",
        "        b -= 0.05 * b.grad\n",
        "    w.grad.zero_()\n",
        "    b.grad.zero_()\n",
        "\n",
        "    print( f\"epoch = {epoch}\\n w = {w} \\n b = {b}\\n y = {y}\\n loss = {loss}\")\n"
      ]
    },
    {
      "cell_type": "markdown",
      "metadata": {
        "id": "3kRdaQe6D-ab"
      },
      "source": [
        "### Slightly more complicated problem"
      ]
    },
    {
      "cell_type": "markdown",
      "metadata": {
        "id": "vNdBCLA1yTn4"
      },
      "source": [
        "1. Forward propagation to get predicted yhat\n",
        "2. Get the loss by loss_fun(y, yhat)\n",
        "3. Backward propagation to get the gradient\n",
        "4. Update parameters\n",
        "5. Repeat 1 ~ 4 until convergence"
      ]
    },
    {
      "cell_type": "code",
      "execution_count": 130,
      "metadata": {
        "id": "Alq94bPxD-ac"
      },
      "outputs": [],
      "source": [
        "import matplotlib.pyplot as plt"
      ]
    },
    {
      "cell_type": "code",
      "execution_count": 131,
      "metadata": {
        "id": "0HdYDtWDD-ae"
      },
      "outputs": [],
      "source": [
        "def model_fn(x,w,b):\n",
        "    return w@x + b"
      ]
    },
    {
      "cell_type": "code",
      "execution_count": 132,
      "metadata": {
        "id": "v6Cvos0BD-af"
      },
      "outputs": [],
      "source": [
        "def loss_fn(y,yt):\n",
        "    return torch.norm(y-yt)"
      ]
    },
    {
      "cell_type": "code",
      "execution_count": 133,
      "metadata": {
        "id": "8vCjbW7HD-ah"
      },
      "outputs": [],
      "source": [
        "w = torch.rand((5,5), requires_grad = True)\n",
        "b = torch.ones((5,1), requires_grad = True)"
      ]
    },
    {
      "cell_type": "code",
      "execution_count": 135,
      "metadata": {
        "id": "BsITRCClD-ai"
      },
      "outputs": [],
      "source": [
        "x = torch.randn(5,100)\n",
        "yt = torch.randn(1,100)\n",
        "losses = []"
      ]
    },
    {
      "cell_type": "code",
      "execution_count": 136,
      "metadata": {
        "id": "NFs5CphAD-al",
        "outputId": "0992407a-e255-41b7-9efa-9b619a4fd486",
        "colab": {
          "base_uri": "https://localhost:8080/",
          "height": 1000
        }
      },
      "outputs": [
        {
          "output_type": "stream",
          "name": "stdout",
          "text": [
            "loss = 44.82464599609375\n",
            "loss = 40.931732177734375\n",
            "loss = 37.377925872802734\n",
            "loss = 34.212364196777344\n",
            "loss = 31.477388381958008\n",
            "loss = 29.198528289794922\n",
            "loss = 27.374691009521484\n",
            "loss = 25.973690032958984\n",
            "loss = 24.937116622924805\n",
            "loss = 24.192968368530273\n",
            "loss = 23.669788360595703\n",
            "loss = 23.306255340576172\n",
            "loss = 23.054750442504883\n",
            "loss = 22.880611419677734\n",
            "loss = 22.759584426879883\n",
            "loss = 22.675024032592773\n",
            "loss = 22.615598678588867\n",
            "loss = 22.573612213134766\n",
            "loss = 22.543792724609375\n",
            "loss = 22.52252197265625\n",
            "loss = 22.50728988647461\n",
            "loss = 22.496349334716797\n",
            "loss = 22.488468170166016\n",
            "loss = 22.482776641845703\n",
            "loss = 22.478662490844727\n",
            "loss = 22.475679397583008\n",
            "loss = 22.47351837158203\n",
            "loss = 22.471948623657227\n",
            "loss = 22.470806121826172\n",
            "loss = 22.469974517822266\n",
            "loss = 22.469369888305664\n",
            "loss = 22.468931198120117\n",
            "loss = 22.468610763549805\n",
            "loss = 22.468374252319336\n",
            "loss = 22.46820640563965\n",
            "loss = 22.468082427978516\n",
            "loss = 22.46799087524414\n",
            "loss = 22.467924118041992\n",
            "loss = 22.467876434326172\n",
            "loss = 22.46784210205078\n",
            "loss = 22.467815399169922\n",
            "loss = 22.467796325683594\n",
            "loss = 22.467784881591797\n",
            "loss = 22.4677734375\n",
            "loss = 22.467763900756836\n",
            "loss = 22.46776008605957\n",
            "loss = 22.467756271362305\n",
            "loss = 22.46775245666504\n",
            "loss = 22.467750549316406\n",
            "loss = 22.467748641967773\n"
          ]
        },
        {
          "output_type": "display_data",
          "data": {
            "text/plain": [
              "<Figure size 640x480 with 1 Axes>"
            ],
            "image/png": "[encoded data removed]"
          },
          "metadata": {}
        }
      ],
      "source": [
        "for i in range(50):\n",
        "  # 1. Forward\n",
        "  y = model_fn(x,w,b)\n",
        "  # 2. Get loss\n",
        "  loss = loss_fn(y,yt)\n",
        "  # 3. backward\n",
        "  loss.backward()\n",
        "  # 4. Update\n",
        "  with torch.no_grad():\n",
        "      w -= 0.05 * w.grad\n",
        "      b -= 0.05 * b.grad\n",
        "  w.grad.zero_()\n",
        "  b.grad.zero_()\n",
        "\n",
        "  losses+=[loss.item()]\n",
        "  print( f\"loss = {loss}\")\n",
        "  plt.plot(losses);"
      ]
    },
    {
      "cell_type": "markdown",
      "metadata": {
        "id": "5t7iYj2eD-an"
      },
      "source": [
        "## Using Library functions"
      ]
    },
    {
      "cell_type": "code",
      "execution_count": 137,
      "metadata": {
        "id": "6xg-kywmD-an"
      },
      "outputs": [],
      "source": [
        "model = torch.nn.Sequential(\n",
        "    # create layer of sequence\n",
        "    # F(WX + B)\n",
        "    # First layer: ReLU(WX + B)\n",
        "      # ReLU is important because it is doing some non-linear tranformation\n",
        "    torch.nn.Linear(5, 5),\n",
        "    torch.nn.ReLU(),\n",
        "\n",
        "    # Output layer\n",
        "    torch.nn.Linear(5, 1),\n",
        ")"
      ]
    },
    {
      "cell_type": "code",
      "execution_count": 138,
      "metadata": {
        "id": "4OocRUb9D-ap",
        "outputId": "f49112bb-2449-4c87-a669-a5a1fccc7962",
        "colab": {
          "base_uri": "https://localhost:8080/"
        }
      },
      "outputs": [
        {
          "output_type": "execute_result",
          "data": {
            "text/plain": [
              "[Parameter containing:\n",
              " tensor([[ 0.1830, -0.2978,  0.0333, -0.2771,  0.2529],\n",
              "         [ 0.0281,  0.3951, -0.0656, -0.2695, -0.4000],\n",
              "         [-0.0229, -0.1013,  0.1985, -0.4058, -0.1500],\n",
              "         [ 0.2423, -0.1930,  0.4154,  0.3227,  0.1673],\n",
              "         [ 0.2084, -0.1922,  0.2175,  0.1592, -0.2300]], requires_grad=True),\n",
              " Parameter containing:\n",
              " tensor([-0.1145,  0.0325,  0.1902,  0.2504, -0.1801], requires_grad=True),\n",
              " Parameter containing:\n",
              " tensor([[-0.1076,  0.1497, -0.2267, -0.2153, -0.1310]], requires_grad=True),\n",
              " Parameter containing:\n",
              " tensor([-0.4372], requires_grad=True)]"
            ]
          },
          "metadata": {},
          "execution_count": 138
        }
      ],
      "source": [
        "list(model.parameters())"
      ]
    },
    {
      "cell_type": "code",
      "execution_count": 140,
      "metadata": {
        "id": "DgBOzYv5D-aq"
      },
      "outputs": [],
      "source": [
        "#mean square loss → MSE = (1/n) * sum((y_pred - y_true)^2)\n",
        "loss_fn = torch.nn.MSELoss(reduction='sum')"
      ]
    },
    {
      "cell_type": "code",
      "execution_count": 141,
      "metadata": {
        "id": "_bdGByKKD-as"
      },
      "outputs": [],
      "source": [
        "x = torch.randn(100,5)\n",
        "yt = torch.randn(100,1)\n",
        "losses = []"
      ]
    },
    {
      "cell_type": "markdown",
      "metadata": {
        "id": "KupJGFEFD-at"
      },
      "source": [
        "Using the optim package to get an optimizer (we hard-coded standard gradient descent to update $w$ and $b$, here it will update itself based on whatever optimizer we choose).\n",
        "\n",
        "Common optimizers:\n",
        "\n",
        "*   Adam\n",
        "*   SGD (Stochastic Gradient Descent)\n",
        "\n"
      ]
    },
    {
      "cell_type": "code",
      "execution_count": 142,
      "metadata": {
        "id": "0Ac8_-reD-au"
      },
      "outputs": [],
      "source": [
        "optimizer = torch.optim.Adam(model.parameters(), lr=0.03)"
      ]
    },
    {
      "cell_type": "markdown",
      "metadata": {
        "id": "v1T-hdaSYBU7"
      },
      "source": [
        "`optimizer.step()` is used to update the model parameters based on the gradients computed during backpropagation. During training, the optimizer computes the gradients of the loss function with respect to the model parameters\n",
        "  \n",
        "`optimizer.zero_grad()` is used to set the gradients of all the model parameters to zero before computing the gradients for the next batch of data. If we don't zero out the gradients before computing the gradients for the next batch, the gradients will accumulate, leading to incorrect updates and slower convergence."
      ]
    },
    {
      "cell_type": "code",
      "execution_count": 143,
      "metadata": {
        "id": "xtdxXUcRD-az",
        "outputId": "00e05e42-a49a-4507-a0cd-9dce458f1e1f",
        "colab": {
          "base_uri": "https://localhost:8080/",
          "height": 1000
        }
      },
      "outputs": [
        {
          "output_type": "stream",
          "name": "stdout",
          "text": [
            "loss = 122.2519760131836\n",
            "loss = 112.2354507446289\n",
            "loss = 104.7008056640625\n",
            "loss = 99.31035614013672\n",
            "loss = 95.6781997680664\n",
            "loss = 93.50662994384766\n",
            "loss = 92.48434448242188\n",
            "loss = 92.26673126220703\n",
            "loss = 92.50293731689453\n",
            "loss = 92.8240966796875\n",
            "loss = 92.94263458251953\n",
            "loss = 92.74740600585938\n",
            "loss = 92.25298309326172\n",
            "loss = 91.52928924560547\n",
            "loss = 90.6669921875\n",
            "loss = 89.83712768554688\n",
            "loss = 89.16110229492188\n",
            "loss = 88.71623992919922\n",
            "loss = 88.42442321777344\n",
            "loss = 88.27655792236328\n",
            "loss = 88.22108459472656\n",
            "loss = 88.20304870605469\n",
            "loss = 88.16655731201172\n",
            "loss = 88.09562683105469\n",
            "loss = 88.01084899902344\n",
            "loss = 87.91629791259766\n",
            "loss = 87.79032897949219\n",
            "loss = 87.65595245361328\n",
            "loss = 87.47920989990234\n",
            "loss = 87.27147674560547\n",
            "loss = 87.07659149169922\n",
            "loss = 86.92936706542969\n",
            "loss = 86.8697280883789\n",
            "loss = 86.82525634765625\n",
            "loss = 86.76396179199219\n",
            "loss = 86.6867904663086\n",
            "loss = 86.5972900390625\n",
            "loss = 86.46392822265625\n",
            "loss = 86.28169250488281\n",
            "loss = 86.06932067871094\n",
            "loss = 85.78999328613281\n",
            "loss = 85.48159790039062\n",
            "loss = 85.17057037353516\n",
            "loss = 84.8770751953125\n",
            "loss = 84.57791137695312\n",
            "loss = 84.3089828491211\n",
            "loss = 84.09504699707031\n",
            "loss = 83.85789489746094\n",
            "loss = 83.6463394165039\n",
            "loss = 83.38402557373047\n",
            "loss = 83.13958740234375\n",
            "loss = 82.8455810546875\n",
            "loss = 82.48468780517578\n",
            "loss = 82.08143615722656\n",
            "loss = 81.81285858154297\n",
            "loss = 81.57071685791016\n",
            "loss = 81.2635269165039\n",
            "loss = 80.92994689941406\n",
            "loss = 80.59054565429688\n",
            "loss = 80.29517364501953\n",
            "loss = 79.96783447265625\n",
            "loss = 79.59205627441406\n",
            "loss = 79.17381286621094\n",
            "loss = 78.75125122070312\n",
            "loss = 78.33251953125\n",
            "loss = 77.94683074951172\n",
            "loss = 77.50470733642578\n",
            "loss = 77.08503723144531\n",
            "loss = 76.73418426513672\n",
            "loss = 76.42808532714844\n",
            "loss = 76.19135284423828\n",
            "loss = 75.78684997558594\n",
            "loss = 75.45360565185547\n",
            "loss = 75.13894653320312\n",
            "loss = 74.89791870117188\n",
            "loss = 74.4114990234375\n",
            "loss = 74.10425567626953\n",
            "loss = 73.67550659179688\n",
            "loss = 73.25984191894531\n",
            "loss = 72.88568878173828\n",
            "loss = 72.56134033203125\n",
            "loss = 72.21035766601562\n",
            "loss = 72.02995300292969\n",
            "loss = 71.76705169677734\n",
            "loss = 71.469482421875\n",
            "loss = 71.18305969238281\n",
            "loss = 70.83384704589844\n",
            "loss = 70.57032775878906\n",
            "loss = 70.3533935546875\n",
            "loss = 70.14396667480469\n",
            "loss = 69.88888549804688\n",
            "loss = 69.70854949951172\n",
            "loss = 69.48373413085938\n",
            "loss = 69.3408203125\n",
            "loss = 69.18424224853516\n",
            "loss = 68.99134063720703\n",
            "loss = 68.8001708984375\n",
            "loss = 68.70433044433594\n",
            "loss = 68.61605834960938\n",
            "loss = 68.51036071777344\n",
            "loss = 68.41065216064453\n",
            "loss = 68.30049133300781\n",
            "loss = 68.19557189941406\n",
            "loss = 68.09455871582031\n",
            "loss = 67.8941650390625\n",
            "loss = 67.7436294555664\n",
            "loss = 67.60713958740234\n",
            "loss = 67.45489501953125\n",
            "loss = 67.33373260498047\n",
            "loss = 67.12639617919922\n",
            "loss = 67.02143859863281\n",
            "loss = 66.90863800048828\n",
            "loss = 66.78494262695312\n",
            "loss = 66.88671875\n",
            "loss = 66.80900573730469\n",
            "loss = 66.6804428100586\n",
            "loss = 66.62371063232422\n",
            "loss = 66.57431030273438\n",
            "loss = 66.47376251220703\n",
            "loss = 66.45344543457031\n",
            "loss = 66.32372283935547\n",
            "loss = 66.3109130859375\n",
            "loss = 66.20132446289062\n",
            "loss = 66.17610168457031\n",
            "loss = 66.07637023925781\n",
            "loss = 65.96784973144531\n",
            "loss = 65.86027526855469\n",
            "loss = 65.79592895507812\n",
            "loss = 65.6936264038086\n",
            "loss = 65.60692596435547\n",
            "loss = 65.58396911621094\n",
            "loss = 65.5636215209961\n",
            "loss = 65.57684326171875\n",
            "loss = 65.60224151611328\n",
            "loss = 65.56134796142578\n",
            "loss = 65.53302764892578\n",
            "loss = 65.4789047241211\n",
            "loss = 65.54905700683594\n",
            "loss = 65.51836395263672\n",
            "loss = 65.41726684570312\n",
            "loss = 65.42724609375\n",
            "loss = 65.4249038696289\n",
            "loss = 65.43382263183594\n",
            "loss = 65.37606811523438\n",
            "loss = 65.29232788085938\n",
            "loss = 65.295654296875\n",
            "loss = 65.32009887695312\n",
            "loss = 65.34414672851562\n",
            "loss = 65.3421630859375\n",
            "loss = 65.32828521728516\n",
            "loss = 65.29502868652344\n",
            "loss = 65.24502563476562\n",
            "loss = 65.24031066894531\n",
            "loss = 65.24369812011719\n",
            "loss = 65.26822662353516\n",
            "loss = 65.23914337158203\n",
            "loss = 65.24300384521484\n",
            "loss = 65.1974868774414\n",
            "loss = 65.22584533691406\n",
            "loss = 65.23239135742188\n",
            "loss = 65.23265075683594\n",
            "loss = 65.2214584350586\n",
            "loss = 65.22502899169922\n",
            "loss = 65.2080078125\n",
            "loss = 65.1949462890625\n",
            "loss = 65.19789123535156\n",
            "loss = 65.1946792602539\n",
            "loss = 65.1900634765625\n",
            "loss = 65.19719696044922\n",
            "loss = 65.1723403930664\n",
            "loss = 65.17987060546875\n",
            "loss = 65.20543670654297\n",
            "loss = 65.19879150390625\n",
            "loss = 65.205322265625\n",
            "loss = 65.19664001464844\n",
            "loss = 65.18795776367188\n",
            "loss = 65.19152069091797\n",
            "loss = 65.17591857910156\n",
            "loss = 65.17398834228516\n",
            "loss = 65.18002319335938\n",
            "loss = 65.16309356689453\n",
            "loss = 65.16154479980469\n",
            "loss = 65.16947937011719\n",
            "loss = 65.17855072021484\n",
            "loss = 65.18362426757812\n",
            "loss = 65.18638610839844\n",
            "loss = 65.17361450195312\n",
            "loss = 65.16661834716797\n",
            "loss = 65.17053985595703\n",
            "loss = 65.17747497558594\n",
            "loss = 65.16136932373047\n",
            "loss = 65.16389465332031\n",
            "loss = 65.16812896728516\n",
            "loss = 65.16756439208984\n",
            "loss = 65.18486785888672\n",
            "loss = 65.20726776123047\n",
            "loss = 65.1968002319336\n",
            "loss = 65.18097686767578\n",
            "loss = 65.19822692871094\n",
            "loss = 65.18328857421875\n",
            "loss = 65.20101928710938\n",
            "loss = 65.20915222167969\n",
            "loss = 65.1737060546875\n",
            "loss = 65.17881774902344\n",
            "loss = 65.19685363769531\n",
            "loss = 65.17672729492188\n",
            "loss = 65.15353393554688\n",
            "loss = 65.15711975097656\n",
            "loss = 65.16657257080078\n",
            "loss = 65.16931915283203\n",
            "loss = 65.18724822998047\n",
            "loss = 65.19873046875\n",
            "loss = 65.1879653930664\n",
            "loss = 65.17539978027344\n",
            "loss = 65.17570495605469\n",
            "loss = 65.17395782470703\n",
            "loss = 65.1906509399414\n",
            "loss = 65.18590545654297\n",
            "loss = 65.17084503173828\n",
            "loss = 65.1661605834961\n",
            "loss = 65.16321563720703\n",
            "loss = 65.15927124023438\n",
            "loss = 65.15544128417969\n",
            "loss = 65.16299438476562\n",
            "loss = 65.16044616699219\n",
            "loss = 65.17304229736328\n",
            "loss = 65.1793212890625\n",
            "loss = 65.16839599609375\n",
            "loss = 65.16776275634766\n",
            "loss = 65.17826080322266\n",
            "loss = 65.1707534790039\n",
            "loss = 65.1759262084961\n",
            "loss = 65.18641662597656\n",
            "loss = 65.16305541992188\n",
            "loss = 65.15611267089844\n",
            "loss = 65.16189575195312\n",
            "loss = 65.16595458984375\n",
            "loss = 65.16635131835938\n",
            "loss = 65.17041778564453\n",
            "loss = 65.14319610595703\n",
            "loss = 65.18258666992188\n",
            "loss = 65.19671630859375\n",
            "loss = 65.1732406616211\n",
            "loss = 65.19996643066406\n",
            "loss = 65.20787811279297\n",
            "loss = 65.2188720703125\n",
            "loss = 65.20087432861328\n",
            "loss = 65.1669692993164\n",
            "loss = 65.18751525878906\n",
            "loss = 65.18854522705078\n",
            "loss = 65.16629028320312\n",
            "loss = 65.17203521728516\n",
            "loss = 65.18305969238281\n",
            "loss = 65.1734848022461\n",
            "loss = 65.16958618164062\n",
            "loss = 65.16407012939453\n",
            "loss = 65.19739532470703\n",
            "loss = 65.18798828125\n",
            "loss = 65.18357849121094\n",
            "loss = 65.21119689941406\n",
            "loss = 65.18968963623047\n",
            "loss = 65.19364166259766\n",
            "loss = 65.20781707763672\n",
            "loss = 65.19905853271484\n",
            "loss = 65.1655044555664\n",
            "loss = 65.17767333984375\n",
            "loss = 65.20618438720703\n",
            "loss = 65.1878890991211\n",
            "loss = 65.16950988769531\n",
            "loss = 65.23080444335938\n",
            "loss = 65.25618743896484\n",
            "loss = 65.22136688232422\n",
            "loss = 65.22952270507812\n",
            "loss = 65.23065185546875\n",
            "loss = 65.18578338623047\n",
            "loss = 65.23416137695312\n",
            "loss = 65.23110961914062\n",
            "loss = 65.19355010986328\n",
            "loss = 65.19943237304688\n",
            "loss = 65.2111587524414\n",
            "loss = 65.22322082519531\n",
            "loss = 65.17794036865234\n",
            "loss = 65.19429016113281\n",
            "loss = 65.20230865478516\n",
            "loss = 65.19117736816406\n",
            "loss = 65.16481018066406\n",
            "loss = 65.1800308227539\n",
            "loss = 65.19999694824219\n",
            "loss = 65.17695617675781\n",
            "loss = 65.17768859863281\n",
            "loss = 65.19950103759766\n",
            "loss = 65.19450378417969\n",
            "loss = 65.19264221191406\n",
            "loss = 65.19810485839844\n",
            "loss = 65.17123413085938\n",
            "loss = 65.16961669921875\n",
            "loss = 65.1883773803711\n",
            "loss = 65.1802978515625\n",
            "loss = 65.16622161865234\n",
            "loss = 65.16471099853516\n",
            "loss = 65.17904663085938\n",
            "loss = 65.1644515991211\n",
            "loss = 65.15248107910156\n",
            "loss = 65.15357208251953\n",
            "loss = 65.16419219970703\n",
            "loss = 65.17261505126953\n",
            "loss = 65.15680694580078\n",
            "loss = 65.15176391601562\n",
            "loss = 65.16722106933594\n",
            "loss = 65.168212890625\n",
            "loss = 65.16989135742188\n",
            "loss = 65.15979766845703\n",
            "loss = 65.15234375\n",
            "loss = 65.15062713623047\n",
            "loss = 65.16539001464844\n",
            "loss = 65.171630859375\n",
            "loss = 65.1539535522461\n",
            "loss = 65.18138885498047\n",
            "loss = 65.19476318359375\n",
            "loss = 65.15898895263672\n",
            "loss = 65.16398620605469\n",
            "loss = 65.17711639404297\n",
            "loss = 65.17230224609375\n",
            "loss = 65.15565490722656\n",
            "loss = 65.16168975830078\n",
            "loss = 65.15782928466797\n",
            "loss = 65.15601348876953\n",
            "loss = 65.16542053222656\n",
            "loss = 65.19094848632812\n",
            "loss = 65.19325256347656\n",
            "loss = 65.1706771850586\n",
            "loss = 65.16912078857422\n",
            "loss = 65.18228912353516\n",
            "loss = 65.18365478515625\n",
            "loss = 65.170654296875\n",
            "loss = 65.16947937011719\n",
            "loss = 65.1985092163086\n",
            "loss = 65.18240356445312\n",
            "loss = 65.16773223876953\n",
            "loss = 65.15950012207031\n",
            "loss = 65.17744445800781\n",
            "loss = 65.18869018554688\n",
            "loss = 65.14537811279297\n",
            "loss = 65.17935180664062\n",
            "loss = 65.20514678955078\n",
            "loss = 65.20341491699219\n",
            "loss = 65.18264770507812\n",
            "loss = 65.16938018798828\n",
            "loss = 65.19044494628906\n",
            "loss = 65.23619842529297\n",
            "loss = 65.1968002319336\n",
            "loss = 65.18670654296875\n",
            "loss = 65.21665954589844\n",
            "loss = 65.24864196777344\n",
            "loss = 65.23988342285156\n",
            "loss = 65.19791412353516\n",
            "loss = 65.18348693847656\n",
            "loss = 65.20826721191406\n",
            "loss = 65.21412658691406\n",
            "loss = 65.17083740234375\n",
            "loss = 65.18541717529297\n",
            "loss = 65.20914459228516\n",
            "loss = 65.21931457519531\n",
            "loss = 65.2238540649414\n",
            "loss = 65.19351959228516\n",
            "loss = 65.21420288085938\n",
            "loss = 65.2077407836914\n",
            "loss = 65.20993041992188\n",
            "loss = 65.17529296875\n",
            "loss = 65.1685791015625\n",
            "loss = 65.19306182861328\n",
            "loss = 65.20243835449219\n",
            "loss = 65.16978454589844\n",
            "loss = 65.17176055908203\n",
            "loss = 65.18484497070312\n",
            "loss = 65.18212890625\n",
            "loss = 65.16757202148438\n",
            "loss = 65.1759033203125\n",
            "loss = 65.17901611328125\n",
            "loss = 65.17984771728516\n",
            "loss = 65.1752700805664\n",
            "loss = 65.15733337402344\n",
            "loss = 65.19316101074219\n",
            "loss = 65.19005584716797\n",
            "loss = 65.21636962890625\n",
            "loss = 65.19978332519531\n",
            "loss = 65.18987274169922\n",
            "loss = 65.18177032470703\n",
            "loss = 65.19013214111328\n",
            "loss = 65.17625427246094\n",
            "loss = 65.1646957397461\n",
            "loss = 65.17990112304688\n",
            "loss = 65.1800537109375\n",
            "loss = 65.16364288330078\n",
            "loss = 65.18868255615234\n",
            "loss = 65.17231750488281\n",
            "loss = 65.171630859375\n",
            "loss = 65.17720031738281\n",
            "loss = 65.15766906738281\n",
            "loss = 65.16537475585938\n",
            "loss = 65.15280151367188\n",
            "loss = 65.18449401855469\n",
            "loss = 65.17180633544922\n",
            "loss = 65.185546875\n",
            "loss = 65.18645477294922\n",
            "loss = 65.16014862060547\n",
            "loss = 65.1492691040039\n",
            "loss = 65.17280578613281\n",
            "loss = 65.16572570800781\n",
            "loss = 65.1550064086914\n",
            "loss = 65.16162872314453\n",
            "loss = 65.17363739013672\n",
            "loss = 65.157958984375\n",
            "loss = 65.15652465820312\n",
            "loss = 65.16983795166016\n",
            "loss = 65.16706085205078\n",
            "loss = 65.16039276123047\n",
            "loss = 65.15553283691406\n",
            "loss = 65.15713500976562\n",
            "loss = 65.16539001464844\n",
            "loss = 65.18106842041016\n",
            "loss = 65.1907730102539\n",
            "loss = 65.21476745605469\n",
            "loss = 65.19759368896484\n",
            "loss = 65.17609405517578\n",
            "loss = 65.18411254882812\n",
            "loss = 65.19820404052734\n",
            "loss = 65.1744384765625\n",
            "loss = 65.16177368164062\n",
            "loss = 65.18729400634766\n",
            "loss = 65.1829833984375\n",
            "loss = 65.20362854003906\n",
            "loss = 65.18744659423828\n",
            "loss = 65.1798095703125\n",
            "loss = 65.17745971679688\n",
            "loss = 65.21263122558594\n",
            "loss = 65.193115234375\n",
            "loss = 65.15534210205078\n",
            "loss = 65.189453125\n",
            "loss = 65.2369384765625\n",
            "loss = 65.24419403076172\n",
            "loss = 65.18274688720703\n",
            "loss = 65.19192504882812\n",
            "loss = 65.19737243652344\n",
            "loss = 65.19944763183594\n",
            "loss = 65.16629028320312\n",
            "loss = 65.17740631103516\n",
            "loss = 65.21499633789062\n",
            "loss = 65.19448852539062\n",
            "loss = 65.18695068359375\n",
            "loss = 65.17608642578125\n",
            "loss = 65.19349670410156\n",
            "loss = 65.16999053955078\n",
            "loss = 65.16361236572266\n",
            "loss = 65.16827392578125\n",
            "loss = 65.15911102294922\n",
            "loss = 65.1798095703125\n",
            "loss = 65.17772674560547\n",
            "loss = 65.18186950683594\n",
            "loss = 65.17123413085938\n",
            "loss = 65.16860961914062\n",
            "loss = 65.16781616210938\n",
            "loss = 65.17349243164062\n",
            "loss = 65.17391204833984\n",
            "loss = 65.18441009521484\n",
            "loss = 65.18704986572266\n",
            "loss = 65.16241455078125\n",
            "loss = 65.16876220703125\n",
            "loss = 65.16426086425781\n",
            "loss = 65.1854248046875\n",
            "loss = 65.17521667480469\n",
            "loss = 65.18157958984375\n",
            "loss = 65.17190551757812\n",
            "loss = 65.17395782470703\n",
            "loss = 65.18157196044922\n",
            "loss = 65.17546844482422\n",
            "loss = 65.18556213378906\n",
            "loss = 65.17098999023438\n",
            "loss = 65.17581176757812\n",
            "loss = 65.17279815673828\n",
            "loss = 65.16883087158203\n",
            "loss = 65.1579360961914\n",
            "loss = 65.16250610351562\n",
            "loss = 65.17994689941406\n",
            "loss = 65.17453002929688\n",
            "loss = 65.17341613769531\n",
            "loss = 65.15131378173828\n",
            "loss = 65.17029571533203\n",
            "loss = 65.17682647705078\n",
            "loss = 65.16496276855469\n",
            "loss = 65.16230773925781\n",
            "loss = 65.16609191894531\n",
            "loss = 65.17328643798828\n",
            "loss = 65.19033813476562\n",
            "loss = 65.18453979492188\n",
            "loss = 65.16970825195312\n",
            "loss = 65.17343139648438\n",
            "loss = 65.20026397705078\n",
            "loss = 65.19293212890625\n",
            "loss = 65.15999603271484\n",
            "loss = 65.15901184082031\n",
            "loss = 65.19461059570312\n",
            "loss = 65.18333435058594\n",
            "loss = 65.18181610107422\n",
            "loss = 65.1806640625\n",
            "loss = 65.17353057861328\n",
            "loss = 65.1779556274414\n",
            "loss = 65.19781494140625\n",
            "loss = 65.1711196899414\n",
            "loss = 65.17767333984375\n",
            "loss = 65.22261810302734\n",
            "loss = 65.22069549560547\n",
            "loss = 65.22294616699219\n",
            "loss = 65.19149780273438\n",
            "loss = 65.18592834472656\n",
            "loss = 65.19255065917969\n",
            "loss = 65.17854309082031\n",
            "loss = 65.16570281982422\n",
            "loss = 65.16232299804688\n",
            "loss = 65.19401550292969\n",
            "loss = 65.1943130493164\n",
            "loss = 65.18873596191406\n",
            "loss = 65.1634750366211\n",
            "loss = 65.18417358398438\n",
            "loss = 65.1976089477539\n",
            "loss = 65.18025207519531\n",
            "loss = 65.15841674804688\n",
            "loss = 65.17322540283203\n",
            "loss = 65.19962310791016\n",
            "loss = 65.20620727539062\n",
            "loss = 65.18473815917969\n",
            "loss = 65.17845153808594\n",
            "loss = 65.19464874267578\n",
            "loss = 65.19524383544922\n",
            "loss = 65.17486572265625\n",
            "loss = 65.15711975097656\n",
            "loss = 65.19388580322266\n",
            "loss = 65.2071533203125\n",
            "loss = 65.1788558959961\n",
            "loss = 65.17417907714844\n",
            "loss = 65.199951171875\n",
            "loss = 65.19725799560547\n",
            "loss = 65.17039489746094\n",
            "loss = 65.18315887451172\n",
            "loss = 65.19659423828125\n",
            "loss = 65.15605926513672\n",
            "loss = 65.1936264038086\n",
            "loss = 65.20828247070312\n",
            "loss = 65.23381042480469\n",
            "loss = 65.21319580078125\n",
            "loss = 65.20282745361328\n",
            "loss = 65.21112060546875\n",
            "loss = 65.23036193847656\n",
            "loss = 65.20206451416016\n",
            "loss = 65.19529724121094\n",
            "loss = 65.19822692871094\n",
            "loss = 65.195068359375\n",
            "loss = 65.181884765625\n",
            "loss = 65.17113494873047\n",
            "loss = 65.17151641845703\n",
            "loss = 65.17938232421875\n",
            "loss = 65.18409729003906\n",
            "loss = 65.20329284667969\n",
            "loss = 65.22177124023438\n",
            "loss = 65.25137329101562\n",
            "loss = 65.21343994140625\n",
            "loss = 65.19537353515625\n",
            "loss = 65.23222351074219\n",
            "loss = 65.24240112304688\n",
            "loss = 65.19918060302734\n",
            "loss = 65.19667053222656\n",
            "loss = 65.24148559570312\n",
            "loss = 65.2359390258789\n",
            "loss = 65.21063232421875\n",
            "loss = 65.1911849975586\n",
            "loss = 65.19290161132812\n",
            "loss = 65.25920104980469\n",
            "loss = 65.2323989868164\n",
            "loss = 65.22283935546875\n",
            "loss = 65.24186706542969\n",
            "loss = 65.25248718261719\n",
            "loss = 65.21269226074219\n",
            "loss = 65.17892456054688\n",
            "loss = 65.21330261230469\n",
            "loss = 65.20698547363281\n",
            "loss = 65.18498992919922\n",
            "loss = 65.18306732177734\n",
            "loss = 65.1980209350586\n",
            "loss = 65.17811584472656\n",
            "loss = 65.20216369628906\n",
            "loss = 65.1880874633789\n",
            "loss = 65.1775131225586\n",
            "loss = 65.177001953125\n",
            "loss = 65.17626190185547\n",
            "loss = 65.1678695678711\n",
            "loss = 65.19268035888672\n",
            "loss = 65.19585418701172\n",
            "loss = 65.1828842163086\n",
            "loss = 65.18900299072266\n",
            "loss = 65.17807006835938\n",
            "loss = 65.17228698730469\n",
            "loss = 65.17025756835938\n",
            "loss = 65.18771362304688\n",
            "loss = 65.17693328857422\n",
            "loss = 65.20929718017578\n",
            "loss = 65.18556213378906\n",
            "loss = 65.19879913330078\n",
            "loss = 65.19989776611328\n",
            "loss = 65.21913146972656\n",
            "loss = 65.20660400390625\n",
            "loss = 65.16889190673828\n",
            "loss = 65.18770599365234\n",
            "loss = 65.18763732910156\n",
            "loss = 65.17569732666016\n",
            "loss = 65.16183471679688\n",
            "loss = 65.16400909423828\n",
            "loss = 65.18644714355469\n",
            "loss = 65.16188049316406\n",
            "loss = 65.16645050048828\n",
            "loss = 65.17909240722656\n",
            "loss = 65.16085052490234\n",
            "loss = 65.18363189697266\n",
            "loss = 65.21644592285156\n",
            "loss = 65.20742797851562\n",
            "loss = 65.2001724243164\n",
            "loss = 65.19580841064453\n",
            "loss = 65.19930267333984\n",
            "loss = 65.17420959472656\n",
            "loss = 65.17118835449219\n",
            "loss = 65.1766128540039\n",
            "loss = 65.19256591796875\n",
            "loss = 65.18853759765625\n",
            "loss = 65.17323303222656\n",
            "loss = 65.16029357910156\n",
            "loss = 65.17991638183594\n",
            "loss = 65.1805191040039\n",
            "loss = 65.19440460205078\n",
            "loss = 65.19876098632812\n",
            "loss = 65.21005249023438\n",
            "loss = 65.20231628417969\n",
            "loss = 65.20767211914062\n",
            "loss = 65.21430969238281\n",
            "loss = 65.17094421386719\n",
            "loss = 65.18724822998047\n",
            "loss = 65.21221923828125\n",
            "loss = 65.21443939208984\n",
            "loss = 65.22241973876953\n",
            "loss = 65.20527648925781\n",
            "loss = 65.21259307861328\n",
            "loss = 65.20337677001953\n",
            "loss = 65.20042419433594\n",
            "loss = 65.22374725341797\n",
            "loss = 65.22174072265625\n",
            "loss = 65.23200988769531\n",
            "loss = 65.2145004272461\n",
            "loss = 65.20067596435547\n",
            "loss = 65.1961441040039\n",
            "loss = 65.18856811523438\n",
            "loss = 65.21015167236328\n",
            "loss = 65.21575927734375\n",
            "loss = 65.21818542480469\n",
            "loss = 65.19914245605469\n",
            "loss = 65.1968994140625\n",
            "loss = 65.18960571289062\n",
            "loss = 65.21685791015625\n",
            "loss = 65.17694091796875\n",
            "loss = 65.19627380371094\n",
            "loss = 65.21009826660156\n",
            "loss = 65.20106506347656\n",
            "loss = 65.18915557861328\n",
            "loss = 65.18600463867188\n",
            "loss = 65.17813873291016\n",
            "loss = 65.17179870605469\n",
            "loss = 65.1687240600586\n",
            "loss = 65.169189453125\n",
            "loss = 65.15996551513672\n",
            "loss = 65.17816925048828\n",
            "loss = 65.18046569824219\n",
            "loss = 65.19180297851562\n",
            "loss = 65.18291473388672\n",
            "loss = 65.1607666015625\n",
            "loss = 65.18504333496094\n",
            "loss = 65.176025390625\n",
            "loss = 65.19840240478516\n",
            "loss = 65.19125366210938\n",
            "loss = 65.17413330078125\n",
            "loss = 65.17559051513672\n",
            "loss = 65.17074584960938\n",
            "loss = 65.19738006591797\n",
            "loss = 65.16905212402344\n",
            "loss = 65.16967010498047\n",
            "loss = 65.18018341064453\n",
            "loss = 65.15489196777344\n",
            "loss = 65.16597747802734\n",
            "loss = 65.17059326171875\n",
            "loss = 65.17333221435547\n",
            "loss = 65.22175598144531\n",
            "loss = 65.22129821777344\n",
            "loss = 65.16646575927734\n",
            "loss = 65.16734313964844\n",
            "loss = 65.19781494140625\n",
            "loss = 65.19872283935547\n",
            "loss = 65.19091796875\n",
            "loss = 65.17858123779297\n",
            "loss = 65.16978454589844\n",
            "loss = 65.19084930419922\n",
            "loss = 65.18113708496094\n",
            "loss = 65.16845703125\n",
            "loss = 65.16490936279297\n",
            "loss = 65.16184997558594\n",
            "loss = 65.17518615722656\n",
            "loss = 65.16898345947266\n",
            "loss = 65.18815612792969\n",
            "loss = 65.18508911132812\n",
            "loss = 65.18128204345703\n",
            "loss = 65.17192077636719\n",
            "loss = 65.18389892578125\n",
            "loss = 65.1930160522461\n",
            "loss = 65.18080139160156\n",
            "loss = 65.162353515625\n",
            "loss = 65.19473266601562\n",
            "loss = 65.207763671875\n",
            "loss = 65.19012451171875\n",
            "loss = 65.173828125\n",
            "loss = 65.17189025878906\n",
            "loss = 65.16812896728516\n",
            "loss = 65.15846252441406\n",
            "loss = 65.15690612792969\n",
            "loss = 65.17008209228516\n",
            "loss = 65.17330169677734\n",
            "loss = 65.21429443359375\n",
            "loss = 65.2276840209961\n",
            "loss = 65.20156860351562\n",
            "loss = 65.18669128417969\n",
            "loss = 65.19244384765625\n",
            "loss = 65.20100402832031\n",
            "loss = 65.17884826660156\n",
            "loss = 65.17533874511719\n",
            "loss = 65.2083511352539\n",
            "loss = 65.20275115966797\n",
            "loss = 65.18087005615234\n",
            "loss = 65.16435241699219\n",
            "loss = 65.1678237915039\n",
            "loss = 65.2006607055664\n",
            "loss = 65.19444274902344\n",
            "loss = 65.16940307617188\n",
            "loss = 65.16769409179688\n",
            "loss = 65.17430114746094\n",
            "loss = 65.18721008300781\n",
            "loss = 65.18911743164062\n",
            "loss = 65.206298828125\n",
            "loss = 65.19561767578125\n",
            "loss = 65.17407989501953\n",
            "loss = 65.17642211914062\n",
            "loss = 65.16983795166016\n",
            "loss = 65.1853256225586\n",
            "loss = 65.1836929321289\n",
            "loss = 65.18539428710938\n",
            "loss = 65.17817687988281\n",
            "loss = 65.2042236328125\n",
            "loss = 65.1854248046875\n",
            "loss = 65.1563720703125\n",
            "loss = 65.1939697265625\n",
            "loss = 65.20460510253906\n",
            "loss = 65.21031188964844\n",
            "loss = 65.2260971069336\n",
            "loss = 65.23924255371094\n",
            "loss = 65.19920349121094\n",
            "loss = 65.18885040283203\n",
            "loss = 65.18083190917969\n",
            "loss = 65.19094848632812\n",
            "loss = 65.19087982177734\n",
            "loss = 65.1893310546875\n",
            "loss = 65.1994857788086\n",
            "loss = 65.18783569335938\n",
            "loss = 65.1700439453125\n",
            "loss = 65.16631317138672\n",
            "loss = 65.18114471435547\n",
            "loss = 65.19317626953125\n",
            "loss = 65.1838607788086\n",
            "loss = 65.17346954345703\n",
            "loss = 65.16095733642578\n",
            "loss = 65.19357299804688\n",
            "loss = 65.22392272949219\n",
            "loss = 65.20665740966797\n",
            "loss = 65.20668029785156\n",
            "loss = 65.19744873046875\n",
            "loss = 65.19422149658203\n",
            "loss = 65.19396209716797\n",
            "loss = 65.19047546386719\n",
            "loss = 65.18978881835938\n",
            "loss = 65.17791748046875\n",
            "loss = 65.17048645019531\n",
            "loss = 65.1822509765625\n",
            "loss = 65.18376159667969\n",
            "loss = 65.17906188964844\n",
            "loss = 65.1568374633789\n",
            "loss = 65.1729736328125\n",
            "loss = 65.16081237792969\n",
            "loss = 65.1651840209961\n",
            "loss = 65.15776824951172\n",
            "loss = 65.18731689453125\n",
            "loss = 65.20298767089844\n",
            "loss = 65.17527770996094\n",
            "loss = 65.16818237304688\n",
            "loss = 65.16487121582031\n",
            "loss = 65.17860412597656\n",
            "loss = 65.16209411621094\n",
            "loss = 65.16246795654297\n",
            "loss = 65.174072265625\n",
            "loss = 65.18830871582031\n",
            "loss = 65.17294311523438\n",
            "loss = 65.16397094726562\n",
            "loss = 65.17121124267578\n",
            "loss = 65.16230773925781\n",
            "loss = 65.17404174804688\n",
            "loss = 65.16978454589844\n",
            "loss = 65.17945098876953\n",
            "loss = 65.18814849853516\n",
            "loss = 65.21514129638672\n",
            "loss = 65.20079803466797\n",
            "loss = 65.18273162841797\n",
            "loss = 65.16521453857422\n",
            "loss = 65.17957305908203\n",
            "loss = 65.17137145996094\n",
            "loss = 65.16722106933594\n",
            "loss = 65.17327117919922\n",
            "loss = 65.18622589111328\n",
            "loss = 65.18515014648438\n",
            "loss = 65.16490173339844\n",
            "loss = 65.17359161376953\n",
            "loss = 65.17559814453125\n",
            "loss = 65.17950439453125\n",
            "loss = 65.16051483154297\n",
            "loss = 65.1671142578125\n",
            "loss = 65.1937255859375\n",
            "loss = 65.1749496459961\n",
            "loss = 65.20623779296875\n",
            "loss = 65.208251953125\n",
            "loss = 65.1963119506836\n",
            "loss = 65.17739868164062\n",
            "loss = 65.1861343383789\n",
            "loss = 65.18134307861328\n",
            "loss = 65.18058013916016\n",
            "loss = 65.16095733642578\n",
            "loss = 65.17449188232422\n",
            "loss = 65.20699310302734\n",
            "loss = 65.19881439208984\n",
            "loss = 65.17996978759766\n",
            "loss = 65.16041564941406\n",
            "loss = 65.1915512084961\n",
            "loss = 65.19536590576172\n",
            "loss = 65.18157196044922\n",
            "loss = 65.176025390625\n",
            "loss = 65.1818618774414\n",
            "loss = 65.18595123291016\n",
            "loss = 65.18714904785156\n",
            "loss = 65.1772232055664\n",
            "loss = 65.16912078857422\n",
            "loss = 65.1628646850586\n",
            "loss = 65.177490234375\n",
            "loss = 65.18528747558594\n",
            "loss = 65.18327331542969\n",
            "loss = 65.18161010742188\n",
            "loss = 65.16490173339844\n",
            "loss = 65.18305206298828\n",
            "loss = 65.16876983642578\n",
            "loss = 65.17288208007812\n",
            "loss = 65.16839599609375\n",
            "loss = 65.16085815429688\n",
            "loss = 65.20220947265625\n",
            "loss = 65.19459533691406\n",
            "loss = 65.18596649169922\n",
            "loss = 65.16769409179688\n",
            "loss = 65.17276000976562\n",
            "loss = 65.16532135009766\n",
            "loss = 65.17070770263672\n",
            "loss = 65.17100524902344\n",
            "loss = 65.16207885742188\n",
            "loss = 65.19004821777344\n",
            "loss = 65.17922973632812\n",
            "loss = 65.19196319580078\n",
            "loss = 65.16596221923828\n",
            "loss = 65.18435668945312\n",
            "loss = 65.1834487915039\n",
            "loss = 65.19754028320312\n",
            "loss = 65.17363739013672\n",
            "loss = 65.18009948730469\n",
            "loss = 65.22516632080078\n",
            "loss = 65.20532989501953\n",
            "loss = 65.23558807373047\n",
            "loss = 65.21613311767578\n",
            "loss = 65.1828842163086\n",
            "loss = 65.17291259765625\n",
            "loss = 65.1886215209961\n",
            "loss = 65.20997619628906\n",
            "loss = 65.1817398071289\n",
            "loss = 65.19447326660156\n",
            "loss = 65.210693359375\n",
            "loss = 65.23335266113281\n",
            "loss = 65.1799545288086\n",
            "loss = 65.17225646972656\n",
            "loss = 65.18671417236328\n",
            "loss = 65.21219635009766\n",
            "loss = 65.20010375976562\n",
            "loss = 65.15768432617188\n",
            "loss = 65.21243286132812\n",
            "loss = 65.24903106689453\n",
            "loss = 65.2437973022461\n",
            "loss = 65.17546081542969\n",
            "loss = 65.19056701660156\n",
            "loss = 65.24247741699219\n",
            "loss = 65.23088836669922\n",
            "loss = 65.1771240234375\n",
            "loss = 65.18467712402344\n",
            "loss = 65.22943115234375\n",
            "loss = 65.21508026123047\n",
            "loss = 65.18310546875\n",
            "loss = 65.17194366455078\n",
            "loss = 65.19052124023438\n",
            "loss = 65.18012237548828\n",
            "loss = 65.16487121582031\n",
            "loss = 65.17350006103516\n",
            "loss = 65.19878387451172\n",
            "loss = 65.20763397216797\n",
            "loss = 65.19092559814453\n",
            "loss = 65.18113708496094\n",
            "loss = 65.17291259765625\n",
            "loss = 65.18648529052734\n",
            "loss = 65.16824340820312\n",
            "loss = 65.16191864013672\n",
            "loss = 65.16857147216797\n",
            "loss = 65.1778793334961\n",
            "loss = 65.17671966552734\n",
            "loss = 65.1726303100586\n",
            "loss = 65.17669677734375\n",
            "loss = 65.1580810546875\n",
            "loss = 65.1826400756836\n",
            "loss = 65.17448425292969\n",
            "loss = 65.17982482910156\n",
            "loss = 65.1899185180664\n",
            "loss = 65.18972778320312\n",
            "loss = 65.20541381835938\n",
            "loss = 65.1875991821289\n",
            "loss = 65.19393157958984\n",
            "loss = 65.18861389160156\n",
            "loss = 65.18490600585938\n",
            "loss = 65.1797866821289\n",
            "loss = 65.19792175292969\n",
            "loss = 65.17964935302734\n",
            "loss = 65.1684799194336\n",
            "loss = 65.2081527709961\n",
            "loss = 65.18167114257812\n",
            "loss = 65.17125701904297\n",
            "loss = 65.17425537109375\n",
            "loss = 65.18511199951172\n",
            "loss = 65.16812133789062\n",
            "loss = 65.17166137695312\n",
            "loss = 65.17253875732422\n",
            "loss = 65.15888977050781\n",
            "loss = 65.1973648071289\n",
            "loss = 65.16881561279297\n",
            "loss = 65.19734954833984\n",
            "loss = 65.17486572265625\n",
            "loss = 65.16460418701172\n",
            "loss = 65.1628189086914\n",
            "loss = 65.17546844482422\n",
            "loss = 65.18116760253906\n",
            "loss = 65.1739273071289\n",
            "loss = 65.19347381591797\n",
            "loss = 65.19576263427734\n",
            "loss = 65.19403076171875\n",
            "loss = 65.16202545166016\n",
            "loss = 65.18279266357422\n",
            "loss = 65.18716430664062\n",
            "loss = 65.21124267578125\n",
            "loss = 65.17611694335938\n",
            "loss = 65.16629791259766\n",
            "loss = 65.21434783935547\n",
            "loss = 65.23234558105469\n",
            "loss = 65.2183609008789\n",
            "loss = 65.18431091308594\n",
            "loss = 65.20849609375\n",
            "loss = 65.22080993652344\n",
            "loss = 65.19795227050781\n",
            "loss = 65.16400146484375\n",
            "loss = 65.18612670898438\n",
            "loss = 65.20613861083984\n",
            "loss = 65.19342041015625\n",
            "loss = 65.17889404296875\n",
            "loss = 65.16900634765625\n",
            "loss = 65.20051574707031\n",
            "loss = 65.17818450927734\n",
            "loss = 65.16217803955078\n",
            "loss = 65.16985321044922\n",
            "loss = 65.1875991821289\n",
            "loss = 65.22576904296875\n",
            "loss = 65.18769836425781\n",
            "loss = 65.192626953125\n",
            "loss = 65.18709564208984\n"
          ]
        },
        {
          "output_type": "display_data",
          "data": {
            "text/plain": [
              "<Figure size 640x480 with 1 Axes>"
            ],
            "image/png": "[encoded data removed]"
          },
          "metadata": {}
        }
      ],
      "source": [
        "for i in range(1000):\n",
        "    # feed data through model to get prediction\n",
        "    y = model(x)\n",
        "\n",
        "    # calculate loss (compare prediction to true value)\n",
        "    loss = loss_fn(y,yt)\n",
        "\n",
        "    # calculate gradients of parameters\n",
        "    loss.backward()\n",
        "\n",
        "    #make the parameter to take a step -> update the parameter\n",
        "    optimizer.step()\n",
        "\n",
        "    # clear gradients\n",
        "    optimizer.zero_grad()\n",
        "\n",
        "    losses+=[loss.item()]\n",
        "    print( f\"loss = {loss}\")\n",
        "plt.plot(losses);"
      ]
    },
    {
      "cell_type": "markdown",
      "metadata": {
        "id": "tRlkcpT0D-a1"
      },
      "source": [
        "## MNIST Example"
      ]
    },
    {
      "cell_type": "code",
      "execution_count": 144,
      "metadata": {
        "id": "F4GfdMRhD-a1"
      },
      "outputs": [],
      "source": [
        "from torchvision.datasets import MNIST"
      ]
    },
    {
      "cell_type": "code",
      "execution_count": 145,
      "metadata": {
        "id": "fyQ4gP46D-a3"
      },
      "outputs": [],
      "source": [
        "data = MNIST(\".\",download=True)"
      ]
    },
    {
      "cell_type": "code",
      "execution_count": 146,
      "metadata": {
        "id": "wdfX2XnGD-a4",
        "outputId": "5b4c9bd0-8288-490d-a675-0f9bbfbdce6c",
        "colab": {
          "base_uri": "https://localhost:8080/"
        }
      },
      "outputs": [
        {
          "output_type": "execute_result",
          "data": {
            "text/plain": [
              "60000"
            ]
          },
          "metadata": {},
          "execution_count": 146
        }
      ],
      "source": [
        "len(data)"
      ]
    },
    {
      "cell_type": "code",
      "execution_count": 147,
      "metadata": {
        "id": "s7fwSvMkD-a5",
        "outputId": "9eebf0c9-0c3d-4cdb-de12-5384f00a8d4b",
        "colab": {
          "base_uri": "https://localhost:8080/",
          "height": 83
        }
      },
      "outputs": [
        {
          "output_type": "stream",
          "name": "stdout",
          "text": [
            "1\n"
          ]
        },
        {
          "output_type": "execute_result",
          "data": {
            "text/plain": [
              "<PIL.Image.Image image mode=L size=28x28>"
            ],
            "image/png": "[encoded data removed]"
          },
          "metadata": {},
          "execution_count": 147
        }
      ],
      "source": [
        "import numpy as np\n",
        "img,y = data[np.random.randint(1,60000)]\n",
        "print(y)\n",
        "img"
      ]
    },
    {
      "cell_type": "code",
      "execution_count": 148,
      "metadata": {
        "id": "qSkUnhyaWfGG",
        "outputId": "9636f36f-b90d-47bc-f3ce-80850c3659a0",
        "colab": {
          "base_uri": "https://localhost:8080/",
          "height": 66
        }
      },
      "outputs": [
        {
          "output_type": "execute_result",
          "data": {
            "text/plain": [
              "<PIL.Image.Image image mode=L size=28x28>"
            ],
            "image/png": "[encoded data removed]"
          },
          "metadata": {},
          "execution_count": 148
        }
      ],
      "source": [
        "img,y = data[2]\n",
        "img"
      ]
    },
    {
      "cell_type": "code",
      "execution_count": 149,
      "metadata": {
        "id": "3giZTnRiD-a-",
        "outputId": "9bb83098-eaf2-40e3-f07e-5467dd185607",
        "colab": {
          "base_uri": "https://localhost:8080/"
        }
      },
      "outputs": [
        {
          "output_type": "stream",
          "name": "stdout",
          "text": [
            "torch.Size([28, 28])\n"
          ]
        }
      ],
      "source": [
        "print(data.data[2].shape)"
      ]
    },
    {
      "cell_type": "code",
      "execution_count": 150,
      "metadata": {
        "id": "nsZHdAMlD-a_",
        "outputId": "fd2d3539-fefe-45ad-f7b7-f634ab22517c",
        "colab": {
          "base_uri": "https://localhost:8080/"
        }
      },
      "outputs": [
        {
          "output_type": "stream",
          "name": "stdout",
          "text": [
            "tensor(4)\n"
          ]
        }
      ],
      "source": [
        "print(data.targets[2])"
      ]
    },
    {
      "cell_type": "markdown",
      "metadata": {
        "id": "ROmpaSMVD-bA"
      },
      "source": [
        "### MNIST Training"
      ]
    },
    {
      "cell_type": "code",
      "execution_count": 151,
      "metadata": {
        "id": "qHhKarpfD-bB"
      },
      "outputs": [],
      "source": [
        "model = torch.nn.Sequential( # 28*28 = 784\n",
        "    torch.nn.Linear(784,  100),\n",
        "    torch.nn.ReLU(),\n",
        "    torch.nn.Linear(100, 100),\n",
        "    torch.nn.ReLU(),\n",
        "    torch.nn.Linear(100, 10),\n",
        "    torch.nn.LogSoftmax(dim=1)\n",
        ")"
      ]
    },
    {
      "cell_type": "code",
      "execution_count": 152,
      "metadata": {
        "id": "E8Q59QCED-bC"
      },
      "outputs": [],
      "source": [
        "loss_fn = torch.nn.CrossEntropyLoss()"
      ]
    },
    {
      "cell_type": "code",
      "execution_count": 154,
      "metadata": {
        "id": "ehneQZatD-bG"
      },
      "outputs": [],
      "source": [
        "sample = np.random.choice(range(len(data.data)),1000)\n",
        "x = data.data[sample].reshape(1000,-1).float()/255\n",
        "yt = data.targets[sample]"
      ]
    },
    {
      "cell_type": "code",
      "execution_count": 156,
      "metadata": {
        "id": "ucZS9UPAD-bJ",
        "outputId": "07ddb2e0-948c-4915-fec0-26e8f7e2a66e",
        "colab": {
          "base_uri": "https://localhost:8080/"
        }
      },
      "outputs": [
        {
          "output_type": "execute_result",
          "data": {
            "text/plain": [
              "(torch.Size([1000, 784]), torch.Size([1000]))"
            ]
          },
          "metadata": {},
          "execution_count": 156
        }
      ],
      "source": [
        "x.shape,yt.shape"
      ]
    },
    {
      "cell_type": "code",
      "execution_count": 158,
      "metadata": {
        "id": "jdOxW-tYD-bK"
      },
      "outputs": [],
      "source": [
        "optimizer = torch.optim.Adam(model.parameters(), lr=0.03)\n",
        "losses = []"
      ]
    },
    {
      "cell_type": "code",
      "execution_count": 159,
      "metadata": {
        "id": "mMtNhgaED-bL",
        "outputId": "2aa96453-5047-498d-95ab-96548edabcbc",
        "colab": {
          "base_uri": "https://localhost:8080/",
          "height": 451
        }
      },
      "outputs": [
        {
          "output_type": "display_data",
          "data": {
            "text/plain": [
              "<Figure size 640x480 with 1 Axes>"
            ],
            "image/png": "[encoded data removed]"
          },
          "metadata": {}
        }
      ],
      "source": [
        "for i in range(100):\n",
        "    # get data and true labels\n",
        "    sample = np.random.choice(range(len(data.data)),1000)\n",
        "    x = data.data[sample].reshape(1000,-1).float()/255\n",
        "    yt = data.targets[sample]\n",
        "\n",
        "    # get prediction\n",
        "    y = model(x)\n",
        "\n",
        "    # input (Tensor) – Predicted unnormalized logits\n",
        "    # target (Tensor) – Ground truth class indices or class probabilities\n",
        "    loss = loss_fn(y,yt)\n",
        "\n",
        "    # compute gradients\n",
        "    loss.backward()\n",
        "\n",
        "    # update parameters and clear previous gradients\n",
        "    optimizer.step()\n",
        "    optimizer.zero_grad()\n",
        "\n",
        "    losses+=[loss.item()]\n",
        "    #print( f\"loss = {loss}\")\n",
        "plt.plot(losses);"
      ]
    },
    {
      "cell_type": "code",
      "execution_count": 160,
      "metadata": {
        "id": "1BAXeaKHD-bM"
      },
      "outputs": [],
      "source": [
        "x_test = data.data[-1000:].reshape(1000,-1).float()/255\n",
        "y_test = data.targets[-1000:]"
      ]
    },
    {
      "cell_type": "code",
      "execution_count": 161,
      "metadata": {
        "id": "5VXFOBCjD-bO"
      },
      "outputs": [],
      "source": [
        "with torch.no_grad():\n",
        "    y_pred = model(x_test)"
      ]
    },
    {
      "cell_type": "code",
      "execution_count": 162,
      "metadata": {
        "id": "Ms69eUDYYMGj",
        "outputId": "cdf1925e-dafb-42b5-9202-35c4b438bc54",
        "colab": {
          "base_uri": "https://localhost:8080/"
        }
      },
      "outputs": [
        {
          "output_type": "execute_result",
          "data": {
            "text/plain": [
              "tensor(2)"
            ]
          },
          "metadata": {},
          "execution_count": 162
        }
      ],
      "source": [
        "y_test[4]"
      ]
    },
    {
      "cell_type": "code",
      "execution_count": 163,
      "metadata": {
        "id": "6oG-bennMI3Y",
        "outputId": "61da10c9-fdb5-4e8f-fe6c-858805386158",
        "colab": {
          "base_uri": "https://localhost:8080/"
        }
      },
      "outputs": [
        {
          "output_type": "execute_result",
          "data": {
            "text/plain": [
              "tensor(2)"
            ]
          },
          "metadata": {},
          "execution_count": 163
        }
      ],
      "source": [
        "y_pred.argmax(dim=1)[4]"
      ]
    },
    {
      "cell_type": "code",
      "execution_count": 164,
      "metadata": {
        "id": "tt0c-JhpD-bP",
        "outputId": "da9c64f5-6658-4159-b95d-056ed745310d",
        "colab": {
          "base_uri": "https://localhost:8080/"
        }
      },
      "outputs": [
        {
          "output_type": "stream",
          "name": "stdout",
          "text": [
            "Accuracy =  0.973\n"
          ]
        }
      ],
      "source": [
        "print(\"Accuracy = \", (y_pred.argmax(dim=1) == y_test).sum().float().item()/1000.0)"
      ]
    },
    {
      "cell_type": "markdown",
      "metadata": {
        "id": "VY6m7c0qD-bQ"
      },
      "source": [
        "## Course Conclusion\n",
        "\n",
        "1. By now you should have a sufficient introduction to the various ways one can use python for scientific computing. The best way to learn more is to start using python for whatever project you are working on. Only practice will make you comfortable with using python.   \n",
        "\n",
        "Recommended Project Source: kaggle  \n",
        "\n",
        "Recommended ML/DL Courses: CS229, 230, 231N, 224 series, 238, 246  \n",
        "\n",
        "2. I appreciate your time to submit the course feedback, which means a lot to me and improvement for this course in the future  \n",
        "\n"
      ]
    }
  ],
  "metadata": {
    "accelerator": "GPU",
    "colab": {
      "collapsed_sections": [
        "pDnSshCXD-ZL",
        "2JDTirUfD-Zf",
        "vICVTE1wD-Zq",
        "wDNQLaL6D-Zu",
        "hNbj9oDlD-aS",
        "3kRdaQe6D-ab",
        "5t7iYj2eD-an",
        "tRlkcpT0D-a1",
        "ROmpaSMVD-bA",
        "VY6m7c0qD-bQ"
      ],
      "provenance": [],
      "gpuType": "T4"
    },
    "kernelspec": {
      "display_name": "PyTorch-GPU",
      "language": "python",
      "name": "pyt-gpu"
    },
    "language_info": {
      "codemirror_mode": {
        "name": "ipython",
        "version": 3
      },
      "file_extension": ".py",
      "mimetype": "text/x-python",
      "name": "python",
      "nbconvert_exporter": "python",
      "pygments_lexer": "ipython3",
      "version": "3.6.8"
    }
  },
  "nbformat": 4,
  "nbformat_minor": 0
}